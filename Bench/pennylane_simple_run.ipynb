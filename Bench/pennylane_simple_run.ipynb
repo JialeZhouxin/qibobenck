{
 "cells": [
  {
   "cell_type": "code",
   "execution_count": 2,
   "id": "a192f0be",
   "metadata": {},
   "outputs": [],
   "source": [
    "import pennylane as qml\n"
   ]
  },
  {
   "cell_type": "markdown",
   "id": "0fa2f4b3",
   "metadata": {},
   "source": [
    "量子电路被构造为特殊的 Python 函数、量子电路函数或简称量子函数。 例如："
   ]
  },
  {
   "cell_type": "code",
   "execution_count": null,
   "id": "db32681e",
   "metadata": {},
   "outputs": [],
   "source": [
    "def my_quantum_function(x, y):\n",
    "    qml.RZ(x, wires=0)\n",
    "    qml.CNOT(wires=[0,1])\n",
    "    qml.RY(y, wires=1)\n",
    "    return qml.expval(qml.Z(wires=1))"
   ]
  },
  {
   "cell_type": "markdown",
   "id": "fc7cdb42",
   "metadata": {},
   "source": [
    "注意\n",
    "\n",
    "PennyLane 使用术语“线”来指代量子比特，对于连续变量设备，一根线对应于量子模式。"
   ]
  },
  {
   "cell_type": "markdown",
   "id": "e11b820e",
   "metadata": {},
   "source": [
    "注意\n",
    "\n",
    "量子函数从 QNode 在设备上进行计算。"
   ]
  },
  {
   "cell_type": "markdown",
   "id": "ca66c858",
   "metadata": {},
   "source": [
    "## 定义设备\n",
    "要运行（并随后优化）量子电路，首先需要指定一个计算设备。\n",
    "\n",
    "设备是类的实例，可以表示模拟器或硬件设备。他们可以是 使用 loader 实例化。"
   ]
  },
  {
   "cell_type": "markdown",
   "id": "3d5ae5e3",
   "metadata": {},
   "source": [
    "PennyLane 提供了一些基本设备，例如 'default.qubit'、'default.mixed'、'lightning.qubit'、'default.gaussian'、'default.clifford'、'default.tensor' 、;可以将其他设备作为插件安装。请注意，设备的选择在很大程度上决定了您的计算速度，以及 可以传递给设备加载程序的可用选项。\n"
   ]
  },
  {
   "cell_type": "code",
   "execution_count": 4,
   "id": "24446cd4",
   "metadata": {},
   "outputs": [],
   "source": [
    "dev = qml.device('lightning.qubit', wires=20) "
   ]
  },
  {
   "cell_type": "code",
   "execution_count": 5,
   "id": "5b061f98",
   "metadata": {},
   "outputs": [],
   "source": [
    "dev_unique_wires = qml.device('default.qubit', wires=['aux', 'q1', 'q2'])"
   ]
  },
  {
   "cell_type": "code",
   "execution_count": 6,
   "id": "f1731a9b",
   "metadata": {},
   "outputs": [],
   "source": [
    "def my_quantum_function(x, y):\n",
    "    qml.RZ(x, wires='q1')\n",
    "    qml.CNOT(wires=['aux' ,'q1'])\n",
    "    qml.RY(y, wires='q2')\n",
    "    return qml.expval(qml.PauliZ('q2'))"
   ]
  },
  {
   "cell_type": "markdown",
   "id": "6488f594",
   "metadata": {},
   "source": [
    "## 创建量子节点"
   ]
  },
  {
   "cell_type": "markdown",
   "id": "9a57026e",
   "metadata": {},
   "source": [
    "在 PennyLane 中，量子计算涉及执行一个或多个量子电路， 表示为量子节点对象。量子节点用于 声明量子电路，并将计算与执行它的特定设备绑定。"
   ]
  },
  {
   "cell_type": "code",
   "execution_count": 7,
   "id": "18dcb70b",
   "metadata": {},
   "outputs": [],
   "source": [
    "import numpy as np\n",
    "\n",
    "circuit = qml.QNode(my_quantum_function, dev_unique_wires)"
   ]
  },
  {
   "cell_type": "code",
   "execution_count": 8,
   "id": "e696648c",
   "metadata": {},
   "outputs": [
    {
     "data": {
      "text/plain": [
       "np.float64(0.7648421872844884)"
      ]
     },
     "execution_count": 8,
     "metadata": {},
     "output_type": "execute_result"
    }
   ],
   "source": [
    "circuit(np.pi/4, 0.7)"
   ]
  },
  {
   "cell_type": "code",
   "execution_count": 9,
   "id": "23623e75",
   "metadata": {},
   "outputs": [
    {
     "name": "stdout",
     "output_type": "stream",
     "text": [
      "aux: ───────────╭●─┤     \n",
      " q1: ──RZ(0.79)─╰X─┤     \n",
      " q2: ──RY(0.70)────┤  <Z>\n"
     ]
    }
   ],
   "source": [
    "print(qml.draw(circuit)(np.pi/4, 0.7))"
   ]
  },
  {
   "cell_type": "code",
   "execution_count": 10,
   "id": "19416a46",
   "metadata": {},
   "outputs": [
    {
     "data": {
      "image/png": "[encoded data removed]",
      "text/plain": [
       "<Figure size 500x400 with 1 Axes>"
      ]
     },
     "metadata": {},
     "output_type": "display_data"
    }
   ],
   "source": [
    "import matplotlib.pyplot as plt\n",
    "qml.drawer.use_style(\"black_white\")\n",
    "fig, ax = qml.draw_mpl(circuit)(np.pi/4, 0.7)\n",
    "plt.show()"
   ]
  },
  {
   "cell_type": "code",
   "execution_count": 11,
   "id": "03646a52",
   "metadata": {},
   "outputs": [
    {
     "name": "stdout",
     "output_type": "stream",
     "text": [
      "lightning.qubit\n",
      "aux: ───────────╭●─┤     \n",
      " q1: ──RZ(0.79)─╰X─┤     \n",
      " q2: ──RY(0.70)────┤  <Z>\n"
     ]
    }
   ],
   "source": [
    "new_dev = qml.device('lightning.qubit', wires=dev_unique_wires.wires)\n",
    "new_circuit = circuit.update(device = new_dev)\n",
    "print(new_circuit.device.name)\n",
    "print(qml.draw(new_circuit)(np.pi/4, 0.7))"
   ]
  },
  {
   "cell_type": "code",
   "execution_count": 14,
   "id": "08e452e4",
   "metadata": {},
   "outputs": [],
   "source": [
    "from functools import partial\n",
    "\n",
    "dev = qml.device('default.qubit', wires=2)\n",
    "\n",
    "\n",
    "@partial(qml.set_shots, shots=10)\n",
    "@qml.qnode(dev)\n",
    "def circuit(x):\n",
    "    qml.RX(x, wires=0)\n",
    "    qml.CNOT([0, 1])\n",
    "    return qml.sample(qml.Z(1))\n",
    "\n",
    "result = circuit(0.5)\n"
   ]
  },
  {
   "cell_type": "code",
   "execution_count": 15,
   "id": "2299be1e",
   "metadata": {},
   "outputs": [
    {
     "data": {
      "text/plain": [
       "array([1., 1., 1., 1., 1., 1., 1., 1., 1., 1.])"
      ]
     },
     "execution_count": 15,
     "metadata": {},
     "output_type": "execute_result"
    }
   ],
   "source": [
    "result"
   ]
  },
  {
   "cell_type": "code",
   "execution_count": null,
   "id": "e5e83e87",
   "metadata": {},
   "outputs": [],
   "source": []
  }
 ],
 "metadata": {
  "kernelspec": {
   "display_name": "qibo-benchmark-pennylane",
   "language": "python",
   "name": "python3"
  },
  "language_info": {
   "codemirror_mode": {
    "name": "ipython",
    "version": 3
   },
   "file_extension": ".py",
   "mimetype": "text/x-python",
   "name": "python",
   "nbconvert_exporter": "python",
   "pygments_lexer": "ipython3",
   "version": "3.12.12"
  }
 },
 "nbformat": 4,
 "nbformat_minor": 5
}
