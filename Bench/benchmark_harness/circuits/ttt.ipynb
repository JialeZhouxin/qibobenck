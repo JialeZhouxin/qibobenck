{
 "cells": [
  {
   "cell_type": "code",
   "execution_count": 71,
   "id": "d6d7029a",
   "metadata": {},
   "outputs": [],
   "source": [
    "from typing import Any\n",
    "\n",
    "import numpy as np\n",
    "import qibo"
   ]
  },
  {
   "cell_type": "code",
   "execution_count": 72,
   "id": "ce0bef37",
   "metadata": {},
   "outputs": [],
   "source": [
    "n_qubits = 7"
   ]
  },
  {
   "cell_type": "code",
   "execution_count": 80,
   "id": "39e68c00",
   "metadata": {},
   "outputs": [],
   "source": [
    "O_grover = qibo.models.Circuit(n_qubits + 1)\n",
    "O_grover.add(qibo.gates.X(n_qubits).controlled_by(*range(n_qubits)))\n",
    "for j in range(n_qubits):\n",
    "    O_grover.add(qibo.gates.H(j))\n",
    "    O_grover.add(qibo.gates.X(j))\n",
    "O_grover.add(qibo.gates.Z(0).controlled_by(*range(1,n_qubits)))\n",
    "for j in range(n_qubits):\n",
    "    O_grover.add(qibo.gates.X(j))\n",
    "    O_grover.add(qibo.gates.H(j))"
   ]
  },
  {
   "cell_type": "code",
   "execution_count": 85,
   "id": "701001f1",
   "metadata": {},
   "outputs": [
    {
     "data": {
      "text/plain": [
       "MeasurementResult(qubits=(0, 1, 2, 3, 4, 5, 6), nshots=None)"
      ]
     },
     "execution_count": 85,
     "metadata": {},
     "output_type": "execute_result"
    }
   ],
   "source": [
    "O_grover = qibo.models.Circuit(n_qubits + 1)\n",
    "O_grover.add(qibo.gates.X(n_qubits).controlled_by(*range(n_qubits)))\n",
    "for j in range(n_qubits):\n",
    "    O_grover.add(qibo.gates.H(j))\n",
    "    O_grover.add(qibo.gates.X(j))\n",
    "O_grover.add(qibo.gates.Z(0).controlled_by(*range(1,n_qubits)))\n",
    "for j in range(n_qubits):\n",
    "    O_grover.add(qibo.gates.X(j))\n",
    "    O_grover.add(qibo.gates.H(j))\n",
    "    \n",
    "c = qibo.models.Circuit(n_qubits + 1)\n",
    "\n",
    "# 应用Hadamard门和受控相位门\n",
    "for j in range(n_qubits):\n",
    "    c.add(qibo.gates.H(j))\n",
    "c.add(qibo.gates.X(n_qubits))\n",
    "c.add(qibo.gates.H(n_qubits))\n",
    "# Grover迭代次数应该是整数 R_opt = round( ( π / (2 * arcsin(1/√N)) - 1 ) / 2 )，其中 N 是搜索空间的大小\n",
    "n_iterations = round((np.pi/(2* np.arcsin(1/ np.sqrt(2**n_qubits)) ) -1 )/2)\n",
    "for _ in range(n_iterations):\n",
    "    c += O_grover\n",
    "c.add(qibo.gates.M(*range(n_qubits)))\n"
   ]
  },
  {
   "cell_type": "code",
   "execution_count": 132,
   "id": "3438cef5",
   "metadata": {},
   "outputs": [
    {
     "data": {
      "text/plain": [
       "MeasurementResult(qubits=(0, 1, 2), nshots=None)"
      ]
     },
     "execution_count": 132,
     "metadata": {},
     "output_type": "execute_result"
    }
   ],
   "source": [
    "O_grover = qibo.models.Circuit(n_qubits)\n",
    "O_grover.add(qibo.gates.Z(0).controlled_by(*range(1,n_qubits)))\n",
    "for j in range(n_qubits):\n",
    "    O_grover.add(qibo.gates.H(j))\n",
    "    O_grover.add(qibo.gates.X(j))\n",
    "O_grover.add(qibo.gates.Z(0).controlled_by(*range(1,n_qubits)))\n",
    "for j in range(n_qubits):\n",
    "    O_grover.add(qibo.gates.X(j))\n",
    "    O_grover.add(qibo.gates.H(j))\n",
    "    \n",
    "c = qibo.models.Circuit(n_qubits )\n",
    "\n",
    "# 应用Hadamard门和受控相位门\n",
    "for j in range(n_qubits):\n",
    "    c.add(qibo.gates.H(j))\n",
    "# Grover迭代次数应该是整数 R_opt = round( ( π / (2 * arcsin(1/√N)) - 1 ) / 2 )，其中 N 是搜索空间的大小\n",
    "n_iterations = round((np.pi/(2* np.arcsin(1/ np.sqrt(2**n_qubits)) ) -1 )/2)\n",
    "for _ in range(n_iterations):\n",
    "    c += O_grover\n",
    "c.add(qibo.gates.M(*range(n_qubits)))"
   ]
  },
  {
   "cell_type": "code",
   "execution_count": 133,
   "id": "802730c7",
   "metadata": {},
   "outputs": [
    {
     "name": "stdout",
     "output_type": "stream",
     "text": [
      "0: ─H─Z─H─X─Z─X─H─Z─H─X─Z─X─H─M─\n",
      "1: ─H─o─H─X─o─X─H─o─H─X─o─X─H─M─\n",
      "2: ─H─o─H─X─o─X─H─o─H─X─o─X─H─M─\n"
     ]
    }
   ],
   "source": [
    "c.draw()"
   ]
  },
  {
   "cell_type": "code",
   "execution_count": 134,
   "id": "1753ee69",
   "metadata": {},
   "outputs": [],
   "source": [
    "circuit_info = {}\n",
    "try:\n",
    "    circuit_summary =c.summary()\n",
    "    circuit_info[\"circuit_summary\"] = str(circuit_summary)\n",
    "    \n",
    "    # 解析summary获取关键指标\n",
    "    summary_lines = str(circuit_summary).split('\\n')\n",
    "    for line in summary_lines:\n",
    "        if \"depth\" in line.lower():\n",
    "            circuit_info[\"circuit_depth\"] = int(line.split(\":\")[-1].strip())\n",
    "        elif \"qubits\" in line.lower():\n",
    "            circuit_info[\"n_qubits_in_circuit\"] = int(line.split(\":\")[-1].strip())\n",
    "        elif \"gates\" in line.lower() and \"total\" in line.lower():\n",
    "            circuit_info[\"total_gates\"] = int(line.split(\":\")[-1].strip())\n",
    "    \n",
    "except Exception as e:\n",
    "    circuit_info[\"circuit_summary\"] = str(e)"
   ]
  },
  {
   "cell_type": "code",
   "execution_count": 135,
   "id": "4d147148",
   "metadata": {},
   "outputs": [
    {
     "data": {
      "text/plain": [
       "{'circuit_summary': \"invalid literal for int() with base 10: 'Circuit depth = 14'\"}"
      ]
     },
     "execution_count": 135,
     "metadata": {},
     "output_type": "execute_result"
    }
   ],
   "source": [
    "circuit_info"
   ]
  },
  {
   "cell_type": "code",
   "execution_count": 92,
   "id": "67ee8153",
   "metadata": {},
   "outputs": [],
   "source": [
    "result = c(nshots=1000)"
   ]
  },
  {
   "cell_type": "code",
   "execution_count": 93,
   "id": "7f790d28",
   "metadata": {},
   "outputs": [
    {
     "data": {
      "text/plain": [
       "Counter({'1111111': 997, '0100001': 1, '1001111': 1, '1100010': 1})"
      ]
     },
     "execution_count": 93,
     "metadata": {},
     "output_type": "execute_result"
    }
   ],
   "source": [
    "result.frequencies()"
   ]
  },
  {
   "cell_type": "code",
   "execution_count": 78,
   "id": "8f255dd4",
   "metadata": {},
   "outputs": [
    {
     "name": "stdout",
     "output_type": "stream",
     "text": [
      "-1\n"
     ]
    }
   ],
   "source": [
    "n_iterations = round((np.pi/(2* np.arcsin(1/ np.sqrt(2**n_qubits)) ) -1 )/2)-round(np.pi/4 * np.sqrt(2**n_qubits)) \n",
    "print(n_iterations)"
   ]
  },
  {
   "cell_type": "code",
   "execution_count": 79,
   "id": "28e8b81b",
   "metadata": {},
   "outputs": [
    {
     "name": "stdout",
     "output_type": "stream",
     "text": [
      "0:     ─H───o─H─X─Z─X─H─o─H─X─Z─X─H─o─H─X─Z─X─H─o─H─X─Z─X─H─o─H─X─Z─X─H─o─H─X ...\n",
      "1:     ─H───o─H─X─o─X─H─o─H─X─o─X─H─o─H─X─o─X─H─o─H─X─o─X─H─o─H─X─o─X─H─o─H─X ...\n",
      "2:     ─H───o─H─X─o─X─H─o─H─X─o─X─H─o─H─X─o─X─H─o─H─X─o─X─H─o─H─X─o─X─H─o─H─X ...\n",
      "3:     ─H───o─H─X─o─X─H─o─H─X─o─X─H─o─H─X─o─X─H─o─H─X─o─X─H─o─H─X─o─X─H─o─H─X ...\n",
      "4:     ─H───o─H─X─o─X─H─o─H─X─o─X─H─o─H─X─o─X─H─o─H─X─o─X─H─o─H─X─o─X─H─o─H─X ...\n",
      "5:     ─H───o─H─X─o─X─H─o─H─X─o─X─H─o─H─X─o─X─H─o─H─X─o─X─H─o─H─X─o─X─H─o─H─X ...\n",
      "6:     ─H───o─H─X─o─X─H─o─H─X─o─X─H─o─H─X─o─X─H─o─H─X─o─X─H─o─H─X─o─X─H─o─H─X ...\n",
      "7:     ─X─H─Z───────────Z───────────Z───────────Z───────────Z───────────Z──── ...\n",
      "\n",
      "0: ... ─Z─X─H─o─H─X─Z─X─H─o─H─X─Z─X─H─M─\n",
      "1: ... ─o─X─H─o─H─X─o─X─H─o─H─X─o─X─H─M─\n",
      "2: ... ─o─X─H─o─H─X─o─X─H─o─H─X─o─X─H─M─\n",
      "3: ... ─o─X─H─o─H─X─o─X─H─o─H─X─o─X─H─M─\n",
      "4: ... ─o─X─H─o─H─X─o─X─H─o─H─X─o─X─H─M─\n",
      "5: ... ─o─X─H─o─H─X─o─X─H─o─H─X─o─X─H─M─\n",
      "6: ... ─o─X─H─o─H─X─o─X─H─o─H─X─o─X─H─M─\n",
      "7: ... ───────Z───────────Z─────────────\n"
     ]
    }
   ],
   "source": [
    "c.draw()"
   ]
  },
  {
   "cell_type": "code",
   "execution_count": 94,
   "id": "269e048a",
   "metadata": {},
   "outputs": [
    {
     "name": "stdout",
     "output_type": "stream",
     "text": [
      "        ┌───┐┌───┐┌───┐┌───┐┌───┐┌───┐┌───┐┌───┐┌───┐┌───┐┌───┐┌───┐┌───┐┌───┐»\n",
      "   q_0: ┤ H ├┤ H ├┤ X ├┤ H ├┤ H ├┤ X ├┤ H ├┤ X ├┤ H ├┤ X ├┤ H ├┤ H ├┤ X ├┤ H ├»\n",
      "        ├───┤└───┘└─┬─┘├───┤├───┤└───┘└───┘└─┬─┘├───┤├───┤└───┘└───┘└─┬─┘├───┤»\n",
      "   q_1: ┤ H ├───────■──┤ H ├┤ X ├────────────■──┤ X ├┤ H ├────────────■──┤ H ├»\n",
      "        ├───┤       │  ├───┤├───┤            │  ├───┤├───┤            │  ├───┤»\n",
      "   q_2: ┤ H ├───────■──┤ H ├┤ X ├────────────■──┤ X ├┤ H ├────────────■──┤ H ├»\n",
      "        └───┘          └───┘└───┘               └───┘└───┘               └───┘»\n",
      "meas: 3/══════════════════════════════════════════════════════════════════════»\n",
      "                                                                              »\n",
      "«        ┌───┐┌───┐┌───┐┌───┐┌───┐┌───┐┌───┐ ░ ┌─┐      \n",
      "«   q_0: ┤ H ├┤ X ├┤ H ├┤ X ├┤ H ├┤ X ├┤ H ├─░─┤M├──────\n",
      "«        ├───┤└───┘└───┘└─┬─┘├───┤├───┤└───┘ ░ └╥┘┌─┐   \n",
      "«   q_1: ┤ X ├────────────■──┤ X ├┤ H ├──────░──╫─┤M├───\n",
      "«        ├───┤            │  ├───┤├───┤      ░  ║ └╥┘┌─┐\n",
      "«   q_2: ┤ X ├────────────■──┤ X ├┤ H ├──────░──╫──╫─┤M├\n",
      "«        └───┘               └───┘└───┘      ░  ║  ║ └╥┘\n",
      "«meas: 3/═══════════════════════════════════════╩══╩══╩═\n",
      "«                                               0  1  2 \n"
     ]
    }
   ],
   "source": [
    "from qiskit import QuantumCircuit\n",
    "import numpy as np\n",
    "\n",
    "def grover_circuit(n_qubits):\n",
    "    # 创建Oracle电路\n",
    "    O_grover = QuantumCircuit(n_qubits)\n",
    "    \n",
    "    # 添加受控Z门（以0为目标位，其他位为控制位）\n",
    "    O_grover.h(0)\n",
    "    O_grover.mcx(list(range(1, n_qubits)), 0)\n",
    "    O_grover.h(0)\n",
    "    \n",
    "    # 添加Hadamard门和X门\n",
    "    for j in range(n_qubits):\n",
    "        O_grover.h(j)\n",
    "        O_grover.x(j)\n",
    "    \n",
    "    # 再次添加受控Z门\n",
    "    O_grover.h(0)\n",
    "    O_grover.mcx(list(range(1, n_qubits)), 0)\n",
    "    O_grover.h(0)\n",
    "    \n",
    "    # 再次添加X门和Hadamard门\n",
    "    for j in range(n_qubits):\n",
    "        O_grover.x(j)\n",
    "        O_grover.h(j)\n",
    "    \n",
    "    # 创建主电路\n",
    "    c = QuantumCircuit(n_qubits)\n",
    "    \n",
    "    # 初始化Hadamard门\n",
    "    for j in range(n_qubits):\n",
    "        c.h(j)\n",
    "    \n",
    "    # 计算Grover迭代次数\n",
    "    n_iterations = round((np.pi/(2 * np.arcsin(1/ np.sqrt(2**n_qubits))) - 1)/2)\n",
    "    \n",
    "    # 应用Grover迭代\n",
    "    for _ in range(n_iterations):\n",
    "        c.compose(O_grover, inplace=True)\n",
    "    \n",
    "    # 添加测量\n",
    "    c.measure_all()\n",
    "    \n",
    "    return c\n",
    "\n",
    "# 使用示例\n",
    "n_qubits = 3  # 示例使用3个量子比特\n",
    "circuit = grover_circuit(n_qubits)\n",
    "print(circuit)\n"
   ]
  },
  {
   "cell_type": "code",
   "execution_count": 95,
   "id": "2631a1d8",
   "metadata": {},
   "outputs": [],
   "source": [
    "\n",
    "\n",
    "def build_qiskit_grover(n_qubits: int) -> QuantumCircuit:\n",
    "    \"\"\"构建与Qibo版本完全对应的Qiskit Grover电路\"\"\"\n",
    "    \n",
    "    # 构建Grover算子O_grover (对应Qibo中的O_grover)\n",
    "    O_grover = QuantumCircuit(n_qubits)\n",
    "    \n",
    "    # 添加受控Z门: qibo.gates.Z(0).controlled_by(*range(1,n_qubits))\n",
    "    # 在Qiskit中使用多控制Z门，可以通过Hadamard门和受控X门实现\n",
    "    O_grover.h(0)\n",
    "    O_grover.mcx(list(range(1, n_qubits)), 0)  # 多控制X门\n",
    "    O_grover.h(0)\n",
    "    \n",
    "    # 添加Hadamard门和X门\n",
    "    for j in range(n_qubits):\n",
    "        O_grover.h(j)\n",
    "        O_grover.x(j)\n",
    "    \n",
    "    # 再次添加受控Z门\n",
    "    O_grover.h(0)\n",
    "    O_grover.mcx(list(range(1, n_qubits)), 0)\n",
    "    O_grover.h(0)\n",
    "    \n",
    "    # 再次添加X门和Hadamard门\n",
    "    for j in range(n_qubits):\n",
    "        O_grover.x(j)\n",
    "        O_grover.h(j)\n",
    "    \n",
    "    # 创建主电路c (对应Qibo中的c)\n",
    "    c = QuantumCircuit(n_qubits, n_qubits)  # 包含经典寄存器用于测量\n",
    "    \n",
    "    # 应用Hadamard门和受控相位门\n",
    "    for j in range(n_qubits):\n",
    "        c.h(j)\n",
    "    \n",
    "    # 计算Grover迭代次数\n",
    "    n_iterations = round((np.pi/(2* np.arcsin(1/ np.sqrt(2**n_qubits)) ) -1 )/2)\n",
    "    \n",
    "    # 应用Grover算子\n",
    "    for _ in range(n_iterations):\n",
    "        c.compose(O_grover, inplace=True)\n",
    "    \n",
    "    # 添加测量门: qibo.gates.M(*range(n_qubits))\n",
    "    c.measure(range(n_qubits), range(n_qubits))\n",
    "    \n",
    "    c.name = f\"grover_{n_qubits}_qubits\"\n",
    "    return c\n"
   ]
  },
  {
   "cell_type": "code",
   "execution_count": 98,
   "id": "585ca2f4",
   "metadata": {},
   "outputs": [
    {
     "name": "stdout",
     "output_type": "stream",
     "text": [
      "     ┌───┐┌───┐┌───┐┌───┐┌───┐┌───┐┌───┐┌───┐┌───┐┌───┐┌───┐┌───┐┌───┐┌───┐»\n",
      "q_0: ┤ H ├┤ H ├┤ X ├┤ H ├┤ H ├┤ X ├┤ H ├┤ X ├┤ H ├┤ X ├┤ H ├┤ H ├┤ X ├┤ H ├»\n",
      "     ├───┤└───┘└─┬─┘├───┤├───┤└───┘└───┘└─┬─┘├───┤├───┤└───┘└───┘└─┬─┘├───┤»\n",
      "q_1: ┤ H ├───────■──┤ H ├┤ X ├────────────■──┤ X ├┤ H ├────────────■──┤ H ├»\n",
      "     ├───┤       │  ├───┤├───┤            │  ├───┤├───┤            │  ├───┤»\n",
      "q_2: ┤ H ├───────■──┤ H ├┤ X ├────────────■──┤ X ├┤ H ├────────────■──┤ H ├»\n",
      "     ├───┤       │  ├───┤├───┤            │  ├───┤├───┤            │  ├───┤»\n",
      "q_3: ┤ H ├───────■──┤ H ├┤ X ├────────────■──┤ X ├┤ H ├────────────■──┤ H ├»\n",
      "     ├───┤       │  ├───┤├───┤            │  ├───┤├───┤            │  ├───┤»\n",
      "q_4: ┤ H ├───────■──┤ H ├┤ X ├────────────■──┤ X ├┤ H ├────────────■──┤ H ├»\n",
      "     ├───┤       │  ├───┤├───┤            │  ├───┤├───┤            │  ├───┤»\n",
      "q_5: ┤ H ├───────■──┤ H ├┤ X ├────────────■──┤ X ├┤ H ├────────────■──┤ H ├»\n",
      "     ├───┤       │  ├───┤├───┤            │  ├───┤├───┤            │  ├───┤»\n",
      "q_6: ┤ H ├───────■──┤ H ├┤ X ├────────────■──┤ X ├┤ H ├────────────■──┤ H ├»\n",
      "     └───┘          └───┘└───┘               └───┘└───┘               └───┘»\n",
      "c: 7/══════════════════════════════════════════════════════════════════════»\n",
      "                                                                           »\n",
      "«     ┌───┐┌───┐┌───┐┌───┐┌───┐┌───┐┌───┐┌───┐┌───┐┌───┐┌───┐┌───┐┌───┐┌───┐»\n",
      "«q_0: ┤ H ├┤ X ├┤ H ├┤ X ├┤ H ├┤ X ├┤ H ├┤ H ├┤ X ├┤ H ├┤ H ├┤ X ├┤ H ├┤ X ├»\n",
      "«     ├───┤└───┘└───┘└─┬─┘├───┤├───┤└───┘└───┘└─┬─┘├───┤├───┤└───┘└───┘└─┬─┘»\n",
      "«q_1: ┤ X ├────────────■──┤ X ├┤ H ├────────────■──┤ H ├┤ X ├────────────■──»\n",
      "«     ├───┤            │  ├───┤├───┤            │  ├───┤├───┤            │  »\n",
      "«q_2: ┤ X ├────────────■──┤ X ├┤ H ├────────────■──┤ H ├┤ X ├────────────■──»\n",
      "«     ├───┤            │  ├───┤├───┤            │  ├───┤├───┤            │  »\n",
      "«q_3: ┤ X ├────────────■──┤ X ├┤ H ├────────────■──┤ H ├┤ X ├────────────■──»\n",
      "«     ├───┤            │  ├───┤├───┤            │  ├───┤├───┤            │  »\n",
      "«q_4: ┤ X ├────────────■──┤ X ├┤ H ├────────────■──┤ H ├┤ X ├────────────■──»\n",
      "«     ├───┤            │  ├───┤├───┤            │  ├───┤├───┤            │  »\n",
      "«q_5: ┤ X ├────────────■──┤ X ├┤ H ├────────────■──┤ H ├┤ X ├────────────■──»\n",
      "«     ├───┤            │  ├───┤├───┤            │  ├───┤├───┤            │  »\n",
      "«q_6: ┤ X ├────────────■──┤ X ├┤ H ├────────────■──┤ H ├┤ X ├────────────■──»\n",
      "«     └───┘               └───┘└───┘               └───┘└───┘               »\n",
      "«c: 7/══════════════════════════════════════════════════════════════════════»\n",
      "«                                                                           »\n",
      "«     ┌───┐┌───┐┌───┐┌───┐┌───┐┌───┐┌───┐┌───┐┌───┐┌───┐┌───┐┌───┐┌───┐┌───┐»\n",
      "«q_0: ┤ H ├┤ X ├┤ H ├┤ H ├┤ X ├┤ H ├┤ H ├┤ X ├┤ H ├┤ X ├┤ H ├┤ X ├┤ H ├┤ H ├»\n",
      "«     ├───┤├───┤└───┘└───┘└─┬─┘├───┤├───┤└───┘└───┘└─┬─┘├───┤├───┤└───┘└───┘»\n",
      "«q_1: ┤ X ├┤ H ├────────────■──┤ H ├┤ X ├────────────■──┤ X ├┤ H ├──────────»\n",
      "«     ├───┤├───┤            │  ├───┤├───┤            │  ├───┤├───┤          »\n",
      "«q_2: ┤ X ├┤ H ├────────────■──┤ H ├┤ X ├────────────■──┤ X ├┤ H ├──────────»\n",
      "«     ├───┤├───┤            │  ├───┤├───┤            │  ├───┤├───┤          »\n",
      "«q_3: ┤ X ├┤ H ├────────────■──┤ H ├┤ X ├────────────■──┤ X ├┤ H ├──────────»\n",
      "«     ├───┤├───┤            │  ├───┤├───┤            │  ├───┤├───┤          »\n",
      "«q_4: ┤ X ├┤ H ├────────────■──┤ H ├┤ X ├────────────■──┤ X ├┤ H ├──────────»\n",
      "«     ├───┤├───┤            │  ├───┤├───┤            │  ├───┤├───┤          »\n",
      "«q_5: ┤ X ├┤ H ├────────────■──┤ H ├┤ X ├────────────■──┤ X ├┤ H ├──────────»\n",
      "«     ├───┤├───┤            │  ├───┤├───┤            │  ├───┤├───┤          »\n",
      "«q_6: ┤ X ├┤ H ├────────────■──┤ H ├┤ X ├────────────■──┤ X ├┤ H ├──────────»\n",
      "«     └───┘└───┘               └───┘└───┘               └───┘└───┘          »\n",
      "«c: 7/══════════════════════════════════════════════════════════════════════»\n",
      "«                                                                           »\n",
      "«     ┌───┐┌───┐┌───┐┌───┐┌───┐┌───┐┌───┐┌───┐┌───┐┌───┐┌───┐┌───┐┌───┐┌───┐»\n",
      "«q_0: ┤ X ├┤ H ├┤ H ├┤ X ├┤ H ├┤ X ├┤ H ├┤ X ├┤ H ├┤ H ├┤ X ├┤ H ├┤ H ├┤ X ├»\n",
      "«     └─┬─┘├───┤├───┤└───┘└───┘└─┬─┘├───┤├───┤└───┘└───┘└─┬─┘├───┤├───┤└───┘»\n",
      "«q_1: ──■──┤ H ├┤ X ├────────────■──┤ X ├┤ H ├────────────■──┤ H ├┤ X ├─────»\n",
      "«       │  ├───┤├───┤            │  ├───┤├───┤            │  ├───┤├───┤     »\n",
      "«q_2: ──■──┤ H ├┤ X ├────────────■──┤ X ├┤ H ├────────────■──┤ H ├┤ X ├─────»\n",
      "«       │  ├───┤├───┤            │  ├───┤├───┤            │  ├───┤├───┤     »\n",
      "«q_3: ──■──┤ H ├┤ X ├────────────■──┤ X ├┤ H ├────────────■──┤ H ├┤ X ├─────»\n",
      "«       │  ├───┤├───┤            │  ├───┤├───┤            │  ├───┤├───┤     »\n",
      "«q_4: ──■──┤ H ├┤ X ├────────────■──┤ X ├┤ H ├────────────■──┤ H ├┤ X ├─────»\n",
      "«       │  ├───┤├───┤            │  ├───┤├───┤            │  ├───┤├───┤     »\n",
      "«q_5: ──■──┤ H ├┤ X ├────────────■──┤ X ├┤ H ├────────────■──┤ H ├┤ X ├─────»\n",
      "«       │  ├───┤├───┤            │  ├───┤├───┤            │  ├───┤├───┤     »\n",
      "«q_6: ──■──┤ H ├┤ X ├────────────■──┤ X ├┤ H ├────────────■──┤ H ├┤ X ├─────»\n",
      "«          └───┘└───┘               └───┘└───┘               └───┘└───┘     »\n",
      "«c: 7/══════════════════════════════════════════════════════════════════════»\n",
      "«                                                                           »\n",
      "«     ┌───┐┌───┐┌───┐┌───┐┌───┐┌───┐┌───┐┌───┐┌───┐┌───┐┌───┐┌───┐┌───┐┌───┐»\n",
      "«q_0: ┤ H ├┤ X ├┤ H ├┤ X ├┤ H ├┤ H ├┤ X ├┤ H ├┤ H ├┤ X ├┤ H ├┤ X ├┤ H ├┤ X ├»\n",
      "«     └───┘└─┬─┘├───┤├───┤└───┘└───┘└─┬─┘├───┤├───┤└───┘└───┘└─┬─┘├───┤├───┤»\n",
      "«q_1: ───────■──┤ X ├┤ H ├────────────■──┤ H ├┤ X ├────────────■──┤ X ├┤ H ├»\n",
      "«            │  ├───┤├───┤            │  ├───┤├───┤            │  ├───┤├───┤»\n",
      "«q_2: ───────■──┤ X ├┤ H ├────────────■──┤ H ├┤ X ├────────────■──┤ X ├┤ H ├»\n",
      "«            │  ├───┤├───┤            │  ├───┤├───┤            │  ├───┤├───┤»\n",
      "«q_3: ───────■──┤ X ├┤ H ├────────────■──┤ H ├┤ X ├────────────■──┤ X ├┤ H ├»\n",
      "«            │  ├───┤├───┤            │  ├───┤├───┤            │  ├───┤├───┤»\n",
      "«q_4: ───────■──┤ X ├┤ H ├────────────■──┤ H ├┤ X ├────────────■──┤ X ├┤ H ├»\n",
      "«            │  ├───┤├───┤            │  ├───┤├───┤            │  ├───┤├───┤»\n",
      "«q_5: ───────■──┤ X ├┤ H ├────────────■──┤ H ├┤ X ├────────────■──┤ X ├┤ H ├»\n",
      "«            │  ├───┤├───┤            │  ├───┤├───┤            │  ├───┤├───┤»\n",
      "«q_6: ───────■──┤ X ├┤ H ├────────────■──┤ H ├┤ X ├────────────■──┤ X ├┤ H ├»\n",
      "«               └───┘└───┘               └───┘└───┘               └───┘└───┘»\n",
      "«c: 7/══════════════════════════════════════════════════════════════════════»\n",
      "«                                                                           »\n",
      "«     ┌───┐┌───┐┌───┐┌───┐┌───┐┌───┐┌───┐┌───┐┌───┐┌───┐┌───┐               ┌─┐\n",
      "«q_0: ┤ H ├┤ H ├┤ X ├┤ H ├┤ H ├┤ X ├┤ H ├┤ X ├┤ H ├┤ X ├┤ H ├───────────────┤M├\n",
      "«     └───┘└───┘└─┬─┘├───┤├───┤└───┘└───┘└─┬─┘├───┤├───┤└┬─┬┘               └╥┘\n",
      "«q_1: ────────────■──┤ H ├┤ X ├────────────■──┤ X ├┤ H ├─┤M├─────────────────╫─\n",
      "«                 │  ├───┤├───┤            │  ├───┤├───┤ └╥┘ ┌─┐             ║ \n",
      "«q_2: ────────────■──┤ H ├┤ X ├────────────■──┤ X ├┤ H ├──╫──┤M├─────────────╫─\n",
      "«                 │  ├───┤├───┤            │  ├───┤├───┤  ║  └╥┘┌─┐          ║ \n",
      "«q_3: ────────────■──┤ H ├┤ X ├────────────■──┤ X ├┤ H ├──╫───╫─┤M├──────────╫─\n",
      "«                 │  ├───┤├───┤            │  ├───┤├───┤  ║   ║ └╥┘┌─┐       ║ \n",
      "«q_4: ────────────■──┤ H ├┤ X ├────────────■──┤ X ├┤ H ├──╫───╫──╫─┤M├───────╫─\n",
      "«                 │  ├───┤├───┤            │  ├───┤├───┤  ║   ║  ║ └╥┘┌─┐    ║ \n",
      "«q_5: ────────────■──┤ H ├┤ X ├────────────■──┤ X ├┤ H ├──╫───╫──╫──╫─┤M├────╫─\n",
      "«                 │  ├───┤├───┤            │  ├───┤├───┤  ║   ║  ║  ║ └╥┘┌─┐ ║ \n",
      "«q_6: ────────────■──┤ H ├┤ X ├────────────■──┤ X ├┤ H ├──╫───╫──╫──╫──╫─┤M├─╫─\n",
      "«                    └───┘└───┘               └───┘└───┘  ║   ║  ║  ║  ║ └╥┘ ║ \n",
      "«c: 7/════════════════════════════════════════════════════╩═══╩══╩══╩══╩══╩══╩═\n",
      "«                                                         1   2  3  4  5  6  0 \n",
      "测量结果: {'0010100': 1, '1111111': 1021, '0001000': 1, '0011111': 1}\n"
     ]
    }
   ],
   "source": [
    "# 创建3量子比特的Grover电路\n",
    "n_qubits = 7\n",
    "grover_circuit = build_qiskit_grover(n_qubits)\n",
    "\n",
    "# 绘制电路\n",
    "print(grover_circuit.draw())\n",
    "\n",
    "# 在模拟器上运行\n",
    "from qiskit_aer import AerSimulator\n",
    "simulator = AerSimulator()\n",
    "job = simulator.run(grover_circuit, shots=1024)\n",
    "result = job.result()\n",
    "counts = result.get_counts(grover_circuit)\n",
    "print(\"测量结果:\", counts)\n"
   ]
  },
  {
   "cell_type": "code",
   "execution_count": 99,
   "id": "976a3ec5",
   "metadata": {},
   "outputs": [],
   "source": [
    "import pennylane as qml\n",
    "import numpy as np\n",
    "from pennylane import numpy as qnp\n"
   ]
  },
  {
   "cell_type": "code",
   "execution_count": 114,
   "id": "1dfaf242",
   "metadata": {},
   "outputs": [],
   "source": [
    "def build_pennylane_grover(n_qubits, target_state=None):\n",
    "    \"\"\"构建与Qibo版本对应的PennyLane Grover电路\"\"\"\n",
    "    \n",
    "    # 创建设备\n",
    "    dev = qml.device('default.qubit', wires=n_qubits, shots=1000)\n",
    "    \n",
    "    # 如果没有指定目标状态，默认搜索|111...1⟩\n",
    "    if target_state is None:\n",
    "        target_state = '1' * n_qubits\n",
    "    \n",
    "    def oracle():\n",
    "        \"\"\"Oracle函数\"\"\"\n",
    "        # 根据目标状态应用X门\n",
    "        for i in range(n_qubits):\n",
    "            if target_state[i] == '0':\n",
    "                qml.PauliX(wires=i)\n",
    "        \n",
    "        # Multi-controlled Z gate\n",
    "        qml.Hadamard(wires=0)\n",
    "        qml.MultiControlledX(wires=list(range(1, n_qubits)) + [0])\n",
    "        qml.Hadamard(wires=0)\n",
    "        # 恢复\n",
    "        for i in range(n_qubits):\n",
    "            if target_state[i] == '0':\n",
    "                qml.PauliX(wires=i)\n",
    "    \n",
    "    def grover_diffusion():\n",
    "        \"\"\"Grover扩散算子\"\"\"\n",
    "        # Hadamard gates\n",
    "        for j in range(n_qubits):\n",
    "            qml.Hadamard(wires=j)\n",
    "        \n",
    "        # X gates\n",
    "        for j in range(n_qubits):\n",
    "            qml.PauliX(wires=j)\n",
    "        \n",
    "        # Multi-controlled Z gate\n",
    "        qml.Hadamard(wires=0)\n",
    "        qml.MultiControlledX(wires=list(range(1, n_qubits)) + [0])\n",
    "        qml.Hadamard(wires=0)\n",
    "        # X gates\n",
    "        for j in range(n_qubits):\n",
    "            qml.PauliX(wires=j)\n",
    "        \n",
    "        # Hadamard gates\n",
    "        for j in range(n_qubits):\n",
    "            qml.Hadamard(wires=j)\n",
    "    \n",
    "    # 计算Grover迭代次数\n",
    "    n_iterations = int(np.round((np.pi/(2 * np.arcsin(1/ np.sqrt(2**n_qubits))) - 1)/2))\n",
    "    \n",
    "    @qml.qnode(dev)\n",
    "    def grover_circuit():\n",
    "        # 初始化Hadamard门\n",
    "        for j in range(n_qubits):\n",
    "            qml.Hadamard(wires=j)\n",
    "        \n",
    "        # Grover迭代\n",
    "        for _ in range(n_iterations):\n",
    "            oracle()\n",
    "            grover_diffusion()\n",
    "        \n",
    "        # 返回概率分布\n",
    "        return qml.probs(wires=range(n_qubits))\n",
    "    \n",
    "    return grover_circuit, n_iterations\n"
   ]
  },
  {
   "cell_type": "code",
   "execution_count": 115,
   "id": "cfc93673",
   "metadata": {},
   "outputs": [
    {
     "name": "stdout",
     "output_type": "stream",
     "text": [
      "电路图:\n",
      "0: ──H──H─╭X──H──H──X──H─╭X──H──X──H──H─╭X──H──H──X──H─╭X──H──X──H─┤ ╭Probs\n",
      "1: ──H────├●──H──X───────├●──X──H───────├●──H──X───────├●──X──H────┤ ├Probs\n",
      "2: ──H────╰●──H──X───────╰●──X──H───────╰●──H──X───────╰●──X──H────┤ ╰Probs\n",
      "\n",
      "迭代次数: 2\n",
      "\n",
      "测量结果概率: [0.014 0.007 0.006 0.006 0.005 0.007 0.009 0.946]\n",
      "最可能的结果: |111⟩\n"
     ]
    }
   ],
   "source": [
    "# 调用函数\n",
    "n_qubits = 3\n",
    "circuit, iterations = build_pennylane_grover(n_qubits, target_state='111')\n",
    "\n",
    "# 绘制电路图\n",
    "print(\"电路图:\")\n",
    "print(qml.draw(circuit)())\n",
    "\n",
    "print(f\"\\n迭代次数: {iterations}\")\n",
    "\n",
    "# 运行电路并获取结果\n",
    "result = circuit()\n",
    "print(f\"\\n测量结果概率: {result}\")\n",
    "\n",
    "# 获取最可能的结果\n",
    "most_likely = np.argmax(result)\n",
    "binary_result = format(most_likely, f'0{n_qubits}b')\n",
    "print(f\"最可能的结果: |{binary_result}⟩\")\n"
   ]
  },
  {
   "cell_type": "code",
   "execution_count": 116,
   "id": "d3e90ea9",
   "metadata": {},
   "outputs": [],
   "source": [
    "\n",
    "\n",
    "def build_pennylane_grover(n_qubits, target_state=None):\n",
    "    \"\"\"构建与Qibo版本对应的PennyLane Grover电路（纯电路构建）\n",
    "    \n",
    "    Args:\n",
    "        n_qubits (int): 量子比特数\n",
    "        target_state (str, optional): 目标状态，默认为'111...1'\n",
    "    \n",
    "    Returns:\n",
    "        tuple: (grover_circuit_func, n_iterations)\n",
    "               grover_circuit_func: 电路函数，可以在外部装饰为QNode\n",
    "               n_iterations: Grover迭代次数\n",
    "    \"\"\"\n",
    "    \n",
    "    # 如果没有指定目标状态，默认搜索|111...1⟩\n",
    "    if target_state is None:\n",
    "        target_state = '1' * n_qubits\n",
    "    \n",
    "    def oracle():\n",
    "        \"\"\"Oracle函数\"\"\"\n",
    "        # 根据目标状态应用X门\n",
    "        for i in range(n_qubits):\n",
    "            if target_state[i] == '0':\n",
    "                qml.PauliX(wires=i)\n",
    "        \n",
    "        # Multi-controlled Z gate\n",
    "        qml.Hadamard(wires=0)\n",
    "        qml.MultiControlledX(wires=list(range(1, n_qubits)) + [0])\n",
    "        qml.Hadamard(wires=0)\n",
    "        \n",
    "        # 恢复\n",
    "        for i in range(n_qubits):\n",
    "            if target_state[i] == '0':\n",
    "                qml.PauliX(wires=i)\n",
    "    \n",
    "    def grover_diffusion():\n",
    "        \"\"\"Grover扩散算子\"\"\"\n",
    "        # Hadamard gates\n",
    "        for j in range(n_qubits):\n",
    "            qml.Hadamard(wires=j)\n",
    "        \n",
    "        # X gates\n",
    "        for j in range(n_qubits):\n",
    "            qml.PauliX(wires=j)\n",
    "        \n",
    "        # Multi-controlled Z gate\n",
    "        qml.Hadamard(wires=0)\n",
    "        qml.MultiControlledX(wires=list(range(1, n_qubits)) + [0])\n",
    "        qml.Hadamard(wires=0)\n",
    "        \n",
    "        # X gates\n",
    "        for j in range(n_qubits):\n",
    "            qml.PauliX(wires=j)\n",
    "        \n",
    "        # Hadamard gates\n",
    "        for j in range(n_qubits):\n",
    "            qml.Hadamard(wires=j)\n",
    "    \n",
    "    # 计算Grover迭代次数\n",
    "    n_iterations = int(np.round((np.pi/(2 * np.arcsin(1/ np.sqrt(2**n_qubits))) - 1)/2))\n",
    "    \n",
    "    def grover_circuit():\n",
    "        \"\"\"纯电路函数，不包含测量\"\"\"\n",
    "        # 初始化Hadamard门\n",
    "        for j in range(n_qubits):\n",
    "            qml.Hadamard(wires=j)\n",
    "        \n",
    "        # Grover迭代\n",
    "        for _ in range(n_iterations):\n",
    "            oracle()\n",
    "            grover_diffusion()\n",
    "    \n",
    "    return grover_circuit, n_iterations\n"
   ]
  },
  {
   "cell_type": "code",
   "execution_count": 101,
   "id": "396af970",
   "metadata": {},
   "outputs": [
    {
     "data": {
      "text/plain": [
       "[1, 2, 0]"
      ]
     },
     "execution_count": 101,
     "metadata": {},
     "output_type": "execute_result"
    }
   ],
   "source": [
    "list(range(1, n_qubits)) + [0]"
   ]
  },
  {
   "cell_type": "code",
   "execution_count": 109,
   "id": "5f55fb0b",
   "metadata": {},
   "outputs": [
    {
     "name": "stdout",
     "output_type": "stream",
     "text": [
      "<function build_pennylane_grover.<locals>.grover_circuit at 0x0000018C2D934400>\n"
     ]
    }
   ],
   "source": [
    "print(qml.draw(build_pennylane_grover(4)[0]))"
   ]
  },
  {
   "cell_type": "code",
   "execution_count": 110,
   "id": "49bee4c3",
   "metadata": {},
   "outputs": [
    {
     "data": {
      "text/plain": [
       "3"
      ]
     },
     "execution_count": 110,
     "metadata": {},
     "output_type": "execute_result"
    }
   ],
   "source": [
    "build_pennylane_grover(4)[1]"
   ]
  },
  {
   "cell_type": "code",
   "execution_count": 120,
   "id": "3323f458",
   "metadata": {},
   "outputs": [],
   "source": [
    "def build_pennylane_grover(n_qubits):\n",
    "    \"\"\"构建与Qibo版本对应的PennyLane Grover电路\"\"\"\n",
    "    \n",
    "    \n",
    "    def oracle():\n",
    "        \"\"\"Oracle函数\"\"\"\n",
    "        \n",
    "        # Multi-controlled Z gate\n",
    "        qml.Hadamard(wires=0)\n",
    "        qml.MultiControlledX(wires=list(range(1, n_qubits)) + [0])\n",
    "        qml.Hadamard(wires=0)\n",
    "\n",
    "    def grover_diffusion():\n",
    "        \"\"\"Grover扩散算子\"\"\"\n",
    "        # Hadamard gates\n",
    "        for j in range(n_qubits):\n",
    "            qml.Hadamard(wires=j)\n",
    "        \n",
    "        # X gates\n",
    "        for j in range(n_qubits):\n",
    "            qml.PauliX(wires=j)\n",
    "        \n",
    "        # Multi-controlled Z gate\n",
    "        qml.Hadamard(wires=0)\n",
    "        qml.MultiControlledX(wires=list(range(1, n_qubits)) + [0])\n",
    "        qml.Hadamard(wires=0)\n",
    "\n",
    "        # X gates\n",
    "        for j in range(n_qubits):\n",
    "            qml.PauliX(wires=j)\n",
    "        \n",
    "        # Hadamard gates\n",
    "        for j in range(n_qubits):\n",
    "            qml.Hadamard(wires=j)\n",
    "    \n",
    "    # 计算Grover迭代次数\n",
    "    n_iterations = round(np.round((np.pi/(2 * np.arcsin(1/ np.sqrt(2**n_qubits))) - 1)/2))\n",
    "    \n",
    "    def grover_circuit():\n",
    "        # 初始化Hadamard门\n",
    "        for j in range(n_qubits):\n",
    "            qml.Hadamard(wires=j)\n",
    "        \n",
    "        # Grover迭代\n",
    "        for _ in range(n_iterations):\n",
    "            oracle()\n",
    "            grover_diffusion()\n",
    "    \n",
    "    return grover_circuit, n_iterations\n"
   ]
  },
  {
   "cell_type": "code",
   "execution_count": 124,
   "id": "32ecafcb",
   "metadata": {},
   "outputs": [],
   "source": [
    "# 示例1: 使用概率测量\n",
    "def run_grover_with_probs(n_qubits):\n",
    "    \"\"\"使用概率分布运行Grover电路\"\"\"\n",
    "    \n",
    "    # 创建设备\n",
    "    dev = qml.device('default.qubit', wires=n_qubits, shots=1000)\n",
    "    \n",
    "    # 获取电路构建函数\n",
    "    circuit_func, iterations = build_pennylane_grover(n_qubits)\n",
    "    \n",
    "    # 装饰为QNode并指定测量类型\n",
    "    @qml.qnode(dev)\n",
    "    def grover_with_probs():\n",
    "        circuit_func()  # 调用电路构建函数\n",
    "        return qml.probs(wires=range(n_qubits))\n",
    "    \n",
    "    # 运行电路\n",
    "    result = grover_with_probs()\n",
    "    return result, iterations"
   ]
  },
  {
   "cell_type": "code",
   "execution_count": 125,
   "id": "ea6dc512",
   "metadata": {},
   "outputs": [
    {
     "data": {
      "text/plain": [
       "(array([0.002, 0.004, 0.004, 0.001, 0.003, 0.001, 0.001, 0.001, 0.002,\n",
       "        0.004, 0.002, 0.004, 0.001, 0.004, 0.004, 0.962]),\n",
       " 3)"
      ]
     },
     "execution_count": 125,
     "metadata": {},
     "output_type": "execute_result"
    }
   ],
   "source": [
    "run_grover_with_probs(4)"
   ]
  },
  {
   "cell_type": "code",
   "execution_count": 126,
   "id": "b8eb7583",
   "metadata": {},
   "outputs": [],
   "source": [
    "def run_grover_with_samples(n_qubits, shots=1000):\n",
    "    \"\"\"使用采样测量运行Grover电路\"\"\"\n",
    "    \n",
    "    # 创建设备\n",
    "    dev = qml.device('default.qubit', wires=n_qubits, shots=shots)\n",
    "    \n",
    "    # 获取电路构建函数\n",
    "    circuit_func, iterations = build_pennylane_grover(n_qubits)\n",
    "    \n",
    "    # 装饰为QNode并指定测量类型\n",
    "    @qml.qnode(dev)\n",
    "    def grover_with_samples():\n",
    "        circuit_func()  # 调用电路构建函数\n",
    "        return qml.sample(wires=range(n_qubits))\n",
    "    \n",
    "    # 运行电路\n",
    "    result = grover_with_samples()\n",
    "    return result, iterations"
   ]
  },
  {
   "cell_type": "code",
   "execution_count": 128,
   "id": "e1467b42",
   "metadata": {},
   "outputs": [
    {
     "data": {
      "text/plain": [
       "(array([[1, 1, 1, 1],\n",
       "        [1, 1, 1, 1],\n",
       "        [1, 1, 1, 1],\n",
       "        [1, 1, 1, 1],\n",
       "        [1, 1, 1, 1],\n",
       "        [1, 1, 1, 1],\n",
       "        [1, 1, 1, 1],\n",
       "        [1, 1, 1, 1],\n",
       "        [1, 1, 1, 1],\n",
       "        [1, 1, 1, 1]]),\n",
       " 3)"
      ]
     },
     "execution_count": 128,
     "metadata": {},
     "output_type": "execute_result"
    }
   ],
   "source": [
    "run_grover_with_samples(4, shots=10)"
   ]
  },
  {
   "cell_type": "code",
   "execution_count": 129,
   "id": "c32179e9",
   "metadata": {},
   "outputs": [],
   "source": [
    "def draw_grover_circuit(n_qubits):\n",
    "    \"\"\"绘制Grover电路图\"\"\"\n",
    "    \n",
    "    # 创建临时设备用于绘制\n",
    "    dev = qml.device('default.qubit', wires=n_qubits)\n",
    "    \n",
    "    # 获取电路构建函数\n",
    "    circuit_func, iterations = build_pennylane_grover(n_qubits)\n",
    "    \n",
    "    # 装饰为QNode\n",
    "    @qml.qnode(dev)\n",
    "    def temp_circuit():\n",
    "        circuit_func()\n",
    "        return qml.state()  # 返回状态以便绘制\n",
    "    \n",
    "    # 绘制电路\n",
    "    print(f\"Grover电路图 (n_qubits={n_qubits}, target_state=):\")\n",
    "    print(qml.draw(temp_circuit)())\n",
    "    print(f\"迭代次数: {iterations}\")\n"
   ]
  },
  {
   "cell_type": "code",
   "execution_count": 131,
   "id": "c51cfb8c",
   "metadata": {},
   "outputs": [
    {
     "name": "stdout",
     "output_type": "stream",
     "text": [
      "Grover电路图 (n_qubits=8, target_state=):\n",
      "0: ──H──H─╭X──H──H──X──H─╭X──H──X──H──H─╭X──H──H──X──H─╭X──H──X──H──H─╭X──H──H──X──H─╭X──H──X──H ···\n",
      "1: ──H────├●──H──X───────├●──X──H───────├●──H──X───────├●──X──H───────├●──H──X───────├●──X──H─── ···\n",
      "2: ──H────├●──H──X───────├●──X──H───────├●──H──X───────├●──X──H───────├●──H──X───────├●──X──H─── ···\n",
      "3: ──H────├●──H──X───────├●──X──H───────├●──H──X───────├●──X──H───────├●──H──X───────├●──X──H─── ···\n",
      "4: ──H────├●──H──X───────├●──X──H───────├●──H──X───────├●──X──H───────├●──H──X───────├●──X──H─── ···\n",
      "5: ──H────├●──H──X───────├●──X──H───────├●──H──X───────├●──X──H───────├●──H──X───────├●──X──H─── ···\n",
      "6: ──H────├●──H──X───────├●──X──H───────├●──H──X───────├●──X──H───────├●──H──X───────├●──X──H─── ···\n",
      "7: ──H────╰●──H──X───────╰●──X──H───────╰●──H──X───────╰●──X──H───────╰●──H──X───────╰●──X──H─── ···\n",
      "\n",
      "0: ··· ──H─╭X──H──H──X──H─╭X──H──X──H──H─╭X──H──H──X──H─╭X──H──X──H──H─╭X──H──H──X──H─╭X──H──X ···\n",
      "1: ··· ────├●──H──X───────├●──X──H───────├●──H──X───────├●──X──H───────├●──H──X───────├●──X──H ···\n",
      "2: ··· ────├●──H──X───────├●──X──H───────├●──H──X───────├●──X──H───────├●──H──X───────├●──X──H ···\n",
      "3: ··· ────├●──H──X───────├●──X──H───────├●──H──X───────├●──X──H───────├●──H──X───────├●──X──H ···\n",
      "4: ··· ────├●──H──X───────├●──X──H───────├●──H──X───────├●──X──H───────├●──H──X───────├●──X──H ···\n",
      "5: ··· ────├●──H──X───────├●──X──H───────├●──H──X───────├●──X──H───────├●──H──X───────├●──X──H ···\n",
      "6: ··· ────├●──H──X───────├●──X──H───────├●──H──X───────├●──X──H───────├●──H──X───────├●──X──H ···\n",
      "7: ··· ────╰●──H──X───────╰●──X──H───────╰●──H──X───────╰●──X──H───────╰●──H──X───────╰●──X──H ···\n",
      "\n",
      "0: ··· ──H──H─╭X──H──H──X──H─╭X──H──X──H──H─╭X──H──H──X──H─╭X──H──X──H──H─╭X──H──H──X──H─╭X──H ···\n",
      "1: ··· ───────├●──H──X───────├●──X──H───────├●──H──X───────├●──X──H───────├●──H──X───────├●──X ···\n",
      "2: ··· ───────├●──H──X───────├●──X──H───────├●──H──X───────├●──X──H───────├●──H──X───────├●──X ···\n",
      "3: ··· ───────├●──H──X───────├●──X──H───────├●──H──X───────├●──X──H───────├●──H──X───────├●──X ···\n",
      "4: ··· ───────├●──H──X───────├●──X──H───────├●──H──X───────├●──X──H───────├●──H──X───────├●──X ···\n",
      "5: ··· ───────├●──H──X───────├●──X──H───────├●──H──X───────├●──X──H───────├●──H──X───────├●──X ···\n",
      "6: ··· ───────├●──H──X───────├●──X──H───────├●──H──X───────├●──X──H───────├●──H──X───────├●──X ···\n",
      "7: ··· ───────╰●──H──X───────╰●──X──H───────╰●──H──X───────╰●──X──H───────╰●──H──X───────╰●──X ···\n",
      "\n",
      "0: ··· ──X──H──H─╭X──H──H──X──H─╭X──H──X──H──H─╭X──H──H──X──H─╭X──H──X──H──H─╭X──H──H──X──H─╭X ···\n",
      "1: ··· ──H───────├●──H──X───────├●──X──H───────├●──H──X───────├●──X──H───────├●──H──X───────├● ···\n",
      "2: ··· ──H───────├●──H──X───────├●──X──H───────├●──H──X───────├●──X──H───────├●──H──X───────├● ···\n",
      "3: ··· ──H───────├●──H──X───────├●──X──H───────├●──H──X───────├●──X──H───────├●──H──X───────├● ···\n",
      "4: ··· ──H───────├●──H──X───────├●──X──H───────├●──H──X───────├●──X──H───────├●──H──X───────├● ···\n",
      "5: ··· ──H───────├●──H──X───────├●──X──H───────├●──H──X───────├●──X──H───────├●──H──X───────├● ···\n",
      "6: ··· ──H───────├●──H──X───────├●──X──H───────├●──H──X───────├●──X──H───────├●──H──X───────├● ···\n",
      "7: ··· ──H───────╰●──H──X───────╰●──X──H───────╰●──H──X───────╰●──X──H───────╰●──H──X───────╰● ···\n",
      "\n",
      "0: ··· ──H──X──H─┤  State\n",
      "1: ··· ──X──H────┤  State\n",
      "2: ··· ──X──H────┤  State\n",
      "3: ··· ──X──H────┤  State\n",
      "4: ··· ──X──H────┤  State\n",
      "5: ··· ──X──H────┤  State\n",
      "6: ··· ──X──H────┤  State\n",
      "7: ··· ──X──H────┤  State\n",
      "迭代次数: 12\n"
     ]
    }
   ],
   "source": [
    "draw_grover_circuit(n_qubits=8)"
   ]
  },
  {
   "cell_type": "code",
   "execution_count": null,
   "id": "7787586e",
   "metadata": {},
   "outputs": [],
   "source": []
  }
 ],
 "metadata": {
  "kernelspec": {
   "display_name": "Python 3",
   "language": "python",
   "name": "python3"
  },
  "language_info": {
   "codemirror_mode": {
    "name": "ipython",
    "version": 3
   },
   "file_extension": ".py",
   "mimetype": "text/x-python",
   "name": "python",
   "nbconvert_exporter": "python",
   "pygments_lexer": "ipython3",
   "version": "3.12.12"
  }
 },
 "nbformat": 4,
 "nbformat_minor": 5
}
