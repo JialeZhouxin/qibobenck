{
 "cells": [
  {
   "cell_type": "code",
   "execution_count": 1,
   "id": "f4524fec",
   "metadata": {},
   "outputs": [],
   "source": [
    "try:\n",
    "    from qiskit.primitives import Estimator  # 使用新的StatevectorEstimator替代\n",
    "    from qiskit.quantum_info import SparsePauliOp\n",
    "    from qiskit.circuit.library import EfficientSU2, TwoLocal\n",
    "    QISKIT_AVAILABLE = True\n",
    "except ImportError:\n",
    "    QISKIT_AVAILABLE = False"
   ]
  },
  {
   "cell_type": "code",
   "execution_count": 2,
   "id": "4d6d28c2",
   "metadata": {},
   "outputs": [
    {
     "data": {
      "text/plain": [
       "False"
      ]
     },
     "execution_count": 2,
     "metadata": {},
     "output_type": "execute_result"
    }
   ],
   "source": [
    "QISKIT_AVAILABLE"
   ]
  },
  {
   "cell_type": "code",
   "execution_count": 4,
   "id": "a0672161",
   "metadata": {},
   "outputs": [],
   "source": [
    "from qiskit.primitives import StatevectorEstimator  # 使用新的StatevectorEstimator替代"
   ]
  },
  {
   "cell_type": "code",
   "execution_count": null,
   "id": "907726f2",
   "metadata": {},
   "outputs": [],
   "source": [
    "estimator = StatevectorEstimator()\n",
    "job = estimator.run([(ansatz, hamiltonian, params)])"
   ]
  },
  {
   "cell_type": "code",
   "execution_count": 5,
   "id": "605ed2c2",
   "metadata": {},
   "outputs": [
    {
     "name": "stderr",
     "output_type": "stream",
     "text": [
      "C:\\Users\\Administrator\\AppData\\Local\\Temp\\ipykernel_21216\\3757545227.py:16: DeprecationWarning: The class ``qiskit.circuit.library.n_local.two_local.TwoLocal`` is deprecated as of Qiskit 2.1. It will be removed in Qiskit 3.0. Use the function qiskit.circuit.library.n_local instead.\n",
      "  ansatz = TwoLocal(\n"
     ]
    },
    {
     "name": "stdout",
     "output_type": "stream",
     "text": [
      "=== Qiskit StatevectorEstimator 示例 ===\n",
      "Ansatz 电路参数数量: 8\n",
      "随机参数值: [0.50624868 2.98087626 3.79320762 1.42568423 1.1116505  1.35160416\n",
      " 6.22442126 3.14082392]\n",
      "哈密顿量: SparsePauliOp(['ZZ', 'XY'],\n",
      "              coeffs=[1. +0.j, 0.5+0.j])\n",
      "计算得到的期望值: -0.41423647126510554\n",
      "\n",
      "Ansatz 电路结构:\n",
      "     ┌────────────────────────────────────────────────────┐\n",
      "q_0: ┤0                                                   ├\n",
      "     │  TwoLocal(θ[0],θ[1],θ[2],θ[3],θ[4],θ[5],θ[6],θ[7]) │\n",
      "q_1: ┤1                                                   ├\n",
      "     └────────────────────────────────────────────────────┘\n",
      "\n",
      "=== 尝试不同的参数值 ===\n",
      "全零参数的期望值: 1.0\n",
      "随机参数的期望值: -0.06056514222189463\n"
     ]
    }
   ],
   "source": [
    "#!/usr/bin/env python3\n",
    "\"\"\"\n",
    "Qiskit StatevectorEstimator 简单示例\n",
    "\n",
    "这个示例展示了如何使用 StatevectorEstimator 计算量子电路的期望值。\n",
    "\"\"\"\n",
    "\n",
    "import numpy as np\n",
    "from qiskit.primitives import StatevectorEstimator\n",
    "from qiskit.quantum_info import SparsePauliOp\n",
    "from qiskit.circuit.library import TwoLocal\n",
    "\n",
    "# 1. 创建 ansatz (参数化量子电路)\n",
    "# 使用 TwoLocal 创建一个简单的参数化电路\n",
    "# 2个量子比特，使用RY和RZ旋转门，线性纠缠\n",
    "ansatz = TwoLocal(\n",
    "    num_qubits=2,\n",
    "    rotation_blocks=['ry', 'rz'],\n",
    "    entanglement_blocks='cx',\n",
    "    entanglement='linear',\n",
    "    reps=1,\n",
    "    insert_barriers=True\n",
    ")\n",
    "\n",
    "# 2. 创建 hamiltonian (观测量/哈密顿量)\n",
    "# 创建一个简单的哈密顿量：Z⊗Z + X⊗Y\n",
    "hamiltonian = SparsePauliOp.from_list([\n",
    "    (\"ZZ\", 1.0),  # Z⊗Z 项，系数为 1.0\n",
    "    (\"XY\", 0.5)   # X⊗Y 项，系数为 0.5\n",
    "])\n",
    "\n",
    "# 3. 创建 params (参数值)\n",
    "# 为 ansatz 电路创建随机参数值\n",
    "# ansatz.num_parameters 返回电路需要的参数数量\n",
    "params = np.random.uniform(0, 2*np.pi, ansatz.num_parameters)\n",
    "\n",
    "print(\"=== Qiskit StatevectorEstimator 示例 ===\")\n",
    "print(f\"Ansatz 电路参数数量: {ansatz.num_parameters}\")\n",
    "print(f\"随机参数值: {params}\")\n",
    "print(f\"哈密顿量: {hamiltonian}\")\n",
    "\n",
    "# 4. 创建 StatevectorEstimator 实例\n",
    "estimator = StatevectorEstimator()\n",
    "\n",
    "# 5. 运行计算\n",
    "# 使用元组列表格式：(circuit, observable, parameter_values)\n",
    "job = estimator.run([(ansatz, hamiltonian, params)])\n",
    "\n",
    "# 6. 获取结果\n",
    "result = job.result()\n",
    "\n",
    "# 7. 访问期望值\n",
    "# 注意：在 Qiskit 1.4.4 中，正确的访问方式是 result[0].data.evs\n",
    "energy = result[0].data.evs\n",
    "\n",
    "print(f\"计算得到的期望值: {energy}\")\n",
    "\n",
    "# 8. 可选：可视化电路\n",
    "print(\"\\nAnsatz 电路结构:\")\n",
    "print(ansatz.draw(output='text'))\n",
    "\n",
    "# 9. 可选：尝试不同的参数值\n",
    "print(\"\\n=== 尝试不同的参数值 ===\")\n",
    "# 使用全零参数\n",
    "zero_params = np.zeros(ansatz.num_parameters)\n",
    "job_zero = estimator.run([(ansatz, hamiltonian, zero_params)])\n",
    "result_zero = job_zero.result()\n",
    "energy_zero = result_zero[0].data.evs\n",
    "print(f\"全零参数的期望值: {energy_zero}\")\n",
    "\n",
    "# 使用随机参数\n",
    "random_params = np.random.uniform(0, 2*np.pi, ansatz.num_parameters)\n",
    "job_random = estimator.run([(ansatz, hamiltonian, random_params)])\n",
    "result_random = job_random.result()\n",
    "energy_random = result_random[0].data.evs\n",
    "print(f\"随机参数的期望值: {energy_random}\")\n"
   ]
  },
  {
   "cell_type": "code",
   "execution_count": 10,
   "id": "0a44735d",
   "metadata": {},
   "outputs": [],
   "source": [
    "def build_hamiltonian(problem_config, n_qubits: int) -> hamiltonians.SymbolicHamiltonian:\n",
    "    \"\"\"\n",
    "    使用SymbolicHamiltonian构建Qibo哈密顿量，保证公平、高效和简洁。\n",
    "    \"\"\"\n",
    "\n",
    "    \n",
    "    from qibo import symbols  # 导入Qibo符号模块\n",
    "    \n",
    "    j_coupling = problem_config.get(\"j_coupling\", 1.0)\n",
    "    h_field = problem_config.get(\"h_field\", 1.0)\n",
    "    \n",
    "    # 使用Qibo符号构建哈密顿量\n",
    "    ham_expr = 0\n",
    "    \n",
    "    # 相互作用项: -J * sum(Z_i Z_{i+1})\n",
    "    for i in range(n_qubits):\n",
    "        Z_i = symbols.Z(i)\n",
    "        Z_ip1 = symbols.Z((i + 1) % n_qubits)\n",
    "        ham_expr += -j_coupling * Z_i * Z_ip1\n",
    "    \n",
    "    # 横向场项: -h * sum(X_i)\n",
    "    for i in range(n_qubits):\n",
    "        X_i = symbols.X(i)\n",
    "        ham_expr += -h_field * X_i\n",
    "    \n",
    "    return hamiltonians.SymbolicHamiltonian(ham_expr)"
   ]
  },
  {
   "cell_type": "code",
   "execution_count": 8,
   "id": "ecfd06c3",
   "metadata": {},
   "outputs": [],
   "source": [
    "from qibo import symbols \n",
    "from qibo import hamiltonians"
   ]
  },
  {
   "cell_type": "code",
   "execution_count": 11,
   "id": "73968165",
   "metadata": {},
   "outputs": [
    {
     "name": "stderr",
     "output_type": "stream",
     "text": [
      "[Qibo 0.2.21|INFO|2025-10-16 20:43:51]: Using qibojit (numba) backend on /CPU:0\n"
     ]
    },
    {
     "data": {
      "text/plain": [
       "<qibo.hamiltonians.hamiltonians.SymbolicHamiltonian at 0x299ec953f50>"
      ]
     },
     "execution_count": 11,
     "metadata": {},
     "output_type": "execute_result"
    }
   ],
   "source": [
    "build_hamiltonian({\"j_coupling\": 1.0, \"h_field\": 1.0}, 2)"
   ]
  },
  {
   "cell_type": "code",
   "execution_count": null,
   "id": "f1370720",
   "metadata": {},
   "outputs": [],
   "source": []
  }
 ],
 "metadata": {
  "kernelspec": {
   "display_name": "Python 3",
   "language": "python",
   "name": "python3"
  },
  "language_info": {
   "codemirror_mode": {
    "name": "ipython",
    "version": 3
   },
   "file_extension": ".py",
   "mimetype": "text/x-python",
   "name": "python",
   "nbconvert_exporter": "python",
   "pygments_lexer": "ipython3",
   "version": "3.12.12"
  }
 },
 "nbformat": 4,
 "nbformat_minor": 5
}
