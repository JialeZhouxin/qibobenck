{
 "cells": [
  {
   "cell_type": "code",
   "execution_count": null,
   "id": "7f8f40e4",
   "metadata": {},
   "outputs": [],
   "source": [
    "import sys\n",
    "import os\n",
    "# 直接使用绝对路径\n",
    "sys.path.append('E:/qiboenv/qibobench')\n",
    "from qibo_profiler import profile_circuit  # 导入用于分析电路性能的函数\n",
    "from qibo_profiler import generate_markdown_report  # 导入用于生成Markdown格式报告的函数"
   ]
  },
  {
   "cell_type": "code",
   "execution_count": 3,
   "id": "8b8be2be",
   "metadata": {},
   "outputs": [],
   "source": [
    "# 导入 profile_circuit 函数\n",
    "import json"
   ]
  },
  {
   "cell_type": "code",
   "execution_count": 4,
   "id": "f2490563",
   "metadata": {},
   "outputs": [],
   "source": [
    "from qibo import gates, models\n",
    "from qibo.models import Circuit"
   ]
  },
  {
   "cell_type": "code",
   "execution_count": null,
   "id": "5bd31635",
   "metadata": {},
   "outputs": [],
   "source": [
    "def load_qasm_circuit(qasm_file_path):\n",
    "    \"\"\"\n",
    "    加载并处理QASM电路文件。\n",
    "\n",
    "    参数:\n",
    "    qasm_file_path (str): QASM文件的路径。\n",
    "\n",
    "    返回:\n",
    "    Circuit: 加载并处理后的电路对象，如果加载失败则返回None。\n",
    "\n",
    "    功能:\n",
    "    1. 检查文件是否存在，如果不存在则打印错误信息并返回None。\n",
    "    2. 读取QASM文件内容。\n",
    "    3. 移除QASM代码中的barrier语句（Qibo不支持）。\n",
    "    4. 使用处理后的QASM代码创建并返回Circuit对象。\n",
    "    5. 如果在加载过程中发生异常，打印错误信息并返回None。\n",
    "    \"\"\"\n",
    "    if not os.path.exists(qasm_file_path):\n",
    "        print(f\"错误: 找不到文件 {qasm_file_path}\")\n",
    "        return None\n",
    "    \n",
    "    try:\n",
    "        with open(qasm_file_path, \"r\") as file:\n",
    "            qasm_code = file.read()\n",
    "        \n",
    "        # 移除barrier语句（Qibo不支持）\n",
    "        lines = qasm_code.split('\\n')\n",
    "        filtered_lines = [line for line in lines if 'barrier' not in line]\n",
    "        clean_qasm_code = '\\n'.join(filtered_lines)\n",
    "        \n",
    "        circuit = Circuit.from_qasm(clean_qasm_code)\n",
    "        return circuit\n",
    "        \n",
    "    except Exception as e:\n",
    "        print(f\"加载电路失败: {str(e)}\")\n",
    "        return None"
   ]
  },
  {
   "cell_type": "code",
   "execution_count": 17,
   "id": "04710a5b",
   "metadata": {},
   "outputs": [],
   "source": [
    "circuit = load_qasm_circuit(\"../../QASMBench/medium/qft_n18/qft_n18_transpiled.qasm\")"
   ]
  },
  {
   "cell_type": "code",
   "execution_count": 7,
   "id": "af4bc18f",
   "metadata": {},
   "outputs": [],
   "source": [
    "from qibo import set_backend"
   ]
  },
  {
   "cell_type": "code",
   "execution_count": 8,
   "id": "8542e0e1",
   "metadata": {},
   "outputs": [
    {
     "name": "stderr",
     "output_type": "stream",
     "text": [
      "[Qibo 0.2.21|INFO|2025-10-10 19:40:39]: Using qiboml (pytorch) backend on cpu\n"
     ]
    }
   ],
   "source": [
    "set_backend(\"qiboml\",platform=\"pytorch\")"
   ]
  },
  {
   "cell_type": "code",
   "execution_count": 18,
   "id": "358437c0",
   "metadata": {},
   "outputs": [],
   "source": [
    "report = profile_circuit(\n",
    "        circuit,\n",
    "        n_runs=3\n",
    "    )"
   ]
  },
  {
   "cell_type": "code",
   "execution_count": 19,
   "id": "85c04b20",
   "metadata": {},
   "outputs": [
    {
     "data": {
      "text/plain": [
       "'e:\\\\qiboenv\\\\test\\\\test_function\\\\qibo_report_qiboml (pytorch)_20251010_195156.md'"
      ]
     },
     "execution_count": 19,
     "metadata": {},
     "output_type": "execute_result"
    }
   ],
   "source": [
    "generate_markdown_report(report)"
   ]
  }
 ],
 "metadata": {
  "kernelspec": {
   "display_name": "qibovenv",
   "language": "python",
   "name": "python3"
  },
  "language_info": {
   "codemirror_mode": {
    "name": "ipython",
    "version": 3
   },
   "file_extension": ".py",
   "mimetype": "text/x-python",
   "name": "python",
   "nbconvert_exporter": "python",
   "pygments_lexer": "ipython3",
   "version": "3.12.0"
  }
 },
 "nbformat": 4,
 "nbformat_minor": 5
}
