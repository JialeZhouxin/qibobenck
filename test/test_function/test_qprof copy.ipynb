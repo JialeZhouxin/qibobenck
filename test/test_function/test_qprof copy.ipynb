{
 "cells": [
  {
   "cell_type": "code",
   "execution_count": 1,
   "id": "7f8f40e4",
   "metadata": {},
   "outputs": [],
   "source": [
    "import sys\n",
    "import os\n",
    "# 直接使用绝对路径\n",
    "sys.path.append('E:/qiboenv/qibobench')\n"
   ]
  },
  {
   "cell_type": "code",
   "execution_count": 2,
   "id": "795c29a6",
   "metadata": {},
   "outputs": [],
   "source": [
    "from qibo_profiler import profile_circuit \n",
    "from qibo_profiler import generate_markdown_report"
   ]
  },
  {
   "cell_type": "code",
   "execution_count": 3,
   "id": "8b8be2be",
   "metadata": {},
   "outputs": [],
   "source": [
    "# 导入 profile_circuit 函数\n",
    "import json"
   ]
  },
  {
   "cell_type": "code",
   "execution_count": 4,
   "id": "f2490563",
   "metadata": {},
   "outputs": [],
   "source": [
    "from qibo import gates, models\n",
    "from qibo.models import Circuit"
   ]
  },
  {
   "cell_type": "code",
   "execution_count": 5,
   "id": "5bd31635",
   "metadata": {},
   "outputs": [],
   "source": [
    "    def load_qasm_circuit(qasm_file_path):\n",
    "        \"\"\"加载QASM电路文件\"\"\"\n",
    "        if not os.path.exists(qasm_file_path):\n",
    "            print(f\"错误: 找不到文件 {qasm_file_path}\")\n",
    "            return None\n",
    "        \n",
    "        try:\n",
    "            with open(qasm_file_path, \"r\") as file:\n",
    "                qasm_code = file.read()\n",
    "            \n",
    "            # 移除barrier语句（Qibo不支持）\n",
    "            lines = qasm_code.split('\\n')\n",
    "            filtered_lines = [line for line in lines if 'barrier' not in line]\n",
    "            clean_qasm_code = '\\n'.join(filtered_lines)\n",
    "            \n",
    "            circuit = Circuit.from_qasm(clean_qasm_code)\n",
    "            return circuit\n",
    "            \n",
    "        except Exception as e:\n",
    "            print(f\"加载电路失败: {str(e)}\")\n",
    "            return None"
   ]
  },
  {
   "cell_type": "code",
   "execution_count": 6,
   "id": "04710a5b",
   "metadata": {},
   "outputs": [],
   "source": [
    "circuit = load_qasm_circuit(\"../../QASMBench/medium/qft_n18/qft_n18_transpiled.qasm\")"
   ]
  },
  {
   "cell_type": "code",
   "execution_count": 7,
   "id": "af4bc18f",
   "metadata": {},
   "outputs": [],
   "source": [
    "from qibo import set_backend"
   ]
  },
  {
   "cell_type": "code",
   "execution_count": 8,
   "id": "8542e0e1",
   "metadata": {},
   "outputs": [
    {
     "name": "stderr",
     "output_type": "stream",
     "text": [
      "[Qibo 0.2.21|INFO|2025-10-10 19:40:39]: Using qiboml (pytorch) backend on cpu\n"
     ]
    }
   ],
   "source": [
    "set_backend(\"qiboml\",platform=\"pytorch\")"
   ]
  },
  {
   "cell_type": "code",
   "execution_count": 9,
   "id": "358437c0",
   "metadata": {},
   "outputs": [
    {
     "name": "stderr",
     "output_type": "stream",
     "text": [
      "[Qibo 0.2.21|INFO|2025-10-10 19:40:44]: Using qibojit (numba) backend on /CPU:0\n",
      "[Qibo 0.2.21|INFO|2025-10-10 19:40:45]: Using qiboml (pytorch) backend on cpu\n"
     ]
    }
   ],
   "source": [
    "report = profile_circuit(\n",
    "        circuit,\n",
    "        n_runs=3,\n",
    "        mode='basic',\n",
    "        calculate_fidelity=True,\n",
    "    )\n",
    "\n"
   ]
  },
  {
   "cell_type": "code",
   "execution_count": 10,
   "id": "85c04b20",
   "metadata": {},
   "outputs": [
    {
     "data": {
      "text/plain": [
       "'e:\\\\qiboenv\\\\test\\\\test_function\\\\qibo_report_qiboml (pytorch)_20251010_194051.md'"
      ]
     },
     "execution_count": 10,
     "metadata": {},
     "output_type": "execute_result"
    }
   ],
   "source": [
    "generate_markdown_report(report)"
   ]
  },
  {
   "cell_type": "code",
   "execution_count": 11,
   "id": "27f90f8c",
   "metadata": {},
   "outputs": [
    {
     "name": "stderr",
     "output_type": "stream",
     "text": [
      "[Qibo 0.2.21|INFO|2025-10-10 19:40:53]: Using qibojit (numba) backend on /CPU:0\n",
      "[Qibo 0.2.21|INFO|2025-10-10 19:40:53]: Using qiboml (pytorch) backend on cpu\n"
     ]
    },
    {
     "name": "stdout",
     "output_type": "stream",
     "text": [
      "{\n",
      "    \"metadata\": {\n",
      "        \"profiler_version\": \"1.0\",\n",
      "        \"timestamp_utc\": \"2025-10-10T11:40:51.641638Z\"\n",
      "    },\n",
      "    \"inputs\": {\n",
      "        \"profiler_settings\": {\n",
      "            \"n_runs\": 3,\n",
      "            \"mode\": \"basic\",\n",
      "            \"fidelity_calculated\": true\n",
      "        },\n",
      "        \"circuit_properties\": {\n",
      "            \"n_qubits\": 3,\n",
      "            \"depth\": 7,\n",
      "            \"total_gates\": 9,\n",
      "            \"gate_counts\": {\n",
      "                \"h\": 2,\n",
      "                \"cx\": 4,\n",
      "                \"ry\": 3\n",
      "            },\n",
      "            \"qasm_hash_sha256\": \"64ed69b5537a26476989452c38346f9f6148351d5aa9fe874426c1e0ebfe2e72\"\n",
      "        },\n",
      "        \"environment\": {\n",
      "            \"qibo_backend\": \"qiboml (pytorch)\",\n",
      "            \"qibo_version\": \"0.2.21\",\n",
      "            \"python_version\": \"3.12.0\",\n",
      "            \"cpu_model\": \"Intel64 Family 6 Model 158 Stepping 9, GenuineIntel\",\n",
      "            \"cpu_model_friendly\": \"Intel(R) Core(TM) i5-7400 CPU @ 3.00GHz\",\n",
      "            \"cpu_cores_physical\": 4,\n",
      "            \"total_memory\": {\n",
      "                \"value\": 15.91,\n",
      "                \"unit\": \"GiB\"\n",
      "            }\n",
      "        }\n",
      "    },\n",
      "    \"results\": {\n",
      "        \"summary\": {\n",
      "            \"runtime_avg\": {\n",
      "                \"value\": 0.0017175666628948723,\n",
      "                \"unit\": \"seconds\"\n",
      "            },\n",
      "            \"runtime_std_dev\": {\n",
      "                \"value\": 0.0005434986306544826,\n",
      "                \"unit\": \"seconds\"\n",
      "            },\n",
      "            \"cpu_utilization_avg\": {\n",
      "                \"value\": 0.0,\n",
      "                \"unit\": \"percent\"\n",
      "            },\n",
      "            \"cpu_utilization_psutil_avg\": {\n",
      "                \"value\": 0.0,\n",
      "                \"unit\": \"percent\"\n",
      "            },\n",
      "            \"cpu_utilization_psutil_std_dev\": {\n",
      "                \"value\": 0.0,\n",
      "                \"unit\": \"percent\"\n",
      "            },\n",
      "            \"cpu_cores_logical\": 4,\n",
      "            \"cpu_utilization_normalized\": {\n",
      "                \"value\": 0.0,\n",
      "                \"unit\": \"percent\"\n",
      "            },\n",
      "            \"memory_usage_avg\": {\n",
      "                \"value\": 0.1171875,\n",
      "                \"unit\": \"MiB\"\n",
      "            },\n",
      "            \"memory_usage_peak\": {\n",
      "                \"value\": 4408.3046875,\n",
      "                \"unit\": \"MiB\"\n",
      "            },\n",
      "            \"fidelity\": {\n",
      "                \"value\": 0.9999999999999991,\n",
      "                \"unit\": null\n",
      "            }\n",
      "        },\n",
      "        \"raw_metrics\": {\n",
      "            \"runtime_per_run\": {\n",
      "                \"values\": [\n",
      "                    0.0024837999953888357,\n",
      "                    0.0012819999974453822,\n",
      "                    0.0013868999958503991\n",
      "                ],\n",
      "                \"unit\": \"seconds\"\n",
      "            }\n",
      "        }\n",
      "    },\n",
      "    \"error\": null\n",
      "}\n"
     ]
    }
   ],
   "source": [
    "if __name__ == \"__main__\":\n",
    "    # 创建一个简单的 qibo 电路\n",
    "    from qibo import gates, models\n",
    "\n",
    "    # 定义一个简单的量子电路\n",
    "    circuit = models.Circuit(3)\n",
    "    circuit.add(gates.H(0))\n",
    "    circuit.add(gates.CNOT(0, 1))\n",
    "    circuit.add(gates.CNOT(1, 2))\n",
    "    circuit.add(gates.RY(0, theta=0.123))\n",
    "    circuit.add(gates.RY(1, theta=0.456))\n",
    "    circuit.add(gates.RY(2, theta=0.789))\n",
    "    circuit.add(gates.CNOT(1, 2))\n",
    "    circuit.add(gates.CNOT(0, 1))\n",
    "    circuit.add(gates.H(0))\n",
    "\n",
    "    # 调用 profile_circuit 函数\n",
    "    report = profile_circuit(\n",
    "        circuit,\n",
    "        n_runs=3,\n",
    "        mode='basic',\n",
    "        calculate_fidelity=True,\n",
    "    )\n",
    "print(json.dumps(report, indent=4))"
   ]
  },
  {
   "cell_type": "code",
   "execution_count": 12,
   "id": "84cd84bd",
   "metadata": {},
   "outputs": [
    {
     "name": "stdout",
     "output_type": "stream",
     "text": [
      "{'metadata': {'profiler_version': '1.0', 'timestamp_utc': '2025-10-10T11:40:51.641638Z'}, 'inputs': {'profiler_settings': {'n_runs': 3, 'mode': 'basic', 'fidelity_calculated': True}, 'circuit_properties': {'n_qubits': 3, 'depth': 7, 'total_gates': 9, 'gate_counts': {'h': 2, 'cx': 4, 'ry': 3}, 'qasm_hash_sha256': '64ed69b5537a26476989452c38346f9f6148351d5aa9fe874426c1e0ebfe2e72'}, 'environment': {'qibo_backend': 'qiboml (pytorch)', 'qibo_version': '0.2.21', 'python_version': '3.12.0', 'cpu_model': 'Intel64 Family 6 Model 158 Stepping 9, GenuineIntel', 'cpu_model_friendly': 'Intel(R) Core(TM) i5-7400 CPU @ 3.00GHz', 'cpu_cores_physical': 4, 'total_memory': {'value': 15.91, 'unit': 'GiB'}}}, 'results': {'summary': {'runtime_avg': {'value': np.float64(0.0017175666628948723), 'unit': 'seconds'}, 'runtime_std_dev': {'value': np.float64(0.0005434986306544826), 'unit': 'seconds'}, 'cpu_utilization_avg': {'value': np.float64(0.0), 'unit': 'percent'}, 'cpu_utilization_psutil_avg': {'value': np.float64(0.0), 'unit': 'percent'}, 'cpu_utilization_psutil_std_dev': {'value': np.float64(0.0), 'unit': 'percent'}, 'cpu_cores_logical': 4, 'cpu_utilization_normalized': {'value': np.float64(0.0), 'unit': 'percent'}, 'memory_usage_avg': {'value': np.float64(0.1171875), 'unit': 'MiB'}, 'memory_usage_peak': {'value': 4408.3046875, 'unit': 'MiB'}, 'fidelity': {'value': np.float64(0.9999999999999991), 'unit': None}}, 'raw_metrics': {'runtime_per_run': {'values': [0.0024837999953888357, 0.0012819999974453822, 0.0013868999958503991], 'unit': 'seconds'}}}, 'error': None}\n"
     ]
    }
   ],
   "source": [
    "print(report)"
   ]
  },
  {
   "cell_type": "code",
   "execution_count": 13,
   "id": "57704f34",
   "metadata": {},
   "outputs": [
    {
     "data": {
      "text/plain": [
       "qiboml (pytorch)"
      ]
     },
     "execution_count": 13,
     "metadata": {},
     "output_type": "execute_result"
    }
   ],
   "source": [
    "import qibo\n",
    "qibo.get_backend()"
   ]
  },
  {
   "cell_type": "code",
   "execution_count": 14,
   "id": "4d399035",
   "metadata": {},
   "outputs": [
    {
     "ename": "NameError",
     "evalue": "name 'x' is not defined",
     "output_type": "error",
     "traceback": [
      "\u001b[31m---------------------------------------------------------------------------\u001b[39m",
      "\u001b[31mNameError\u001b[39m                                 Traceback (most recent call last)",
      "\u001b[36mCell\u001b[39m\u001b[36m \u001b[39m\u001b[32mIn[14]\u001b[39m\u001b[32m, line 1\u001b[39m\n\u001b[32m----> \u001b[39m\u001b[32m1\u001b[39m \u001b[38;5;28mtype\u001b[39m(\u001b[43mx\u001b[49m)\n",
      "\u001b[31mNameError\u001b[39m: name 'x' is not defined"
     ]
    }
   ],
   "source": [
    "type(x)"
   ]
  },
  {
   "cell_type": "code",
   "execution_count": null,
   "id": "31fed85f",
   "metadata": {},
   "outputs": [
    {
     "name": "stdout",
     "output_type": "stream",
     "text": [
      "qiboml (pytorch)\n"
     ]
    }
   ],
   "source": [
    "backend_str = str(qibo.get_backend())\n",
    "print(backend_str)\n"
   ]
  },
  {
   "cell_type": "code",
   "execution_count": null,
   "id": "495d7bac",
   "metadata": {},
   "outputs": [
    {
     "data": {
      "text/plain": [
       "str"
      ]
     },
     "execution_count": 18,
     "metadata": {},
     "output_type": "execute_result"
    }
   ],
   "source": [
    "type(backend_str)"
   ]
  },
  {
   "cell_type": "code",
   "execution_count": null,
   "id": "e94a3bea",
   "metadata": {},
   "outputs": [
    {
     "name": "stdout",
     "output_type": "stream",
     "text": [
      "qiboml版本: 0.0.2\n"
     ]
    }
   ],
   "source": [
    "import qiboml\n",
    "\n",
    "# 获取qiboml版本\n",
    "qiboml_version = qiboml.__version__\n",
    "print(f\"qiboml版本: {qiboml_version}\")\n"
   ]
  },
  {
   "cell_type": "code",
   "execution_count": null,
   "id": "441957bc",
   "metadata": {},
   "outputs": [],
   "source": []
  }
 ],
 "metadata": {
  "kernelspec": {
   "display_name": "qibovenv",
   "language": "python",
   "name": "python3"
  },
  "language_info": {
   "codemirror_mode": {
    "name": "ipython",
    "version": 3
   },
   "file_extension": ".py",
   "mimetype": "text/x-python",
   "name": "python",
   "nbconvert_exporter": "python",
   "pygments_lexer": "ipython3",
   "version": "3.12.0"
  }
 },
 "nbformat": 4,
 "nbformat_minor": 5
}
