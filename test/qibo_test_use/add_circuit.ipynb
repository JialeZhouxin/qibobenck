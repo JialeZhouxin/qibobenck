{
 "cells": [
  {
   "cell_type": "code",
   "execution_count": 2,
   "id": "0dbcf90b",
   "metadata": {},
   "outputs": [],
   "source": [
    "from qibo import Circuit, gates  # 导入Qibo库中的Circuit和gates模块\n",
    "from qibo.models import QFT  # 导入Qibo库中的QFT（量子傅里叶变换）模型\n",
    "\n",
    "# Create a small circuit of 4 qubits\n",
    "nqubits = 4\n",
    "small_circuit = Circuit(nqubits)\n",
    "small_circuit.add((gates.RX(i, theta=0.1) for i in range(4)))\n",
    "small_circuit.add((gates.CNOT(0, 1), gates.CNOT(2, 3)))\n",
    "\n",
    "# Create a large circuit on 8 qubits\n",
    "nqubits = 8\n",
    "large_circuit = Circuit(nqubits)\n"
   ]
  },
  {
   "cell_type": "code",
   "execution_count": 3,
   "id": "1331676c",
   "metadata": {},
   "outputs": [
    {
     "name": "stdout",
     "output_type": "stream",
     "text": [
      "0: ─RX─o───\n",
      "1: ────|───\n",
      "2: ─RX─X───\n",
      "3: ────────\n",
      "4: ─RX───o─\n",
      "5: ──────|─\n",
      "6: ─RX───X─\n",
      "7: ────────\n"
     ]
    }
   ],
   "source": [
    "# Add the small circuit on even qubits\n",
    "large_circuit.add(small_circuit.on_qubits(*range(0, nqubits, 2)))\n",
    "large_circuit.draw()"
   ]
  },
  {
   "cell_type": "code",
   "execution_count": 4,
   "id": "3c1fc006",
   "metadata": {},
   "outputs": [
    {
     "name": "stdout",
     "output_type": "stream",
     "text": [
      "0: ─RX─o─────────────────────────────────\n",
      "1: ────|───H─U1─U1─U1────────────────x───\n",
      "2: ─RX─X─────|──|──|─────────────────|───\n",
      "3: ──────────o──|──|──H─U1─U1────────|─x─\n",
      "4: ─RX───o──────|──|────|──|─────────|─|─\n",
      "5: ──────|──────o──|────o──|──H─U1───|─x─\n",
      "6: ─RX───X─────────|───────|────|────|───\n",
      "7: ────────────────o───────o────o──H─x───\n"
     ]
    }
   ],
   "source": [
    "\n",
    "# Add a QFT on odd qubits\n",
    "large_circuit.add(QFT(4).on_qubits(*range(1, nqubits, 2)))\n",
    "large_circuit.draw()\n"
   ]
  },
  {
   "cell_type": "code",
   "execution_count": 5,
   "id": "af9aa840",
   "metadata": {},
   "outputs": [
    {
     "name": "stdout",
     "output_type": "stream",
     "text": [
      "0:     ─RX─o─────────────────────────────────────x─────────────────────────── ...\n",
      "1:     ────|───H─U1─U1─U1────────────────x─────x─|─────────────────────────── ...\n",
      "2:     ─RX─X─────|──|──|─────────────────|───x─|─|────────────────U1─U1─U1─H─ ...\n",
      "3:     ──────────o──|──|──H─U1─U1────────|─x─x─|─|────────U1─U1─H─|──|──o──── ...\n",
      "4:     ─RX───o──────|──|────|──|─────────|─|───x─|───U1─H─|──o────|──o─────── ...\n",
      "5:     ──────|──────o──|────o──|──H─U1───|─x─────x─H─o────o───────o────────── ...\n",
      "6:     ─RX───X─────────|───────|────|────|─────────────────────────────────── ...\n",
      "7:     ────────────────o───────o────o──H─x─────────────────────────────────── ...\n",
      "\n",
      "0: ... ──────────────U1─U1─U1─U1─U1─H─\n",
      "1: ... U1─U1─U1─U1─H─|──|──|──|──o────\n",
      "2: ... |──|──|──o────|──|──|──o───────\n",
      "3: ... |──|──o───────|──|──o──────────\n",
      "4: ... |──o──────────|──o─────────────\n",
      "5: ... o─────────────o────────────────\n",
      "6: ... ───────────────────────────────\n",
      "7: ... ───────────────────────────────\n"
     ]
    }
   ],
   "source": [
    "# Add an inverse QFT on first 6 qubits\n",
    "large_circuit.add(QFT(6).invert().on_qubits(*range(6)))\n",
    "large_circuit.draw()"
   ]
  },
  {
   "cell_type": "code",
   "execution_count": null,
   "id": "4cdbbf71",
   "metadata": {},
   "outputs": [],
   "source": []
  }
 ],
 "metadata": {
  "kernelspec": {
   "display_name": "qibo-test-env",
   "language": "python",
   "name": "python3"
  },
  "language_info": {
   "codemirror_mode": {
    "name": "ipython",
    "version": 3
   },
   "file_extension": ".py",
   "mimetype": "text/x-python",
   "name": "python",
   "nbconvert_exporter": "python",
   "pygments_lexer": "ipython3",
   "version": "3.12.0"
  }
 },
 "nbformat": 4,
 "nbformat_minor": 5
}
