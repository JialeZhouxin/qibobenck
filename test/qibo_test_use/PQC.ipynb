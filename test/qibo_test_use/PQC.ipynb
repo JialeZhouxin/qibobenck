{
 "cells": [
  {
   "cell_type": "markdown",
   "id": "75665907",
   "metadata": {},
   "source": [
    "一些Qibo门（如旋转门）会为其自由参数接受数值。一旦此类门被添加到电路中，就可以使用qibo.models.circuit.Circuit.set_parameters()方法来更新它们的参数。例如："
   ]
  },
  {
   "cell_type": "code",
   "execution_count": null,
   "id": "d8f32290",
   "metadata": {},
   "outputs": [],
   "source": [
    "from qibo import Circuit, gates\n",
    "\n",
    "# 创建一个包含3个量子比特的量子电路\n",
    "circuit = Circuit(3)\n",
    "# 在第0个量子比特上添加RX门，参数theta初始为0\n",
    "circuit.add(gates.RX(0, theta=0))\n",
    "# 在第1个量子比特上添加RY门，参数theta初始为0\n",
    "circuit.add(gates.RY(1, theta=0))\n",
    "# 在第1和第2个量子比特之间添加CZ门（受控Z门）\n",
    "circuit.add(gates.CZ(1, 2))\n",
    "# 在第0和第2个量子比特之间添加fSim门，参数theta和phi初始为0\n",
    "circuit.add(gates.fSim(0, 2, theta=0, phi=0))\n",
    "# 在第2个量子比特上添加Hadamard门\n",
    "circuit.add(gates.H(2))\n",
    "\n",
    "# set new values to the circuit's parameters\n",
    "params = [0.123, 0.456, (0.789, 0.321)]\n",
    "circuit.set_parameters(params)"
   ]
  },
  {
   "cell_type": "code",
   "execution_count": 2,
   "id": "0db61221",
   "metadata": {},
   "outputs": [
    {
     "data": {
      "text/plain": [
       "[(0.123,), (0.456,), (0.789, 0.321)]"
      ]
     },
     "execution_count": 2,
     "metadata": {},
     "output_type": "execute_result"
    }
   ],
   "source": [
    "circuit.get_parameters()"
   ]
  },
  {
   "cell_type": "code",
   "execution_count": null,
   "id": "b22ce3bc",
   "metadata": {},
   "outputs": [],
   "source": [
    "# 创建一个包含3个量子比特的电路\n",
    "circuit = Circuit(3)\n",
    "\n",
    "# 定义旋转门和fSim门\n",
    "g0 = gates.RX(0, theta=0)  # RX门，作用于第0个量子比特，初始theta为0\n",
    "g1 = gates.RY(1, theta=0)  # RY门，作用于第1个量子比特，初始theta为0\n",
    "g2 = gates.fSim(0, 2, theta=0, phi=0)  # fSim门，作用于第0和第2个量子比特，初始theta和phi为0\n",
    "\n",
    "# 将门添加到电路中\n",
    "circuit.add([g0, g1, gates.CZ(1, 2), g2, gates.H(2)])\n",
    "\n",
    "# 使用字典设置电路参数\n",
    "params = {g0: 0.123, g1: 0.456, g2: (0.789, 0.321)}\n",
    "circuit.set_parameters(params)\n",
    "\n",
    "# 等价地，可以使用列表来更新参数\n",
    "params = [0.123, 0.456, (0.789, 0.321)]\n",
    "circuit.set_parameters(params)\n",
    "\n",
    "# 或者使用一个扁平化的列表来设置参数\n",
    "params = [0.123, 0.456, 0.789, 0.321]\n",
    "circuit.set_parameters(params)"
   ]
  },
  {
   "cell_type": "markdown",
   "id": "cce5763e",
   "metadata": {},
   "source": [
    "通过在创建门时设置，可以使参数化门不受qibo.models.circuit.Circuit.get_parameters()和qibo.models.circuit.Circuit.set_parameters()的影响。例如：\n",
    "trainable=False"
   ]
  },
  {
   "cell_type": "code",
   "execution_count": 4,
   "id": "9ea2419b",
   "metadata": {},
   "outputs": [
    {
     "name": "stdout",
     "output_type": "stream",
     "text": [
      "[(0.123,), (0.789, 0.567)]\n"
     ]
    }
   ],
   "source": [
    "circuit = Circuit(3)\n",
    "circuit.add(gates.RX(0, theta=0.123))\n",
    "circuit.add(gates.RY(1, theta=0.456, trainable=False))\n",
    "circuit.add(gates.fSim(0, 2, theta=0.789, phi=0.567))\n",
    "\n",
    "print(circuit.get_parameters())\n",
    "# prints [(0.123,), (0.789, 0.567)] ignoring the parameters of the RY gate"
   ]
  },
  {
   "cell_type": "code",
   "execution_count": null,
   "id": "017aaa3f",
   "metadata": {},
   "outputs": [],
   "source": []
  }
 ],
 "metadata": {
  "kernelspec": {
   "display_name": "qibo-test-env",
   "language": "python",
   "name": "python3"
  },
  "language_info": {
   "codemirror_mode": {
    "name": "ipython",
    "version": 3
   },
   "file_extension": ".py",
   "mimetype": "text/x-python",
   "name": "python",
   "nbconvert_exporter": "python",
   "pygments_lexer": "ipython3",
   "version": "3.12.0"
  }
 },
 "nbformat": 4,
 "nbformat_minor": 5
}
