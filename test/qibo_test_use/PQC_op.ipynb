{
 "cells": [
  {
   "cell_type": "code",
   "execution_count": 1,
   "id": "b18777b2",
   "metadata": {},
   "outputs": [
    {
     "name": "stderr",
     "output_type": "stream",
     "text": [
      "[Qibo 0.2.21|INFO|2025-10-15 10:44:53]: Using qibojit (numba) backend on /CPU:0\n"
     ]
    }
   ],
   "source": [
    "import numpy as np  # 导入NumPy库，用于科学计算\n",
    "\n",
    "from qibo import Circuit, gates  # 从qibo库导入Circuit和gates模块，用于构建量子电路\n",
    "from qibo.optimizers import optimize  # 从qibo库导入optimize函数，用于优化参数\n",
    "from qibo.quantum_info import infidelity  # 从qibo库导入infidelity函数，用于计算保真度\n",
    "\n",
    "# custom loss function, computes fidelity\n",
    "def myloss(parameters, circuit, target):\n",
    "    circuit.set_parameters(parameters)\n",
    "    final_state = circuit().state()\n",
    "    return infidelity(final_state, target)\n",
    "\n",
    "nqubits = 6\n",
    "dims = 2**nqubits\n",
    "nlayers  = 2\n",
    "\n",
    "# Create variational circuit\n",
    "circuit = Circuit(nqubits)\n",
    "for l in range(nlayers):\n",
    "    circuit.add(gates.RY(qubit, theta=0.0) for qubit in range(nqubits))\n",
    "    circuit.add(gates.CZ(qubit, qubit + 1) for qubit in range(0, nqubits - 1, 2))\n",
    "    circuit.add(gates.RY(qubit, theta=0.0) for qubit in range(nqubits))\n",
    "    circuit.add(gates.CZ(qubit, qubit + 1) for qubit in range(1, nqubits - 2, 2))\n",
    "    circuit.add(gates.CZ(0, nqubits - 1))\n",
    "circuit.add(gates.RY(qubit, theta=0.0) for qubit in range(nqubits))\n",
    "\n",
    "# Optimize starting from a random guess for the variational parameters\n",
    "x0 = np.random.uniform(0, 2 * np.pi, nqubits * (2 * nlayers + 1))\n",
    "data = np.random.normal(0, 1, size=dims)\n",
    "\n",
    "# perform optimization\n",
    "best, params, extra = optimize(myloss, x0, args=(circuit, data), method='BFGS')\n",
    "\n",
    "# set final solution to circuit instance\n",
    "circuit.set_parameters(params)"
   ]
  },
  {
   "cell_type": "code",
   "execution_count": 2,
   "id": "1c0e5a17",
   "metadata": {},
   "outputs": [
    {
     "data": {
      "text/plain": [
       "(np.float64(-58.93523277356938),\n",
       " array([ 1.60720151,  1.11451961,  1.95481552,  1.37355815,  4.97179543,\n",
       "         1.82582195,  4.8856967 , -1.89045016,  2.65316019,  0.77834956,\n",
       "         1.42359459,  1.69791468,  5.50358049,  3.51754841,  2.23687874,\n",
       "         1.12157054, -0.72208495,  1.0829569 , -0.50663992, -2.90450326,\n",
       "         0.67632003,  1.7318636 ,  0.83112217,  6.74747292,  1.82293859,\n",
       "         1.81834231,  0.45690667,  0.1418156 ,  2.64439599,  1.75808395]),\n",
       "   message: Optimization terminated successfully.\n",
       "   success: True\n",
       "    status: 0\n",
       "       fun: -58.93523277356938\n",
       "         x: [ 1.607e+00  1.115e+00 ...  2.644e+00  1.758e+00]\n",
       "       nit: 56\n",
       "       jac: [ 7.153e-06 -4.768e-06 ... -5.722e-06  0.000e+00]\n",
       "  hess_inv: [[ 1.923e-01  1.059e-01 ...  4.512e-02  6.626e-02]\n",
       "             [ 1.059e-01  1.615e-01 ...  6.026e-02  3.458e-02]\n",
       "             ...\n",
       "             [ 4.512e-02  6.026e-02 ...  8.639e-02  1.394e-03]\n",
       "             [ 6.626e-02  3.458e-02 ...  1.394e-03  1.395e-01]]\n",
       "      nfev: 1984\n",
       "      njev: 64)"
      ]
     },
     "execution_count": 2,
     "metadata": {},
     "output_type": "execute_result"
    }
   ],
   "source": [
    "best, params, extra"
   ]
  },
  {
   "cell_type": "code",
   "execution_count": null,
   "id": "1167d426",
   "metadata": {},
   "outputs": [],
   "source": []
  }
 ],
 "metadata": {
  "kernelspec": {
   "display_name": "qibo-test-env",
   "language": "python",
   "name": "python3"
  },
  "language_info": {
   "codemirror_mode": {
    "name": "ipython",
    "version": 3
   },
   "file_extension": ".py",
   "mimetype": "text/x-python",
   "name": "python",
   "nbconvert_exporter": "python",
   "pygments_lexer": "ipython3",
   "version": "3.12.0"
  }
 },
 "nbformat": 4,
 "nbformat_minor": 5
}
