{
 "cells": [
  {
   "cell_type": "markdown",
   "id": "90fb4a82",
   "metadata": {},
   "source": [
    "# 如何在测量过程中坍缩状态？\n",
    "正如在如何执行测量？中所提到的，默认情况下，测量只能在电路的末尾使用，并且它们对状态没有任何影响。在本节中，我们将描述如何在测量过程中坍缩状态，并在电路中重新使用已测量的量子比特。状态坍缩意味着根据每个被测量量子比特的采样结果，将其投影到|0>或|1>子空间。\n",
    "\n",
    "当在qibo.gates.M门的实例化过程中使用collapse=True时，状态会发生坍缩。例如"
   ]
  },
  {
   "cell_type": "code",
   "execution_count": 21,
   "id": "74d8ff72",
   "metadata": {},
   "outputs": [
    {
     "data": {
      "text/plain": [
       "'Circuit depth = 4\\nTotal number of gates = 5\\nNumber of qubits = 2\\nMost common gates:\\nh: 3\\nmeasure: 2'"
      ]
     },
     "execution_count": 21,
     "metadata": {},
     "output_type": "execute_result"
    }
   ],
   "source": [
    "circuit.summary()"
   ]
  },
  {
   "cell_type": "code",
   "execution_count": 23,
   "id": "c7da9d0f",
   "metadata": {},
   "outputs": [],
   "source": [
    "import re\n",
    "\n",
    "def get_total_gates(circuit_summary):\n",
    "    \"\"\"\n",
    "    从电路摘要中提取总门数的函数\n",
    "    \n",
    "    参数:\n",
    "        circuit_summary (str): circuit.summary()的输出字符串\n",
    "        \n",
    "    返回:\n",
    "        int: 总门数\n",
    "    \"\"\"\n",
    "    match = re.search(r'Total number of gates = (\\d+)', circuit_summary)\n",
    "    if match:\n",
    "        return int(match.group(1))\n",
    "    return None  # 如果没有找到匹配项，返回None\n",
    "\n",
    "# 使用示例：\n",
    "# text = circuit.summary()\n",
    "# total_gates = get_total_gates(text)\n",
    "# print(total_gates)\n"
   ]
  },
  {
   "cell_type": "code",
   "execution_count": 25,
   "id": "82f298c7",
   "metadata": {},
   "outputs": [
    {
     "data": {
      "text/plain": [
       "int"
      ]
     },
     "execution_count": 25,
     "metadata": {},
     "output_type": "execute_result"
    }
   ],
   "source": [
    "# 使用示例：\n",
    "text = circuit.summary()\n",
    "total_gates = get_total_gates(text)\n",
    "type(total_gates)\n"
   ]
  },
  {
   "cell_type": "code",
   "execution_count": 1,
   "id": "4887e2dc",
   "metadata": {},
   "outputs": [
    {
     "name": "stderr",
     "output_type": "stream",
     "text": [
      "[Qibo 0.2.21|INFO|2025-10-11 16:48:13]: Using qibojit (numba) backend on /CPU:0\n"
     ]
    },
    {
     "name": "stdout",
     "output_type": "stream",
     "text": [
      "(0.5+0j)|0><0| + (-0.5+0j)|0><1| + (-0.5+0j)|1><0| + (0.5+0j)|1><1|\n"
     ]
    }
   ],
   "source": [
    "from qibo import Circuit, gates\n",
    "\n",
    "# 创建一个量子电路，包含1个量子比特，并启用密度矩阵模拟\n",
    "circuit = Circuit(1, density_matrix=True)\n",
    "\n",
    "# 在量子比特0上添加Hadamard门\n",
    "circuit.add(gates.H(0))\n",
    "\n",
    "# 对量子比特0进行测量，并在测量后进行状态坍缩\n",
    "output = circuit.add(gates.M(0, collapse=True))\n",
    "\n",
    "# 再次在量子比特0上添加Hadamard门\n",
    "circuit.add(gates.H(0))\n",
    "\n",
    "# 执行电路，进行1次测量\n",
    "result = circuit(nshots=1)\n",
    "\n",
    "# 输出测量结果，如果测量到0，则输出 |+><+|，如果测量到1，则输出 |-><-|\n",
    "print(result)\n"
   ]
  },
  {
   "cell_type": "code",
   "execution_count": 13,
   "id": "8ce73626",
   "metadata": {},
   "outputs": [
    {
     "name": "stdout",
     "output_type": "stream",
     "text": [
      "(0.5+0j)|0><0| + (0.5+0j)|0><1| + (0.5+0j)|1><0| + (0.5+0j)|1><1|\n"
     ]
    }
   ],
   "source": [
    "result = circuit(nshots=1)\n",
    "print(result)"
   ]
  },
  {
   "cell_type": "markdown",
   "id": "2a77e083",
   "metadata": {},
   "source": [
    "在这个示例中，单个量子比特在处于状态（|0> + |1>）时被测量，并坍缩为|0>或|1>。之后，通过添加更多作用于该量子比特的门，它可以被重新使用。collapse=True测量的结果不包含在最终的结果对象中，但可以从向电路添加门时返回的output对象中获取。output支持output.samples()和output.frequencies()功能，如如何执行测量？\n",
    "\n",
    "坍缩门默认是单次的，因为对于多次来说，状态坍缩的定义并不明确。如果用户在电路执行期间传递了nshots参数（例如，在上面的示例中使用result = c(nshots=100)），那么电路执行将通过循环重复nshots次："
   ]
  },
  {
   "cell_type": "code",
   "execution_count": 15,
   "id": "e913d7f7",
   "metadata": {},
   "outputs": [],
   "source": [
    "for _ in range(100):\n",
    "    result = circuit(nshots=1)"
   ]
  },
  {
   "cell_type": "markdown",
   "id": "89667e75",
   "metadata": {},
   "source": [
    "在同一个电路中同时使用常规测量和坍缩测量也是可行的："
   ]
  },
  {
   "cell_type": "code",
   "execution_count": 16,
   "id": "c0b73b52",
   "metadata": {},
   "outputs": [],
   "source": [
    "from qibo import Circuit, gates\n",
    "\n",
    "circuit = Circuit(2)\n",
    "circuit.add(gates.H(0))\n",
    "circuit.add(gates.H(1))\n",
    "output = circuit.add(gates.M(0, collapse=True))\n",
    "circuit.add(gates.H(0))\n",
    "circuit.add(gates.M(0, 1))\n",
    "result = circuit(nshots=100)"
   ]
  },
  {
   "cell_type": "code",
   "execution_count": 18,
   "id": "a6407ead",
   "metadata": {},
   "outputs": [
    {
     "name": "stdout",
     "output_type": "stream",
     "text": [
      "{'target_qubits': (0,), 'circuit': <qibo.models.circuit.Circuit object at 0x0000026BEFE83290>, '_samples': [array([0]), array([1]), array([1]), array([1]), array([1]), array([0]), array([0]), array([0]), array([0]), array([0]), array([0]), array([0]), array([1]), array([1]), array([1]), array([0]), array([0]), array([0]), array([0]), array([1]), array([1]), array([0]), array([0]), array([0]), array([0]), array([0]), array([0]), array([0]), array([1]), array([0]), array([1]), array([0]), array([1]), array([0]), array([1]), array([0]), array([0]), array([1]), array([0]), array([0]), array([0]), array([1]), array([0]), array([0]), array([1]), array([0]), array([0]), array([1]), array([0]), array([0]), array([0]), array([1]), array([0]), array([0]), array([0]), array([0]), array([0]), array([1]), array([0]), array([1]), array([1]), array([1]), array([0]), array([0]), array([1]), array([0]), array([1]), array([1]), array([0]), array([0]), array([0]), array([1]), array([0]), array([1]), array([0]), array([0]), array([0]), array([1]), array([1]), array([1]), array([0]), array([0]), array([1]), array([0]), array([0]), array([1]), array([0]), array([1]), array([0]), array([1]), array([1]), array([1]), array([0]), array([1]), array([0]), array([1]), array([0]), array([0]), array([1]), array([1])], '_frequencies': None, '_bitflip_p0': None, '_bitflip_p1': None, '_symbols': None, 'backend': qibojit (numba)}\n"
     ]
    }
   ],
   "source": [
    "print(output.__dict__)"
   ]
  },
  {
   "cell_type": "code",
   "execution_count": null,
   "id": "0c437901",
   "metadata": {},
   "outputs": [],
   "source": []
  }
 ],
 "metadata": {
  "kernelspec": {
   "display_name": "qibovenv",
   "language": "python",
   "name": "python3"
  },
  "language_info": {
   "codemirror_mode": {
    "name": "ipython",
    "version": 3
   },
   "file_extension": ".py",
   "mimetype": "text/x-python",
   "name": "python",
   "nbconvert_exporter": "python",
   "pygments_lexer": "ipython3",
   "version": "3.12.0"
  }
 },
 "nbformat": 4,
 "nbformat_minor": 5
}
