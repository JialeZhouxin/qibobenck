{
 "cells": [
  {
   "cell_type": "code",
   "execution_count": 1,
   "id": "f4d3882a",
   "metadata": {},
   "outputs": [
    {
     "name": "stderr",
     "output_type": "stream",
     "text": [
      "[Qibo 0.2.21|INFO|2025-10-15 10:47:12]: Using qibojit (numba) backend on /CPU:0\n"
     ]
    }
   ],
   "source": [
    "import numpy as np\n",
    "from qibo import models, hamiltonians\n",
    "\n",
    "# Create XXZ Hamiltonian for six qubits\n",
    "hamiltonian = hamiltonians.XXZ(6)\n",
    "# Create QAOA model\n",
    "qaoa = models.QAOA(hamiltonian)\n",
    "\n",
    "# Optimize starting from a random guess for the variational parameters\n",
    "initial_parameters = 0.01 * np.random.uniform(0,1,4)\n",
    "best_energy, final_parameters, extra = qaoa.minimize(initial_parameters, method=\"BFGS\")"
   ]
  },
  {
   "cell_type": "code",
   "execution_count": 2,
   "id": "c193f0db",
   "metadata": {},
   "outputs": [
    {
     "data": {
      "text/plain": [
       "(np.float64(3.4843735486539646),\n",
       " array([0.41518376, 2.10033345, 0.4756647 , 3.63927783]),\n",
       "   message: Optimization terminated successfully.\n",
       "   success: True\n",
       "    status: 0\n",
       "       fun: 3.4843735486539646\n",
       "         x: [ 4.152e-01  2.100e+00  4.757e-01  3.639e+00]\n",
       "       nit: 18\n",
       "       jac: [-4.441e-06 -4.470e-06  6.020e-06  2.682e-07]\n",
       "  hess_inv: [[ 8.515e-02  9.424e-03 -3.494e-02 -3.539e-02]\n",
       "             [ 9.424e-03  1.262e-01  6.418e-02  2.017e-02]\n",
       "             [-3.494e-02  6.418e-02  1.066e-01  4.866e-02]\n",
       "             [-3.539e-02  2.017e-02  4.866e-02  1.069e-01]]\n",
       "      nfev: 140\n",
       "      njev: 28)"
      ]
     },
     "execution_count": 2,
     "metadata": {},
     "output_type": "execute_result"
    }
   ],
   "source": [
    "best_energy, final_parameters, extra "
   ]
  },
  {
   "cell_type": "code",
   "execution_count": null,
   "id": "a2836f6b",
   "metadata": {},
   "outputs": [],
   "source": []
  }
 ],
 "metadata": {
  "kernelspec": {
   "display_name": "qibo-test-env",
   "language": "python",
   "name": "python3"
  },
  "language_info": {
   "codemirror_mode": {
    "name": "ipython",
    "version": 3
   },
   "file_extension": ".py",
   "mimetype": "text/x-python",
   "name": "python",
   "nbconvert_exporter": "python",
   "pygments_lexer": "ipython3",
   "version": "3.12.0"
  }
 },
 "nbformat": 4,
 "nbformat_minor": 5
}
