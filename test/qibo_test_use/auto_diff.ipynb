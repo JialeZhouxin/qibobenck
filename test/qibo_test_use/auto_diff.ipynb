{
 "cells": [
  {
   "cell_type": "markdown",
   "id": "0c1afcd8",
   "metadata": {},
   "source": [
    "# 如何使用自动微分？\n",
    "变分电路的参数可以使用Tensorflow或Pytorch框架进行优化。\n",
    "作为深度学习框架，Tensorflow支持自动微分。下面的脚本通过以保真度作为相应的损失函数，优化两个旋转的参数，使电路输出与目标状态匹配。\n",
    "\n",
    "请注意，如下例所示，旋转角度必须取实数值，以确保旋转门表示幺正算子。\n",
    "Qibo不提供Tensorflow和Pytorch作为原生后端；必须安装并使用Qiboml来提供这些量子机器学习后端。"
   ]
  },
  {
   "cell_type": "code",
   "execution_count": 1,
   "id": "20146636",
   "metadata": {},
   "outputs": [
    {
     "name": "stderr",
     "output_type": "stream",
     "text": [
      "[Qibo 0.2.21|INFO|2025-10-15 10:53:24]: Using qiboml (tensorflow) backend on /device:CPU:0\n"
     ]
    }
   ],
   "source": [
    "from qibo import Circuit, gates, set_backend\n",
    "from qibo.quantum_info import infidelity\n",
    "import qibo\n",
    "\n",
    "set_backend(backend=\"qiboml\", platform=\"tensorflow\")\n",
    "\n",
    "backend = qibo.get_backend()\n",
    "tf = backend.tf\n",
    "\n",
    "# Optimization parameters\n",
    "nepochs = 1000\n",
    "optimizer = tf.keras.optimizers.Adam()\n",
    "target_state = tf.ones(4, dtype=tf.complex128) / 2.0\n",
    "\n",
    "# Define circuit ansatz\n",
    "params = tf.Variable(\n",
    "    tf.random.uniform((2,), dtype=tf.float64)\n",
    ")\n",
    "\n",
    "circuit = Circuit(2)\n",
    "circuit.add(gates.RX(0, params[0]))\n",
    "circuit.add(gates.RY(1, params[1]))\n",
    "\n",
    "for _ in range(nepochs):\n",
    "    with tf.GradientTape() as tape:\n",
    "        circuit.set_parameters(params)\n",
    "        final_state = circuit().state()\n",
    "        loss = infidelity(final_state, target_state, backend=backend)\n",
    "    grads = tape.gradient(loss, params)\n",
    "    optimizer.apply_gradients(zip([grads], [params]))"
   ]
  },
  {
   "cell_type": "code",
   "execution_count": 2,
   "id": "8e6f3ec6",
   "metadata": {},
   "outputs": [
    {
     "name": "stdout",
     "output_type": "stream",
     "text": [
      "Final parameters: <tf.Variable 'Variable:0' shape=(2,) dtype=float64, numpy=array([0.26564624, 1.40318672])>\n"
     ]
    }
   ],
   "source": [
    "print(\"Final parameters:\", params)"
   ]
  },
  {
   "cell_type": "code",
   "execution_count": 3,
   "id": "68f20533",
   "metadata": {},
   "outputs": [
    {
     "data": {
      "text/plain": [
       "<tf.Tensor: shape=(4,), dtype=complex128, numpy=\n",
       "array([0.75721303+0.j        , 0.6396014 +0.j        ,\n",
       "       0.        -0.10117105j, 0.        -0.08545699j])>"
      ]
     },
     "execution_count": 3,
     "metadata": {},
     "output_type": "execute_result"
    }
   ],
   "source": [
    "final_state"
   ]
  },
  {
   "cell_type": "code",
   "execution_count": 4,
   "id": "7fcdec87",
   "metadata": {},
   "outputs": [
    {
     "data": {
      "text/plain": [
       "<tf.Tensor: shape=(), dtype=float64, numpy=0.5035198562285943>"
      ]
     },
     "execution_count": 4,
     "metadata": {},
     "output_type": "execute_result"
    }
   ],
   "source": [
    "loss"
   ]
  },
  {
   "cell_type": "code",
   "execution_count": 5,
   "id": "528ed2f0",
   "metadata": {},
   "outputs": [],
   "source": [
    "nepochs = 1000\n",
    "optimizer = tf.keras.optimizers.Adam()\n",
    "target_state = tf.ones(4, dtype=tf.complex128) / 2.0\n",
    "params = tf.Variable(tf.random.uniform((2,), dtype=tf.float64))\n",
    "\n",
    "@tf.function\n",
    "def optimize(params):\n",
    "    with tf.GradientTape() as tape:\n",
    "        circuit = Circuit(2)\n",
    "        circuit.add(gates.RX(0, theta=params[0]))\n",
    "        circuit.add(gates.RY(1, theta=params[1]))\n",
    "        final_state = circuit().state()\n",
    "        loss = infidelity(final_state, target_state, backend=backend)\n",
    "    grads = tape.gradient(loss, params)\n",
    "    optimizer.apply_gradients(zip([grads], [params]))\n",
    "\n",
    "for _ in range(nepochs):\n",
    "    optimize(params)"
   ]
  },
  {
   "cell_type": "code",
   "execution_count": 6,
   "id": "c1abb630",
   "metadata": {},
   "outputs": [
    {
     "name": "stderr",
     "output_type": "stream",
     "text": [
      "[Qibo 0.2.21|INFO|2025-10-15 11:03:56]: Using qiboml (pytorch) backend on cpu\n",
      "C:\\Users\\Administrator\\AppData\\Local\\Temp\\ipykernel_19616\\2161827941.py:14: UserWarning: To copy construct from a tensor, it is recommended to use sourceTensor.detach().clone() or sourceTensor.detach().clone().requires_grad_(True), rather than torch.tensor(sourceTensor).\n",
      "  params = torch.tensor(\n"
     ]
    }
   ],
   "source": [
    "import torch\n",
    "\n",
    "from qibo import Circuit, gates, set_backend\n",
    "from qibo.quantum_info.metrics import infidelity\n",
    "\n",
    "set_backend(backend=\"qiboml\", platform=\"pytorch\")\n",
    "\n",
    "# Optimization parameters\n",
    "nepochs = 1000\n",
    "optimizer = torch.optim.Adam\n",
    "target_state = torch.ones(4, dtype=torch.complex128) / 2.0\n",
    "\n",
    "# Define circuit ansatz\n",
    "params = torch.tensor(\n",
    "    torch.rand(2, dtype=torch.float64), requires_grad=True\n",
    ")\n",
    "circuit = Circuit(2)\n",
    "circuit.add(gates.RX(0, params[0]))\n",
    "circuit.add(gates.RY(1, params[1]))\n",
    "\n",
    "optimizer = optimizer([params])\n",
    "\n",
    "for _ in range(nepochs):\n",
    "    optimizer.zero_grad()\n",
    "    circuit.set_parameters(params)\n",
    "    final_state = circuit().state()\n",
    "    loss = infidelity(final_state, target_state)\n",
    "    loss.backward()\n",
    "    optimizer.step()"
   ]
  },
  {
   "cell_type": "code",
   "execution_count": 7,
   "id": "213f94ba",
   "metadata": {},
   "outputs": [
    {
     "data": {
      "text/plain": [
       "tensor([0.6389+0.0000j, 0.6061+0.0000j, 0.0000-0.3437j, 0.0000-0.3261j],\n",
       "       dtype=torch.complex128, grad_fn=<ViewBackward0>)"
      ]
     },
     "execution_count": 7,
     "metadata": {},
     "output_type": "execute_result"
    }
   ],
   "source": [
    "final_state"
   ]
  },
  {
   "cell_type": "code",
   "execution_count": 8,
   "id": "1e486e4b",
   "metadata": {},
   "outputs": [
    {
     "data": {
      "text/plain": [
       "tensor(0.5003, dtype=torch.float64, grad_fn=<RsubBackward1>)"
      ]
     },
     "execution_count": 8,
     "metadata": {},
     "output_type": "execute_result"
    }
   ],
   "source": [
    "loss"
   ]
  },
  {
   "cell_type": "code",
   "execution_count": null,
   "id": "b24372ec",
   "metadata": {},
   "outputs": [],
   "source": []
  }
 ],
 "metadata": {
  "kernelspec": {
   "display_name": "qibo-test-env",
   "language": "python",
   "name": "python3"
  },
  "language_info": {
   "codemirror_mode": {
    "name": "ipython",
    "version": 3
   },
   "file_extension": ".py",
   "mimetype": "text/x-python",
   "name": "python",
   "nbconvert_exporter": "python",
   "pygments_lexer": "ipython3",
   "version": "3.12.0"
  }
 },
 "nbformat": 4,
 "nbformat_minor": 5
}
