{
 "cells": [
  {
   "cell_type": "markdown",
   "id": "afdb0a14",
   "metadata": {},
   "source": [
    "回调函数允许用户在电路执行过程中对状态向量应用额外的函数。一个典型的应用场景是在状态通过电路传播时计算纠缠熵。这可以通过qibo.callbacks.EntanglementEntropy和qibo.gates.CallbackGate门轻松实现。例如："
   ]
  },
  {
   "cell_type": "code",
   "execution_count": 2,
   "id": "1203adb1",
   "metadata": {},
   "outputs": [
    {
     "name": "stderr",
     "output_type": "stream",
     "text": [
      "[Qibo 0.2.21|INFO|2025-10-11 16:23:03]: Using qibojit (numba) backend on /CPU:0\n",
      "e:\\qiboenv\\qibovenv\\Lib\\site-packages\\scipy\\linalg\\_matfuncs.py:218: LogmExactlySingularWarning: The logm input matrix is exactly singular.\n",
      "  F = scipy.linalg._matfuncs_inv_ssq._logm(A)\n",
      "e:\\qiboenv\\qibovenv\\Lib\\site-packages\\qibo\\quantum_info\\entropies.py:540: RuntimeWarning: divide by zero encountered in log2\n",
      "  backend.np.log2(eigenvalues) / np.log2(base),\n"
     ]
    }
   ],
   "source": [
    "from qibo import gates, callbacks\n",
    "from qibo import models, Circuit\n",
    "\n",
    "# 创建一个熵回调函数，其中 qubit 0 是第一个子系统\n",
    "entropy = callbacks.EntanglementEntropy([0])\n",
    "\n",
    "# 初始化一个包含 2 个量子比特的电路，并添加门\n",
    "circuit = Circuit(2) # 初始状态为 |00> (熵 = 0)\n",
    "circuit.add(gates.CallbackGate(entropy)) # 在初始状态下执行熵计算\n",
    "circuit.add(gates.H(0)) # 状态变为 |+0> (熵 = 0)\n",
    "circuit.add(gates.CallbackGate(entropy)) # 在应用 H 门后执行熵计算\n",
    "circuit.add(gates.CNOT(0, 1)) # 状态变为 |00> + |11> (熵 = 1)\n",
    "circuit.add(gates.CallbackGate(entropy)) # 在应用 CNOT 门后执行熵计算\n",
    "\n",
    "# 执行电路并使用回调函数\n",
    "final_state = circuit()"
   ]
  },
  {
   "cell_type": "code",
   "execution_count": 7,
   "id": "d8b4460c",
   "metadata": {},
   "outputs": [],
   "source": [
    "# execute the circuit\n",
    "final_state = circuit()"
   ]
  },
  {
   "cell_type": "code",
   "execution_count": 13,
   "id": "ba3a711a",
   "metadata": {},
   "outputs": [
    {
     "name": "stdout",
     "output_type": "stream",
     "text": [
      "[0.0, np.float64(3.203426503814917e-16), np.float64(1.0)]\n"
     ]
    }
   ],
   "source": [
    "print(entropy[0:3]) # [0, 0, 1, 0, 0, 1]"
   ]
  },
  {
   "cell_type": "code",
   "execution_count": 15,
   "id": "240ea6d8",
   "metadata": {},
   "outputs": [],
   "source": [
    "# 添加到电路\n",
    "circuit = Circuit(2)\n",
    "circuit.add(gates.CallbackGate(entropy))\n",
    "circuit.add(gates.H(0))\n",
    "circuit.add(gates.CNOT(0, 1))\n",
    "\n",
    "# 执行电路\n",
    "result = circuit()\n"
   ]
  },
  {
   "cell_type": "code",
   "execution_count": 17,
   "id": "fa31e954",
   "metadata": {},
   "outputs": [
    {
     "data": {
      "text/plain": [
       "qibo.callbacks.EntanglementEntropy"
      ]
     },
     "execution_count": 17,
     "metadata": {},
     "output_type": "execute_result"
    }
   ],
   "source": [
    "type(entropy) # <class 'qibo.callbacks.EntanglementEntropy'>"
   ]
  },
  {
   "cell_type": "code",
   "execution_count": 19,
   "id": "51ceb926",
   "metadata": {},
   "outputs": [
    {
     "data": {
      "text/plain": [
       "[0.0, np.float64(3.203426503814917e-16), np.float64(1.0)]"
      ]
     },
     "execution_count": 19,
     "metadata": {},
     "output_type": "execute_result"
    }
   ],
   "source": [
    "entropy[0:3] # [0, 0, 1, 0, 0, 1]"
   ]
  },
  {
   "cell_type": "code",
   "execution_count": null,
   "id": "d97a324c",
   "metadata": {},
   "outputs": [
    {
     "name": "stdout",
     "output_type": "stream",
     "text": [
      "{'_nqubits': 2,\n",
      " '_results': [0.0,\n",
      "              np.float64(3.203426503814917e-16),\n",
      "              np.float64(1.0),\n",
      "              0.0,\n",
      "              np.float64(8.526512829121201e-14),\n",
      "              np.float64(1.0),\n",
      "              0.0,\n",
      "              np.float64(3.203426503814917e-16),\n",
      "              np.float64(1.0),\n",
      "              0.0,\n",
      "              np.float64(8.526512829121201e-14),\n",
      "              np.float64(1.0),\n",
      "              0.0,\n",
      "              0.0],\n",
      " 'base': 2,\n",
      " 'compute_spectrum': False,\n",
      " 'partition': [0],\n",
      " 'spectrum': []}\n"
     ]
    }
   ],
   "source": [
    "# 使用 pprint 模块的 pprint 函数打印 entropy 对象的所有属性和值\n",
    "pprint.pprint(vars(entropy))"
   ]
  },
  {
   "cell_type": "code",
   "execution_count": 20,
   "id": "21ef1f5e",
   "metadata": {},
   "outputs": [
    {
     "name": "stdout",
     "output_type": "stream",
     "text": [
      "{'_results': [0.0, np.float64(3.203426503814917e-16), np.float64(1.0), 0.0, np.float64(8.526512829121201e-14), np.float64(1.0), 0.0, np.float64(3.203426503814917e-16), np.float64(1.0), 0.0, np.float64(8.526512829121201e-14), np.float64(1.0), 0.0, 0.0], '_nqubits': 2, 'partition': [0], 'compute_spectrum': False, 'base': 2, 'spectrum': []}\n"
     ]
    }
   ],
   "source": [
    "print(entropy.__dict__)"
   ]
  },
  {
   "cell_type": "code",
   "execution_count": null,
   "id": "5f66456b",
   "metadata": {},
   "outputs": [
    {
     "name": "stdout",
     "output_type": "stream",
     "text": [
      "{'_nqubits': 2,\n",
      " '_results': [0.0,\n",
      "              np.float64(3.203426503814917e-16),\n",
      "              np.float64(1.0),\n",
      "              0.0,\n",
      "              np.float64(8.526512829121201e-14),\n",
      "              np.float64(1.0),\n",
      "              0.0,\n",
      "              np.float64(3.203426503814917e-16),\n",
      "              np.float64(1.0),\n",
      "              0.0,\n",
      "              np.float64(8.526512829121201e-14),\n",
      "              np.float64(1.0),\n",
      "              0.0,\n",
      "              0.0],\n",
      " 'base': 2,\n",
      " 'compute_spectrum': False,\n",
      " 'partition': [0],\n",
      " 'spectrum': []}\n"
     ]
    }
   ],
   "source": [
    "# 如果你想以更友好的方式查看\n",
    "# 导入 pprint 模块，用于格式化输出\n",
    "import pprint\n",
    "# 使用 pprint.pprint() 方法打印 entropy 对象的 __dict__ 属性，显示其所有属性和方法\n",
    "pprint.pprint(entropy.__dict__)"
   ]
  },
  {
   "cell_type": "code",
   "execution_count": null,
   "id": "68b666e6",
   "metadata": {},
   "outputs": [],
   "source": []
  }
 ],
 "metadata": {
  "kernelspec": {
   "display_name": "qibovenv",
   "language": "python",
   "name": "python3"
  },
  "language_info": {
   "codemirror_mode": {
    "name": "ipython",
    "version": 3
   },
   "file_extension": ".py",
   "mimetype": "text/x-python",
   "name": "python",
   "nbconvert_exporter": "python",
   "pygments_lexer": "ipython3",
   "version": "3.12.0"
  }
 },
 "nbformat": 4,
 "nbformat_minor": 5
}
