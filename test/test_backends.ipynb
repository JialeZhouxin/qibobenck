{
 "cells": [
  {
   "cell_type": "code",
   "execution_count": 1,
   "id": "e6cd03ca",
   "metadata": {},
   "outputs": [],
   "source": [
    "#!/usr/bin/env python\n",
    "# -*- coding: utf-8 -*-\n",
    "\n",
    "\"\"\"\n",
    "测试Qibo不同后端的脚本\n",
    "\"\"\"\n",
    "\n",
    "import time\n",
    "import sys\n",
    "import numpy as np\n",
    "from qibo import Circuit, gates, set_backend\n",
    "from qibo.backends import HammingWeightBackend\n"
   ]
  },
  {
   "cell_type": "code",
   "execution_count": 2,
   "id": "95b1fee2",
   "metadata": {},
   "outputs": [],
   "source": [
    "\n",
    "# 检查qiboml是否已安装\n",
    "try:\n",
    "    import qiboml\n",
    "    QIBOML_AVAILABLE = True\n",
    "except ImportError:\n",
    "    QIBOML_AVAILABLE = False\n",
    "\n"
   ]
  },
  {
   "cell_type": "code",
   "execution_count": 3,
   "id": "87292abd",
   "metadata": {},
   "outputs": [
    {
     "name": "stderr",
     "output_type": "stream",
     "text": [
      "[Qibo 0.2.21|INFO|2025-10-09 16:28:50]: Using qulacs backend on CPU\n"
     ]
    },
    {
     "name": "stdout",
     "output_type": "stream",
     "text": [
      "\n",
      "===== 测试 Clifford 后端 (numpy平台) =====\n",
      "电路包含 4 个量子比特\n",
      "执行时间: 0.000998 秒\n",
      "结果类型: <class 'numpy.ndarray'>\n",
      "结果形状: (16,)\n"
     ]
    }
   ],
   "source": [
    "def test_clifford_backend():\n",
    "    \"\"\"测试Clifford后端\"\"\"\n",
    "    print(\"\\n===== 测试 Clifford 后端 (numpy平台) =====\")\n",
    "    set_backend(\"qulacs\")\n",
    "    \n",
    "    # 创建一个简单的电路\n",
    "    nqubits = 4\n",
    "    circuit = Circuit(nqubits)\n",
    "    circuit.add([\n",
    "        gates.H(0),\n",
    "        gates.CNOT(0, 1),\n",
    "        gates.X(2),\n",
    "        gates.CNOT(2, 3)\n",
    "    ])\n",
    "    \n",
    "    # 执行电路\n",
    "    start_time = time.time()\n",
    "    results = circuit()\n",
    "    result = results.state()\n",
    "    end_time = time.time()\n",
    "    \n",
    "    print(f\"电路包含 {nqubits} 个量子比特\")\n",
    "    print(f\"执行时间: {end_time - start_time:.6f} 秒\")\n",
    "    print(f\"结果类型: {type(result)}\")\n",
    "    print(f\"结果形状: {result.shape if hasattr(result, 'shape') else '无形状信息'}\")\n",
    "    \n",
    "test_clifford_backend()"
   ]
  },
  {
   "cell_type": "code",
   "execution_count": 7,
   "id": "c0051a96",
   "metadata": {},
   "outputs": [
    {
     "name": "stderr",
     "output_type": "stream",
     "text": [
      "[Qibo 0.2.21|INFO|2025-09-29 11:53:07]: Using clifford (numpy) backend on /CPU:0\n"
     ]
    },
    {
     "name": "stdout",
     "output_type": "stream",
     "text": [
      "\n",
      "===== 测试 Clifford 后端 (numpy平台) =====\n",
      "电路包含 4 个量子比特\n",
      "执行时间: 0.000997 秒\n",
      "结果类型: <class 'numpy.ndarray'>\n",
      "结果形状: (16, 16)\n"
     ]
    }
   ],
   "source": [
    "\n",
    "def test_clifford_backend():\n",
    "    \"\"\"测试Clifford后端\"\"\"\n",
    "    print(\"\\n===== 测试 Clifford 后端 (numpy平台) =====\")\n",
    "    set_backend(\"clifford\", platform=\"numpy\")\n",
    "    \n",
    "    # 创建一个简单的电路\n",
    "    nqubits = 4\n",
    "    circuit = Circuit(nqubits)\n",
    "    circuit.add([\n",
    "        gates.H(0),\n",
    "        gates.CNOT(0, 1),\n",
    "        gates.X(2),\n",
    "        gates.CNOT(2, 3)\n",
    "    ])\n",
    "    \n",
    "    # 执行电路\n",
    "    start_time = time.time()\n",
    "    results = circuit()\n",
    "    result = results.state()\n",
    "    end_time = time.time()\n",
    "    \n",
    "    print(f\"电路包含 {nqubits} 个量子比特\")\n",
    "    print(f\"执行时间: {end_time - start_time:.6f} 秒\")\n",
    "    print(f\"结果类型: {type(result)}\")\n",
    "    print(f\"结果形状: {result.shape if hasattr(result, 'shape') else '无形状信息'}\")\n",
    "    \n",
    "test_clifford_backend()"
   ]
  },
  {
   "cell_type": "code",
   "execution_count": 23,
   "id": "46992899",
   "metadata": {},
   "outputs": [
    {
     "name": "stderr",
     "output_type": "stream",
     "text": [
      "[Qibo 0.2.21|INFO|2025-09-29 12:02:05]: Using clifford (numpy) backend on /CPU:0\n"
     ]
    }
   ],
   "source": [
    "    set_backend(\"clifford\", platform=\"numpy\")\n",
    "    \n",
    "    # 创建一个简单的电路\n",
    "    nqubits = 4\n",
    "    circuit = Circuit(nqubits)\n",
    "    circuit.add([\n",
    "        gates.H(0),\n",
    "        gates.CNOT(0, 1),\n",
    "        gates.X(2),\n",
    "        gates.CNOT(2, 3),\n",
    "        gates.M(0,1,2,3)\n",
    "    ])\n",
    "    \n",
    "    # 执行电路\n",
    "    start_time = time.time()\n",
    "    results = circuit()\n",
    "    result = results.state()\n",
    "    end_time = time.time()"
   ]
  },
  {
   "cell_type": "code",
   "execution_count": 27,
   "id": "c7615c0b",
   "metadata": {},
   "outputs": [
    {
     "data": {
      "text/plain": [
       "array([0.   , 0.   , 0.   , 0.518, 0.   , 0.   , 0.   , 0.   , 0.   ,\n",
       "       0.   , 0.   , 0.   , 0.   , 0.   , 0.   , 0.482])"
      ]
     },
     "execution_count": 27,
     "metadata": {},
     "output_type": "execute_result"
    }
   ],
   "source": [
    "results.probabilities()"
   ]
  },
  {
   "cell_type": "code",
   "execution_count": null,
   "id": "954774c5",
   "metadata": {},
   "outputs": [],
   "source": [
    "\n",
    "def test_hamming_weight_backend():\n",
    "    \"\"\"测试HammingWeight后端\"\"\"\n",
    "    print(\"\\n===== 测试 Hamming Weight 后端 (numpy平台) =====\")\n",
    "    set_backend(\"hamming_weight\", platform=\"numpy\")\n",
    "    \n",
    "    # 创建一个简单的电路\n",
    "    nqubits = 4\n",
    "    circuit = Circuit(nqubits)\n",
    "    circuit.add(gates.SWAP(0, 1))\n",
    "    \n",
    "    # 使用HammingWeightBackend执行\n",
    "    backend = HammingWeightBackend()\n",
    "    start_time = time.time()\n",
    "    result = backend.execute_circuit(circuit, weight=2)\n",
    "    end_time = time.time()\n",
    "    \n",
    "    print(f\"电路包含 {nqubits} 个量子比特\")\n",
    "    print(f\"执行时间: {end_time - start_time:.6f} 秒\")\n",
    "    print(f\"结果类型: {type(result)}\")\n",
    "    print(f\"结果形状: {result.shape if hasattr(result, 'shape') else '无形状信息'}\")\n",
    "    print(f\"结果: {result}\")\n",
    "\n",
    "\n",
    "def test_qiboml_backends():\n",
    "    \"\"\"测试QiboML不同平台的后端\"\"\"\n",
    "    if not QIBOML_AVAILABLE:\n",
    "        print(\"\\n===== QiboML 后端测试 =====\")\n",
    "        print(\"QiboML 未安装。要使用 QiboML 后端，请先安装 qiboml 包。\")\n",
    "        print(\"可以使用以下命令安装：pip install qiboml\")\n",
    "        return\n",
    "        \n",
    "    platforms = [\"jax\", \"pytorch\", \"tensorflow\"]\n",
    "    \n",
    "    for platform in platforms:\n",
    "        print(f\"\\n===== 测试 QiboML 后端 ({platform}平台) =====\")\n",
    "        try:\n",
    "            set_backend(\"qiboml\", platform=platform)\n",
    "            \n",
    "            # 创建一个简单的电路\n",
    "            nqubits = 4\n",
    "            circuit = Circuit(nqubits)\n",
    "            circuit.add([\n",
    "                gates.H(0),\n",
    "                gates.CNOT(0, 1),\n",
    "                gates.X(2),\n",
    "                gates.CNOT(2, 3)\n",
    "            ])\n",
    "            \n",
    "            # 执行电路\n",
    "            start_time = time.time()\n",
    "            result = circuit()\n",
    "            end_time = time.time()\n",
    "            \n",
    "            print(f\"电路包含 {nqubits} 个量子比特\")\n",
    "            print(f\"执行时间: {end_time - start_time:.6f} 秒\")\n",
    "            print(f\"结果类型: {type(result)}\")\n",
    "            print(f\"结果形状: {result.shape if hasattr(result, 'shape') else '无形状信息'}\")\n",
    "            \n",
    "        except Exception as e:\n",
    "            print(f\"在 {platform} 平台上测试 QiboML 后端时出错: {str(e)}\")\n",
    "\n",
    "\n",
    "def get_qibo_version():\n",
    "    \"\"\"获取Qibo版本信息\"\"\"\n",
    "    import qibo\n",
    "    return qibo.__version__\n",
    "\n",
    "\n",
    "def get_available_backends():\n",
    "    \"\"\"获取可用的后端列表\"\"\"\n",
    "    try:\n",
    "        from qibo.backends import MetaBackend\n",
    "        available_backends = MetaBackend().list_available()\n",
    "        print(available_backends)\n",
    "    except ImportError:\n",
    "        return [\"无法获取后端列表\"]\n",
    "\n",
    "\n",
    "if __name__ == \"__main__\":\n",
    "    print(\"开始测试Qibo不同后端...\")\n",
    "    print(f\"Qibo版本: {get_qibo_version()}\")\n",
    "    print(f\"Python版本: {sys.version}\")\n",
    "    print(f\"NumPy版本: {np.__version__}\")\n",
    "    print(f\"QiboML是否可用: {'是' if QIBOML_AVAILABLE else '否'}\")\n",
    "    print(\"-\" * 50)\n",
    "    \n",
    "    try:\n",
    "        test_clifford_backend()\n",
    "    except Exception as e:\n",
    "        print(f\"测试Clifford后端时出错: {str(e)}\")\n",
    "    \n",
    "    try:\n",
    "        test_hamming_weight_backend()\n",
    "    except Exception as e:\n",
    "        print(f\"测试HammingWeight后端时出错: {str(e)}\")\n",
    "    \n",
    "    try:\n",
    "        test_qiboml_backends()\n",
    "    except Exception as e:\n",
    "        print(f\"测试QiboML后端时出错: {str(e)}\")\n",
    "    \n",
    "    print(\"\\n所有测试完成!\")"
   ]
  },
  {
   "cell_type": "code",
   "execution_count": 28,
   "id": "511e0d34",
   "metadata": {},
   "outputs": [
    {
     "name": "stderr",
     "output_type": "stream",
     "text": [
      "[Qibo 0.2.21|INFO|2025-09-29 13:45:59]: Using qibotn (QuimbBackend) backend on /CPU:0\n"
     ]
    },
    {
     "name": "stdout",
     "output_type": "stream",
     "text": [
      "[0.5+0.j 0.5+0.j 0.5+0.j 0.5+0.j]\n"
     ]
    }
   ],
   "source": [
    "import qibo\n",
    "from qibo import Circuit, gates\n",
    "\n",
    "# Set the runcard\n",
    "computation_settings = {\n",
    "    \"MPI_enabled\": False,\n",
    "    \"MPS_enabled\": False,\n",
    "    \"NCCL_enabled\": False,\n",
    "    \"expectation_enabled\": False,\n",
    "}\n",
    "\n",
    "\n",
    "# Set the quimb backend\n",
    "qibo.set_backend(\n",
    "    backend=\"qibotn\", platform=\"qutensornet\", runcard=computation_settings\n",
    ")\n",
    "\n",
    "\n",
    "# Construct the circuit with two qubits\n",
    "c = Circuit(2)\n",
    "\n",
    "# Apply Hadamard gates on first and second qubit\n",
    "c.add(gates.H(0))\n",
    "c.add(gates.H(1))\n",
    "\n",
    "# Execute the circuit and obtain the final state\n",
    "result = c()\n",
    "\n",
    "# Print the final state\n",
    "print(result.state())"
   ]
  },
  {
   "cell_type": "code",
   "execution_count": 32,
   "id": "9a9e7833",
   "metadata": {},
   "outputs": [
    {
     "data": {
      "text/plain": [
       "3.8146777344000003e-06"
      ]
     },
     "execution_count": 32,
     "metadata": {},
     "output_type": "execute_result"
    }
   ],
   "source": [
    "0.00195312**2"
   ]
  },
  {
   "cell_type": "code",
   "execution_count": 33,
   "id": "b896d191",
   "metadata": {},
   "outputs": [
    {
     "name": "stderr",
     "output_type": "stream",
     "text": [
      "[Qibo 0.2.21|INFO|2025-09-29 15:24:42]: Using numpy backend on /CPU:0\n"
     ]
    },
    {
     "name": "stdout",
     "output_type": "stream",
     "text": [
      "\n",
      "--- Testing with backend: numpy ---\n",
      "First run time: 7.1596 seconds\n",
      "Second run time: 7.3410 seconds\n",
      "\n",
      "--- Testing with backend: qibojit ---\n"
     ]
    },
    {
     "name": "stderr",
     "output_type": "stream",
     "text": [
      "[Qibo 0.2.21|INFO|2025-09-29 15:24:59]: Using qibojit (numba) backend on /CPU:0\n"
     ]
    },
    {
     "name": "stdout",
     "output_type": "stream",
     "text": [
      "First run time: 0.5533 seconds\n",
      "Second run time: 0.4108 seconds\n"
     ]
    }
   ],
   "source": [
    "import qibo\n",
    "from qibo import models, gates\n",
    "import time\n",
    "import numpy as np\n",
    "\n",
    "def run_benchmark(backend_name, nqubits=20, nlayers=10):\n",
    "    \"\"\"\n",
    "    运行一个基准测试并报告时间。\n",
    "    \"\"\"\n",
    "    print(f\"\\n--- Testing with backend: {backend_name} ---\")\n",
    "    qibo.set_backend(backend_name)\n",
    "\n",
    "    # 创建一个中等规模的线路\n",
    "    circuit = models.Circuit(nqubits)\n",
    "    for l in range(nlayers):\n",
    "        for i in range(nqubits):\n",
    "            circuit.add(gates.RY(i, theta=np.random.rand()))\n",
    "        for i in range(0, nqubits - 1, 2):\n",
    "            circuit.add(gates.CNOT(i, i + 1))\n",
    "\n",
    "    # 首次运行 (对于numba，这里包含了编译时间)\n",
    "    start_time = time.time()\n",
    "    result = circuit(nshots=1) # nshots=1用于模拟，获取最终态\n",
    "    end_time = time.time()\n",
    "    print(f\"First run time: {end_time - start_time:.4f} seconds\")\n",
    "\n",
    "    # 第二次运行 (numba的优势体现于此)\n",
    "    start_time = time.time()\n",
    "    result = circuit(nshots=1)\n",
    "    end_time = time.time()\n",
    "    print(f\"Second run time: {end_time - start_time:.4f} seconds\")\n",
    "\n",
    "\n",
    "# --- 主程序 ---\n",
    "# 使用 numpy 引擎\n",
    "run_benchmark(\"numpy\")\n",
    "\n",
    "# 更换为 numba 引擎\n",
    "run_benchmark(\"qibojit\")"
   ]
  },
  {
   "cell_type": "code",
   "execution_count": 34,
   "id": "cba543ea",
   "metadata": {},
   "outputs": [],
   "source": [
    "backend_configs = {\n",
    "    \"numpy\": {\"backend_name\": \"numpy\", \"platform_name\": None},\n",
    "    \"qibojit (numba)\": {\"backend_name\": \"qibojit\", \"platform_name\": \"numba\"},\n",
    "    \"qibotn (qutensornet)\": {\"backend_name\": \"qibotn\", \"platform_name\": \"qutensornet\"},\n",
    "    \"clifford (numpy)\": {\"backend_name\": \"clifford\", \"platform_name\": \"numpy\"},\n",
    "    \"hamming_weight (numpy)\": {\"backend_name\": \"hamming_weight\", \"platform_name\": \"numpy\"},\n",
    "    \"qiboml (jax)\": {\"backend_name\": \"qiboml\", \"platform_name\": \"jax\"},\n",
    "    \"qiboml (pytorch)\": {\"backend_name\": \"qiboml\", \"platform_name\": \"pytorch\"},\n",
    "    \"qiboml (tensorflow)\": {\"backend_name\": \"qiboml\", \"platform_name\": \"tensorflow\"}\n",
    "}\n",
    "\n",
    "# 使用示例\n",
    "def setup_backend(backend_key):\n",
    "    \"\"\"根据后端名称设置对应的后端\"\"\"\n",
    "    if backend_key in backend_configs:\n",
    "        config = backend_configs[backend_key]\n",
    "        if config[\"platform_name\"]:\n",
    "            set_backend(config[\"backend_name\"], platform=config[\"platform_name\"])\n",
    "        else:\n",
    "            set_backend(config[\"backend_name\"])\n",
    "        print(f\"已设置后端: {backend_key}\")\n",
    "    else:\n",
    "        print(f\"未知后端: {backend_key}\")"
   ]
  },
  {
   "cell_type": "code",
   "execution_count": null,
   "id": "ccbe75c8",
   "metadata": {},
   "outputs": [],
   "source": []
  }
 ],
 "metadata": {
  "kernelspec": {
   "display_name": "qibovenv",
   "language": "python",
   "name": "python3"
  },
  "language_info": {
   "codemirror_mode": {
    "name": "ipython",
    "version": 3
   },
   "file_extension": ".py",
   "mimetype": "text/x-python",
   "name": "python",
   "nbconvert_exporter": "python",
   "pygments_lexer": "ipython3",
   "version": "3.12.0"
  }
 },
 "nbformat": 4,
 "nbformat_minor": 5
}
