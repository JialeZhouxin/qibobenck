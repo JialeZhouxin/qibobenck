{
 "cells": [
  {
   "cell_type": "code",
   "execution_count": 2,
   "id": "5cd93317",
   "metadata": {},
   "outputs": [],
   "source": [
    "import sys\n",
    "import os\n",
    "from qasmbench_runner import list_available_circuits, run_benchmark_for_circuit"
   ]
  },
  {
   "cell_type": "code",
   "execution_count": 2,
   "id": "18e345ab",
   "metadata": {},
   "outputs": [],
   "source": [
    "def example_1_list_circuits():\n",
    "    \"\"\"示例1: 列出所有可用电路\"\"\"\n",
    "    print(\"示例1: 列出所有可用QASMBench电路\")\n",
    "    print(\"=\"*50)\n",
    "    circuits = list_available_circuits()\n",
    "    return circuits"
   ]
  },
  {
   "cell_type": "code",
   "execution_count": 3,
   "id": "3fa7449c",
   "metadata": {},
   "outputs": [
    {
     "name": "stdout",
     "output_type": "stream",
     "text": [
      "示例1: 列出所有可用QASMBench电路\n",
      "==================================================\n",
      "搜索目录: ../QASMBench\\small\n",
      "搜索目录: ../QASMBench\\medium\n",
      "搜索目录: ../QASMBench\\large\n",
      "可用的QASMBench电路:\n",
      "================================================================================\n",
      "\n",
      "SMALL 规模电路 (42个):\n",
      "  - small/adder_n10 (推荐使用transpiled版本)\n",
      "  - small/adder_n4 (推荐使用transpiled版本)\n",
      "  - small/basis_change_n3 (推荐使用transpiled版本)\n",
      "  - small/basis_trotter_n4 (推荐使用transpiled版本)\n",
      "  - small/bb84_n8 (推荐使用transpiled版本)\n",
      "  - small/bell_n4 (推荐使用transpiled版本)\n",
      "  - small/cat_state_n4 (推荐使用transpiled版本)\n",
      "  - small/deutsch_n2 (推荐使用transpiled版本)\n",
      "  - small/dnn_n2 (推荐使用transpiled版本)\n",
      "  - small/dnn_n8 (推荐使用transpiled版本)\n",
      "  - small/error_correctiond3_n5 (推荐使用transpiled版本)\n",
      "  - small/fredkin_n3 (推荐使用transpiled版本)\n",
      "  - small/grover_n2 (推荐使用transpiled版本)\n",
      "  - small/hhl_n10 (推荐使用transpiled版本)\n",
      "  - small/hhl_n7 (推荐使用transpiled版本)\n",
      "  - small/hs4_n4 (推荐使用transpiled版本)\n",
      "  - small/inverseqft_n4 (推荐使用transpiled版本)\n",
      "  - small/ipea_n2 (推荐使用transpiled版本)\n",
      "  - small/ising_n10 (推荐使用transpiled版本)\n",
      "  - small/iswap_n2 (推荐使用transpiled版本)\n",
      "  - small/linearsolver_n3 (推荐使用transpiled版本)\n",
      "  - small/lpn_n5 (推荐使用transpiled版本)\n",
      "  - small/pea_n5 (推荐使用transpiled版本)\n",
      "  - small/qaoa_n3 (推荐使用transpiled版本)\n",
      "  - small/qaoa_n6 (推荐使用transpiled版本)\n",
      "  - small/qec_en_n5 (推荐使用transpiled版本)\n",
      "  - small/qec_sm_n5 (推荐使用transpiled版本)\n",
      "  - small/qft_n4 (推荐使用transpiled版本)\n",
      "  - small/qpe_n9 (推荐使用transpiled版本)\n",
      "  - small/qrng_n4 (推荐使用transpiled版本)\n",
      "  - small/quantumwalks_n2 (推荐使用transpiled版本)\n",
      "  - small/sat_n7 (使用原始版本)\n",
      "  - small/shor_n5 (推荐使用transpiled版本)\n",
      "  - small/simon_n6 (推荐使用transpiled版本)\n",
      "  - small/teleportation_n3 (推荐使用transpiled版本)\n",
      "  - small/toffoli_n3 (推荐使用transpiled版本)\n",
      "  - small/variational_n4 (推荐使用transpiled版本)\n",
      "  - small/vqe_n4 (推荐使用transpiled版本)\n",
      "  - small/vqe_uccsd_n4 (推荐使用transpiled版本)\n",
      "  - small/vqe_uccsd_n6 (推荐使用transpiled版本)\n",
      "  - small/vqe_uccsd_n8 (推荐使用transpiled版本)\n",
      "  - small/wstate_n3 (推荐使用transpiled版本)\n",
      "\n",
      "MEDIUM 规模电路 (25个):\n",
      "  - medium/bigadder_n18 (推荐使用transpiled版本)\n",
      "  - medium/bv_n14 (推荐使用transpiled版本)\n",
      "  - medium/bv_n19 (推荐使用transpiled版本)\n",
      "  - medium/bwt_n21 (推荐使用transpiled版本)\n",
      "  - medium/cat_state_n22 (推荐使用transpiled版本)\n",
      "  - medium/cc_n12 (推荐使用transpiled版本)\n",
      "  - medium/dnn_n16 (推荐使用transpiled版本)\n",
      "  - medium/factor247_n15 (使用原始版本)\n",
      "  - medium/gcm_n13 (使用原始版本)\n",
      "  - medium/ghz_state_n23 (推荐使用transpiled版本)\n",
      "  - medium/hhl_n14 (使用原始版本)\n",
      "  - medium/ising_n26 (推荐使用transpiled版本)\n",
      "  - medium/knn_n25 (推荐使用transpiled版本)\n",
      "  - medium/multiplier_n15 (推荐使用transpiled版本)\n",
      "  - medium/multiply_n13 (推荐使用transpiled版本)\n",
      "  - medium/qec9xz_n17 (推荐使用transpiled版本)\n",
      "  - medium/qf21_n15 (推荐使用transpiled版本)\n",
      "  - medium/qft_n18 (推荐使用transpiled版本)\n",
      "  - medium/qram_n20 (推荐使用transpiled版本)\n",
      "  - medium/sat_n11 (推荐使用transpiled版本)\n",
      "  - medium/seca_n11 (推荐使用transpiled版本)\n",
      "  - medium/square_root_n18 (推荐使用transpiled版本)\n",
      "  - medium/swap_test_n25 (推荐使用transpiled版本)\n",
      "  - medium/vqe_n24 (推荐使用transpiled版本)\n",
      "  - medium/wstate_n27 (推荐使用transpiled版本)\n",
      "\n",
      "LARGE 规模电路 (64个):\n",
      "  - large/QAOA_3SAT_N10000_p1 (使用原始版本)\n",
      "  - large/QAOA_3SAT_N1000_p1 (使用原始版本)\n",
      "  - large/QAOA_3SAT_N100_p100 (使用原始版本)\n",
      "  - large/QV_n100 (使用原始版本)\n",
      "  - large/QV_n32 (使用原始版本)\n",
      "  - large/adder_n118 (推荐使用transpiled版本)\n",
      "  - large/adder_n28 (推荐使用transpiled版本)\n",
      "  - large/adder_n433 (推荐使用transpiled版本)\n",
      "  - large/adder_n64 (推荐使用transpiled版本)\n",
      "  - large/bv_n140 (推荐使用transpiled版本)\n",
      "  - large/bv_n280 (推荐使用transpiled版本)\n",
      "  - large/bv_n30 (推荐使用transpiled版本)\n",
      "  - large/bv_n70 (推荐使用transpiled版本)\n",
      "  - large/bwt_n177 (使用原始版本)\n",
      "  - large/bwt_n37 (推荐使用transpiled版本)\n",
      "  - large/bwt_n57 (推荐使用transpiled版本)\n",
      "  - large/bwt_n97 (推荐使用transpiled版本)\n",
      "  - large/cat_n130 (推荐使用transpiled版本)\n",
      "  - large/cat_n260 (推荐使用transpiled版本)\n",
      "  - large/cat_n35 (推荐使用transpiled版本)\n",
      "  - large/cat_n65 (推荐使用transpiled版本)\n",
      "  - large/cc_n151 (推荐使用transpiled版本)\n",
      "  - large/cc_n301 (推荐使用transpiled版本)\n",
      "  - large/cc_n32 (推荐使用transpiled版本)\n",
      "  - large/cc_n64 (推荐使用transpiled版本)\n",
      "  - large/dnn_n33 (推荐使用transpiled版本)\n",
      "  - large/dnn_n51 (推荐使用transpiled版本)\n",
      "  - large/ghz_n127 (推荐使用transpiled版本)\n",
      "  - large/ghz_n255 (推荐使用transpiled版本)\n",
      "  - large/ghz_n40 (推荐使用transpiled版本)\n",
      "  - large/ghz_n78 (推荐使用transpiled版本)\n",
      "  - large/ising_n34 (推荐使用transpiled版本)\n",
      "  - large/ising_n42 (使用原始版本)\n",
      "  - large/ising_n420 (推荐使用transpiled版本)\n",
      "  - large/ising_n66 (推荐使用transpiled版本)\n",
      "  - large/ising_n98 (推荐使用transpiled版本)\n",
      "  - large/knn_n129 (推荐使用transpiled版本)\n",
      "  - large/knn_n31 (推荐使用transpiled版本)\n",
      "  - large/knn_n341 (推荐使用transpiled版本)\n",
      "  - large/knn_n41 (使用原始版本)\n",
      "  - large/knn_n67 (推荐使用transpiled版本)\n",
      "  - large/multiplier_n350 (推荐使用transpiled版本)\n",
      "  - large/multiplier_n400 (推荐使用transpiled版本)\n",
      "  - large/multiplier_n45 (推荐使用transpiled版本)\n",
      "  - large/multiplier_n75 (推荐使用transpiled版本)\n",
      "  - large/qft_n160 (推荐使用transpiled版本)\n",
      "  - large/qft_n29 (推荐使用transpiled版本)\n",
      "  - large/qft_n320 (推荐使用transpiled版本)\n",
      "  - large/qft_n63 (推荐使用transpiled版本)\n",
      "  - large/qugan_n111 (推荐使用transpiled版本)\n",
      "  - large/qugan_n39 (推荐使用transpiled版本)\n",
      "  - large/qugan_n395 (推荐使用transpiled版本)\n",
      "  - large/qugan_n71 (推荐使用transpiled版本)\n",
      "  - large/square_root_n45 (推荐使用transpiled版本)\n",
      "  - large/square_root_n60 (推荐使用transpiled版本)\n",
      "  - large/swap_test_n115 (推荐使用transpiled版本)\n",
      "  - large/swap_test_n361 (推荐使用transpiled版本)\n",
      "  - large/swap_test_n41 (推荐使用transpiled版本)\n",
      "  - large/swap_test_n83 (推荐使用transpiled版本)\n",
      "  - large/vqe_uccsd_n28 (推荐使用transpiled版本)\n",
      "  - large/wstate_n118 (推荐使用transpiled版本)\n",
      "  - large/wstate_n36 (推荐使用transpiled版本)\n",
      "  - large/wstate_n380 (推荐使用transpiled版本)\n",
      "  - large/wstate_n76 (推荐使用transpiled版本)\n"
     ]
    },
    {
     "data": {
      "text/plain": [
       "{'small/adder_n10': {'size': 'small',\n",
       "  'name': 'adder_n10',\n",
       "  'path': '../QASMBench\\\\small\\\\adder_n10\\\\adder_n10_transpiled.qasm',\n",
       "  'full_path': '../QASMBench\\\\small\\\\adder_n10',\n",
       "  'available_files': ['adder_n10.qasm', 'adder_n10_transpiled.qasm']},\n",
       " 'small/adder_n4': {'size': 'small',\n",
       "  'name': 'adder_n4',\n",
       "  'path': '../QASMBench\\\\small\\\\adder_n4\\\\adder_n4_transpiled.qasm',\n",
       "  'full_path': '../QASMBench\\\\small\\\\adder_n4',\n",
       "  'available_files': ['adder_n4.qasm', 'adder_n4_transpiled.qasm']},\n",
       " 'small/basis_change_n3': {'size': 'small',\n",
       "  'name': 'basis_change_n3',\n",
       "  'path': '../QASMBench\\\\small\\\\basis_change_n3\\\\basis_change_n3_transpiled.qasm',\n",
       "  'full_path': '../QASMBench\\\\small\\\\basis_change_n3',\n",
       "  'available_files': ['basis_change_n3.qasm',\n",
       "   'basis_change_n3_transpiled.qasm']},\n",
       " 'small/basis_trotter_n4': {'size': 'small',\n",
       "  'name': 'basis_trotter_n4',\n",
       "  'path': '../QASMBench\\\\small\\\\basis_trotter_n4\\\\basis_test_n4_transpiled.qasm',\n",
       "  'full_path': '../QASMBench\\\\small\\\\basis_trotter_n4',\n",
       "  'available_files': ['basis_test_n4.qasm',\n",
       "   'basis_test_n4_transpiled.qasm',\n",
       "   'basis_trotter_n4.qasm',\n",
       "   'basis_trotter_n4_transpiled.qasm']},\n",
       " 'small/bb84_n8': {'size': 'small',\n",
       "  'name': 'bb84_n8',\n",
       "  'path': '../QASMBench\\\\small\\\\bb84_n8\\\\bb84_n8_transpiled.qasm',\n",
       "  'full_path': '../QASMBench\\\\small\\\\bb84_n8',\n",
       "  'available_files': ['bb84_n8.qasm', 'bb84_n8_transpiled.qasm']},\n",
       " 'small/bell_n4': {'size': 'small',\n",
       "  'name': 'bell_n4',\n",
       "  'path': '../QASMBench\\\\small\\\\bell_n4\\\\bell_n4_transpiled.qasm',\n",
       "  'full_path': '../QASMBench\\\\small\\\\bell_n4',\n",
       "  'available_files': ['bell_n4.qasm', 'bell_n4_transpiled.qasm']},\n",
       " 'small/cat_state_n4': {'size': 'small',\n",
       "  'name': 'cat_state_n4',\n",
       "  'path': '../QASMBench\\\\small\\\\cat_state_n4\\\\cat_state_n4_transpiled.qasm',\n",
       "  'full_path': '../QASMBench\\\\small\\\\cat_state_n4',\n",
       "  'available_files': ['cat_state_n4.qasm', 'cat_state_n4_transpiled.qasm']},\n",
       " 'small/deutsch_n2': {'size': 'small',\n",
       "  'name': 'deutsch_n2',\n",
       "  'path': '../QASMBench\\\\small\\\\deutsch_n2\\\\deutsch_n2_transpiled.qasm',\n",
       "  'full_path': '../QASMBench\\\\small\\\\deutsch_n2',\n",
       "  'available_files': ['deutsch_n2.qasm', 'deutsch_n2_transpiled.qasm']},\n",
       " 'small/dnn_n2': {'size': 'small',\n",
       "  'name': 'dnn_n2',\n",
       "  'path': '../QASMBench\\\\small\\\\dnn_n2\\\\dnn_n2_transpiled.qasm',\n",
       "  'full_path': '../QASMBench\\\\small\\\\dnn_n2',\n",
       "  'available_files': ['dnn_n2.qasm', 'dnn_n2_transpiled.qasm']},\n",
       " 'small/dnn_n8': {'size': 'small',\n",
       "  'name': 'dnn_n8',\n",
       "  'path': '../QASMBench\\\\small\\\\dnn_n8\\\\dnn_n8_transpiled.qasm',\n",
       "  'full_path': '../QASMBench\\\\small\\\\dnn_n8',\n",
       "  'available_files': ['dnn_n8.qasm', 'dnn_n8_transpiled.qasm']},\n",
       " 'small/error_correctiond3_n5': {'size': 'small',\n",
       "  'name': 'error_correctiond3_n5',\n",
       "  'path': '../QASMBench\\\\small\\\\error_correctiond3_n5\\\\error_correctiond3_n5_transpiled.qasm',\n",
       "  'full_path': '../QASMBench\\\\small\\\\error_correctiond3_n5',\n",
       "  'available_files': ['error_correctiond3_n5.qasm',\n",
       "   'error_correctiond3_n5_transpiled.qasm']},\n",
       " 'small/fredkin_n3': {'size': 'small',\n",
       "  'name': 'fredkin_n3',\n",
       "  'path': '../QASMBench\\\\small\\\\fredkin_n3\\\\fredkin_n3_transpiled.qasm',\n",
       "  'full_path': '../QASMBench\\\\small\\\\fredkin_n3',\n",
       "  'available_files': ['fredkin_n3.qasm', 'fredkin_n3_transpiled.qasm']},\n",
       " 'small/grover_n2': {'size': 'small',\n",
       "  'name': 'grover_n2',\n",
       "  'path': '../QASMBench\\\\small\\\\grover_n2\\\\grover_n2_transpiled.qasm',\n",
       "  'full_path': '../QASMBench\\\\small\\\\grover_n2',\n",
       "  'available_files': ['grover_n2.qasm', 'grover_n2_transpiled.qasm']},\n",
       " 'small/hhl_n10': {'size': 'small',\n",
       "  'name': 'hhl_n10',\n",
       "  'path': '../QASMBench\\\\small\\\\hhl_n10\\\\hhl_n10_transpiled.qasm',\n",
       "  'full_path': '../QASMBench\\\\small\\\\hhl_n10',\n",
       "  'available_files': ['hhl_n10.qasm', 'hhl_n10_transpiled.qasm']},\n",
       " 'small/hhl_n7': {'size': 'small',\n",
       "  'name': 'hhl_n7',\n",
       "  'path': '../QASMBench\\\\small\\\\hhl_n7\\\\hhl_n7_transpiled.qasm',\n",
       "  'full_path': '../QASMBench\\\\small\\\\hhl_n7',\n",
       "  'available_files': ['hhl_n7.qasm', 'hhl_n7_transpiled.qasm']},\n",
       " 'small/hs4_n4': {'size': 'small',\n",
       "  'name': 'hs4_n4',\n",
       "  'path': '../QASMBench\\\\small\\\\hs4_n4\\\\hs4_n4_transpiled.qasm',\n",
       "  'full_path': '../QASMBench\\\\small\\\\hs4_n4',\n",
       "  'available_files': ['hs4_n4.qasm', 'hs4_n4_transpiled.qasm']},\n",
       " 'small/inverseqft_n4': {'size': 'small',\n",
       "  'name': 'inverseqft_n4',\n",
       "  'path': '../QASMBench\\\\small\\\\inverseqft_n4\\\\inverseqft_n4_transpiled.qasm',\n",
       "  'full_path': '../QASMBench\\\\small\\\\inverseqft_n4',\n",
       "  'available_files': ['inverseqft_n4.qasm', 'inverseqft_n4_transpiled.qasm']},\n",
       " 'small/ipea_n2': {'size': 'small',\n",
       "  'name': 'ipea_n2',\n",
       "  'path': '../QASMBench\\\\small\\\\ipea_n2\\\\ipea_n2_transpiled.qasm',\n",
       "  'full_path': '../QASMBench\\\\small\\\\ipea_n2',\n",
       "  'available_files': ['ipea_n2.qasm', 'ipea_n2_transpiled.qasm']},\n",
       " 'small/ising_n10': {'size': 'small',\n",
       "  'name': 'ising_n10',\n",
       "  'path': '../QASMBench\\\\small\\\\ising_n10\\\\ising_n10_transpiled.qasm',\n",
       "  'full_path': '../QASMBench\\\\small\\\\ising_n10',\n",
       "  'available_files': ['ising_n10.qasm', 'ising_n10_transpiled.qasm']},\n",
       " 'small/iswap_n2': {'size': 'small',\n",
       "  'name': 'iswap_n2',\n",
       "  'path': '../QASMBench\\\\small\\\\iswap_n2\\\\iswap_n2_transpiled.qasm',\n",
       "  'full_path': '../QASMBench\\\\small\\\\iswap_n2',\n",
       "  'available_files': ['iswap_n2.qasm', 'iswap_n2_transpiled.qasm']},\n",
       " 'small/linearsolver_n3': {'size': 'small',\n",
       "  'name': 'linearsolver_n3',\n",
       "  'path': '../QASMBench\\\\small\\\\linearsolver_n3\\\\linearsolver_n3_transpiled.qasm',\n",
       "  'full_path': '../QASMBench\\\\small\\\\linearsolver_n3',\n",
       "  'available_files': ['linearsolver_n3.qasm',\n",
       "   'linearsolver_n3_transpiled.qasm']},\n",
       " 'small/lpn_n5': {'size': 'small',\n",
       "  'name': 'lpn_n5',\n",
       "  'path': '../QASMBench\\\\small\\\\lpn_n5\\\\lpn_n5_transpiled.qasm',\n",
       "  'full_path': '../QASMBench\\\\small\\\\lpn_n5',\n",
       "  'available_files': ['lpn_n5.qasm', 'lpn_n5_transpiled.qasm']},\n",
       " 'small/pea_n5': {'size': 'small',\n",
       "  'name': 'pea_n5',\n",
       "  'path': '../QASMBench\\\\small\\\\pea_n5\\\\pea_n5_transpiled.qasm',\n",
       "  'full_path': '../QASMBench\\\\small\\\\pea_n5',\n",
       "  'available_files': ['pea_n5.qasm', 'pea_n5_transpiled.qasm']},\n",
       " 'small/qaoa_n3': {'size': 'small',\n",
       "  'name': 'qaoa_n3',\n",
       "  'path': '../QASMBench\\\\small\\\\qaoa_n3\\\\qaoa_n3_transpiled.qasm',\n",
       "  'full_path': '../QASMBench\\\\small\\\\qaoa_n3',\n",
       "  'available_files': ['qaoa_n3.qasm', 'qaoa_n3_transpiled.qasm']},\n",
       " 'small/qaoa_n6': {'size': 'small',\n",
       "  'name': 'qaoa_n6',\n",
       "  'path': '../QASMBench\\\\small\\\\qaoa_n6\\\\qaoa_n6_transpiled.qasm',\n",
       "  'full_path': '../QASMBench\\\\small\\\\qaoa_n6',\n",
       "  'available_files': ['qaoa_n6.qasm', 'qaoa_n6_transpiled.qasm']},\n",
       " 'small/qec_en_n5': {'size': 'small',\n",
       "  'name': 'qec_en_n5',\n",
       "  'path': '../QASMBench\\\\small\\\\qec_en_n5\\\\qec_en_n5_transpiled.qasm',\n",
       "  'full_path': '../QASMBench\\\\small\\\\qec_en_n5',\n",
       "  'available_files': ['qec_en_n5.qasm', 'qec_en_n5_transpiled.qasm']},\n",
       " 'small/qec_sm_n5': {'size': 'small',\n",
       "  'name': 'qec_sm_n5',\n",
       "  'path': '../QASMBench\\\\small\\\\qec_sm_n5\\\\qec_sm_n5_transpiled.qasm',\n",
       "  'full_path': '../QASMBench\\\\small\\\\qec_sm_n5',\n",
       "  'available_files': ['qec_sm_n5.qasm', 'qec_sm_n5_transpiled.qasm']},\n",
       " 'small/qft_n4': {'size': 'small',\n",
       "  'name': 'qft_n4',\n",
       "  'path': '../QASMBench\\\\small\\\\qft_n4\\\\qft_n4_transpiled.qasm',\n",
       "  'full_path': '../QASMBench\\\\small\\\\qft_n4',\n",
       "  'available_files': ['qft_n4.qasm', 'qft_n4_transpiled.qasm']},\n",
       " 'small/qpe_n9': {'size': 'small',\n",
       "  'name': 'qpe_n9',\n",
       "  'path': '../QASMBench\\\\small\\\\qpe_n9\\\\qpe_n9_transpiled.qasm',\n",
       "  'full_path': '../QASMBench\\\\small\\\\qpe_n9',\n",
       "  'available_files': ['qpe_n9.qasm', 'qpe_n9_transpiled.qasm']},\n",
       " 'small/qrng_n4': {'size': 'small',\n",
       "  'name': 'qrng_n4',\n",
       "  'path': '../QASMBench\\\\small\\\\qrng_n4\\\\qrng_n4_transpiled.qasm',\n",
       "  'full_path': '../QASMBench\\\\small\\\\qrng_n4',\n",
       "  'available_files': ['qrng_n4.qasm', 'qrng_n4_transpiled.qasm']},\n",
       " 'small/quantumwalks_n2': {'size': 'small',\n",
       "  'name': 'quantumwalks_n2',\n",
       "  'path': '../QASMBench\\\\small\\\\quantumwalks_n2\\\\quantumwalks_n2_transpiled.qasm',\n",
       "  'full_path': '../QASMBench\\\\small\\\\quantumwalks_n2',\n",
       "  'available_files': ['quantumwalks_n2.qasm',\n",
       "   'quantumwalks_n2_transpiled.qasm']},\n",
       " 'small/sat_n7': {'size': 'small',\n",
       "  'name': 'sat_n7',\n",
       "  'path': '../QASMBench\\\\small\\\\sat_n7\\\\sat_n7.qasm',\n",
       "  'full_path': '../QASMBench\\\\small\\\\sat_n7',\n",
       "  'available_files': ['sat_n7.qasm']},\n",
       " 'small/shor_n5': {'size': 'small',\n",
       "  'name': 'shor_n5',\n",
       "  'path': '../QASMBench\\\\small\\\\shor_n5\\\\shor_n5_transpiled.qasm',\n",
       "  'full_path': '../QASMBench\\\\small\\\\shor_n5',\n",
       "  'available_files': ['shor_n5.qasm', 'shor_n5_transpiled.qasm']},\n",
       " 'small/simon_n6': {'size': 'small',\n",
       "  'name': 'simon_n6',\n",
       "  'path': '../QASMBench\\\\small\\\\simon_n6\\\\simon_n6_transpiled.qasm',\n",
       "  'full_path': '../QASMBench\\\\small\\\\simon_n6',\n",
       "  'available_files': ['simon_n6.qasm', 'simon_n6_transpiled.qasm']},\n",
       " 'small/teleportation_n3': {'size': 'small',\n",
       "  'name': 'teleportation_n3',\n",
       "  'path': '../QASMBench\\\\small\\\\teleportation_n3\\\\teleportation_n3_transpiled.qasm',\n",
       "  'full_path': '../QASMBench\\\\small\\\\teleportation_n3',\n",
       "  'available_files': ['teleportation_n3.qasm',\n",
       "   'teleportation_n3_transpiled.qasm']},\n",
       " 'small/toffoli_n3': {'size': 'small',\n",
       "  'name': 'toffoli_n3',\n",
       "  'path': '../QASMBench\\\\small\\\\toffoli_n3\\\\toffoli_n3_transpiled.qasm',\n",
       "  'full_path': '../QASMBench\\\\small\\\\toffoli_n3',\n",
       "  'available_files': ['toffoli_n3.qasm', 'toffoli_n3_transpiled.qasm']},\n",
       " 'small/variational_n4': {'size': 'small',\n",
       "  'name': 'variational_n4',\n",
       "  'path': '../QASMBench\\\\small\\\\variational_n4\\\\variational_n4_transpiled.qasm',\n",
       "  'full_path': '../QASMBench\\\\small\\\\variational_n4',\n",
       "  'available_files': ['variational_n4.qasm',\n",
       "   'variational_n4_transpiled.qasm']},\n",
       " 'small/vqe_n4': {'size': 'small',\n",
       "  'name': 'vqe_n4',\n",
       "  'path': '../QASMBench\\\\small\\\\vqe_n4\\\\vqe_n4_transpiled.qasm',\n",
       "  'full_path': '../QASMBench\\\\small\\\\vqe_n4',\n",
       "  'available_files': ['vqe_n4.qasm', 'vqe_n4_transpiled.qasm']},\n",
       " 'small/vqe_uccsd_n4': {'size': 'small',\n",
       "  'name': 'vqe_uccsd_n4',\n",
       "  'path': '../QASMBench\\\\small\\\\vqe_uccsd_n4\\\\vqe_uccsd_n4_transpiled.qasm',\n",
       "  'full_path': '../QASMBench\\\\small\\\\vqe_uccsd_n4',\n",
       "  'available_files': ['vqe_uccsd_n4.qasm', 'vqe_uccsd_n4_transpiled.qasm']},\n",
       " 'small/vqe_uccsd_n6': {'size': 'small',\n",
       "  'name': 'vqe_uccsd_n6',\n",
       "  'path': '../QASMBench\\\\small\\\\vqe_uccsd_n6\\\\vqe_uccsd_n6_transpiled.qasm',\n",
       "  'full_path': '../QASMBench\\\\small\\\\vqe_uccsd_n6',\n",
       "  'available_files': ['vqe_uccsd_n6.qasm', 'vqe_uccsd_n6_transpiled.qasm']},\n",
       " 'small/vqe_uccsd_n8': {'size': 'small',\n",
       "  'name': 'vqe_uccsd_n8',\n",
       "  'path': '../QASMBench\\\\small\\\\vqe_uccsd_n8\\\\vqe_uccsd_n8_transpiled.qasm',\n",
       "  'full_path': '../QASMBench\\\\small\\\\vqe_uccsd_n8',\n",
       "  'available_files': ['vqe_uccsd_n8.qasm', 'vqe_uccsd_n8_transpiled.qasm']},\n",
       " 'small/wstate_n3': {'size': 'small',\n",
       "  'name': 'wstate_n3',\n",
       "  'path': '../QASMBench\\\\small\\\\wstate_n3\\\\wstate_n3_transpiled.qasm',\n",
       "  'full_path': '../QASMBench\\\\small\\\\wstate_n3',\n",
       "  'available_files': ['wstate_n3.qasm', 'wstate_n3_transpiled.qasm']},\n",
       " 'medium/bigadder_n18': {'size': 'medium',\n",
       "  'name': 'bigadder_n18',\n",
       "  'path': '../QASMBench\\\\medium\\\\bigadder_n18\\\\bigadder_n18_transpiled.qasm',\n",
       "  'full_path': '../QASMBench\\\\medium\\\\bigadder_n18',\n",
       "  'available_files': ['bigadder_n18.qasm', 'bigadder_n18_transpiled.qasm']},\n",
       " 'medium/bv_n14': {'size': 'medium',\n",
       "  'name': 'bv_n14',\n",
       "  'path': '../QASMBench\\\\medium\\\\bv_n14\\\\bv_n14_transpiled.qasm',\n",
       "  'full_path': '../QASMBench\\\\medium\\\\bv_n14',\n",
       "  'available_files': ['bv_n14.qasm', 'bv_n14_transpiled.qasm']},\n",
       " 'medium/bv_n19': {'size': 'medium',\n",
       "  'name': 'bv_n19',\n",
       "  'path': '../QASMBench\\\\medium\\\\bv_n19\\\\bv_n19_transpiled.qasm',\n",
       "  'full_path': '../QASMBench\\\\medium\\\\bv_n19',\n",
       "  'available_files': ['bv_n19.qasm', 'bv_n19_transpiled.qasm']},\n",
       " 'medium/bwt_n21': {'size': 'medium',\n",
       "  'name': 'bwt_n21',\n",
       "  'path': '../QASMBench\\\\medium\\\\bwt_n21\\\\bwt_n21_transpiled.qasm',\n",
       "  'full_path': '../QASMBench\\\\medium\\\\bwt_n21',\n",
       "  'available_files': ['bwt_n21.qasm', 'bwt_n21_transpiled.qasm']},\n",
       " 'medium/cat_state_n22': {'size': 'medium',\n",
       "  'name': 'cat_state_n22',\n",
       "  'path': '../QASMBench\\\\medium\\\\cat_state_n22\\\\cat_state_n22_transpiled.qasm',\n",
       "  'full_path': '../QASMBench\\\\medium\\\\cat_state_n22',\n",
       "  'available_files': ['cat_state_n22.qasm', 'cat_state_n22_transpiled.qasm']},\n",
       " 'medium/cc_n12': {'size': 'medium',\n",
       "  'name': 'cc_n12',\n",
       "  'path': '../QASMBench\\\\medium\\\\cc_n12\\\\cc_n12_transpiled.qasm',\n",
       "  'full_path': '../QASMBench\\\\medium\\\\cc_n12',\n",
       "  'available_files': ['cc_n12.qasm', 'cc_n12_transpiled.qasm']},\n",
       " 'medium/dnn_n16': {'size': 'medium',\n",
       "  'name': 'dnn_n16',\n",
       "  'path': '../QASMBench\\\\medium\\\\dnn_n16\\\\dnn_n16_transpiled.qasm',\n",
       "  'full_path': '../QASMBench\\\\medium\\\\dnn_n16',\n",
       "  'available_files': ['dnn_n16.qasm', 'dnn_n16_transpiled.qasm']},\n",
       " 'medium/factor247_n15': {'size': 'medium',\n",
       "  'name': 'factor247_n15',\n",
       "  'path': '../QASMBench\\\\medium\\\\factor247_n15\\\\factor247_n15.qasm',\n",
       "  'full_path': '../QASMBench\\\\medium\\\\factor247_n15',\n",
       "  'available_files': ['factor247_n15.qasm']},\n",
       " 'medium/gcm_n13': {'size': 'medium',\n",
       "  'name': 'gcm_n13',\n",
       "  'path': '../QASMBench\\\\medium\\\\gcm_n13\\\\gcm_h6.qasm',\n",
       "  'full_path': '../QASMBench\\\\medium\\\\gcm_n13',\n",
       "  'available_files': ['gcm_h6.qasm']},\n",
       " 'medium/ghz_state_n23': {'size': 'medium',\n",
       "  'name': 'ghz_state_n23',\n",
       "  'path': '../QASMBench\\\\medium\\\\ghz_state_n23\\\\ghz_state_n23_transpiled.qasm',\n",
       "  'full_path': '../QASMBench\\\\medium\\\\ghz_state_n23',\n",
       "  'available_files': ['ghz_state_n23.qasm', 'ghz_state_n23_transpiled.qasm']},\n",
       " 'medium/hhl_n14': {'size': 'medium',\n",
       "  'name': 'hhl_n14',\n",
       "  'path': '../QASMBench\\\\medium\\\\hhl_n14\\\\hhl_n14.qasm',\n",
       "  'full_path': '../QASMBench\\\\medium\\\\hhl_n14',\n",
       "  'available_files': ['hhl_n14.qasm']},\n",
       " 'medium/ising_n26': {'size': 'medium',\n",
       "  'name': 'ising_n26',\n",
       "  'path': '../QASMBench\\\\medium\\\\ising_n26\\\\ising_n26_transpiled.qasm',\n",
       "  'full_path': '../QASMBench\\\\medium\\\\ising_n26',\n",
       "  'available_files': ['ising_n26.qasm', 'ising_n26_transpiled.qasm']},\n",
       " 'medium/knn_n25': {'size': 'medium',\n",
       "  'name': 'knn_n25',\n",
       "  'path': '../QASMBench\\\\medium\\\\knn_n25\\\\knn_n25_transpiled.qasm',\n",
       "  'full_path': '../QASMBench\\\\medium\\\\knn_n25',\n",
       "  'available_files': ['knn_n25.qasm', 'knn_n25_transpiled.qasm']},\n",
       " 'medium/multiplier_n15': {'size': 'medium',\n",
       "  'name': 'multiplier_n15',\n",
       "  'path': '../QASMBench\\\\medium\\\\multiplier_n15\\\\multiplier_n15_transpiled.qasm',\n",
       "  'full_path': '../QASMBench\\\\medium\\\\multiplier_n15',\n",
       "  'available_files': ['multiplier_n15.qasm',\n",
       "   'multiplier_n15_transpiled.qasm']},\n",
       " 'medium/multiply_n13': {'size': 'medium',\n",
       "  'name': 'multiply_n13',\n",
       "  'path': '../QASMBench\\\\medium\\\\multiply_n13\\\\multiply_n13_transpiled.qasm',\n",
       "  'full_path': '../QASMBench\\\\medium\\\\multiply_n13',\n",
       "  'available_files': ['multiply_n13.qasm', 'multiply_n13_transpiled.qasm']},\n",
       " 'medium/qec9xz_n17': {'size': 'medium',\n",
       "  'name': 'qec9xz_n17',\n",
       "  'path': '../QASMBench\\\\medium\\\\qec9xz_n17\\\\qec9xz_n17_transpiled.qasm',\n",
       "  'full_path': '../QASMBench\\\\medium\\\\qec9xz_n17',\n",
       "  'available_files': ['qec9xz_n17.qasm', 'qec9xz_n17_transpiled.qasm']},\n",
       " 'medium/qf21_n15': {'size': 'medium',\n",
       "  'name': 'qf21_n15',\n",
       "  'path': '../QASMBench\\\\medium\\\\qf21_n15\\\\qf21_n15_transpiled.qasm',\n",
       "  'full_path': '../QASMBench\\\\medium\\\\qf21_n15',\n",
       "  'available_files': ['qf21_n15.qasm', 'qf21_n15_transpiled.qasm']},\n",
       " 'medium/qft_n18': {'size': 'medium',\n",
       "  'name': 'qft_n18',\n",
       "  'path': '../QASMBench\\\\medium\\\\qft_n18\\\\qft_n18_transpiled.qasm',\n",
       "  'full_path': '../QASMBench\\\\medium\\\\qft_n18',\n",
       "  'available_files': ['qft_n18.qasm', 'qft_n18_transpiled.qasm']},\n",
       " 'medium/qram_n20': {'size': 'medium',\n",
       "  'name': 'qram_n20',\n",
       "  'path': '../QASMBench\\\\medium\\\\qram_n20\\\\qram_n20_transpiled.qasm',\n",
       "  'full_path': '../QASMBench\\\\medium\\\\qram_n20',\n",
       "  'available_files': ['qram_n20.qasm', 'qram_n20_transpiled.qasm']},\n",
       " 'medium/sat_n11': {'size': 'medium',\n",
       "  'name': 'sat_n11',\n",
       "  'path': '../QASMBench\\\\medium\\\\sat_n11\\\\sat_n11_transpiled.qasm',\n",
       "  'full_path': '../QASMBench\\\\medium\\\\sat_n11',\n",
       "  'available_files': ['sat_n11.qasm', 'sat_n11_transpiled.qasm']},\n",
       " 'medium/seca_n11': {'size': 'medium',\n",
       "  'name': 'seca_n11',\n",
       "  'path': '../QASMBench\\\\medium\\\\seca_n11\\\\seca_n11_transpiled.qasm',\n",
       "  'full_path': '../QASMBench\\\\medium\\\\seca_n11',\n",
       "  'available_files': ['seca_n11.qasm', 'seca_n11_transpiled.qasm']},\n",
       " 'medium/square_root_n18': {'size': 'medium',\n",
       "  'name': 'square_root_n18',\n",
       "  'path': '../QASMBench\\\\medium\\\\square_root_n18\\\\square_root_n18_transpiled.qasm',\n",
       "  'full_path': '../QASMBench\\\\medium\\\\square_root_n18',\n",
       "  'available_files': ['square_root_n18.qasm',\n",
       "   'square_root_n18_transpiled.qasm']},\n",
       " 'medium/swap_test_n25': {'size': 'medium',\n",
       "  'name': 'swap_test_n25',\n",
       "  'path': '../QASMBench\\\\medium\\\\swap_test_n25\\\\swap_test_n25_transpiled.qasm',\n",
       "  'full_path': '../QASMBench\\\\medium\\\\swap_test_n25',\n",
       "  'available_files': ['swap_test_n25.qasm', 'swap_test_n25_transpiled.qasm']},\n",
       " 'medium/vqe_n24': {'size': 'medium',\n",
       "  'name': 'vqe_n24',\n",
       "  'path': '../QASMBench\\\\medium\\\\vqe_n24\\\\vqe_n24_transpiled.qasm',\n",
       "  'full_path': '../QASMBench\\\\medium\\\\vqe_n24',\n",
       "  'available_files': ['vqe_n24.qasm', 'vqe_n24_transpiled.qasm']},\n",
       " 'medium/wstate_n27': {'size': 'medium',\n",
       "  'name': 'wstate_n27',\n",
       "  'path': '../QASMBench\\\\medium\\\\wstate_n27\\\\wstate_n27_transpiled.qasm',\n",
       "  'full_path': '../QASMBench\\\\medium\\\\wstate_n27',\n",
       "  'available_files': ['wstate_n27.qasm', 'wstate_n27_transpiled.qasm']},\n",
       " 'large/adder_n118': {'size': 'large',\n",
       "  'name': 'adder_n118',\n",
       "  'path': '../QASMBench\\\\large\\\\adder_n118\\\\adder_n118_transpiled.qasm',\n",
       "  'full_path': '../QASMBench\\\\large\\\\adder_n118',\n",
       "  'available_files': ['adder_n118.qasm', 'adder_n118_transpiled.qasm']},\n",
       " 'large/adder_n28': {'size': 'large',\n",
       "  'name': 'adder_n28',\n",
       "  'path': '../QASMBench\\\\large\\\\adder_n28\\\\adder_n28_transpiled.qasm',\n",
       "  'full_path': '../QASMBench\\\\large\\\\adder_n28',\n",
       "  'available_files': ['adder_n28.qasm', 'adder_n28_transpiled.qasm']},\n",
       " 'large/adder_n433': {'size': 'large',\n",
       "  'name': 'adder_n433',\n",
       "  'path': '../QASMBench\\\\large\\\\adder_n433\\\\adder_n433_transpiled.qasm',\n",
       "  'full_path': '../QASMBench\\\\large\\\\adder_n433',\n",
       "  'available_files': ['adder_n433.qasm', 'adder_n433_transpiled.qasm']},\n",
       " 'large/adder_n64': {'size': 'large',\n",
       "  'name': 'adder_n64',\n",
       "  'path': '../QASMBench\\\\large\\\\adder_n64\\\\adder_n64_transpiled.qasm',\n",
       "  'full_path': '../QASMBench\\\\large\\\\adder_n64',\n",
       "  'available_files': ['adder_n64.qasm', 'adder_n64_transpiled.qasm']},\n",
       " 'large/bv_n140': {'size': 'large',\n",
       "  'name': 'bv_n140',\n",
       "  'path': '../QASMBench\\\\large\\\\bv_n140\\\\bv_n140_transpiled.qasm',\n",
       "  'full_path': '../QASMBench\\\\large\\\\bv_n140',\n",
       "  'available_files': ['bv_n140.qasm', 'bv_n140_transpiled.qasm']},\n",
       " 'large/bv_n280': {'size': 'large',\n",
       "  'name': 'bv_n280',\n",
       "  'path': '../QASMBench\\\\large\\\\bv_n280\\\\bv_n280_transpiled.qasm',\n",
       "  'full_path': '../QASMBench\\\\large\\\\bv_n280',\n",
       "  'available_files': ['bv_n280.qasm', 'bv_n280_transpiled.qasm']},\n",
       " 'large/bv_n30': {'size': 'large',\n",
       "  'name': 'bv_n30',\n",
       "  'path': '../QASMBench\\\\large\\\\bv_n30\\\\bv_n30_transpiled.qasm',\n",
       "  'full_path': '../QASMBench\\\\large\\\\bv_n30',\n",
       "  'available_files': ['bv_n30.qasm', 'bv_n30_transpiled.qasm']},\n",
       " 'large/bv_n70': {'size': 'large',\n",
       "  'name': 'bv_n70',\n",
       "  'path': '../QASMBench\\\\large\\\\bv_n70\\\\bv_n70_transpiled.qasm',\n",
       "  'full_path': '../QASMBench\\\\large\\\\bv_n70',\n",
       "  'available_files': ['bv_n70.qasm', 'bv_n70_transpiled.qasm']},\n",
       " 'large/bwt_n177': {'size': 'large',\n",
       "  'name': 'bwt_n177',\n",
       "  'path': '../QASMBench\\\\large\\\\bwt_n177\\\\bwt_n177.qasm',\n",
       "  'full_path': '../QASMBench\\\\large\\\\bwt_n177',\n",
       "  'available_files': ['bwt_n177.qasm']},\n",
       " 'large/bwt_n37': {'size': 'large',\n",
       "  'name': 'bwt_n37',\n",
       "  'path': '../QASMBench\\\\large\\\\bwt_n37\\\\bwt_n37_transpiled.qasm',\n",
       "  'full_path': '../QASMBench\\\\large\\\\bwt_n37',\n",
       "  'available_files': ['bwt_n37.qasm', 'bwt_n37_transpiled.qasm']},\n",
       " 'large/bwt_n57': {'size': 'large',\n",
       "  'name': 'bwt_n57',\n",
       "  'path': '../QASMBench\\\\large\\\\bwt_n57\\\\bwt_n57_transpiled.qasm',\n",
       "  'full_path': '../QASMBench\\\\large\\\\bwt_n57',\n",
       "  'available_files': ['bwt_n57.qasm', 'bwt_n57_transpiled.qasm']},\n",
       " 'large/bwt_n97': {'size': 'large',\n",
       "  'name': 'bwt_n97',\n",
       "  'path': '../QASMBench\\\\large\\\\bwt_n97\\\\bwt_n97_transpiled.qasm',\n",
       "  'full_path': '../QASMBench\\\\large\\\\bwt_n97',\n",
       "  'available_files': ['bwt_n97.qasm', 'bwt_n97_transpiled.qasm']},\n",
       " 'large/cat_n130': {'size': 'large',\n",
       "  'name': 'cat_n130',\n",
       "  'path': '../QASMBench\\\\large\\\\cat_n130\\\\cat_n130_transpiled.qasm',\n",
       "  'full_path': '../QASMBench\\\\large\\\\cat_n130',\n",
       "  'available_files': ['cat_n130.qasm', 'cat_n130_transpiled.qasm']},\n",
       " 'large/cat_n260': {'size': 'large',\n",
       "  'name': 'cat_n260',\n",
       "  'path': '../QASMBench\\\\large\\\\cat_n260\\\\cat_n260_transpiled.qasm',\n",
       "  'full_path': '../QASMBench\\\\large\\\\cat_n260',\n",
       "  'available_files': ['cat_n260.qasm', 'cat_n260_transpiled.qasm']},\n",
       " 'large/cat_n35': {'size': 'large',\n",
       "  'name': 'cat_n35',\n",
       "  'path': '../QASMBench\\\\large\\\\cat_n35\\\\cat_n35_transpiled.qasm',\n",
       "  'full_path': '../QASMBench\\\\large\\\\cat_n35',\n",
       "  'available_files': ['cat_n35.qasm', 'cat_n35_transpiled.qasm']},\n",
       " 'large/cat_n65': {'size': 'large',\n",
       "  'name': 'cat_n65',\n",
       "  'path': '../QASMBench\\\\large\\\\cat_n65\\\\cat_n65_transpiled.qasm',\n",
       "  'full_path': '../QASMBench\\\\large\\\\cat_n65',\n",
       "  'available_files': ['cat_n65.qasm', 'cat_n65_transpiled.qasm']},\n",
       " 'large/cc_n151': {'size': 'large',\n",
       "  'name': 'cc_n151',\n",
       "  'path': '../QASMBench\\\\large\\\\cc_n151\\\\cc_n151_transpiled.qasm',\n",
       "  'full_path': '../QASMBench\\\\large\\\\cc_n151',\n",
       "  'available_files': ['cc_n151.qasm', 'cc_n151_transpiled.qasm']},\n",
       " 'large/cc_n301': {'size': 'large',\n",
       "  'name': 'cc_n301',\n",
       "  'path': '../QASMBench\\\\large\\\\cc_n301\\\\cc_n301_transpiled.qasm',\n",
       "  'full_path': '../QASMBench\\\\large\\\\cc_n301',\n",
       "  'available_files': ['cc_n301.qasm', 'cc_n301_transpiled.qasm']},\n",
       " 'large/cc_n32': {'size': 'large',\n",
       "  'name': 'cc_n32',\n",
       "  'path': '../QASMBench\\\\large\\\\cc_n32\\\\cc_n32_transpiled.qasm',\n",
       "  'full_path': '../QASMBench\\\\large\\\\cc_n32',\n",
       "  'available_files': ['cc_n32.qasm', 'cc_n32_transpiled.qasm']},\n",
       " 'large/cc_n64': {'size': 'large',\n",
       "  'name': 'cc_n64',\n",
       "  'path': '../QASMBench\\\\large\\\\cc_n64\\\\cc_n64_transpiled.qasm',\n",
       "  'full_path': '../QASMBench\\\\large\\\\cc_n64',\n",
       "  'available_files': ['cc_n64.qasm', 'cc_n64_transpiled.qasm']},\n",
       " 'large/dnn_n33': {'size': 'large',\n",
       "  'name': 'dnn_n33',\n",
       "  'path': '../QASMBench\\\\large\\\\dnn_n33\\\\dnn_n33_transpiled.qasm',\n",
       "  'full_path': '../QASMBench\\\\large\\\\dnn_n33',\n",
       "  'available_files': ['dnn_n33.qasm', 'dnn_n33_transpiled.qasm']},\n",
       " 'large/dnn_n51': {'size': 'large',\n",
       "  'name': 'dnn_n51',\n",
       "  'path': '../QASMBench\\\\large\\\\dnn_n51\\\\dnn_n51_transpiled.qasm',\n",
       "  'full_path': '../QASMBench\\\\large\\\\dnn_n51',\n",
       "  'available_files': ['dnn_n51.qasm', 'dnn_n51_transpiled.qasm']},\n",
       " 'large/ghz_n127': {'size': 'large',\n",
       "  'name': 'ghz_n127',\n",
       "  'path': '../QASMBench\\\\large\\\\ghz_n127\\\\ghz_n127_transpiled.qasm',\n",
       "  'full_path': '../QASMBench\\\\large\\\\ghz_n127',\n",
       "  'available_files': ['ghz_n127.qasm', 'ghz_n127_transpiled.qasm']},\n",
       " 'large/ghz_n255': {'size': 'large',\n",
       "  'name': 'ghz_n255',\n",
       "  'path': '../QASMBench\\\\large\\\\ghz_n255\\\\ghz_state_n255_transpiled.qasm',\n",
       "  'full_path': '../QASMBench\\\\large\\\\ghz_n255',\n",
       "  'available_files': ['ghz_state_n255.qasm',\n",
       "   'ghz_state_n255_transpiled.qasm']},\n",
       " 'large/ghz_n40': {'size': 'large',\n",
       "  'name': 'ghz_n40',\n",
       "  'path': '../QASMBench\\\\large\\\\ghz_n40\\\\ghz_n40_transpiled.qasm',\n",
       "  'full_path': '../QASMBench\\\\large\\\\ghz_n40',\n",
       "  'available_files': ['ghz_n40.qasm', 'ghz_n40_transpiled.qasm']},\n",
       " 'large/ghz_n78': {'size': 'large',\n",
       "  'name': 'ghz_n78',\n",
       "  'path': '../QASMBench\\\\large\\\\ghz_n78\\\\ghz_n78_transpiled.qasm',\n",
       "  'full_path': '../QASMBench\\\\large\\\\ghz_n78',\n",
       "  'available_files': ['ghz_n78.qasm', 'ghz_n78_transpiled.qasm']},\n",
       " 'large/ising_n34': {'size': 'large',\n",
       "  'name': 'ising_n34',\n",
       "  'path': '../QASMBench\\\\large\\\\ising_n34\\\\ising_n34_transpiled.qasm',\n",
       "  'full_path': '../QASMBench\\\\large\\\\ising_n34',\n",
       "  'available_files': ['ising_n34.qasm', 'ising_n34_transpiled.qasm']},\n",
       " 'large/ising_n42': {'size': 'large',\n",
       "  'name': 'ising_n42',\n",
       "  'path': '../QASMBench\\\\large\\\\ising_n42\\\\ising_n42.qasm',\n",
       "  'full_path': '../QASMBench\\\\large\\\\ising_n42',\n",
       "  'available_files': ['ising_n42.qasm']},\n",
       " 'large/ising_n420': {'size': 'large',\n",
       "  'name': 'ising_n420',\n",
       "  'path': '../QASMBench\\\\large\\\\ising_n420\\\\ising_n420_transpiled.qasm',\n",
       "  'full_path': '../QASMBench\\\\large\\\\ising_n420',\n",
       "  'available_files': ['ising_n420.qasm', 'ising_n420_transpiled.qasm']},\n",
       " 'large/ising_n66': {'size': 'large',\n",
       "  'name': 'ising_n66',\n",
       "  'path': '../QASMBench\\\\large\\\\ising_n66\\\\ising_n66_transpiled.qasm',\n",
       "  'full_path': '../QASMBench\\\\large\\\\ising_n66',\n",
       "  'available_files': ['ising_n66.qasm', 'ising_n66_transpiled.qasm']},\n",
       " 'large/ising_n98': {'size': 'large',\n",
       "  'name': 'ising_n98',\n",
       "  'path': '../QASMBench\\\\large\\\\ising_n98\\\\ising_n98_transpiled.qasm',\n",
       "  'full_path': '../QASMBench\\\\large\\\\ising_n98',\n",
       "  'available_files': ['ising_n98.qasm', 'ising_n98_transpiled.qasm']},\n",
       " 'large/knn_n129': {'size': 'large',\n",
       "  'name': 'knn_n129',\n",
       "  'path': '../QASMBench\\\\large\\\\knn_n129\\\\knn_129_transpiled.qasm',\n",
       "  'full_path': '../QASMBench\\\\large\\\\knn_n129',\n",
       "  'available_files': ['knn_129.qasm', 'knn_129_transpiled.qasm']},\n",
       " 'large/knn_n31': {'size': 'large',\n",
       "  'name': 'knn_n31',\n",
       "  'path': '../QASMBench\\\\large\\\\knn_n31\\\\knn_n31_transpiled.qasm',\n",
       "  'full_path': '../QASMBench\\\\large\\\\knn_n31',\n",
       "  'available_files': ['knn_n31.qasm', 'knn_n31_transpiled.qasm']},\n",
       " 'large/knn_n341': {'size': 'large',\n",
       "  'name': 'knn_n341',\n",
       "  'path': '../QASMBench\\\\large\\\\knn_n341\\\\knn_341_transpiled.qasm',\n",
       "  'full_path': '../QASMBench\\\\large\\\\knn_n341',\n",
       "  'available_files': ['knn_341.qasm', 'knn_341_transpiled.qasm']},\n",
       " 'large/knn_n41': {'size': 'large',\n",
       "  'name': 'knn_n41',\n",
       "  'path': '../QASMBench\\\\large\\\\knn_n41\\\\knn_n41.qasm',\n",
       "  'full_path': '../QASMBench\\\\large\\\\knn_n41',\n",
       "  'available_files': ['knn_n41.qasm']},\n",
       " 'large/knn_n67': {'size': 'large',\n",
       "  'name': 'knn_n67',\n",
       "  'path': '../QASMBench\\\\large\\\\knn_n67\\\\knn_n67_transpiled.qasm',\n",
       "  'full_path': '../QASMBench\\\\large\\\\knn_n67',\n",
       "  'available_files': ['knn_n67.qasm', 'knn_n67_transpiled.qasm']},\n",
       " 'large/multiplier_n350': {'size': 'large',\n",
       "  'name': 'multiplier_n350',\n",
       "  'path': '../QASMBench\\\\large\\\\multiplier_n350\\\\multiplier_n350_transpiled.qasm',\n",
       "  'full_path': '../QASMBench\\\\large\\\\multiplier_n350',\n",
       "  'available_files': ['multiplier_n350.qasm',\n",
       "   'multiplier_n350_transpiled.qasm']},\n",
       " 'large/multiplier_n400': {'size': 'large',\n",
       "  'name': 'multiplier_n400',\n",
       "  'path': '../QASMBench\\\\large\\\\multiplier_n400\\\\multiplier_n400_transpiled.qasm',\n",
       "  'full_path': '../QASMBench\\\\large\\\\multiplier_n400',\n",
       "  'available_files': ['multiplier_n400.qasm',\n",
       "   'multiplier_n400_transpiled.qasm']},\n",
       " 'large/multiplier_n45': {'size': 'large',\n",
       "  'name': 'multiplier_n45',\n",
       "  'path': '../QASMBench\\\\large\\\\multiplier_n45\\\\multiplier_n45_transpiled.qasm',\n",
       "  'full_path': '../QASMBench\\\\large\\\\multiplier_n45',\n",
       "  'available_files': ['multiplier_n45.qasm',\n",
       "   'multiplier_n45_transpiled.qasm']},\n",
       " 'large/multiplier_n75': {'size': 'large',\n",
       "  'name': 'multiplier_n75',\n",
       "  'path': '../QASMBench\\\\large\\\\multiplier_n75\\\\multiplier_n75_transpiled.qasm',\n",
       "  'full_path': '../QASMBench\\\\large\\\\multiplier_n75',\n",
       "  'available_files': ['multiplier_n75.qasm',\n",
       "   'multiplier_n75_transpiled.qasm']},\n",
       " 'large/QAOA_3SAT_N10000_p1': {'size': 'large',\n",
       "  'name': 'QAOA_3SAT_N10000_p1',\n",
       "  'path': '../QASMBench\\\\large\\\\QAOA_3SAT_N10000_p1\\\\random_QAOA_angles_k3_N10000_p1.qasm',\n",
       "  'full_path': '../QASMBench\\\\large\\\\QAOA_3SAT_N10000_p1',\n",
       "  'available_files': ['random_QAOA_angles_k3_N10000_p1.qasm']},\n",
       " 'large/QAOA_3SAT_N1000_p1': {'size': 'large',\n",
       "  'name': 'QAOA_3SAT_N1000_p1',\n",
       "  'path': '../QASMBench\\\\large\\\\QAOA_3SAT_N1000_p1\\\\random_QAOA_angles_k3_N1000_p1.qasm',\n",
       "  'full_path': '../QASMBench\\\\large\\\\QAOA_3SAT_N1000_p1',\n",
       "  'available_files': ['random_QAOA_angles_k3_N1000_p1.qasm']},\n",
       " 'large/QAOA_3SAT_N100_p100': {'size': 'large',\n",
       "  'name': 'QAOA_3SAT_N100_p100',\n",
       "  'path': '../QASMBench\\\\large\\\\QAOA_3SAT_N100_p100\\\\random_QAOA_angles_k3_N100_p100.qasm',\n",
       "  'full_path': '../QASMBench\\\\large\\\\QAOA_3SAT_N100_p100',\n",
       "  'available_files': ['random_QAOA_angles_k3_N100_p100.qasm']},\n",
       " 'large/qft_n160': {'size': 'large',\n",
       "  'name': 'qft_n160',\n",
       "  'path': '../QASMBench\\\\large\\\\qft_n160\\\\qft_n160_transpiled.qasm',\n",
       "  'full_path': '../QASMBench\\\\large\\\\qft_n160',\n",
       "  'available_files': ['qft_n160.qasm', 'qft_n160_transpiled.qasm']},\n",
       " 'large/qft_n29': {'size': 'large',\n",
       "  'name': 'qft_n29',\n",
       "  'path': '../QASMBench\\\\large\\\\qft_n29\\\\qft_n29_transpiled.qasm',\n",
       "  'full_path': '../QASMBench\\\\large\\\\qft_n29',\n",
       "  'available_files': ['qft_n29.qasm', 'qft_n29_transpiled.qasm']},\n",
       " 'large/qft_n320': {'size': 'large',\n",
       "  'name': 'qft_n320',\n",
       "  'path': '../QASMBench\\\\large\\\\qft_n320\\\\qft_n320_transpiled.qasm',\n",
       "  'full_path': '../QASMBench\\\\large\\\\qft_n320',\n",
       "  'available_files': ['qft_n320.qasm', 'qft_n320_transpiled.qasm']},\n",
       " 'large/qft_n63': {'size': 'large',\n",
       "  'name': 'qft_n63',\n",
       "  'path': '../QASMBench\\\\large\\\\qft_n63\\\\qft_n63_transpiled.qasm',\n",
       "  'full_path': '../QASMBench\\\\large\\\\qft_n63',\n",
       "  'available_files': ['qft_n63.qasm', 'qft_n63_transpiled.qasm']},\n",
       " 'large/qugan_n111': {'size': 'large',\n",
       "  'name': 'qugan_n111',\n",
       "  'path': '../QASMBench\\\\large\\\\qugan_n111\\\\qugan_n111_transpiled.qasm',\n",
       "  'full_path': '../QASMBench\\\\large\\\\qugan_n111',\n",
       "  'available_files': ['qugan_n111.qasm', 'qugan_n111_transpiled.qasm']},\n",
       " 'large/qugan_n39': {'size': 'large',\n",
       "  'name': 'qugan_n39',\n",
       "  'path': '../QASMBench\\\\large\\\\qugan_n39\\\\qugan_n39_transpiled.qasm',\n",
       "  'full_path': '../QASMBench\\\\large\\\\qugan_n39',\n",
       "  'available_files': ['qugan_n39.qasm', 'qugan_n39_transpiled.qasm']},\n",
       " 'large/qugan_n395': {'size': 'large',\n",
       "  'name': 'qugan_n395',\n",
       "  'path': '../QASMBench\\\\large\\\\qugan_n395\\\\qugan_n395_transpiled.qasm',\n",
       "  'full_path': '../QASMBench\\\\large\\\\qugan_n395',\n",
       "  'available_files': ['qugan_n395.qasm', 'qugan_n395_transpiled.qasm']},\n",
       " 'large/qugan_n71': {'size': 'large',\n",
       "  'name': 'qugan_n71',\n",
       "  'path': '../QASMBench\\\\large\\\\qugan_n71\\\\qugan_n71_transpiled.qasm',\n",
       "  'full_path': '../QASMBench\\\\large\\\\qugan_n71',\n",
       "  'available_files': ['qugan_n71.qasm', 'qugan_n71_transpiled.qasm']},\n",
       " 'large/QV_n100': {'size': 'large',\n",
       "  'name': 'QV_n100',\n",
       "  'path': '../QASMBench\\\\large\\\\QV_n100\\\\100.qasm',\n",
       "  'full_path': '../QASMBench\\\\large\\\\QV_n100',\n",
       "  'available_files': ['100.qasm']},\n",
       " 'large/QV_n32': {'size': 'large',\n",
       "  'name': 'QV_n32',\n",
       "  'path': '../QASMBench\\\\large\\\\QV_n32\\\\32.qasm',\n",
       "  'full_path': '../QASMBench\\\\large\\\\QV_n32',\n",
       "  'available_files': ['32.qasm']},\n",
       " 'large/square_root_n45': {'size': 'large',\n",
       "  'name': 'square_root_n45',\n",
       "  'path': '../QASMBench\\\\large\\\\square_root_n45\\\\square_root_n45_transpiled.qasm',\n",
       "  'full_path': '../QASMBench\\\\large\\\\square_root_n45',\n",
       "  'available_files': ['square_root_n45.qasm',\n",
       "   'square_root_n45_transpiled.qasm']},\n",
       " 'large/square_root_n60': {'size': 'large',\n",
       "  'name': 'square_root_n60',\n",
       "  'path': '../QASMBench\\\\large\\\\square_root_n60\\\\square_root_n60_transpiled.qasm',\n",
       "  'full_path': '../QASMBench\\\\large\\\\square_root_n60',\n",
       "  'available_files': ['square_root_n60.qasm',\n",
       "   'square_root_n60_transpiled.qasm']},\n",
       " 'large/swap_test_n115': {'size': 'large',\n",
       "  'name': 'swap_test_n115',\n",
       "  'path': '../QASMBench\\\\large\\\\swap_test_n115\\\\swap_test_n115_transpiled.qasm',\n",
       "  'full_path': '../QASMBench\\\\large\\\\swap_test_n115',\n",
       "  'available_files': ['swap_test_n115.qasm',\n",
       "   'swap_test_n115_transpiled.qasm']},\n",
       " 'large/swap_test_n361': {'size': 'large',\n",
       "  'name': 'swap_test_n361',\n",
       "  'path': '../QASMBench\\\\large\\\\swap_test_n361\\\\swap_test_n361_transpiled.qasm',\n",
       "  'full_path': '../QASMBench\\\\large\\\\swap_test_n361',\n",
       "  'available_files': ['swap_test_n361.qasm',\n",
       "   'swap_test_n361_transpiled.qasm']},\n",
       " 'large/swap_test_n41': {'size': 'large',\n",
       "  'name': 'swap_test_n41',\n",
       "  'path': '../QASMBench\\\\large\\\\swap_test_n41\\\\swap_test_n41_transpiled.qasm',\n",
       "  'full_path': '../QASMBench\\\\large\\\\swap_test_n41',\n",
       "  'available_files': ['swap_test_n41.qasm', 'swap_test_n41_transpiled.qasm']},\n",
       " 'large/swap_test_n83': {'size': 'large',\n",
       "  'name': 'swap_test_n83',\n",
       "  'path': '../QASMBench\\\\large\\\\swap_test_n83\\\\swap_test_n83_transpiled.qasm',\n",
       "  'full_path': '../QASMBench\\\\large\\\\swap_test_n83',\n",
       "  'available_files': ['swap_test_n83.qasm', 'swap_test_n83_transpiled.qasm']},\n",
       " 'large/vqe_uccsd_n28': {'size': 'large',\n",
       "  'name': 'vqe_uccsd_n28',\n",
       "  'path': '../QASMBench\\\\large\\\\vqe_uccsd_n28\\\\vqe_uccsd_n28_transpiled.qasm',\n",
       "  'full_path': '../QASMBench\\\\large\\\\vqe_uccsd_n28',\n",
       "  'available_files': ['vqe_uccsd_n28.qasm', 'vqe_uccsd_n28_transpiled.qasm']},\n",
       " 'large/wstate_n118': {'size': 'large',\n",
       "  'name': 'wstate_n118',\n",
       "  'path': '../QASMBench\\\\large\\\\wstate_n118\\\\wstate_n118_transpiled.qasm',\n",
       "  'full_path': '../QASMBench\\\\large\\\\wstate_n118',\n",
       "  'available_files': ['wstate_n118.qasm', 'wstate_n118_transpiled.qasm']},\n",
       " 'large/wstate_n36': {'size': 'large',\n",
       "  'name': 'wstate_n36',\n",
       "  'path': '../QASMBench\\\\large\\\\wstate_n36\\\\wstate_n36_transpiled.qasm',\n",
       "  'full_path': '../QASMBench\\\\large\\\\wstate_n36',\n",
       "  'available_files': ['wstate_n36.qasm', 'wstate_n36_transpiled.qasm']},\n",
       " 'large/wstate_n380': {'size': 'large',\n",
       "  'name': 'wstate_n380',\n",
       "  'path': '../QASMBench\\\\large\\\\wstate_n380\\\\wstate_n380_transpiled.qasm',\n",
       "  'full_path': '../QASMBench\\\\large\\\\wstate_n380',\n",
       "  'available_files': ['wstate_n380.qasm', 'wstate_n380_transpiled.qasm']},\n",
       " 'large/wstate_n76': {'size': 'large',\n",
       "  'name': 'wstate_n76',\n",
       "  'path': '../QASMBench\\\\large\\\\wstate_n76\\\\wstate_n76_transpiled.qasm',\n",
       "  'full_path': '../QASMBench\\\\large\\\\wstate_n76',\n",
       "  'available_files': ['wstate_n76.qasm', 'wstate_n76_transpiled.qasm']}}"
      ]
     },
     "execution_count": 3,
     "metadata": {},
     "output_type": "execute_result"
    }
   ],
   "source": [
    "example_1_list_circuits()"
   ]
  },
  {
   "cell_type": "code",
   "execution_count": null,
   "id": "e8f8b7e4",
   "metadata": {},
   "outputs": [],
   "source": [
    "def example_2_test_specific_circuit():\n",
    "    \"\"\"示例2: 测试特定电路\"\"\"\n",
    "    print(\"\\n示例2: 测试特定QASMBench电路\")  # 打印示例标题\n",
    "    print(\"=\"*50)  # 打印分隔线\n",
    "    \n",
    "    # 测试一个中等规模的电路\n",
    "    circuit_path = \"../QASMBench/small/adder_n10/adder_n10_transpiled.qasm\"  # 定义电路文件路径\n",
    "    \n",
    "    # 检查电路文件是否存在\n",
    "    if os.path.exists(circuit_path):\n",
    "        results = run_benchmark_for_circuit(circuit_path)  # 如果文件存在，运行基准测试\n",
    "        return results\n",
    "    else:\n",
    "        # 如果文件不存在，打印错误信息并返回None\n",
    "        print(f\"电路文件不存在: {circuit_path}\")\n",
    "        print(\"请确保QASMBench目录结构正确\")\n",
    "        return None"
   ]
  },
  {
   "cell_type": "code",
   "execution_count": null,
   "id": "0b7d9955",
   "metadata": {},
   "outputs": [
    {
     "name": "stderr",
     "output_type": "stream",
     "text": [
      "[Qibo 0.2.21|INFO|2025-10-09 11:00:47]: Using numpy backend on /CPU:0\n"
     ]
    },
    {
     "name": "stdout",
     "output_type": "stream",
     "text": [
      "\n",
      "示例2: 测试特定QASMBench电路\n",
      "==================================================\n",
      "🚀 开始QASMBench基准测试: adder_n10_transpiled\n",
      "电路文件: ../QASMBench/small/adder_n10/adder_n10_transpiled.qasm\n",
      "================================================================================\n",
      "\n",
      "================================================================================\n",
      "开始基准测试电路: adder_n10_transpiled\n",
      "电路文件: ../QASMBench/small/adder_n10/adder_n10_transpiled.qasm\n",
      "================================================================================\n",
      "预热运行 numpy...\n",
      "正式测试运行 numpy (5次)...\n",
      "运行 1/5: 0.0109秒\n",
      "运行 2/5: 0.0117秒\n",
      "运行 3/5: 0.0133秒\n",
      "运行 4/5: 0.0108秒\n",
      "运行 5/5: 0.0117秒\n",
      "\n",
      "✅ numpy 基准测试完成\n",
      "   执行时间: 0.0117 ± 0.0009 秒\n",
      "   峰值内存: 0.02 MB\n",
      "   正确性: Passed\n"
     ]
    },
    {
     "name": "stderr",
     "output_type": "stream",
     "text": [
      "[Qibo 0.2.21|INFO|2025-10-09 11:00:55]: Using qibojit (numba) backend on /CPU:0\n"
     ]
    },
    {
     "name": "stdout",
     "output_type": "stream",
     "text": [
      "预热运行 qibojit (numba)...\n",
      "正式测试运行 qibojit (numba) (5次)...\n",
      "运行 1/5: 0.0047秒\n",
      "运行 2/5: 0.0074秒\n",
      "运行 3/5: 0.0060秒\n",
      "运行 4/5: 0.0056秒\n",
      "运行 5/5: 0.0060秒\n",
      "\n",
      "✅ qibojit (numba) 基准测试完成\n",
      "   执行时间: 0.0059 ± 0.0009 秒\n",
      "   峰值内存: 0.01 MB\n",
      "   正确性: Passed\n"
     ]
    },
    {
     "name": "stderr",
     "output_type": "stream",
     "text": [
      "[Qibo 0.2.21|INFO|2025-10-09 11:00:56]: Using qibotn (QuimbBackend) backend on /CPU:0\n"
     ]
    },
    {
     "name": "stdout",
     "output_type": "stream",
     "text": [
      "预热运行 qibotn (qutensornet)...\n"
     ]
    },
    {
     "name": "stderr",
     "output_type": "stream",
     "text": [
      "e:\\qiboenv\\qibovenv\\Lib\\site-packages\\quimb\\tensor\\circuit.py:215: SyntaxWarning: Unsupported operation ignored: creg\n",
      "  warnings.warn(\n",
      "e:\\qiboenv\\qibovenv\\Lib\\site-packages\\quimb\\tensor\\circuit.py:215: SyntaxWarning: Unsupported operation ignored: measure\n",
      "  warnings.warn(\n"
     ]
    },
    {
     "name": "stdout",
     "output_type": "stream",
     "text": [
      "正式测试运行 qibotn (qutensornet) (5次)...\n",
      "运行 1/5: 0.1401秒\n",
      "运行 2/5: 0.1393秒\n",
      "运行 3/5: 0.1270秒\n",
      "运行 4/5: 0.1237秒\n",
      "运行 5/5: 0.1174秒\n",
      "\n",
      "✅ qibotn (qutensornet) 基准测试完成\n",
      "   执行时间: 0.1295 ± 0.0089 秒\n",
      "   峰值内存: 0.34 MB\n",
      "   正确性: Passed\n"
     ]
    },
    {
     "name": "stderr",
     "output_type": "stream",
     "text": [
      "[Qibo 0.2.21|INFO|2025-10-09 11:01:20]: Using qiboml (jax) backend on /CPU:0\n"
     ]
    },
    {
     "name": "stdout",
     "output_type": "stream",
     "text": [
      "预热运行 qiboml (jax)...\n",
      "正式测试运行 qiboml (jax) (5次)...\n",
      "运行 1/5: 0.1145秒\n",
      "运行 2/5: 0.1360秒\n",
      "运行 3/5: 0.1052秒\n",
      "运行 4/5: 0.0912秒\n"
     ]
    },
    {
     "name": "stderr",
     "output_type": "stream",
     "text": [
      "[Qibo 0.2.21|INFO|2025-10-09 11:01:27]: Using qiboml (pytorch) backend on cpu\n"
     ]
    },
    {
     "name": "stdout",
     "output_type": "stream",
     "text": [
      "运行 5/5: 0.0976秒\n",
      "\n",
      "✅ qiboml (jax) 基准测试完成\n",
      "   执行时间: 0.1089 ± 0.0156 秒\n",
      "   峰值内存: 0.00 MB\n",
      "   正确性: Passed\n",
      "预热运行 qiboml (pytorch)...\n",
      "正式测试运行 qiboml (pytorch) (5次)...\n",
      "运行 1/5: 0.0422秒\n",
      "运行 2/5: 0.0461秒\n",
      "运行 3/5: 0.0409秒\n",
      "运行 4/5: 0.0418秒\n",
      "运行 5/5: 0.0445秒\n",
      "\n",
      "✅ qiboml (pytorch) 基准测试完成\n",
      "   执行时间: 0.0431 ± 0.0019 秒\n",
      "   峰值内存: 4.97 MB\n",
      "   正确性: Passed\n"
     ]
    },
    {
     "name": "stderr",
     "output_type": "stream",
     "text": [
      "[Qibo 0.2.21|INFO|2025-10-09 11:01:28]: Using qiboml (tensorflow) backend on /device:CPU:0\n"
     ]
    },
    {
     "name": "stdout",
     "output_type": "stream",
     "text": [
      "预热运行 qiboml (tensorflow)...\n",
      "正式测试运行 qiboml (tensorflow) (5次)...\n",
      "运行 1/5: 0.2308秒\n",
      "运行 2/5: 0.1751秒\n",
      "运行 3/5: 0.1715秒\n",
      "运行 4/5: 0.1708秒\n",
      "运行 5/5: 0.1724秒\n",
      "\n",
      "✅ qiboml (tensorflow) 基准测试完成\n",
      "   执行时间: 0.1841 ± 0.0234 秒\n",
      "   峰值内存: 0.00 MB\n",
      "   正确性: Passed\n",
      "CSV报告已生成: qibobench/reports/adder_n10_transpiled/benchmark_report.csv\n",
      "Markdown报告已生成: qibobench/reports/adder_n10_transpiled/benchmark_report.md\n",
      "JSON报告已生成: qibobench/reports/adder_n10_transpiled/benchmark_report.json\n",
      "\n",
      "================================================================================\n",
      "📊 基准测试总结\n",
      "================================================================================\n",
      "成功测试的后端 (按执行时间排序):\n",
      "1. qibojit (numba): 0.0059秒 (1.98x)\n",
      "2. numpy: 0.0117秒\n",
      "3. qiboml (pytorch): 0.0431秒 (0.27x)\n",
      "4. qiboml (jax): 0.1089秒 (0.11x)\n",
      "5. qibotn (qutensornet): 0.1295秒 (0.09x)\n",
      "6. qiboml (tensorflow): 0.1841秒 (0.06x)\n",
      "\n",
      "报告文件已生成:\n",
      "  - adder_n10_transpiled_benchmark_report.csv\n",
      "  - adder_n10_transpiled_benchmark_report.markdown\n",
      "  - adder_n10_transpiled_benchmark_report.json\n",
      "\n",
      "🎯 基准测试完成!\n"
     ]
    },
    {
     "data": {
      "text/plain": [
       "{'numpy': <qasmbench_runner.QASMBenchMetrics at 0x28bb2b39f70>,\n",
       " 'qibojit (numba)': <qasmbench_runner.QASMBenchMetrics at 0x28ba0cdf080>,\n",
       " 'qibotn (qutensornet)': <qasmbench_runner.QASMBenchMetrics at 0x28bb655acf0>,\n",
       " 'qiboml (jax)': <qasmbench_runner.QASMBenchMetrics at 0x28bb7b83b00>,\n",
       " 'qiboml (pytorch)': <qasmbench_runner.QASMBenchMetrics at 0x28bcc0a7ce0>,\n",
       " 'qiboml (tensorflow)': <qasmbench_runner.QASMBenchMetrics at 0x28bcd87b410>}"
      ]
     },
     "execution_count": 5,
     "metadata": {},
     "output_type": "execute_result"
    }
   ],
   "source": [
    "# 调用名为 example_2_test_specific_circuit 的函数\n",
    "# 这个函数是用于测试特定电路的功能\n",
    "example_2_test_specific_circuit()"
   ]
  },
  {
   "cell_type": "code",
   "execution_count": null,
   "id": "6e8d8f34",
   "metadata": {},
   "outputs": [
    {
     "data": {
      "text/plain": [
       "True"
      ]
     },
     "execution_count": 8,
     "metadata": {},
     "output_type": "execute_result"
    }
   ],
   "source": [
    "# 导入os模块，用于处理文件路径\n",
    "import os\n",
    "# 定义量子电路文件的路径\n",
    "# 该路径指向QASMBench基准测试中medium难度的量子傅里叶变换(Quantum Fourier Transform)电路\n",
    "# 该电路包含18个量子比特(qft_n18)\n",
    "circuit_path = \"../QASMBench/medium/qft_n18/qft_n18.qasm\"\n",
    "\n",
    "# 检查指定路径的文件是否存在\n",
    "# os.path.exists()函数会返回布尔值，如果文件存在则返回True，否则返回False\n",
    "os.path.exists(circuit_path)"
   ]
  },
  {
   "cell_type": "code",
   "execution_count": 10,
   "id": "6f2bbfc4",
   "metadata": {},
   "outputs": [
    {
     "name": "stderr",
     "output_type": "stream",
     "text": [
      "[Qibo 0.2.21|INFO|2025-10-09 09:49:11]: Using numpy backend on /CPU:0\n"
     ]
    },
    {
     "name": "stderr",
     "output_type": "stream",
     "text": [
      "[Qibo 0.2.21|INFO|2025-10-09 09:49:11]: Using qibojit (numba) backend on /CPU:0\n",
      "[Qibo 0.2.21|INFO|2025-10-09 09:49:11]: Using qibotn (QuimbBackend) backend on /CPU:0\n",
      "[Qibo 0.2.21|INFO|2025-10-09 09:49:11]: Using qiboml (jax) backend on /CPU:0\n",
      "[Qibo 0.2.21|INFO|2025-10-09 09:49:11]: Using qiboml (pytorch) backend on cpu\n",
      "[Qibo 0.2.21|INFO|2025-10-09 09:49:11]: Using qiboml (tensorflow) backend on /device:CPU:0\n"
     ]
    },
    {
     "name": "stdout",
     "output_type": "stream",
     "text": [
      "\n",
      "示例3: 通过电路名称测试\n",
      "==================================================\n",
      "搜索目录: ../QASMBench\\small\n",
      "搜索目录: ../QASMBench\\medium\n",
      "搜索目录: ../QASMBench\\large\n",
      "测试电路: small/adder_n10\n",
      "电路文件: ../QASMBench\\small\\adder_n10\\adder_n10.qasm\n",
      "\n",
      "================================================================================\n",
      "开始基准测试电路: small/adder_n10\n",
      "电路文件: ../QASMBench\\small\\adder_n10\\adder_n10.qasm\n",
      "================================================================================\n",
      "加载电路失败: '>=' not supported between instances of 'str' and 'int'\n",
      "加载电路失败: '>=' not supported between instances of 'str' and 'int'\n",
      "加载电路失败: '>=' not supported between instances of 'str' and 'int'\n",
      "加载电路失败: '>=' not supported between instances of 'str' and 'int'\n",
      "加载电路失败: '>=' not supported between instances of 'str' and 'int'\n",
      "加载电路失败: '>=' not supported between instances of 'str' and 'int'\n",
      "CSV报告已生成: qibobench/small_adder_n10_benchmark_report.csv\n",
      "Markdown报告已生成: qibobench/small_adder_n10_benchmark_report.md\n",
      "JSON报告已生成: qibobench/small_adder_n10_benchmark_report.json\n"
     ]
    },
    {
     "data": {
      "text/plain": [
       "{'numpy': <qasmbench_runner.QASMBenchMetrics at 0x21822838980>,\n",
       " 'qibojit (numba)': <qasmbench_runner.QASMBenchMetrics at 0x21822817410>,\n",
       " 'qibotn (qutensornet)': <qasmbench_runner.QASMBenchMetrics at 0x21822471640>,\n",
       " 'qiboml (jax)': <qasmbench_runner.QASMBenchMetrics at 0x21821f67740>,\n",
       " 'qiboml (pytorch)': <qasmbench_runner.QASMBenchMetrics at 0x21822487f50>,\n",
       " 'qiboml (tensorflow)': <qasmbench_runner.QASMBenchMetrics at 0x218224b5250>}"
      ]
     },
     "execution_count": 10,
     "metadata": {},
     "output_type": "execute_result"
    }
   ],
   "source": [
    "example_3_test_by_name()"
   ]
  },
  {
   "cell_type": "code",
   "execution_count": 3,
   "id": "2407f6ac",
   "metadata": {},
   "outputs": [
    {
     "data": {
      "image/png": "[encoded data removed]",
      "text/plain": [
       "<Figure size 1080x300 with 1 Axes>"
      ]
     },
     "metadata": {},
     "output_type": "display_data"
    },
    {
     "data": {
      "image/png": "[encoded data removed]",
      "text/plain": [
       "<Figure size 1440x400 with 1 Axes>"
      ]
     },
     "metadata": {},
     "output_type": "display_data"
    },
    {
     "data": {
      "image/png": "[encoded data removed]",
      "text/plain": [
       "<Figure size 1440x400 with 1 Axes>"
      ]
     },
     "metadata": {},
     "output_type": "display_data"
    }
   ],
   "source": [
    "import matplotlib.pyplot as plt\n",
    "import qibo\n",
    "from qibo import gates, models\n",
    "from qibo.models import QFT\n",
    "\n",
    "# new plot function based on matplotlib\n",
    "from qibo.ui import plot_circuit\n",
    "\n",
    "# create a 5-qubits QFT circuit\n",
    "circuit = QFT(5)\n",
    "circuit.add(gates.M(qubit) for qubit in range(2))\n",
    "\n",
    "# print circuit with default options (default black & white style, scale factor of 0.6 and clustered gates)\n",
    "plot_circuit(circuit);\n",
    "\n",
    "# print the circuit with built-int style \"garnacha\", clustering gates and a custom scale factor\n",
    "# built-in styles: \"garnacha\", \"fardelejo\", \"quantumspain\", \"color-blind\", \"cachirulo\" or custom dictionary\n",
    "plot_circuit(circuit, scale = 0.8, cluster_gates = True, style=\"garnacha\");\n",
    "\n",
    "# plot the Qibo circuit with a custom style\n",
    "custom_style = {\n",
    "    \"facecolor\" : \"#6497bf\",\n",
    "    \"edgecolor\" : \"#01016f\",\n",
    "    \"linecolor\" : \"#01016f\",\n",
    "    \"textcolor\" : \"#01016f\",\n",
    "    \"fillcolor\" : \"#ffb9b9\",\n",
    "    \"gatecolor\" : \"#d8031c\",\n",
    "    \"controlcolor\" : \"#360000\"\n",
    "}\n",
    "\n",
    "plot_circuit(circuit, scale = 0.8, cluster_gates = True, style=custom_style);"
   ]
  },
  {
   "cell_type": "code",
   "execution_count": 5,
   "id": "35c9a7b9",
   "metadata": {},
   "outputs": [],
   "source": [
    "circuit2 = QFT(6)"
   ]
  },
  {
   "cell_type": "code",
   "execution_count": 16,
   "id": "f46e748f",
   "metadata": {},
   "outputs": [
    {
     "data": {
      "image/png": "[encoded data removed]",
      "text/plain": [
       "<Figure size 1440x360 with 1 Axes>"
      ]
     },
     "metadata": {},
     "output_type": "display_data"
    }
   ],
   "source": [
    "plot_circuit(circuit2)[1].savefig(\"qft_n6.png\")"
   ]
  },
  {
   "cell_type": "code",
   "execution_count": 17,
   "id": "79b34537",
   "metadata": {},
   "outputs": [
    {
     "data": {
      "image/png": "[encoded data removed]",
      "text/plain": [
       "<Figure size 2400x480 with 1 Axes>"
      ]
     },
     "metadata": {},
     "output_type": "display_data"
    }
   ],
   "source": [
    "circuit_name = \"qft_n8\"\n",
    "circuit = QFT(8)\n",
    "fig = plot_circuit(circuit)\n",
    "\n",
    "\n"
   ]
  },
  {
   "cell_type": "markdown",
   "id": "82117e77",
   "metadata": {},
   "source": [
    "# 测试加载电路为qibo.Circuit对象"
   ]
  },
  {
   "cell_type": "code",
   "execution_count": 49,
   "id": "42e71d28",
   "metadata": {},
   "outputs": [],
   "source": [
    "from qibo import Circuit"
   ]
  },
  {
   "cell_type": "code",
   "execution_count": null,
   "id": "217a5bb7",
   "metadata": {},
   "outputs": [],
   "source": [
    "qasm_file = \"../QASMBench/small/hhl_n7/hhl_n7_transpiled.qasm\"\n",
    "        \n",
    "with open(qasm_file, \"r\") as file:\n",
    "    qasm_code = file.read()\n",
    "    # 移除barrier语句   \n",
    "    #  将输入的QASM代码按行分割\n",
    "    lines = qasm_code.split('\\n')\n",
    "    filtered_lines = [line for line in lines if 'barrier' not in line] #  使用列表推导式过滤掉包含'barrier'的行\n",
    "    clean_qasm_code = '\\n'.join(filtered_lines) #  将过滤后的行重新组合成完整的QASM代码\n",
    "            \n",
    "    circuit = Circuit.from_qasm(clean_qasm_code) #  使用过滤后的QASM代码创建量子电路\n",
    "            \n",
    "            "
   ]
  },
  {
   "cell_type": "code",
   "execution_count": 55,
   "id": "280fd3c8",
   "metadata": {},
   "outputs": [
    {
     "data": {
      "text/plain": [
       "'OPENQASM 2.0;\\ninclude \"qelib1.inc\";\\nqreg q0[1];\\nqreg q1[5];\\nqreg q2[1];\\ncreg meas[7];\\nx q0[0];\\nrz(-pi/2) q0[0];\\nrz(pi/2) q1[0];\\nsx q1[0];\\nrz(2.2390639) q1[0];\\ncx q1[0],q0[0];\\nrz(2.4733252) q0[0];\\nsx q0[0];\\nrz(-2.1307216) q0[0];\\nsx q0[0];\\ncx q1[0],q0[0];\\nsx q0[0];\\nrz(-2.1307216) q0[0];\\nsx q0[0];\\nrz(-2.4733252) q0[0];\\nrz(-1.7108829) q1[0];\\nrz(pi/2) q1[1];\\nsx q1[1];\\nrz(2.2390639) q1[1];\\ncx q1[1],q0[0];\\nrz(2.4733252) q0[0];\\nsx q0[0];\\nrz(-2.1307216) q0[0];\\nsx q0[0];\\ncx q1[1],q0[0];\\nsx q0[0];\\nrz(-2.1307216) q0[0];\\nsx q0[0];\\nrz(-2.4733252) q0[0];\\nrz(0.6682675) q1[1];\\ncx q1[1],q0[0];\\nrz(2.4733252) q0[0];\\nsx q0[0];\\nrz(-2.1307216) q0[0];\\nsx q0[0];\\ncx q1[1],q0[0];\\nsx q0[0];\\nrz(-2.1307216) q0[0];\\nsx q0[0];\\nrz(-2.4733252) q0[0];\\nrz(-3.4217658) q1[1];\\nrz(pi/2) q1[2];\\nsx q1[2];\\nrz(2.2390639) q1[2];\\ncx q1[2],q0[0];\\nrz(2.4733252) q0[0];\\nsx q0[0];\\nrz(-2.1307216) q0[0];\\nsx q0[0];\\ncx q1[2],q0[0];\\nsx q0[0];\\nrz(-2.1307216) q0[0];\\nsx q0[0];\\nrz(-2.4733252) q0[0];\\nrz(0.6682675) q1[2];\\ncx q1[2],q0[0];\\nrz(2.4733252) q0[0];\\nsx q0[0];\\nrz(-2.1307216) q0[0];\\nsx q0[0];\\ncx q1[2],q0[0];\\nsx q0[0];\\nrz(-2.1307216) q0[0];\\nsx q0[0];\\nrz(-2.4733252) q0[0];\\nrz(0.6682675) q1[2];\\ncx q1[2],q0[0];\\nrz(2.4733252) q0[0];\\nsx q0[0];\\nrz(-2.1307216) q0[0];\\nsx q0[0];\\ncx q1[2],q0[0];\\nsx q0[0];\\nrz(-2.1307216) q0[0];\\nsx q0[0];\\nrz(-2.4733252) q0[0];\\nrz(0.6682675) q1[2];\\ncx q1[2],q0[0];\\nrz(2.4733252) q0[0];\\nsx q0[0];\\nrz(-2.1307216) q0[0];\\nsx q0[0];\\ncx q1[2],q0[0];\\nsx q0[0];\\nrz(-2.1307216) q0[0];\\nsx q0[0];\\nrz(-2.4733252) q0[0];\\nrz(-0.56034639) q1[2];\\nrz(pi/2) q1[3];\\nsx q1[3];\\nrz(2.2390639) q1[3];\\ncx q1[3],q0[0];\\nrz(2.4733252) q0[0];\\nsx q0[0];\\nrz(-2.1307216) q0[0];\\nsx q0[0];\\ncx q1[3],q0[0];\\nsx q0[0];\\nrz(-2.1307216) q0[0];\\nsx q0[0];\\nrz(-2.4733252) q0[0];\\nrz(0.6682675) q1[3];\\ncx q1[3],q0[0];\\nrz(2.4733252) q0[0];\\nsx q0[0];\\nrz(-2.1307216) q0[0];\\nsx q0[0];\\ncx q1[3],q0[0];\\nsx q0[0];\\nrz(-2.1307216) q0[0];\\nsx q0[0];\\nrz(-2.4733252) q0[0];\\nrz(0.6682675) q1[3];\\ncx q1[3],q0[0];\\nrz(2.4733252) q0[0];\\nsx q0[0];\\nrz(-2.1307216) q0[0];\\nsx q0[0];\\ncx q1[3],q0[0];\\nsx q0[0];\\nrz(-2.1307216) q0[0];\\nsx q0[0];\\nrz(-2.4733252) q0[0];\\nrz(0.6682675) q1[3];\\ncx q1[3],q0[0];\\nrz(2.4733252) q0[0];\\nsx q0[0];\\nrz(-2.1307216) q0[0];\\nsx q0[0];\\ncx q1[3],q0[0];\\nsx q0[0];\\nrz(-2.1307216) q0[0];\\nsx q0[0];\\nrz(-2.4733252) q0[0];\\nrz(0.6682675) q1[3];\\ncx q1[3],q0[0];\\nrz(2.4733252) q0[0];\\nsx q0[0];\\nrz(-2.1307216) q0[0];\\nsx q0[0];\\ncx q1[3],q0[0];\\nsx q0[0];\\nrz(-2.1307216) q0[0];\\nsx q0[0];\\nrz(-2.4733252) q0[0];\\nrz(0.6682675) q1[3];\\ncx q1[3],q0[0];\\nrz(2.4733252) q0[0];\\nsx q0[0];\\nrz(-2.1307216) q0[0];\\nsx q0[0];\\ncx q1[3],q0[0];\\nsx q0[0];\\nrz(-2.1307216) q0[0];\\nsx q0[0];\\nrz(-2.4733252) q0[0];\\nrz(0.6682675) q1[3];\\ncx q1[3],q0[0];\\nrz(2.4733252) q0[0];\\nsx q0[0];\\nrz(-2.1307216) q0[0];\\nsx q0[0];\\ncx q1[3],q0[0];\\nsx q0[0];\\nrz(-2.1307216) q0[0];\\nsx q0[0];\\nrz(-2.4733252) q0[0];\\nrz(0.6682675) q1[3];\\ncx q1[3],q0[0];\\nrz(2.4733252) q0[0];\\nsx q0[0];\\nrz(-2.1307216) q0[0];\\nsx q0[0];\\ncx q1[3],q0[0];\\nsx q0[0];\\nrz(-2.1307216) q0[0];\\nsx q0[0];\\nrz(-2.4733252) q0[0];\\nrz(-1.1206928) q1[3];\\nrz(pi/2) q1[4];\\nsx q1[4];\\nrz(2.2390639) q1[4];\\ncx q1[4],q0[0];\\nrz(2.4733252) q0[0];\\nsx q0[0];\\nrz(-2.1307216) q0[0];\\nsx q0[0];\\ncx q1[4],q0[0];\\nsx q0[0];\\nrz(-2.1307216) q0[0];\\nsx q0[0];\\nrz(-2.4733252) q0[0];\\nrz(0.6682675) q1[4];\\ncx q1[4],q0[0];\\nrz(2.4733252) q0[0];\\nsx q0[0];\\nrz(-2.1307216) q0[0];\\nsx q0[0];\\ncx q1[4],q0[0];\\nsx q0[0];\\nrz(-2.1307216) q0[0];\\nsx q0[0];\\nrz(-2.4733252) q0[0];\\nrz(0.6682675) q1[4];\\ncx q1[4],q0[0];\\nrz(2.4733252) q0[0];\\nsx q0[0];\\nrz(-2.1307216) q0[0];\\nsx q0[0];\\ncx q1[4],q0[0];\\nsx q0[0];\\nrz(-2.1307216) q0[0];\\nsx q0[0];\\nrz(-2.4733252) q0[0];\\nrz(0.6682675) q1[4];\\ncx q1[4],q0[0];\\nrz(2.4733252) q0[0];\\nsx q0[0];\\nrz(-2.1307216) q0[0];\\nsx q0[0];\\ncx q1[4],q0[0];\\nsx q0[0];\\nrz(-2.1307216) q0[0];\\nsx q0[0];\\nrz(-2.4733252) q0[0];\\nrz(0.6682675) q1[4];\\ncx q1[4],q0[0];\\nrz(2.4733252) q0[0];\\nsx q0[0];\\nrz(-2.1307216) q0[0];\\nsx q0[0];\\ncx q1[4],q0[0];\\nsx q0[0];\\nrz(-2.1307216) q0[0];\\nsx q0[0];\\nrz(-2.4733252) q0[0];\\nrz(0.6682675) q1[4];\\ncx q1[4],q0[0];\\nrz(2.4733252) q0[0];\\nsx q0[0];\\nrz(-2.1307216) q0[0];\\nsx q0[0];\\ncx q1[4],q0[0];\\nsx q0[0];\\nrz(-2.1307216) q0[0];\\nsx q0[0];\\nrz(-2.4733252) q0[0];\\nrz(0.6682675) q1[4];\\ncx q1[4],q0[0];\\nrz(2.4733252) q0[0];\\nsx q0[0];\\nrz(-2.1307216) q0[0];\\nsx q0[0];\\ncx q1[4],q0[0];\\nsx q0[0];\\nrz(-2.1307216) q0[0];\\nsx q0[0];\\nrz(-2.4733252) q0[0];\\nrz(0.6682675) q1[4];\\ncx q1[4],q0[0];\\nrz(2.4733252) q0[0];\\nsx q0[0];\\nrz(-2.1307216) q0[0];\\nsx q0[0];\\ncx q1[4],q0[0];\\nsx q0[0];\\nrz(-2.1307216) q0[0];\\nsx q0[0];\\nrz(-2.4733252) q0[0];\\nrz(0.6682675) q1[4];\\ncx q1[4],q0[0];\\nrz(2.4733252) q0[0];\\nsx q0[0];\\nrz(-2.1307216) q0[0];\\nsx q0[0];\\ncx q1[4],q0[0];\\nsx q0[0];\\nrz(-2.1307216) q0[0];\\nsx q0[0];\\nrz(-2.4733252) q0[0];\\nrz(0.6682675) q1[4];\\ncx q1[4],q0[0];\\nrz(2.4733252) q0[0];\\nsx q0[0];\\nrz(-2.1307216) q0[0];\\nsx q0[0];\\ncx q1[4],q0[0];\\nsx q0[0];\\nrz(-2.1307216) q0[0];\\nsx q0[0];\\nrz(-2.4733252) q0[0];\\nrz(0.6682675) q1[4];\\ncx q1[4],q0[0];\\nrz(2.4733252) q0[0];\\nsx q0[0];\\nrz(-2.1307216) q0[0];\\nsx q0[0];\\ncx q1[4],q0[0];\\nsx q0[0];\\nrz(-2.1307216) q0[0];\\nsx q0[0];\\nrz(-2.4733252) q0[0];\\nrz(0.6682675) q1[4];\\ncx q1[4],q0[0];\\nrz(2.4733252) q0[0];\\nsx q0[0];\\nrz(-2.1307216) q0[0];\\nsx q0[0];\\ncx q1[4],q0[0];\\nsx q0[0];\\nrz(-2.1307216) q0[0];\\nsx q0[0];\\nrz(-2.4733252) q0[0];\\nrz(0.6682675) q1[4];\\ncx q1[4],q0[0];\\nrz(2.4733252) q0[0];\\nsx q0[0];\\nrz(-2.1307216) q0[0];\\nsx q0[0];\\ncx q1[4],q0[0];\\nsx q0[0];\\nrz(-2.1307216) q0[0];\\nsx q0[0];\\nrz(-2.4733252) q0[0];\\nrz(0.6682675) q1[4];\\ncx q1[4],q0[0];\\nrz(2.4733252) q0[0];\\nsx q0[0];\\nrz(-2.1307216) q0[0];\\nsx q0[0];\\ncx q1[4],q0[0];\\nsx q0[0];\\nrz(-2.1307216) q0[0];\\nsx q0[0];\\nrz(-2.4733252) q0[0];\\nrz(0.6682675) q1[4];\\ncx q1[4],q0[0];\\nrz(2.4733252) q0[0];\\nsx q0[0];\\nrz(-2.1307216) q0[0];\\nsx q0[0];\\ncx q1[4],q0[0];\\nsx q0[0];\\nrz(-2.1307216) q0[0];\\nsx q0[0];\\nrz(-2.4733252) q0[0];\\nrz(0.6682675) q1[4];\\ncx q1[4],q0[0];\\nrz(2.4733252) q0[0];\\nsx q0[0];\\nrz(-2.1307216) q0[0];\\nsx q0[0];\\ncx q1[4],q0[0];\\nsx q0[0];\\nrz(-2.1307216) q0[0];\\nsx q0[0];\\nrz(0.66826745) q0[0];\\nrz(0.90020707) q1[4];\\nsx q1[4];\\nrz(pi/2) q1[4];\\ncx q1[3],q1[4];\\nrz(pi/4) q1[4];\\ncx q1[3],q1[4];\\nrz(pi/2) q1[3];\\nsx q1[3];\\nrz(pi/2) q1[3];\\nrz(-pi/4) q1[4];\\ncx q1[2],q1[4];\\nrz(pi/8) q1[4];\\ncx q1[2],q1[4];\\nrz(-pi/4) q1[2];\\ncx q1[2],q1[3];\\nrz(pi/4) q1[3];\\ncx q1[2],q1[3];\\nrz(pi/2) q1[2];\\nsx q1[2];\\nrz(pi/2) q1[2];\\nrz(-pi/4) q1[3];\\nrz(-pi/8) q1[4];\\ncx q1[1],q1[4];\\nrz(pi/16) q1[4];\\ncx q1[1],q1[4];\\nrz(-pi/8) q1[1];\\ncx q1[1],q1[3];\\nrz(pi/8) q1[3];\\ncx q1[1],q1[3];\\nrz(-pi/4) q1[1];\\ncx q1[1],q1[2];\\nrz(pi/4) q1[2];\\ncx q1[1],q1[2];\\nrz(pi/2) q1[1];\\nsx q1[1];\\nrz(pi/2) q1[1];\\nrz(-pi/4) q1[2];\\nrz(-pi/8) q1[3];\\nrz(-pi/16) q1[4];\\ncx q1[0],q1[4];\\nrz(pi/32) q1[4];\\ncx q1[0],q1[4];\\nrz(-pi/16) q1[0];\\ncx q1[0],q1[3];\\nrz(pi/16) q1[3];\\ncx q1[0],q1[3];\\nrz(-pi/8) q1[0];\\ncx q1[0],q1[2];\\nrz(pi/8) q1[2];\\ncx q1[0],q1[2];\\nrz(-pi/4) q1[0];\\ncx q1[0],q1[1];\\nrz(pi/4) q1[1];\\ncx q1[0],q1[1];\\nrz(pi/2) q1[0];\\nsx q1[0];\\nrz(pi/2) q1[0];\\nrz(-pi/4) q1[1];\\nrz(-pi/8) q1[2];\\nrz(-pi/16) q1[3];\\nrz(-pi/32) q1[4];\\nrz(-pi) q2[0];\\nsx q2[0];\\nrz(2.8519145) q2[0];\\nsx q2[0];\\ncx q1[4],q2[0];\\nsx q2[0];\\nrz(3.0627856) q2[0];\\nsx q2[0];\\nrz(-pi) q2[0];\\ncx q1[3],q2[0];\\nsx q2[0];\\nrz(3.0341386) q2[0];\\nsx q2[0];\\nrz(-pi) q2[0];\\ncx q1[4],q2[0];\\nrz(-pi) q2[0];\\nsx q2[0];\\nrz(3.0821596) q2[0];\\nsx q2[0];\\ncx q1[2],q2[0];\\nrz(-pi) q2[0];\\nsx q2[0];\\nrz(3.1045059) q2[0];\\nsx q2[0];\\ncx q1[4],q2[0];\\nsx q2[0];\\nrz(3.0304584) q2[0];\\nsx q2[0];\\nrz(-pi) q2[0];\\ncx q1[3],q2[0];\\nsx q2[0];\\nrz(3.0511235) q2[0];\\nsx q2[0];\\nrz(-pi) q2[0];\\ncx q1[4],q2[0];\\nrz(-pi) q2[0];\\nsx q2[0];\\nrz(3.0251524) q2[0];\\nsx q2[0];\\ncx q1[1],q2[0];\\nrz(-pi) q2[0];\\nsx q2[0];\\nrz(3.0439808) q2[0];\\nsx q2[0];\\ncx q1[4],q2[0];\\nsx q2[0];\\nrz(3.0495359) q2[0];\\nsx q2[0];\\nrz(-pi) q2[0];\\ncx q1[3],q2[0];\\nsx q2[0];\\nrz(3.0300481) q2[0];\\nsx q2[0];\\nrz(-pi) q2[0];\\ncx q1[4],q2[0];\\nrz(-pi) q2[0];\\nsx q2[0];\\nrz(3.1076068) q2[0];\\nsx q2[0];\\ncx q1[2],q2[0];\\nrz(-pi) q2[0];\\nsx q2[0];\\nrz(3.0919686) q2[0];\\nsx q2[0];\\ncx q1[4],q2[0];\\nsx q2[0];\\nrz(3.0332747) q2[0];\\nsx q2[0];\\nrz(-pi) q2[0];\\ncx q1[3],q2[0];\\nsx q2[0];\\nrz(3.0578199) q2[0];\\nsx q2[0];\\nrz(-pi) q2[0];\\ncx q1[4],q2[0];\\nrz(-pi) q2[0];\\nsx q2[0];\\nrz(2.9793553) q2[0];\\nsx q2[0];\\ncx q1[0],q2[0];\\nrz(-pi) q2[0];\\nsx q2[0];\\nrz(2.99476) q2[0];\\nsx q2[0];\\ncx q1[4],q2[0];\\nsx q2[0];\\nrz(3.0571235) q2[0];\\nsx q2[0];\\nrz(-pi) q2[0];\\ncx q1[3],q2[0];\\nsx q2[0];\\nrz(3.0331795) q2[0];\\nsx q2[0];\\nrz(-pi) q2[0];\\ncx q1[4],q2[0];\\nrz(-pi) q2[0];\\nsx q2[0];\\nrz(3.0933526) q2[0];\\nsx q2[0];\\ncx q1[2],q2[0];\\nrz(-pi) q2[0];\\nsx q2[0];\\nrz(3.1079691) q2[0];\\nsx q2[0];\\ncx q1[4],q2[0];\\nsx q2[0];\\nrz(3.0300152) q2[0];\\nsx q2[0];\\nrz(-pi) q2[0];\\ncx q1[3],q2[0];\\nsx q2[0];\\nrz(3.0493529) q2[0];\\nsx q2[0];\\nrz(-pi) q2[0];\\ncx q1[4],q2[0];\\nrz(-pi) q2[0];\\nsx q2[0];\\nrz(3.0466842) q2[0];\\nsx q2[0];\\ncx q1[1],q2[0];\\nrz(-pi) q2[0];\\nsx q2[0];\\nrz(3.0332036) q2[0];\\nsx q2[0];\\ncx q1[4],q2[0];\\nsx q2[0];\\nrz(3.0507441) q2[0];\\nsx q2[0];\\nrz(-pi) q2[0];\\ncx q1[3],q2[0];\\nsx q2[0];\\nrz(3.030404) q2[0];\\nsx q2[0];\\nrz(-pi) q2[0];\\ncx q1[4],q2[0];\\nrz(-pi) q2[0];\\nsx q2[0];\\nrz(3.1052593) q2[0];\\nsx q2[0];\\ncx q1[2],q2[0];\\nrz(-pi) q2[0];\\nsx q2[0];\\nrz(3.086239) q2[0];\\nsx q2[0];\\ncx q1[4],q2[0];\\nsx q2[0];\\nrz(3.0339437) q2[0];\\nsx q2[0];\\nrz(-pi) q2[0];\\ncx q1[3],q2[0];\\nsx q2[0];\\nrz(3.0607387) q2[0];\\nsx q2[0];\\nrz(-pi) q2[0];\\ncx q1[4],q2[0];\\nrz(-pi) q2[0];\\nsx q2[0];\\nrz(2.9405744) q2[0];\\nsx q2[0];\\ncx q1[0],q2[0];\\nrz(pi/2) q1[0];\\nsx q1[0];\\nrz(3*pi/4) q1[0];\\ncx q1[0],q1[1];\\nrz(-pi/4) q1[1];\\ncx q1[0],q1[1];\\nrz(pi/8) q1[0];\\ncx q1[0],q1[2];\\nrz(3*pi/4) q1[1];\\nsx q1[1];\\nrz(3*pi/4) q1[1];\\nrz(-pi/8) q1[2];\\ncx q1[0],q1[2];\\nrz(pi/16) q1[0];\\ncx q1[0],q1[3];\\nrz(pi/8) q1[2];\\ncx q1[1],q1[2];\\nrz(-pi/4) q1[2];\\ncx q1[1],q1[2];\\nrz(pi/8) q1[1];\\nrz(3*pi/4) q1[2];\\nsx q1[2];\\nrz(3*pi/4) q1[2];\\nrz(-pi/16) q1[3];\\ncx q1[0],q1[3];\\nrz(pi/32) q1[0];\\ncx q1[0],q1[4];\\nrz(pi/16) q1[3];\\ncx q1[1],q1[3];\\nrz(-pi/8) q1[3];\\ncx q1[1],q1[3];\\nrz(pi/16) q1[1];\\nrz(pi/8) q1[3];\\ncx q1[2],q1[3];\\nrz(-pi/4) q1[3];\\ncx q1[2],q1[3];\\nrz(pi/8) q1[2];\\nrz(3*pi/4) q1[3];\\nsx q1[3];\\nrz(3*pi/4) q1[3];\\nrz(-pi/32) q1[4];\\ncx q1[0],q1[4];\\nrz(-0.6682675) q1[0];\\nrz(pi/32) q1[4];\\ncx q1[1],q1[4];\\nrz(-pi/16) q1[4];\\ncx q1[1],q1[4];\\nrz(-0.6682675) q1[1];\\nrz(pi/16) q1[4];\\ncx q1[2],q1[4];\\nrz(-pi/8) q1[4];\\ncx q1[2],q1[4];\\nrz(-0.6682675) q1[2];\\nrz(pi/8) q1[4];\\ncx q1[3],q1[4];\\nrz(-pi/4) q1[4];\\ncx q1[3],q1[4];\\nrz(-0.6682675) q1[3];\\nrz(3*pi/4) q1[4];\\nsx q1[4];\\nrz(0.90252883) q1[4];\\ncx q1[4],q0[0];\\nrz(-2.4733252) q0[0];\\nsx q0[0];\\nrz(-2.1307216) q0[0];\\nsx q0[0];\\ncx q1[4],q0[0];\\nsx q0[0];\\nrz(-2.1307216) q0[0];\\nsx q0[0];\\nrz(2.4733252) q0[0];\\nrz(-0.6682675) q1[4];\\ncx q1[4],q0[0];\\nrz(-2.4733252) q0[0];\\nsx q0[0];\\nrz(-2.1307216) q0[0];\\nsx q0[0];\\ncx q1[4],q0[0];\\nsx q0[0];\\nrz(-2.1307216) q0[0];\\nsx q0[0];\\nrz(2.4733252) q0[0];\\nrz(-0.6682675) q1[4];\\ncx q1[4],q0[0];\\nrz(-2.4733252) q0[0];\\nsx q0[0];\\nrz(-2.1307216) q0[0];\\nsx q0[0];\\ncx q1[4],q0[0];\\nsx q0[0];\\nrz(-2.1307216) q0[0];\\nsx q0[0];\\nrz(2.4733252) q0[0];\\nrz(-0.6682675) q1[4];\\ncx q1[4],q0[0];\\nrz(-2.4733252) q0[0];\\nsx q0[0];\\nrz(-2.1307216) q0[0];\\nsx q0[0];\\ncx q1[4],q0[0];\\nsx q0[0];\\nrz(-2.1307216) q0[0];\\nsx q0[0];\\nrz(2.4733252) q0[0];\\nrz(-0.6682675) q1[4];\\ncx q1[4],q0[0];\\nrz(-2.4733252) q0[0];\\nsx q0[0];\\nrz(-2.1307216) q0[0];\\nsx q0[0];\\ncx q1[4],q0[0];\\nsx q0[0];\\nrz(-2.1307216) q0[0];\\nsx q0[0];\\nrz(2.4733252) q0[0];\\nrz(-0.6682675) q1[4];\\ncx q1[4],q0[0];\\nrz(-2.4733252) q0[0];\\nsx q0[0];\\nrz(-2.1307216) q0[0];\\nsx q0[0];\\ncx q1[4],q0[0];\\nsx q0[0];\\nrz(-2.1307216) q0[0];\\nsx q0[0];\\nrz(2.4733252) q0[0];\\nrz(-0.6682675) q1[4];\\ncx q1[4],q0[0];\\nrz(-2.4733252) q0[0];\\nsx q0[0];\\nrz(-2.1307216) q0[0];\\nsx q0[0];\\ncx q1[4],q0[0];\\nsx q0[0];\\nrz(-2.1307216) q0[0];\\nsx q0[0];\\nrz(2.4733252) q0[0];\\nrz(-0.6682675) q1[4];\\ncx q1[4],q0[0];\\nrz(-2.4733252) q0[0];\\nsx q0[0];\\nrz(-2.1307216) q0[0];\\nsx q0[0];\\ncx q1[4],q0[0];\\nsx q0[0];\\nrz(-2.1307216) q0[0];\\nsx q0[0];\\nrz(2.4733252) q0[0];\\nrz(-0.6682675) q1[4];\\ncx q1[4],q0[0];\\nrz(-2.4733252) q0[0];\\nsx q0[0];\\nrz(-2.1307216) q0[0];\\nsx q0[0];\\ncx q1[4],q0[0];\\nsx q0[0];\\nrz(-2.1307216) q0[0];\\nsx q0[0];\\nrz(2.4733252) q0[0];\\nrz(-0.6682675) q1[4];\\ncx q1[4],q0[0];\\nrz(-2.4733252) q0[0];\\nsx q0[0];\\nrz(-2.1307216) q0[0];\\nsx q0[0];\\ncx q1[4],q0[0];\\nsx q0[0];\\nrz(-2.1307216) q0[0];\\nsx q0[0];\\nrz(2.4733252) q0[0];\\nrz(-0.6682675) q1[4];\\ncx q1[4],q0[0];\\nrz(-2.4733252) q0[0];\\nsx q0[0];\\nrz(-2.1307216) q0[0];\\nsx q0[0];\\ncx q1[4],q0[0];\\nsx q0[0];\\nrz(-2.1307216) q0[0];\\nsx q0[0];\\nrz(2.4733252) q0[0];\\nrz(-0.6682675) q1[4];\\ncx q1[4],q0[0];\\nrz(-2.4733252) q0[0];\\nsx q0[0];\\nrz(-2.1307216) q0[0];\\nsx q0[0];\\ncx q1[4],q0[0];\\nsx q0[0];\\nrz(-2.1307216) q0[0];\\nsx q0[0];\\nrz(2.4733252) q0[0];\\nrz(-0.6682675) q1[4];\\ncx q1[4],q0[0];\\nrz(-2.4733252) q0[0];\\nsx q0[0];\\nrz(-2.1307216) q0[0];\\nsx q0[0];\\ncx q1[4],q0[0];\\nsx q0[0];\\nrz(-2.1307216) q0[0];\\nsx q0[0];\\nrz(2.4733252) q0[0];\\nrz(-0.6682675) q1[4];\\ncx q1[4],q0[0];\\nrz(-2.4733252) q0[0];\\nsx q0[0];\\nrz(-2.1307216) q0[0];\\nsx q0[0];\\ncx q1[4],q0[0];\\nsx q0[0];\\nrz(-2.1307216) q0[0];\\nsx q0[0];\\nrz(2.4733252) q0[0];\\nrz(-0.6682675) q1[4];\\ncx q1[4],q0[0];\\nrz(-2.4733252) q0[0];\\nsx q0[0];\\nrz(-2.1307216) q0[0];\\nsx q0[0];\\ncx q1[4],q0[0];\\nsx q0[0];\\nrz(-2.1307216) q0[0];\\nsx q0[0];\\nrz(2.4733252) q0[0];\\nrz(-0.6682675) q1[4];\\ncx q1[4],q0[0];\\nrz(-2.4733252) q0[0];\\nsx q0[0];\\nrz(-2.1307216) q0[0];\\nsx q0[0];\\ncx q1[4],q0[0];\\nsx q0[0];\\nrz(-2.1307216) q0[0];\\nsx q0[0];\\nrz(2.4733252) q0[0];\\ncx q1[3],q0[0];\\nrz(-2.4733252) q0[0];\\nsx q0[0];\\nrz(-2.1307216) q0[0];\\nsx q0[0];\\ncx q1[3],q0[0];\\nsx q0[0];\\nrz(-2.1307216) q0[0];\\nsx q0[0];\\nrz(2.4733252) q0[0];\\nrz(-0.6682675) q1[3];\\ncx q1[3],q0[0];\\nrz(-2.4733252) q0[0];\\nsx q0[0];\\nrz(-2.1307216) q0[0];\\nsx q0[0];\\ncx q1[3],q0[0];\\nsx q0[0];\\nrz(-2.1307216) q0[0];\\nsx q0[0];\\nrz(2.4733252) q0[0];\\nrz(-0.6682675) q1[3];\\ncx q1[3],q0[0];\\nrz(-2.4733252) q0[0];\\nsx q0[0];\\nrz(-2.1307216) q0[0];\\nsx q0[0];\\ncx q1[3],q0[0];\\nsx q0[0];\\nrz(-2.1307216) q0[0];\\nsx q0[0];\\nrz(2.4733252) q0[0];\\nrz(-0.6682675) q1[3];\\ncx q1[3],q0[0];\\nrz(-2.4733252) q0[0];\\nsx q0[0];\\nrz(-2.1307216) q0[0];\\nsx q0[0];\\ncx q1[3],q0[0];\\nsx q0[0];\\nrz(-2.1307216) q0[0];\\nsx q0[0];\\nrz(2.4733252) q0[0];\\nrz(-0.6682675) q1[3];\\ncx q1[3],q0[0];\\nrz(-2.4733252) q0[0];\\nsx q0[0];\\nrz(-2.1307216) q0[0];\\nsx q0[0];\\ncx q1[3],q0[0];\\nsx q0[0];\\nrz(-2.1307216) q0[0];\\nsx q0[0];\\nrz(2.4733252) q0[0];\\nrz(-0.6682675) q1[3];\\ncx q1[3],q0[0];\\nrz(-2.4733252) q0[0];\\nsx q0[0];\\nrz(-2.1307216) q0[0];\\nsx q0[0];\\ncx q1[3],q0[0];\\nsx q0[0];\\nrz(-2.1307216) q0[0];\\nsx q0[0];\\nrz(2.4733252) q0[0];\\nrz(-0.6682675) q1[3];\\ncx q1[3],q0[0];\\nrz(-2.4733252) q0[0];\\nsx q0[0];\\nrz(-2.1307216) q0[0];\\nsx q0[0];\\ncx q1[3],q0[0];\\nsx q0[0];\\nrz(-2.1307216) q0[0];\\nsx q0[0];\\nrz(2.4733252) q0[0];\\nrz(-0.6682675) q1[3];\\ncx q1[3],q0[0];\\nrz(-2.4733252) q0[0];\\nsx q0[0];\\nrz(-2.1307216) q0[0];\\nsx q0[0];\\ncx q1[3],q0[0];\\nsx q0[0];\\nrz(-2.1307216) q0[0];\\nsx q0[0];\\nrz(2.4733252) q0[0];\\ncx q1[2],q0[0];\\nrz(-2.4733252) q0[0];\\nsx q0[0];\\nrz(-2.1307216) q0[0];\\nsx q0[0];\\ncx q1[2],q0[0];\\nsx q0[0];\\nrz(-2.1307216) q0[0];\\nsx q0[0];\\nrz(2.4733252) q0[0];\\nrz(-0.6682675) q1[2];\\ncx q1[2],q0[0];\\nrz(-2.4733252) q0[0];\\nsx q0[0];\\nrz(-2.1307216) q0[0];\\nsx q0[0];\\ncx q1[2],q0[0];\\nsx q0[0];\\nrz(-2.1307216) q0[0];\\nsx q0[0];\\nrz(2.4733252) q0[0];\\nrz(-0.6682675) q1[2];\\ncx q1[2],q0[0];\\nrz(-2.4733252) q0[0];\\nsx q0[0];\\nrz(-2.1307216) q0[0];\\nsx q0[0];\\ncx q1[2],q0[0];\\nsx q0[0];\\nrz(-2.1307216) q0[0];\\nsx q0[0];\\nrz(2.4733252) q0[0];\\nrz(-0.6682675) q1[2];\\ncx q1[2],q0[0];\\nrz(-2.4733252) q0[0];\\nsx q0[0];\\nrz(-2.1307216) q0[0];\\nsx q0[0];\\ncx q1[2],q0[0];\\nsx q0[0];\\nrz(-2.1307216) q0[0];\\nsx q0[0];\\nrz(2.4733252) q0[0];\\ncx q1[1],q0[0];\\nrz(-2.4733252) q0[0];\\nsx q0[0];\\nrz(-2.1307216) q0[0];\\nsx q0[0];\\ncx q1[1],q0[0];\\nsx q0[0];\\nrz(-2.1307216) q0[0];\\nsx q0[0];\\nrz(2.4733252) q0[0];\\nrz(-0.6682675) q1[1];\\ncx q1[1],q0[0];\\nrz(-2.4733252) q0[0];\\nsx q0[0];\\nrz(-2.1307216) q0[0];\\nsx q0[0];\\ncx q1[1],q0[0];\\nsx q0[0];\\nrz(-2.1307216) q0[0];\\nsx q0[0];\\nrz(2.4733252) q0[0];\\ncx q1[0],q0[0];\\nrz(-2.4733252) q0[0];\\nsx q0[0];\\nrz(-2.1307216) q0[0];\\nsx q0[0];\\ncx q1[0],q0[0];\\nsx q0[0];\\nrz(-2.1307216) q0[0];\\nsx q0[0];\\nrz(-2.2390638) q0[0];\\nrz(-3.0996808) q1[0];\\nsx q1[0];\\nrz(pi/2) q1[0];\\nrz(-1.4869727) q1[1];\\nsx q1[1];\\nrz(pi/2) q1[1];\\nrz(1.7384437) q1[2];\\nsx q1[2];\\nrz(pi/2) q1[2];\\nrz(1.906091) q1[3];\\nsx q1[3];\\nrz(pi/2) q1[3];\\nrz(2.2413856) q1[4];\\nsx q1[4];\\nrz(pi/2) q1[4];\\nbarrier q0[0],q1[0],q1[1],q1[2],q1[3],q1[4],q2[0];\\nmeasure q0[0] -> meas[0];\\nmeasure q1[0] -> meas[1];\\nmeasure q1[1] -> meas[2];\\nmeasure q1[2] -> meas[3];\\nmeasure q1[3] -> meas[4];\\nmeasure q1[4] -> meas[5];\\nmeasure q2[0] -> meas[6];\\n'"
      ]
     },
     "execution_count": 55,
     "metadata": {},
     "output_type": "execute_result"
    }
   ],
   "source": [
    "qasm_code"
   ]
  },
  {
   "cell_type": "code",
   "execution_count": 56,
   "id": "cbc74c6d",
   "metadata": {},
   "outputs": [],
   "source": [
    "def load_qasm_circuit(qasm_file_path):\n",
    "        \"\"\"加载QASM电路文件\"\"\"\n",
    "        if not os.path.exists(qasm_file_path):\n",
    "            print(f\"错误: 找不到文件 {qasm_file_path}\")\n",
    "            return None\n",
    "        \n",
    "        try:\n",
    "            with open(qasm_file_path, \"r\") as file:\n",
    "                qasm_code = file.read()\n",
    "            \n",
    "            # 移除barrier语句（Qibo不支持）\n",
    "            lines = qasm_code.split('\\n')\n",
    "            filtered_lines = [line for line in lines if 'barrier' not in line]\n",
    "            clean_qasm_code = '\\n'.join(filtered_lines)\n",
    "            \n",
    "            circuit = Circuit.from_qasm(clean_qasm_code)\n",
    "            return circuit\n",
    "            \n",
    "        except Exception as e:\n",
    "            print(f\"加载电路失败: {str(e)}\")\n",
    "            return None"
   ]
  },
  {
   "cell_type": "code",
   "execution_count": 59,
   "id": "e4ef5e8c",
   "metadata": {},
   "outputs": [
    {
     "name": "stdout",
     "output_type": "stream",
     "text": [
      "加载电路失败: 'q'\n"
     ]
    }
   ],
   "source": [
    "load_qasm_circuit(\"../QASMBench/small/vqe_uccsd_n6/vqe_uccsd_n6_transpiled.qasm\")"
   ]
  },
  {
   "cell_type": "code",
   "execution_count": 60,
   "id": "9a8e852c",
   "metadata": {},
   "outputs": [],
   "source": [
    "with open(\"../QASMBench/small/vqe_uccsd_n6/vqe_uccsd_n6_transpiled.qasm\", \"r\") as file:\n",
    "    qasm_code = file.read()"
   ]
  },
  {
   "cell_type": "code",
   "execution_count": 61,
   "id": "2093d101",
   "metadata": {},
   "outputs": [
    {
     "data": {
      "text/plain": [
       "'OPENQASM 2.0;\\ninclude \"qelib1.inc\";\\nqreg reg[6];\\nrz(pi/2) reg[2];\\nsx reg[2];\\nrz(pi/2) reg[2];\\nrz(pi/2) reg[3];\\nsx reg[3];\\nrz(pi/2) reg[3];\\ncx reg[3],reg[2];\\ncx reg[2],reg[1];\\ncx reg[1],reg[0];\\nrz(4.638775) reg[0];\\ncx reg[1],reg[0];\\ncx reg[2],reg[1];\\ncx reg[3],reg[2];\\nrz(-pi/2) reg[2];\\nsx reg[2];\\nrz(-pi/2) reg[2];\\nrz(-pi/2) reg[3];\\nsx reg[3];\\nrz(-pi/2) reg[3];\\ncx reg[3],reg[2];\\ncx reg[2],reg[1];\\ncx reg[1],reg[0];\\nrz(4.638775) reg[0];\\ncx reg[1],reg[0];\\nrz(-pi/2) reg[0];\\nsx reg[0];\\nrz(-pi/2) reg[0];\\ncx reg[2],reg[1];\\ncx reg[3],reg[2];\\nrz(-pi/2) reg[3];\\nsx reg[3];\\nrz(-pi/2) reg[3];\\ncx reg[3],reg[2];\\ncx reg[2],reg[1];\\ncx reg[1],reg[0];\\nrz(4.638775) reg[0];\\ncx reg[1],reg[0];\\ncx reg[2],reg[1];\\ncx reg[3],reg[2];\\nrz(-pi/2) reg[2];\\nsx reg[2];\\nrz(-pi/2) reg[2];\\nrz(-pi/2) reg[3];\\nsx reg[3];\\nrz(-pi/2) reg[3];\\ncx reg[3],reg[2];\\ncx reg[2],reg[1];\\ncx reg[1],reg[0];\\nrz(4.638775) reg[0];\\ncx reg[1],reg[0];\\nrz(-pi/2) reg[0];\\nsx reg[0];\\nrz(-pi/2) reg[0];\\ncx reg[2],reg[1];\\ncx reg[3],reg[2];\\nrz(-pi/2) reg[2];\\nsx reg[2];\\nrz(-pi/2) reg[2];\\ncx reg[3],reg[2];\\ncx reg[2],reg[1];\\ncx reg[1],reg[0];\\nrz(4.638775) reg[0];\\ncx reg[1],reg[0];\\ncx reg[2],reg[1];\\ncx reg[3],reg[2];\\nrz(-pi/2) reg[2];\\nsx reg[2];\\nrz(-pi/2) reg[2];\\nrz(-pi/2) reg[3];\\nsx reg[3];\\nrz(-pi/2) reg[3];\\ncx reg[3],reg[2];\\ncx reg[2],reg[1];\\ncx reg[1],reg[0];\\nrz(4.638775) reg[0];\\ncx reg[1],reg[0];\\nrz(-pi/2) reg[0];\\nsx reg[0];\\nrz(-pi/2) reg[0];\\ncx reg[2],reg[1];\\ncx reg[3],reg[2];\\nrz(-pi/2) reg[3];\\nsx reg[3];\\nrz(-pi/2) reg[3];\\ncx reg[3],reg[2];\\ncx reg[2],reg[1];\\ncx reg[1],reg[0];\\nrz(4.638775) reg[0];\\ncx reg[1],reg[0];\\ncx reg[2],reg[1];\\ncx reg[3],reg[2];\\nrz(-pi/2) reg[2];\\nsx reg[2];\\nrz(-pi/2) reg[2];\\nrz(-pi/2) reg[3];\\nsx reg[3];\\nrz(-pi/2) reg[3];\\ncx reg[3],reg[2];\\ncx reg[2],reg[1];\\ncx reg[1],reg[0];\\nrz(4.638775) reg[0];\\ncx reg[1],reg[0];\\nrz(-pi/2) reg[0];\\nsx reg[0];\\nrz(-pi/2) reg[0];\\ncx reg[2],reg[1];\\ncx reg[3],reg[2];\\nrz(-pi/2) reg[2];\\nsx reg[2];\\nrz(-pi/2) reg[2];\\nrz(pi/2) reg[3];\\nsx reg[3];\\nrz(pi/2) reg[3];\\nrz(pi/2) reg[4];\\nsx reg[4];\\nrz(pi/2) reg[4];\\ncx reg[4],reg[3];\\ncx reg[3],reg[2];\\ncx reg[2],reg[1];\\ncx reg[1],reg[0];\\nrz(5.570539) reg[0];\\ncx reg[1],reg[0];\\ncx reg[2],reg[1];\\ncx reg[3],reg[2];\\nrz(-pi/2) reg[2];\\nsx reg[2];\\nrz(-pi/2) reg[2];\\ncx reg[4],reg[3];\\nrz(-pi/2) reg[4];\\nsx reg[4];\\nrz(-pi/2) reg[4];\\ncx reg[4],reg[3];\\ncx reg[3],reg[2];\\ncx reg[2],reg[1];\\ncx reg[1],reg[0];\\nrz(5.570539) reg[0];\\ncx reg[1],reg[0];\\nrz(-pi/2) reg[0];\\nsx reg[0];\\nrz(-pi/2) reg[0];\\ncx reg[2],reg[1];\\ncx reg[3],reg[2];\\ncx reg[4],reg[3];\\nrz(-pi/2) reg[4];\\nsx reg[4];\\nrz(-pi/2) reg[4];\\ncx reg[4],reg[3];\\ncx reg[3],reg[2];\\ncx reg[2],reg[1];\\ncx reg[1],reg[0];\\nrz(5.570539) reg[0];\\ncx reg[1],reg[0];\\ncx reg[2],reg[1];\\ncx reg[3],reg[2];\\nrz(-pi/2) reg[2];\\nsx reg[2];\\nrz(-pi/2) reg[2];\\ncx reg[4],reg[3];\\nrz(-pi/2) reg[4];\\nsx reg[4];\\nrz(-pi/2) reg[4];\\ncx reg[4],reg[3];\\ncx reg[3],reg[2];\\ncx reg[2],reg[1];\\ncx reg[1],reg[0];\\nrz(5.570539) reg[0];\\ncx reg[1],reg[0];\\nrz(-pi/2) reg[0];\\nsx reg[0];\\nrz(-pi/2) reg[0];\\ncx reg[2],reg[1];\\ncx reg[3],reg[2];\\nrz(-pi/2) reg[2];\\nsx reg[2];\\nrz(-pi/2) reg[2];\\ncx reg[3],reg[2];\\ncx reg[2],reg[1];\\ncx reg[1],reg[0];\\nrz(5.570539) reg[0];\\ncx reg[1],reg[0];\\ncx reg[2],reg[1];\\ncx reg[3],reg[2];\\nrz(-pi/2) reg[2];\\nsx reg[2];\\nrz(-pi/2) reg[2];\\ncx reg[4],reg[3];\\nrz(-pi/2) reg[4];\\nsx reg[4];\\nrz(-pi/2) reg[4];\\ncx reg[4],reg[3];\\ncx reg[3],reg[2];\\ncx reg[2],reg[1];\\ncx reg[1],reg[0];\\nrz(5.570539) reg[0];\\ncx reg[1],reg[0];\\nrz(-pi/2) reg[0];\\nsx reg[0];\\nrz(-pi/2) reg[0];\\ncx reg[2],reg[1];\\ncx reg[3],reg[2];\\ncx reg[4],reg[3];\\nrz(-pi/2) reg[4];\\nsx reg[4];\\nrz(-pi/2) reg[4];\\ncx reg[4],reg[3];\\ncx reg[3],reg[2];\\ncx reg[2],reg[1];\\ncx reg[1],reg[0];\\nrz(5.570539) reg[0];\\ncx reg[1],reg[0];\\ncx reg[2],reg[1];\\ncx reg[3],reg[2];\\nrz(-pi/2) reg[2];\\nsx reg[2];\\nrz(-pi/2) reg[2];\\ncx reg[4],reg[3];\\nrz(-pi/2) reg[4];\\nsx reg[4];\\nrz(-pi/2) reg[4];\\ncx reg[4],reg[3];\\ncx reg[3],reg[2];\\ncx reg[2],reg[1];\\ncx reg[1],reg[0];\\nrz(5.570539) reg[0];\\ncx reg[1],reg[0];\\nrz(-pi/2) reg[0];\\nsx reg[0];\\nrz(-pi/2) reg[0];\\ncx reg[2],reg[1];\\ncx reg[3],reg[2];\\nrz(-pi) reg[2];\\nx reg[2];\\ncx reg[4],reg[3];\\nrz(pi/2) reg[3];\\nsx reg[3];\\nrz(pi/2) reg[3];\\ncx reg[4],reg[3];\\ncx reg[3],reg[1];\\ncx reg[1],reg[0];\\nrz(5.663952) reg[0];\\ncx reg[1],reg[0];\\ncx reg[3],reg[1];\\ncx reg[4],reg[3];\\nrz(-pi/2) reg[3];\\nsx reg[3];\\nrz(-pi/2) reg[3];\\nrz(-pi/2) reg[4];\\nsx reg[4];\\nrz(-pi/2) reg[4];\\ncx reg[4],reg[3];\\ncx reg[3],reg[1];\\ncx reg[1],reg[0];\\nrz(5.663952) reg[0];\\ncx reg[1],reg[0];\\nrz(-pi/2) reg[0];\\nsx reg[0];\\nrz(-pi/2) reg[0];\\ncx reg[3],reg[1];\\ncx reg[4],reg[3];\\nrz(-pi/2) reg[4];\\nsx reg[4];\\nrz(-pi/2) reg[4];\\ncx reg[4],reg[3];\\ncx reg[3],reg[1];\\ncx reg[1],reg[0];\\nrz(5.663952) reg[0];\\ncx reg[1],reg[0];\\ncx reg[3],reg[1];\\ncx reg[4],reg[3];\\nrz(-pi/2) reg[3];\\nsx reg[3];\\nrz(-pi/2) reg[3];\\nrz(-pi/2) reg[4];\\nsx reg[4];\\nrz(-pi/2) reg[4];\\ncx reg[4],reg[3];\\ncx reg[3],reg[1];\\ncx reg[1],reg[0];\\nrz(5.663952) reg[0];\\ncx reg[1],reg[0];\\nrz(-pi/2) reg[0];\\nsx reg[0];\\nrz(-pi/2) reg[0];\\ncx reg[3],reg[1];\\ncx reg[4],reg[3];\\nrz(-pi/2) reg[3];\\nsx reg[3];\\nrz(-pi/2) reg[3];\\ncx reg[4],reg[3];\\ncx reg[3],reg[1];\\ncx reg[1],reg[0];\\nrz(5.663952) reg[0];\\ncx reg[1],reg[0];\\ncx reg[3],reg[1];\\ncx reg[4],reg[3];\\nrz(-pi/2) reg[3];\\nsx reg[3];\\nrz(-pi/2) reg[3];\\nrz(-pi/2) reg[4];\\nsx reg[4];\\nrz(-pi/2) reg[4];\\ncx reg[4],reg[3];\\ncx reg[3],reg[1];\\ncx reg[1],reg[0];\\nrz(5.663952) reg[0];\\ncx reg[1],reg[0];\\nrz(-pi/2) reg[0];\\nsx reg[0];\\nrz(-pi/2) reg[0];\\ncx reg[3],reg[1];\\ncx reg[4],reg[3];\\nrz(-pi/2) reg[4];\\nsx reg[4];\\nrz(-pi/2) reg[4];\\ncx reg[4],reg[3];\\ncx reg[3],reg[1];\\ncx reg[1],reg[0];\\nrz(5.663952) reg[0];\\ncx reg[1],reg[0];\\ncx reg[3],reg[1];\\ncx reg[4],reg[3];\\nrz(-pi/2) reg[3];\\nsx reg[3];\\nrz(-pi/2) reg[3];\\nrz(-pi/2) reg[4];\\nsx reg[4];\\nrz(-pi/2) reg[4];\\ncx reg[4],reg[3];\\ncx reg[3],reg[1];\\ncx reg[1],reg[0];\\nrz(5.663952) reg[0];\\ncx reg[1],reg[0];\\nrz(-pi/2) reg[0];\\nsx reg[0];\\nrz(-pi/2) reg[0];\\ncx reg[3],reg[1];\\ncx reg[4],reg[3];\\nrz(-pi/2) reg[3];\\nsx reg[3];\\nrz(-pi/2) reg[3];\\ncx reg[4],reg[3];\\ncx reg[3],reg[2];\\ncx reg[2],reg[1];\\ncx reg[1],reg[0];\\nrz(5.530073) reg[0];\\ncx reg[1],reg[0];\\ncx reg[2],reg[1];\\ncx reg[3],reg[2];\\ncx reg[4],reg[3];\\nrz(-pi/2) reg[3];\\nsx reg[3];\\nrz(-pi/2) reg[3];\\nrz(-pi/2) reg[4];\\nsx reg[4];\\nrz(-pi/2) reg[4];\\ncx reg[4],reg[3];\\ncx reg[3],reg[2];\\ncx reg[2],reg[1];\\ncx reg[1],reg[0];\\nrz(5.530073) reg[0];\\ncx reg[1],reg[0];\\nrz(-pi/2) reg[0];\\nsx reg[0];\\nrz(-pi/2) reg[0];\\ncx reg[2],reg[1];\\ncx reg[3],reg[2];\\ncx reg[4],reg[3];\\nrz(-pi/2) reg[4];\\nsx reg[4];\\nrz(-pi/2) reg[4];\\ncx reg[4],reg[3];\\ncx reg[3],reg[2];\\ncx reg[2],reg[1];\\ncx reg[1],reg[0];\\nrz(5.530073) reg[0];\\ncx reg[1],reg[0];\\ncx reg[2],reg[1];\\ncx reg[3],reg[2];\\ncx reg[4],reg[3];\\nrz(-pi/2) reg[3];\\nsx reg[3];\\nrz(-pi/2) reg[3];\\nrz(-pi/2) reg[4];\\nsx reg[4];\\nrz(-pi/2) reg[4];\\ncx reg[4],reg[3];\\ncx reg[3],reg[2];\\ncx reg[2],reg[1];\\ncx reg[1],reg[0];\\nrz(5.530073) reg[0];\\ncx reg[1],reg[0];\\nrz(-pi/2) reg[0];\\nsx reg[0];\\nrz(-pi/2) reg[0];\\ncx reg[2],reg[1];\\ncx reg[3],reg[2];\\ncx reg[4],reg[3];\\nrz(-pi/2) reg[3];\\nsx reg[3];\\nrz(-pi/2) reg[3];\\ncx reg[4],reg[3];\\ncx reg[3],reg[2];\\ncx reg[2],reg[1];\\ncx reg[1],reg[0];\\nrz(5.530073) reg[0];\\ncx reg[1],reg[0];\\ncx reg[2],reg[1];\\ncx reg[3],reg[2];\\ncx reg[4],reg[3];\\nrz(-pi/2) reg[3];\\nsx reg[3];\\nrz(-pi/2) reg[3];\\nrz(-pi/2) reg[4];\\nsx reg[4];\\nrz(-pi/2) reg[4];\\ncx reg[4],reg[3];\\ncx reg[3],reg[2];\\ncx reg[2],reg[1];\\ncx reg[1],reg[0];\\nrz(5.530073) reg[0];\\ncx reg[1],reg[0];\\nrz(-pi/2) reg[0];\\nsx reg[0];\\nrz(-pi/2) reg[0];\\ncx reg[2],reg[1];\\ncx reg[3],reg[2];\\ncx reg[4],reg[3];\\nrz(-pi/2) reg[4];\\nsx reg[4];\\nrz(-pi/2) reg[4];\\ncx reg[4],reg[3];\\ncx reg[3],reg[2];\\ncx reg[2],reg[1];\\ncx reg[1],reg[0];\\nrz(5.530073) reg[0];\\ncx reg[1],reg[0];\\ncx reg[2],reg[1];\\ncx reg[3],reg[2];\\ncx reg[4],reg[3];\\nrz(-pi/2) reg[3];\\nsx reg[3];\\nrz(-pi/2) reg[3];\\nrz(-pi/2) reg[4];\\nsx reg[4];\\nrz(-pi/2) reg[4];\\ncx reg[4],reg[3];\\ncx reg[3],reg[2];\\ncx reg[2],reg[1];\\ncx reg[1],reg[0];\\nrz(5.530073) reg[0];\\ncx reg[1],reg[0];\\nrz(-pi/2) reg[0];\\nsx reg[0];\\nrz(-pi/2) reg[0];\\ncx reg[2],reg[1];\\ncx reg[3],reg[2];\\ncx reg[4],reg[3];\\nrz(-pi/2) reg[3];\\nsx reg[3];\\nrz(-pi/2) reg[3];\\ncx reg[4],reg[3];\\ncx reg[3],reg[2];\\ncx reg[2],reg[1];\\nrz(2.009105) reg[1];\\ncx reg[2],reg[1];\\ncx reg[3],reg[2];\\ncx reg[4],reg[3];\\nrz(-pi/2) reg[3];\\nsx reg[3];\\nrz(-pi/2) reg[3];\\nrz(-pi/2) reg[4];\\nsx reg[4];\\nrz(-pi/2) reg[4];\\ncx reg[4],reg[3];\\ncx reg[3],reg[2];\\ncx reg[2],reg[1];\\nrz(2.009105) reg[1];\\ncx reg[2],reg[1];\\nrz(-pi/2) reg[1];\\nsx reg[1];\\nrz(-pi/2) reg[1];\\ncx reg[3],reg[2];\\ncx reg[4],reg[3];\\nrz(-pi/2) reg[4];\\nsx reg[4];\\nrz(-pi/2) reg[4];\\ncx reg[4],reg[3];\\ncx reg[3],reg[2];\\ncx reg[2],reg[1];\\nrz(2.009105) reg[1];\\ncx reg[2],reg[1];\\ncx reg[3],reg[2];\\ncx reg[4],reg[3];\\nrz(-pi/2) reg[3];\\nsx reg[3];\\nrz(-pi/2) reg[3];\\nrz(-pi/2) reg[4];\\nsx reg[4];\\nrz(-pi/2) reg[4];\\ncx reg[4],reg[3];\\ncx reg[3],reg[2];\\ncx reg[2],reg[1];\\nrz(2.009105) reg[1];\\ncx reg[2],reg[1];\\nrz(-pi/2) reg[1];\\nsx reg[1];\\nrz(-pi/2) reg[1];\\ncx reg[3],reg[2];\\ncx reg[4],reg[3];\\nrz(-pi/2) reg[3];\\nsx reg[3];\\nrz(-pi/2) reg[3];\\ncx reg[4],reg[3];\\ncx reg[3],reg[2];\\ncx reg[2],reg[1];\\nrz(2.009105) reg[1];\\ncx reg[2],reg[1];\\ncx reg[3],reg[2];\\ncx reg[4],reg[3];\\nrz(-pi/2) reg[3];\\nsx reg[3];\\nrz(-pi/2) reg[3];\\nrz(-pi/2) reg[4];\\nsx reg[4];\\nrz(-pi/2) reg[4];\\ncx reg[4],reg[3];\\ncx reg[3],reg[2];\\ncx reg[2],reg[1];\\nrz(2.009105) reg[1];\\ncx reg[2],reg[1];\\nrz(-pi/2) reg[1];\\nsx reg[1];\\nrz(-pi/2) reg[1];\\ncx reg[3],reg[2];\\ncx reg[4],reg[3];\\nrz(-pi/2) reg[4];\\nsx reg[4];\\nrz(-pi/2) reg[4];\\ncx reg[4],reg[3];\\ncx reg[3],reg[2];\\ncx reg[2],reg[1];\\nrz(2.009105) reg[1];\\ncx reg[2],reg[1];\\ncx reg[3],reg[2];\\ncx reg[4],reg[3];\\nrz(-pi/2) reg[3];\\nsx reg[3];\\nrz(-pi/2) reg[3];\\nrz(-pi/2) reg[4];\\nsx reg[4];\\nrz(-pi/2) reg[4];\\ncx reg[4],reg[3];\\ncx reg[3],reg[2];\\ncx reg[2],reg[1];\\nrz(2.009105) reg[1];\\ncx reg[2],reg[1];\\nrz(-pi/2) reg[1];\\nsx reg[1];\\nrz(-pi/2) reg[1];\\ncx reg[3],reg[2];\\nrz(pi/2) reg[2];\\nsx reg[2];\\nrz(pi/2) reg[2];\\ncx reg[4],reg[3];\\nrz(-pi) reg[3];\\nx reg[3];\\nrz(pi/2) reg[4];\\nsx reg[4];\\nrz(pi/2) reg[4];\\nrz(pi/2) reg[5];\\nsx reg[5];\\nrz(pi/2) reg[5];\\ncx reg[5],reg[4];\\ncx reg[4],reg[3];\\ncx reg[3],reg[2];\\ncx reg[2],reg[1];\\ncx reg[1],reg[0];\\nrz(2.140866) reg[0];\\ncx reg[1],reg[0];\\ncx reg[2],reg[1];\\ncx reg[3],reg[2];\\nrz(-pi/2) reg[2];\\nsx reg[2];\\nrz(-pi/2) reg[2];\\ncx reg[4],reg[3];\\ncx reg[5],reg[4];\\nrz(-pi/2) reg[5];\\nsx reg[5];\\nrz(-pi/2) reg[5];\\ncx reg[5],reg[4];\\ncx reg[4],reg[3];\\ncx reg[3],reg[2];\\ncx reg[2],reg[1];\\ncx reg[1],reg[0];\\nrz(2.140866) reg[0];\\ncx reg[1],reg[0];\\nrz(-pi/2) reg[0];\\nsx reg[0];\\nrz(-pi/2) reg[0];\\ncx reg[2],reg[1];\\ncx reg[3],reg[2];\\ncx reg[4],reg[3];\\ncx reg[5],reg[4];\\nrz(-pi/2) reg[5];\\nsx reg[5];\\nrz(-pi/2) reg[5];\\ncx reg[5],reg[4];\\ncx reg[4],reg[3];\\ncx reg[3],reg[2];\\ncx reg[2],reg[1];\\ncx reg[1],reg[0];\\nrz(2.140866) reg[0];\\ncx reg[1],reg[0];\\ncx reg[2],reg[1];\\ncx reg[3],reg[2];\\nrz(-pi/2) reg[2];\\nsx reg[2];\\nrz(-pi/2) reg[2];\\ncx reg[4],reg[3];\\ncx reg[5],reg[4];\\nrz(-pi/2) reg[5];\\nsx reg[5];\\nrz(-pi/2) reg[5];\\ncx reg[5],reg[4];\\ncx reg[4],reg[3];\\ncx reg[3],reg[2];\\ncx reg[2],reg[1];\\ncx reg[1],reg[0];\\nrz(2.140866) reg[0];\\ncx reg[1],reg[0];\\nrz(-pi/2) reg[0];\\nsx reg[0];\\nrz(-pi/2) reg[0];\\ncx reg[2],reg[1];\\ncx reg[3],reg[2];\\nrz(-pi/2) reg[2];\\nsx reg[2];\\nrz(-pi/2) reg[2];\\ncx reg[3],reg[2];\\ncx reg[2],reg[1];\\ncx reg[1],reg[0];\\nrz(2.140866) reg[0];\\ncx reg[1],reg[0];\\ncx reg[2],reg[1];\\ncx reg[3],reg[2];\\nrz(-pi/2) reg[2];\\nsx reg[2];\\nrz(-pi/2) reg[2];\\ncx reg[4],reg[3];\\ncx reg[5],reg[4];\\nrz(-pi/2) reg[5];\\nsx reg[5];\\nrz(-pi/2) reg[5];\\ncx reg[5],reg[4];\\ncx reg[4],reg[3];\\ncx reg[3],reg[2];\\ncx reg[2],reg[1];\\ncx reg[1],reg[0];\\nrz(2.140866) reg[0];\\ncx reg[1],reg[0];\\nrz(-pi/2) reg[0];\\nsx reg[0];\\nrz(-pi/2) reg[0];\\ncx reg[2],reg[1];\\ncx reg[3],reg[2];\\ncx reg[4],reg[3];\\ncx reg[5],reg[4];\\nrz(-pi/2) reg[5];\\nsx reg[5];\\nrz(-pi/2) reg[5];\\ncx reg[5],reg[4];\\ncx reg[4],reg[3];\\ncx reg[3],reg[2];\\ncx reg[2],reg[1];\\ncx reg[1],reg[0];\\nrz(2.140866) reg[0];\\ncx reg[1],reg[0];\\ncx reg[2],reg[1];\\ncx reg[3],reg[2];\\nrz(-pi/2) reg[2];\\nsx reg[2];\\nrz(-pi/2) reg[2];\\ncx reg[4],reg[3];\\ncx reg[5],reg[4];\\nrz(-pi/2) reg[5];\\nsx reg[5];\\nrz(-pi/2) reg[5];\\ncx reg[5],reg[4];\\ncx reg[4],reg[3];\\ncx reg[3],reg[2];\\ncx reg[2],reg[1];\\ncx reg[1],reg[0];\\nrz(2.140866) reg[0];\\ncx reg[1],reg[0];\\nrz(-pi/2) reg[0];\\nsx reg[0];\\nrz(-pi/2) reg[0];\\ncx reg[2],reg[1];\\ncx reg[3],reg[2];\\nrz(-pi) reg[2];\\nx reg[2];\\ncx reg[4],reg[3];\\nrz(pi/2) reg[3];\\nsx reg[3];\\nrz(pi/2) reg[3];\\ncx reg[4],reg[3];\\ncx reg[3],reg[1];\\ncx reg[1],reg[0];\\nrz(1.84712) reg[0];\\ncx reg[1],reg[0];\\ncx reg[3],reg[1];\\ncx reg[4],reg[3];\\nrz(-pi/2) reg[3];\\nsx reg[3];\\nrz(-pi/2) reg[3];\\ncx reg[5],reg[4];\\nrz(-pi/2) reg[5];\\nsx reg[5];\\nrz(-pi/2) reg[5];\\ncx reg[5],reg[4];\\ncx reg[4],reg[3];\\ncx reg[3],reg[1];\\ncx reg[1],reg[0];\\nrz(1.84712) reg[0];\\ncx reg[1],reg[0];\\nrz(-pi/2) reg[0];\\nsx reg[0];\\nrz(-pi/2) reg[0];\\ncx reg[3],reg[1];\\ncx reg[4],reg[3];\\ncx reg[5],reg[4];\\nrz(-pi/2) reg[5];\\nsx reg[5];\\nrz(-pi/2) reg[5];\\ncx reg[5],reg[4];\\ncx reg[4],reg[3];\\ncx reg[3],reg[1];\\ncx reg[1],reg[0];\\nrz(1.84712) reg[0];\\ncx reg[1],reg[0];\\ncx reg[3],reg[1];\\ncx reg[4],reg[3];\\nrz(-pi/2) reg[3];\\nsx reg[3];\\nrz(-pi/2) reg[3];\\ncx reg[5],reg[4];\\nrz(-pi/2) reg[5];\\nsx reg[5];\\nrz(-pi/2) reg[5];\\ncx reg[5],reg[4];\\ncx reg[4],reg[3];\\ncx reg[3],reg[1];\\ncx reg[1],reg[0];\\nrz(1.84712) reg[0];\\ncx reg[1],reg[0];\\nrz(-pi/2) reg[0];\\nsx reg[0];\\nrz(-pi/2) reg[0];\\ncx reg[3],reg[1];\\ncx reg[4],reg[3];\\nrz(-pi/2) reg[3];\\nsx reg[3];\\nrz(-pi/2) reg[3];\\ncx reg[4],reg[3];\\ncx reg[3],reg[1];\\ncx reg[1],reg[0];\\nrz(1.84712) reg[0];\\ncx reg[1],reg[0];\\ncx reg[3],reg[1];\\ncx reg[4],reg[3];\\nrz(-pi/2) reg[3];\\nsx reg[3];\\nrz(-pi/2) reg[3];\\ncx reg[5],reg[4];\\nrz(-pi/2) reg[5];\\nsx reg[5];\\nrz(-pi/2) reg[5];\\ncx reg[5],reg[4];\\ncx reg[4],reg[3];\\ncx reg[3],reg[1];\\ncx reg[1],reg[0];\\nrz(1.84712) reg[0];\\ncx reg[1],reg[0];\\nrz(-pi/2) reg[0];\\nsx reg[0];\\nrz(-pi/2) reg[0];\\ncx reg[3],reg[1];\\ncx reg[4],reg[3];\\ncx reg[5],reg[4];\\nrz(-pi/2) reg[5];\\nsx reg[5];\\nrz(-pi/2) reg[5];\\ncx reg[5],reg[4];\\ncx reg[4],reg[3];\\ncx reg[3],reg[1];\\ncx reg[1],reg[0];\\nrz(1.84712) reg[0];\\ncx reg[1],reg[0];\\ncx reg[3],reg[1];\\ncx reg[4],reg[3];\\nrz(-pi/2) reg[3];\\nsx reg[3];\\nrz(-pi/2) reg[3];\\ncx reg[5],reg[4];\\nrz(-pi/2) reg[5];\\nsx reg[5];\\nrz(-pi/2) reg[5];\\ncx reg[5],reg[4];\\ncx reg[4],reg[3];\\ncx reg[3],reg[1];\\ncx reg[1],reg[0];\\nrz(1.84712) reg[0];\\ncx reg[1],reg[0];\\nrz(-pi/2) reg[0];\\nsx reg[0];\\nrz(-pi/2) reg[0];\\ncx reg[3],reg[1];\\ncx reg[4],reg[3];\\nrz(-pi/2) reg[3];\\nsx reg[3];\\nrz(-pi/2) reg[3];\\ncx reg[4],reg[3];\\ncx reg[3],reg[2];\\ncx reg[2],reg[1];\\ncx reg[1],reg[0];\\nrz(5.882886) reg[0];\\ncx reg[1],reg[0];\\ncx reg[2],reg[1];\\ncx reg[3],reg[2];\\ncx reg[4],reg[3];\\nrz(-pi/2) reg[3];\\nsx reg[3];\\nrz(-pi/2) reg[3];\\ncx reg[5],reg[4];\\nrz(-pi/2) reg[5];\\nsx reg[5];\\nrz(-pi/2) reg[5];\\ncx reg[5],reg[4];\\ncx reg[4],reg[3];\\ncx reg[3],reg[2];\\ncx reg[2],reg[1];\\ncx reg[1],reg[0];\\nrz(5.882886) reg[0];\\ncx reg[1],reg[0];\\nrz(-pi/2) reg[0];\\nsx reg[0];\\nrz(-pi/2) reg[0];\\ncx reg[2],reg[1];\\ncx reg[3],reg[2];\\ncx reg[4],reg[3];\\ncx reg[5],reg[4];\\nrz(-pi/2) reg[5];\\nsx reg[5];\\nrz(-pi/2) reg[5];\\ncx reg[5],reg[4];\\ncx reg[4],reg[3];\\ncx reg[3],reg[2];\\ncx reg[2],reg[1];\\ncx reg[1],reg[0];\\nrz(5.882886) reg[0];\\ncx reg[1],reg[0];\\ncx reg[2],reg[1];\\ncx reg[3],reg[2];\\ncx reg[4],reg[3];\\nrz(-pi/2) reg[3];\\nsx reg[3];\\nrz(-pi/2) reg[3];\\ncx reg[5],reg[4];\\nrz(-pi/2) reg[5];\\nsx reg[5];\\nrz(-pi/2) reg[5];\\ncx reg[5],reg[4];\\ncx reg[4],reg[3];\\ncx reg[3],reg[2];\\ncx reg[2],reg[1];\\ncx reg[1],reg[0];\\nrz(5.882886) reg[0];\\ncx reg[1],reg[0];\\nrz(-pi/2) reg[0];\\nsx reg[0];\\nrz(-pi/2) reg[0];\\ncx reg[2],reg[1];\\ncx reg[3],reg[2];\\ncx reg[4],reg[3];\\nrz(-pi/2) reg[3];\\nsx reg[3];\\nrz(-pi/2) reg[3];\\ncx reg[4],reg[3];\\ncx reg[3],reg[2];\\ncx reg[2],reg[1];\\ncx reg[1],reg[0];\\nrz(5.882886) reg[0];\\ncx reg[1],reg[0];\\ncx reg[2],reg[1];\\ncx reg[3],reg[2];\\ncx reg[4],reg[3];\\nrz(-pi/2) reg[3];\\nsx reg[3];\\nrz(-pi/2) reg[3];\\ncx reg[5],reg[4];\\nrz(-pi/2) reg[5];\\nsx reg[5];\\nrz(-pi/2) reg[5];\\ncx reg[5],reg[4];\\ncx reg[4],reg[3];\\ncx reg[3],reg[2];\\ncx reg[2],reg[1];\\ncx reg[1],reg[0];\\nrz(5.882886) reg[0];\\ncx reg[1],reg[0];\\nrz(-pi/2) reg[0];\\nsx reg[0];\\nrz(-pi/2) reg[0];\\ncx reg[2],reg[1];\\ncx reg[3],reg[2];\\ncx reg[4],reg[3];\\ncx reg[5],reg[4];\\nrz(-pi/2) reg[5];\\nsx reg[5];\\nrz(-pi/2) reg[5];\\ncx reg[5],reg[4];\\ncx reg[4],reg[3];\\ncx reg[3],reg[2];\\ncx reg[2],reg[1];\\ncx reg[1],reg[0];\\nrz(5.882886) reg[0];\\ncx reg[1],reg[0];\\ncx reg[2],reg[1];\\ncx reg[3],reg[2];\\ncx reg[4],reg[3];\\nrz(-pi/2) reg[3];\\nsx reg[3];\\nrz(-pi/2) reg[3];\\ncx reg[5],reg[4];\\nrz(-pi/2) reg[5];\\nsx reg[5];\\nrz(-pi/2) reg[5];\\ncx reg[5],reg[4];\\ncx reg[4],reg[3];\\ncx reg[3],reg[2];\\ncx reg[2],reg[1];\\ncx reg[1],reg[0];\\nrz(5.882886) reg[0];\\ncx reg[1],reg[0];\\nrz(-pi/2) reg[0];\\nsx reg[0];\\nrz(-pi/2) reg[0];\\ncx reg[2],reg[1];\\ncx reg[3],reg[2];\\ncx reg[4],reg[3];\\nrz(-pi/2) reg[3];\\nsx reg[3];\\nrz(-pi/2) reg[3];\\ncx reg[4],reg[3];\\ncx reg[3],reg[2];\\ncx reg[2],reg[1];\\nrz(5.285149) reg[1];\\ncx reg[2],reg[1];\\ncx reg[3],reg[2];\\ncx reg[4],reg[3];\\nrz(-pi/2) reg[3];\\nsx reg[3];\\nrz(-pi/2) reg[3];\\ncx reg[5],reg[4];\\nrz(-pi/2) reg[5];\\nsx reg[5];\\nrz(-pi/2) reg[5];\\ncx reg[5],reg[4];\\ncx reg[4],reg[3];\\ncx reg[3],reg[2];\\ncx reg[2],reg[1];\\nrz(5.285149) reg[1];\\ncx reg[2],reg[1];\\nrz(-pi/2) reg[1];\\nsx reg[1];\\nrz(-pi/2) reg[1];\\ncx reg[3],reg[2];\\ncx reg[4],reg[3];\\ncx reg[5],reg[4];\\nrz(-pi/2) reg[5];\\nsx reg[5];\\nrz(-pi/2) reg[5];\\ncx reg[5],reg[4];\\ncx reg[4],reg[3];\\ncx reg[3],reg[2];\\ncx reg[2],reg[1];\\nrz(5.285149) reg[1];\\ncx reg[2],reg[1];\\ncx reg[3],reg[2];\\ncx reg[4],reg[3];\\nrz(-pi/2) reg[3];\\nsx reg[3];\\nrz(-pi/2) reg[3];\\ncx reg[5],reg[4];\\nrz(-pi/2) reg[5];\\nsx reg[5];\\nrz(-pi/2) reg[5];\\ncx reg[5],reg[4];\\ncx reg[4],reg[3];\\ncx reg[3],reg[2];\\ncx reg[2],reg[1];\\nrz(5.285149) reg[1];\\ncx reg[2],reg[1];\\nrz(-pi/2) reg[1];\\nsx reg[1];\\nrz(-pi/2) reg[1];\\ncx reg[3],reg[2];\\ncx reg[4],reg[3];\\nrz(-pi/2) reg[3];\\nsx reg[3];\\nrz(-pi/2) reg[3];\\ncx reg[4],reg[3];\\ncx reg[3],reg[2];\\ncx reg[2],reg[1];\\nrz(5.285149) reg[1];\\ncx reg[2],reg[1];\\ncx reg[3],reg[2];\\ncx reg[4],reg[3];\\nrz(-pi/2) reg[3];\\nsx reg[3];\\nrz(-pi/2) reg[3];\\ncx reg[5],reg[4];\\nrz(-pi/2) reg[5];\\nsx reg[5];\\nrz(-pi/2) reg[5];\\ncx reg[5],reg[4];\\ncx reg[4],reg[3];\\ncx reg[3],reg[2];\\ncx reg[2],reg[1];\\nrz(5.285149) reg[1];\\ncx reg[2],reg[1];\\nrz(-pi/2) reg[1];\\nsx reg[1];\\nrz(-pi/2) reg[1];\\ncx reg[3],reg[2];\\ncx reg[4],reg[3];\\ncx reg[5],reg[4];\\nrz(-pi/2) reg[5];\\nsx reg[5];\\nrz(-pi/2) reg[5];\\ncx reg[5],reg[4];\\ncx reg[4],reg[3];\\ncx reg[3],reg[2];\\ncx reg[2],reg[1];\\nrz(5.285149) reg[1];\\ncx reg[2],reg[1];\\ncx reg[3],reg[2];\\ncx reg[4],reg[3];\\nrz(-pi/2) reg[3];\\nsx reg[3];\\nrz(-pi/2) reg[3];\\ncx reg[5],reg[4];\\nrz(-pi/2) reg[5];\\nsx reg[5];\\nrz(-pi/2) reg[5];\\ncx reg[5],reg[4];\\ncx reg[4],reg[3];\\ncx reg[3],reg[2];\\ncx reg[2],reg[1];\\nrz(5.285149) reg[1];\\ncx reg[2],reg[1];\\nrz(-pi/2) reg[1];\\nsx reg[1];\\nrz(-pi/2) reg[1];\\ncx reg[3],reg[2];\\ncx reg[4],reg[3];\\nrz(-pi) reg[3];\\nx reg[3];\\ncx reg[5],reg[4];\\nrz(pi/2) reg[4];\\nsx reg[4];\\nrz(pi/2) reg[4];\\ncx reg[5],reg[4];\\ncx reg[4],reg[1];\\ncx reg[1],reg[0];\\nrz(1.671716) reg[0];\\ncx reg[1],reg[0];\\ncx reg[4],reg[1];\\ncx reg[5],reg[4];\\nrz(-pi/2) reg[4];\\nsx reg[4];\\nrz(-pi/2) reg[4];\\nrz(-pi/2) reg[5];\\nsx reg[5];\\nrz(-pi/2) reg[5];\\ncx reg[5],reg[4];\\ncx reg[4],reg[1];\\ncx reg[1],reg[0];\\nrz(1.671716) reg[0];\\ncx reg[1],reg[0];\\nrz(-pi/2) reg[0];\\nsx reg[0];\\nrz(-pi/2) reg[0];\\ncx reg[4],reg[1];\\ncx reg[5],reg[4];\\nrz(-pi/2) reg[5];\\nsx reg[5];\\nrz(-pi/2) reg[5];\\ncx reg[5],reg[4];\\ncx reg[4],reg[1];\\ncx reg[1],reg[0];\\nrz(1.671716) reg[0];\\ncx reg[1],reg[0];\\ncx reg[4],reg[1];\\ncx reg[5],reg[4];\\nrz(-pi/2) reg[4];\\nsx reg[4];\\nrz(-pi/2) reg[4];\\nrz(-pi/2) reg[5];\\nsx reg[5];\\nrz(-pi/2) reg[5];\\ncx reg[5],reg[4];\\ncx reg[4],reg[1];\\ncx reg[1],reg[0];\\nrz(1.671716) reg[0];\\ncx reg[1],reg[0];\\nrz(-pi/2) reg[0];\\nsx reg[0];\\nrz(-pi/2) reg[0];\\ncx reg[4],reg[1];\\ncx reg[5],reg[4];\\nrz(-pi/2) reg[4];\\nsx reg[4];\\nrz(-pi/2) reg[4];\\ncx reg[5],reg[4];\\ncx reg[4],reg[1];\\ncx reg[1],reg[0];\\nrz(1.671716) reg[0];\\ncx reg[1],reg[0];\\ncx reg[4],reg[1];\\ncx reg[5],reg[4];\\nrz(-pi/2) reg[4];\\nsx reg[4];\\nrz(-pi/2) reg[4];\\nrz(-pi/2) reg[5];\\nsx reg[5];\\nrz(-pi/2) reg[5];\\ncx reg[5],reg[4];\\ncx reg[4],reg[1];\\ncx reg[1],reg[0];\\nrz(1.671716) reg[0];\\ncx reg[1],reg[0];\\nrz(-pi/2) reg[0];\\nsx reg[0];\\nrz(-pi/2) reg[0];\\ncx reg[4],reg[1];\\ncx reg[5],reg[4];\\nrz(-pi/2) reg[5];\\nsx reg[5];\\nrz(-pi/2) reg[5];\\ncx reg[5],reg[4];\\ncx reg[4],reg[1];\\ncx reg[1],reg[0];\\nrz(1.671716) reg[0];\\ncx reg[1],reg[0];\\ncx reg[4],reg[1];\\ncx reg[5],reg[4];\\nrz(-pi/2) reg[4];\\nsx reg[4];\\nrz(-pi/2) reg[4];\\nrz(-pi/2) reg[5];\\nsx reg[5];\\nrz(-pi/2) reg[5];\\ncx reg[5],reg[4];\\ncx reg[4],reg[1];\\ncx reg[1],reg[0];\\nrz(1.671716) reg[0];\\ncx reg[1],reg[0];\\nrz(-pi/2) reg[0];\\nsx reg[0];\\nrz(-pi/2) reg[0];\\ncx reg[4],reg[1];\\ncx reg[5],reg[4];\\nrz(-pi/2) reg[4];\\nsx reg[4];\\nrz(-pi/2) reg[4];\\ncx reg[5],reg[4];\\ncx reg[4],reg[2];\\ncx reg[2],reg[1];\\ncx reg[1],reg[0];\\nrz(3.028106) reg[0];\\ncx reg[1],reg[0];\\ncx reg[2],reg[1];\\ncx reg[4],reg[2];\\ncx reg[5],reg[4];\\nrz(-pi/2) reg[4];\\nsx reg[4];\\nrz(-pi/2) reg[4];\\nrz(-pi/2) reg[5];\\nsx reg[5];\\nrz(-pi/2) reg[5];\\ncx reg[5],reg[4];\\ncx reg[4],reg[2];\\ncx reg[2],reg[1];\\ncx reg[1],reg[0];\\nrz(3.028106) reg[0];\\ncx reg[1],reg[0];\\nrz(-pi/2) reg[0];\\nsx reg[0];\\nrz(-pi/2) reg[0];\\ncx reg[2],reg[1];\\ncx reg[4],reg[2];\\ncx reg[5],reg[4];\\nrz(-pi/2) reg[5];\\nsx reg[5];\\nrz(-pi/2) reg[5];\\ncx reg[5],reg[4];\\ncx reg[4],reg[2];\\ncx reg[2],reg[1];\\ncx reg[1],reg[0];\\nrz(3.028106) reg[0];\\ncx reg[1],reg[0];\\ncx reg[2],reg[1];\\ncx reg[4],reg[2];\\ncx reg[5],reg[4];\\nrz(-pi/2) reg[4];\\nsx reg[4];\\nrz(-pi/2) reg[4];\\nrz(-pi/2) reg[5];\\nsx reg[5];\\nrz(-pi/2) reg[5];\\ncx reg[5],reg[4];\\ncx reg[4],reg[2];\\ncx reg[2],reg[1];\\ncx reg[1],reg[0];\\nrz(3.028106) reg[0];\\ncx reg[1],reg[0];\\nrz(-pi/2) reg[0];\\nsx reg[0];\\nrz(-pi/2) reg[0];\\ncx reg[2],reg[1];\\ncx reg[4],reg[2];\\ncx reg[5],reg[4];\\nrz(-pi/2) reg[4];\\nsx reg[4];\\nrz(-pi/2) reg[4];\\ncx reg[5],reg[4];\\ncx reg[4],reg[2];\\ncx reg[2],reg[1];\\ncx reg[1],reg[0];\\nrz(3.028106) reg[0];\\ncx reg[1],reg[0];\\ncx reg[2],reg[1];\\ncx reg[4],reg[2];\\ncx reg[5],reg[4];\\nrz(-pi/2) reg[4];\\nsx reg[4];\\nrz(-pi/2) reg[4];\\nrz(-pi/2) reg[5];\\nsx reg[5];\\nrz(-pi/2) reg[5];\\ncx reg[5],reg[4];\\ncx reg[4],reg[2];\\ncx reg[2],reg[1];\\ncx reg[1],reg[0];\\nrz(3.028106) reg[0];\\ncx reg[1],reg[0];\\nrz(-pi/2) reg[0];\\nsx reg[0];\\nrz(-pi/2) reg[0];\\ncx reg[2],reg[1];\\ncx reg[4],reg[2];\\ncx reg[5],reg[4];\\nrz(-pi/2) reg[5];\\nsx reg[5];\\nrz(-pi/2) reg[5];\\ncx reg[5],reg[4];\\ncx reg[4],reg[2];\\ncx reg[2],reg[1];\\ncx reg[1],reg[0];\\nrz(3.028106) reg[0];\\ncx reg[1],reg[0];\\ncx reg[2],reg[1];\\ncx reg[4],reg[2];\\ncx reg[5],reg[4];\\nrz(-pi/2) reg[4];\\nsx reg[4];\\nrz(-pi/2) reg[4];\\nrz(-pi/2) reg[5];\\nsx reg[5];\\nrz(-pi/2) reg[5];\\ncx reg[5],reg[4];\\ncx reg[4],reg[2];\\ncx reg[2],reg[1];\\ncx reg[1],reg[0];\\nrz(3.028106) reg[0];\\ncx reg[1],reg[0];\\nrz(-pi/2) reg[0];\\nsx reg[0];\\nrz(-pi/2) reg[0];\\ncx reg[2],reg[1];\\ncx reg[4],reg[2];\\ncx reg[5],reg[4];\\nrz(-pi/2) reg[4];\\nsx reg[4];\\nrz(-pi/2) reg[4];\\ncx reg[5],reg[4];\\ncx reg[4],reg[2];\\ncx reg[2],reg[1];\\nrz(1.39888) reg[1];\\ncx reg[2],reg[1];\\ncx reg[4],reg[2];\\ncx reg[5],reg[4];\\nrz(-pi/2) reg[4];\\nsx reg[4];\\nrz(-pi/2) reg[4];\\nrz(-pi/2) reg[5];\\nsx reg[5];\\nrz(-pi/2) reg[5];\\ncx reg[5],reg[4];\\ncx reg[4],reg[2];\\ncx reg[2],reg[1];\\nrz(1.39888) reg[1];\\ncx reg[2],reg[1];\\nrz(-pi/2) reg[1];\\nsx reg[1];\\nrz(-pi/2) reg[1];\\ncx reg[4],reg[2];\\ncx reg[5],reg[4];\\nrz(-pi/2) reg[5];\\nsx reg[5];\\nrz(-pi/2) reg[5];\\ncx reg[5],reg[4];\\ncx reg[4],reg[2];\\ncx reg[2],reg[1];\\nrz(1.39888) reg[1];\\ncx reg[2],reg[1];\\ncx reg[4],reg[2];\\ncx reg[5],reg[4];\\nrz(-pi/2) reg[4];\\nsx reg[4];\\nrz(-pi/2) reg[4];\\nrz(-pi/2) reg[5];\\nsx reg[5];\\nrz(-pi/2) reg[5];\\ncx reg[5],reg[4];\\ncx reg[4],reg[2];\\ncx reg[2],reg[1];\\nrz(1.39888) reg[1];\\ncx reg[2],reg[1];\\nrz(-pi/2) reg[1];\\nsx reg[1];\\nrz(-pi/2) reg[1];\\ncx reg[4],reg[2];\\ncx reg[5],reg[4];\\nrz(-pi/2) reg[4];\\nsx reg[4];\\nrz(-pi/2) reg[4];\\ncx reg[5],reg[4];\\ncx reg[4],reg[2];\\ncx reg[2],reg[1];\\nrz(1.39888) reg[1];\\ncx reg[2],reg[1];\\ncx reg[4],reg[2];\\ncx reg[5],reg[4];\\nrz(-pi/2) reg[4];\\nsx reg[4];\\nrz(-pi/2) reg[4];\\nrz(-pi/2) reg[5];\\nsx reg[5];\\nrz(-pi/2) reg[5];\\ncx reg[5],reg[4];\\ncx reg[4],reg[2];\\ncx reg[2],reg[1];\\nrz(1.39888) reg[1];\\ncx reg[2],reg[1];\\nrz(-pi/2) reg[1];\\nsx reg[1];\\nrz(-pi/2) reg[1];\\ncx reg[4],reg[2];\\ncx reg[5],reg[4];\\nrz(-pi/2) reg[5];\\nsx reg[5];\\nrz(-pi/2) reg[5];\\ncx reg[5],reg[4];\\ncx reg[4],reg[2];\\ncx reg[2],reg[1];\\nrz(1.39888) reg[1];\\ncx reg[2],reg[1];\\ncx reg[4],reg[2];\\ncx reg[5],reg[4];\\nrz(-pi/2) reg[4];\\nsx reg[4];\\nrz(-pi/2) reg[4];\\nrz(-pi/2) reg[5];\\nsx reg[5];\\nrz(-pi/2) reg[5];\\ncx reg[5],reg[4];\\ncx reg[4],reg[2];\\ncx reg[2],reg[1];\\nrz(1.39888) reg[1];\\ncx reg[2],reg[1];\\nrz(-pi/2) reg[1];\\nsx reg[1];\\nrz(-pi/2) reg[1];\\ncx reg[4],reg[2];\\ncx reg[5],reg[4];\\nrz(-pi/2) reg[4];\\nsx reg[4];\\nrz(-pi/2) reg[4];\\ncx reg[5],reg[4];\\ncx reg[4],reg[3];\\ncx reg[3],reg[2];\\ncx reg[2],reg[1];\\ncx reg[1],reg[0];\\nrz(5.622395) reg[0];\\ncx reg[1],reg[0];\\ncx reg[2],reg[1];\\ncx reg[3],reg[2];\\ncx reg[4],reg[3];\\ncx reg[5],reg[4];\\nrz(-pi/2) reg[4];\\nsx reg[4];\\nrz(-pi/2) reg[4];\\nrz(-pi/2) reg[5];\\nsx reg[5];\\nrz(-pi/2) reg[5];\\ncx reg[5],reg[4];\\ncx reg[4],reg[3];\\ncx reg[3],reg[2];\\ncx reg[2],reg[1];\\ncx reg[1],reg[0];\\nrz(5.622395) reg[0];\\ncx reg[1],reg[0];\\nrz(-pi/2) reg[0];\\nsx reg[0];\\nrz(-pi/2) reg[0];\\ncx reg[2],reg[1];\\ncx reg[3],reg[2];\\ncx reg[4],reg[3];\\ncx reg[5],reg[4];\\nrz(-pi/2) reg[5];\\nsx reg[5];\\nrz(-pi/2) reg[5];\\ncx reg[5],reg[4];\\ncx reg[4],reg[3];\\ncx reg[3],reg[2];\\ncx reg[2],reg[1];\\ncx reg[1],reg[0];\\nrz(5.622395) reg[0];\\ncx reg[1],reg[0];\\ncx reg[2],reg[1];\\ncx reg[3],reg[2];\\ncx reg[4],reg[3];\\ncx reg[5],reg[4];\\nrz(-pi/2) reg[4];\\nsx reg[4];\\nrz(-pi/2) reg[4];\\nrz(-pi/2) reg[5];\\nsx reg[5];\\nrz(-pi/2) reg[5];\\ncx reg[5],reg[4];\\ncx reg[4],reg[3];\\ncx reg[3],reg[2];\\ncx reg[2],reg[1];\\ncx reg[1],reg[0];\\nrz(5.622395) reg[0];\\ncx reg[1],reg[0];\\nrz(-pi/2) reg[0];\\nsx reg[0];\\nrz(-pi/2) reg[0];\\ncx reg[2],reg[1];\\ncx reg[3],reg[2];\\ncx reg[4],reg[3];\\ncx reg[5],reg[4];\\nrz(-pi/2) reg[4];\\nsx reg[4];\\nrz(-pi/2) reg[4];\\ncx reg[5],reg[4];\\ncx reg[4],reg[3];\\ncx reg[3],reg[2];\\ncx reg[2],reg[1];\\ncx reg[1],reg[0];\\nrz(5.622395) reg[0];\\ncx reg[1],reg[0];\\ncx reg[2],reg[1];\\ncx reg[3],reg[2];\\ncx reg[4],reg[3];\\ncx reg[5],reg[4];\\nrz(-pi/2) reg[4];\\nsx reg[4];\\nrz(-pi/2) reg[4];\\nrz(-pi/2) reg[5];\\nsx reg[5];\\nrz(-pi/2) reg[5];\\ncx reg[5],reg[4];\\ncx reg[4],reg[3];\\ncx reg[3],reg[2];\\ncx reg[2],reg[1];\\ncx reg[1],reg[0];\\nrz(5.622395) reg[0];\\ncx reg[1],reg[0];\\nrz(-pi/2) reg[0];\\nsx reg[0];\\nrz(-pi/2) reg[0];\\ncx reg[2],reg[1];\\ncx reg[3],reg[2];\\ncx reg[4],reg[3];\\ncx reg[5],reg[4];\\nrz(-pi/2) reg[5];\\nsx reg[5];\\nrz(-pi/2) reg[5];\\ncx reg[5],reg[4];\\ncx reg[4],reg[3];\\ncx reg[3],reg[2];\\ncx reg[2],reg[1];\\ncx reg[1],reg[0];\\nrz(5.622395) reg[0];\\ncx reg[1],reg[0];\\ncx reg[2],reg[1];\\ncx reg[3],reg[2];\\ncx reg[4],reg[3];\\ncx reg[5],reg[4];\\nrz(-pi/2) reg[4];\\nsx reg[4];\\nrz(-pi/2) reg[4];\\nrz(-pi/2) reg[5];\\nsx reg[5];\\nrz(-pi/2) reg[5];\\ncx reg[5],reg[4];\\ncx reg[4],reg[3];\\ncx reg[3],reg[2];\\ncx reg[2],reg[1];\\ncx reg[1],reg[0];\\nrz(5.622395) reg[0];\\ncx reg[1],reg[0];\\nrz(-pi) reg[0];\\nx reg[0];\\ncx reg[2],reg[1];\\ncx reg[3],reg[2];\\ncx reg[4],reg[3];\\ncx reg[5],reg[4];\\nrz(-pi/2) reg[4];\\nsx reg[4];\\nrz(-pi/2) reg[4];\\ncx reg[5],reg[4];\\ncx reg[4],reg[3];\\ncx reg[3],reg[2];\\ncx reg[2],reg[1];\\nrz(1.674394) reg[1];\\ncx reg[2],reg[1];\\ncx reg[3],reg[2];\\ncx reg[4],reg[3];\\ncx reg[5],reg[4];\\nrz(-pi/2) reg[4];\\nsx reg[4];\\nrz(-pi/2) reg[4];\\nrz(-pi/2) reg[5];\\nsx reg[5];\\nrz(-pi/2) reg[5];\\ncx reg[5],reg[4];\\ncx reg[4],reg[3];\\ncx reg[3],reg[2];\\ncx reg[2],reg[1];\\nrz(1.674394) reg[1];\\ncx reg[2],reg[1];\\nrz(-pi/2) reg[1];\\nsx reg[1];\\nrz(-pi/2) reg[1];\\ncx reg[3],reg[2];\\ncx reg[4],reg[3];\\ncx reg[5],reg[4];\\nrz(-pi/2) reg[5];\\nsx reg[5];\\nrz(-pi/2) reg[5];\\ncx reg[5],reg[4];\\ncx reg[4],reg[3];\\ncx reg[3],reg[2];\\ncx reg[2],reg[1];\\nrz(1.674394) reg[1];\\ncx reg[2],reg[1];\\ncx reg[3],reg[2];\\ncx reg[4],reg[3];\\ncx reg[5],reg[4];\\nrz(-pi/2) reg[4];\\nsx reg[4];\\nrz(-pi/2) reg[4];\\nrz(-pi/2) reg[5];\\nsx reg[5];\\nrz(-pi/2) reg[5];\\ncx reg[5],reg[4];\\ncx reg[4],reg[3];\\ncx reg[3],reg[2];\\ncx reg[2],reg[1];\\nrz(1.674394) reg[1];\\ncx reg[2],reg[1];\\nrz(-pi/2) reg[1];\\nsx reg[1];\\nrz(-pi/2) reg[1];\\ncx reg[3],reg[2];\\ncx reg[4],reg[3];\\ncx reg[5],reg[4];\\nrz(-pi/2) reg[4];\\nsx reg[4];\\nrz(-pi/2) reg[4];\\ncx reg[5],reg[4];\\ncx reg[4],reg[3];\\ncx reg[3],reg[2];\\ncx reg[2],reg[1];\\nrz(1.674394) reg[1];\\ncx reg[2],reg[1];\\ncx reg[3],reg[2];\\ncx reg[4],reg[3];\\ncx reg[5],reg[4];\\nrz(-pi/2) reg[4];\\nsx reg[4];\\nrz(-pi/2) reg[4];\\nrz(-pi/2) reg[5];\\nsx reg[5];\\nrz(-pi/2) reg[5];\\ncx reg[5],reg[4];\\ncx reg[4],reg[3];\\ncx reg[3],reg[2];\\ncx reg[2],reg[1];\\nrz(1.674394) reg[1];\\ncx reg[2],reg[1];\\nrz(-pi/2) reg[1];\\nsx reg[1];\\nrz(-pi/2) reg[1];\\ncx reg[3],reg[2];\\ncx reg[4],reg[3];\\ncx reg[5],reg[4];\\nrz(-pi/2) reg[5];\\nsx reg[5];\\nrz(-pi/2) reg[5];\\ncx reg[5],reg[4];\\ncx reg[4],reg[3];\\ncx reg[3],reg[2];\\ncx reg[2],reg[1];\\nrz(1.674394) reg[1];\\ncx reg[2],reg[1];\\ncx reg[3],reg[2];\\ncx reg[4],reg[3];\\ncx reg[5],reg[4];\\nrz(-pi/2) reg[4];\\nsx reg[4];\\nrz(-pi/2) reg[4];\\nrz(-pi/2) reg[5];\\nsx reg[5];\\nrz(-pi/2) reg[5];\\ncx reg[5],reg[4];\\ncx reg[4],reg[3];\\ncx reg[3],reg[2];\\ncx reg[2],reg[1];\\nrz(1.674394) reg[1];\\ncx reg[2],reg[1];\\nrz(-pi) reg[1];\\nx reg[1];\\ncx reg[1],reg[0];\\nrz(2.340658) reg[0];\\ncx reg[1],reg[0];\\nrz(-pi/2) reg[0];\\nsx reg[0];\\nrz(-pi/2) reg[0];\\nrz(-pi/2) reg[1];\\nsx reg[1];\\nrz(-pi/2) reg[1];\\ncx reg[1],reg[0];\\nrz(2.340658) reg[0];\\ncx reg[1],reg[0];\\nrz(-pi/2) reg[0];\\nsx reg[0];\\nrz(-pi/2) reg[0];\\nrz(-pi) reg[1];\\nx reg[1];\\ncx reg[3],reg[2];\\ncx reg[4],reg[3];\\ncx reg[5],reg[4];\\nrz(-pi/2) reg[4];\\nsx reg[4];\\nrz(-pi/2) reg[4];\\ncx reg[5],reg[4];\\ncx reg[4],reg[3];\\ncx reg[3],reg[2];\\nrz(2.693995) reg[2];\\ncx reg[3],reg[2];\\ncx reg[4],reg[3];\\ncx reg[5],reg[4];\\nrz(-pi/2) reg[4];\\nsx reg[4];\\nrz(-pi/2) reg[4];\\nrz(-pi/2) reg[5];\\nsx reg[5];\\nrz(-pi/2) reg[5];\\ncx reg[5],reg[4];\\ncx reg[4],reg[3];\\ncx reg[3],reg[2];\\nrz(2.693995) reg[2];\\ncx reg[3],reg[2];\\nrz(-pi/2) reg[2];\\nsx reg[2];\\nrz(-pi/2) reg[2];\\ncx reg[4],reg[3];\\ncx reg[5],reg[4];\\nrz(-pi/2) reg[5];\\nsx reg[5];\\nrz(-pi/2) reg[5];\\ncx reg[5],reg[4];\\ncx reg[4],reg[3];\\ncx reg[3],reg[2];\\nrz(2.693995) reg[2];\\ncx reg[3],reg[2];\\ncx reg[4],reg[3];\\ncx reg[5],reg[4];\\nrz(-pi/2) reg[4];\\nsx reg[4];\\nrz(-pi/2) reg[4];\\nrz(-pi/2) reg[5];\\nsx reg[5];\\nrz(-pi/2) reg[5];\\ncx reg[5],reg[4];\\ncx reg[4],reg[3];\\ncx reg[3],reg[2];\\nrz(2.693995) reg[2];\\ncx reg[3],reg[2];\\nrz(-pi/2) reg[2];\\nsx reg[2];\\nrz(-pi/2) reg[2];\\ncx reg[4],reg[3];\\ncx reg[5],reg[4];\\nrz(-pi/2) reg[4];\\nsx reg[4];\\nrz(-pi/2) reg[4];\\ncx reg[5],reg[4];\\ncx reg[4],reg[3];\\ncx reg[3],reg[2];\\nrz(2.693995) reg[2];\\ncx reg[3],reg[2];\\ncx reg[4],reg[3];\\ncx reg[5],reg[4];\\nrz(-pi/2) reg[4];\\nsx reg[4];\\nrz(-pi/2) reg[4];\\nrz(-pi/2) reg[5];\\nsx reg[5];\\nrz(-pi/2) reg[5];\\ncx reg[5],reg[4];\\ncx reg[4],reg[3];\\ncx reg[3],reg[2];\\nrz(2.693995) reg[2];\\ncx reg[3],reg[2];\\nrz(-pi/2) reg[2];\\nsx reg[2];\\nrz(-pi/2) reg[2];\\ncx reg[4],reg[3];\\ncx reg[5],reg[4];\\nrz(-pi/2) reg[5];\\nsx reg[5];\\nrz(-pi/2) reg[5];\\ncx reg[5],reg[4];\\ncx reg[4],reg[3];\\ncx reg[3],reg[2];\\nrz(2.693995) reg[2];\\ncx reg[3],reg[2];\\ncx reg[4],reg[3];\\ncx reg[5],reg[4];\\nrz(-pi/2) reg[4];\\nsx reg[4];\\nrz(-pi/2) reg[4];\\nrz(-pi/2) reg[5];\\nsx reg[5];\\nrz(-pi/2) reg[5];\\ncx reg[5],reg[4];\\ncx reg[4],reg[3];\\ncx reg[3],reg[2];\\nrz(2.693995) reg[2];\\ncx reg[3],reg[2];\\nrz(-pi) reg[2];\\nx reg[2];\\ncx reg[2],reg[1];\\ncx reg[1],reg[0];\\nrz(4.735789) reg[0];\\ncx reg[1],reg[0];\\nrz(-pi/2) reg[0];\\nsx reg[0];\\nrz(-pi/2) reg[0];\\ncx reg[2],reg[1];\\nrz(-pi/2) reg[2];\\nsx reg[2];\\nrz(-pi/2) reg[2];\\ncx reg[2],reg[1];\\ncx reg[1],reg[0];\\nrz(4.735789) reg[0];\\ncx reg[1],reg[0];\\nrz(-pi/2) reg[0];\\nsx reg[0];\\nrz(-pi/2) reg[0];\\ncx reg[2],reg[1];\\nrz(pi/2) reg[1];\\nsx reg[1];\\nrz(pi/2) reg[1];\\nrz(-pi/2) reg[2];\\nsx reg[2];\\nrz(-pi/2) reg[2];\\ncx reg[2],reg[1];\\nrz(3.247286) reg[1];\\ncx reg[2],reg[1];\\nrz(-pi/2) reg[1];\\nsx reg[1];\\nrz(-pi/2) reg[1];\\nrz(-pi/2) reg[2];\\nsx reg[2];\\nrz(-pi/2) reg[2];\\ncx reg[2],reg[1];\\nrz(3.247286) reg[1];\\ncx reg[2],reg[1];\\nrz(-pi) reg[1];\\nx reg[1];\\nrz(-pi) reg[2];\\nx reg[2];\\ncx reg[4],reg[3];\\nrz(pi/2) reg[3];\\nsx reg[3];\\nrz(pi/2) reg[3];\\ncx reg[3],reg[2];\\ncx reg[2],reg[1];\\ncx reg[1],reg[0];\\nrz(2.633612) reg[0];\\ncx reg[1],reg[0];\\nrz(-pi/2) reg[0];\\nsx reg[0];\\nrz(-pi/2) reg[0];\\ncx reg[2],reg[1];\\ncx reg[3],reg[2];\\nrz(-pi/2) reg[3];\\nsx reg[3];\\nrz(-pi/2) reg[3];\\ncx reg[3],reg[2];\\ncx reg[2],reg[1];\\ncx reg[1],reg[0];\\nrz(2.633612) reg[0];\\ncx reg[1],reg[0];\\nrz(-pi/2) reg[0];\\nsx reg[0];\\nrz(-pi/2) reg[0];\\ncx reg[2],reg[1];\\nrz(pi/2) reg[1];\\nsx reg[1];\\nrz(pi/2) reg[1];\\ncx reg[3],reg[2];\\nrz(-pi/2) reg[3];\\nsx reg[3];\\nrz(-pi/2) reg[3];\\ncx reg[3],reg[2];\\ncx reg[2],reg[1];\\nrz(6.033361) reg[1];\\ncx reg[2],reg[1];\\nrz(-pi/2) reg[1];\\nsx reg[1];\\nrz(-pi/2) reg[1];\\ncx reg[3],reg[2];\\nrz(-pi/2) reg[3];\\nsx reg[3];\\nrz(-pi/2) reg[3];\\ncx reg[3],reg[2];\\ncx reg[2],reg[1];\\nrz(6.033361) reg[1];\\ncx reg[2],reg[1];\\nrz(-pi) reg[1];\\nx reg[1];\\ncx reg[3],reg[2];\\nrz(pi/2) reg[2];\\nsx reg[2];\\nrz(pi/2) reg[2];\\nrz(-pi/2) reg[3];\\nsx reg[3];\\nrz(-pi/2) reg[3];\\ncx reg[3],reg[2];\\nrz(1.606384) reg[2];\\ncx reg[3],reg[2];\\nrz(-pi/2) reg[2];\\nsx reg[2];\\nrz(-pi/2) reg[2];\\nrz(-pi/2) reg[3];\\nsx reg[3];\\nrz(-pi/2) reg[3];\\ncx reg[3],reg[2];\\nrz(1.606384) reg[2];\\ncx reg[3],reg[2];\\nrz(-pi) reg[2];\\nx reg[2];\\nrz(-pi) reg[3];\\nx reg[3];\\ncx reg[5],reg[4];\\nrz(-pi/2) reg[4];\\nsx reg[4];\\nrz(-pi/2) reg[4];\\ncx reg[4],reg[3];\\ncx reg[3],reg[2];\\ncx reg[2],reg[1];\\ncx reg[1],reg[0];\\nrz(3.427706) reg[0];\\ncx reg[1],reg[0];\\nrz(-pi/2) reg[0];\\nsx reg[0];\\nrz(-pi/2) reg[0];\\ncx reg[2],reg[1];\\ncx reg[3],reg[2];\\ncx reg[4],reg[3];\\nrz(-pi/2) reg[4];\\nsx reg[4];\\nrz(-pi/2) reg[4];\\ncx reg[4],reg[3];\\ncx reg[3],reg[2];\\ncx reg[2],reg[1];\\ncx reg[1],reg[0];\\nrz(3.427706) reg[0];\\ncx reg[1],reg[0];\\nrz(-pi/2) reg[0];\\nsx reg[0];\\nrz(-pi/2) reg[0];\\ncx reg[2],reg[1];\\nrz(pi/2) reg[1];\\nsx reg[1];\\nrz(pi/2) reg[1];\\ncx reg[3],reg[2];\\ncx reg[4],reg[3];\\nrz(-pi/2) reg[4];\\nsx reg[4];\\nrz(-pi/2) reg[4];\\ncx reg[4],reg[3];\\ncx reg[3],reg[2];\\ncx reg[2],reg[1];\\nrz(3.353791) reg[1];\\ncx reg[2],reg[1];\\nrz(-pi/2) reg[1];\\nsx reg[1];\\nrz(-pi/2) reg[1];\\ncx reg[3],reg[2];\\ncx reg[4],reg[3];\\nrz(-pi/2) reg[4];\\nsx reg[4];\\nrz(-pi/2) reg[4];\\ncx reg[4],reg[3];\\ncx reg[3],reg[2];\\ncx reg[2],reg[1];\\nrz(3.353791) reg[1];\\ncx reg[2],reg[1];\\nrz(-pi) reg[1];\\nx reg[1];\\ncx reg[3],reg[2];\\nrz(pi/2) reg[2];\\nsx reg[2];\\nrz(pi/2) reg[2];\\ncx reg[4],reg[3];\\nrz(-pi/2) reg[4];\\nsx reg[4];\\nrz(-pi/2) reg[4];\\ncx reg[4],reg[3];\\ncx reg[3],reg[2];\\nrz(5.428189) reg[2];\\ncx reg[3],reg[2];\\nrz(-pi/2) reg[2];\\nsx reg[2];\\nrz(-pi/2) reg[2];\\ncx reg[4],reg[3];\\nrz(-pi/2) reg[4];\\nsx reg[4];\\nrz(-pi/2) reg[4];\\ncx reg[4],reg[3];\\ncx reg[3],reg[2];\\nrz(5.428189) reg[2];\\ncx reg[3],reg[2];\\nrz(-pi) reg[2];\\nx reg[2];\\ncx reg[4],reg[3];\\nrz(pi/2) reg[3];\\nsx reg[3];\\nrz(pi/2) reg[3];\\nrz(-pi/2) reg[4];\\nsx reg[4];\\nrz(-pi/2) reg[4];\\ncx reg[4],reg[3];\\nrz(0.8538145) reg[3];\\ncx reg[4],reg[3];\\nrz(-pi/2) reg[3];\\nsx reg[3];\\nrz(-pi/2) reg[3];\\nrz(-pi/2) reg[4];\\nsx reg[4];\\nrz(-pi/2) reg[4];\\ncx reg[4],reg[3];\\nrz(0.8538145) reg[3];\\ncx reg[4],reg[3];\\nrz(-pi) reg[3];\\nx reg[3];\\nrz(-pi) reg[4];\\nx reg[4];\\ncx reg[5],reg[4];\\ncx reg[4],reg[3];\\ncx reg[3],reg[2];\\ncx reg[2],reg[1];\\ncx reg[1],reg[0];\\nrz(1.098986) reg[0];\\ncx reg[1],reg[0];\\nrz(-pi/2) reg[0];\\nsx reg[0];\\nrz(-pi/2) reg[0];\\ncx reg[2],reg[1];\\ncx reg[3],reg[2];\\ncx reg[4],reg[3];\\ncx reg[5],reg[4];\\nrz(-pi/2) reg[5];\\nsx reg[5];\\nrz(-pi/2) reg[5];\\ncx reg[5],reg[4];\\ncx reg[4],reg[3];\\ncx reg[3],reg[2];\\ncx reg[2],reg[1];\\ncx reg[1],reg[0];\\nrz(1.098986) reg[0];\\ncx reg[1],reg[0];\\nrz(-pi) reg[0];\\nx reg[0];\\ncx reg[2],reg[1];\\nrz(pi/2) reg[1];\\nsx reg[1];\\nrz(pi/2) reg[1];\\ncx reg[3],reg[2];\\ncx reg[4],reg[3];\\ncx reg[5],reg[4];\\nrz(-pi/2) reg[5];\\nsx reg[5];\\nrz(-pi/2) reg[5];\\ncx reg[5],reg[4];\\ncx reg[4],reg[3];\\ncx reg[3],reg[2];\\ncx reg[2],reg[1];\\nrz(4.019744) reg[1];\\ncx reg[2],reg[1];\\nrz(-pi/2) reg[1];\\nsx reg[1];\\nrz(-pi/2) reg[1];\\ncx reg[3],reg[2];\\ncx reg[4],reg[3];\\ncx reg[5],reg[4];\\nrz(-pi/2) reg[5];\\nsx reg[5];\\nrz(-pi/2) reg[5];\\ncx reg[5],reg[4];\\ncx reg[4],reg[3];\\ncx reg[3],reg[2];\\ncx reg[2],reg[1];\\nrz(4.019744) reg[1];\\ncx reg[2],reg[1];\\nrz(-pi) reg[1];\\nx reg[1];\\ncx reg[3],reg[2];\\nrz(pi/2) reg[2];\\nsx reg[2];\\nrz(pi/2) reg[2];\\ncx reg[4],reg[3];\\ncx reg[5],reg[4];\\nrz(-pi/2) reg[5];\\nsx reg[5];\\nrz(-pi/2) reg[5];\\ncx reg[5],reg[4];\\ncx reg[4],reg[3];\\ncx reg[3],reg[2];\\nrz(2.683754) reg[2];\\ncx reg[3],reg[2];\\nrz(-pi/2) reg[2];\\nsx reg[2];\\nrz(-pi/2) reg[2];\\ncx reg[4],reg[3];\\ncx reg[5],reg[4];\\nrz(-pi/2) reg[5];\\nsx reg[5];\\nrz(-pi/2) reg[5];\\ncx reg[5],reg[4];\\ncx reg[4],reg[3];\\ncx reg[3],reg[2];\\nrz(2.683754) reg[2];\\ncx reg[3],reg[2];\\nrz(-pi) reg[2];\\nx reg[2];\\ncx reg[4],reg[3];\\nrz(pi/2) reg[3];\\nsx reg[3];\\nrz(pi/2) reg[3];\\ncx reg[5],reg[4];\\nrz(-pi/2) reg[5];\\nsx reg[5];\\nrz(-pi/2) reg[5];\\ncx reg[5],reg[4];\\ncx reg[4],reg[3];\\nrz(0.679082) reg[3];\\ncx reg[4],reg[3];\\nrz(-pi/2) reg[3];\\nsx reg[3];\\nrz(-pi/2) reg[3];\\ncx reg[5],reg[4];\\nrz(-pi/2) reg[5];\\nsx reg[5];\\nrz(-pi/2) reg[5];\\ncx reg[5],reg[4];\\ncx reg[4],reg[3];\\nrz(0.679082) reg[3];\\ncx reg[4],reg[3];\\nrz(-pi) reg[3];\\nx reg[3];\\ncx reg[5],reg[4];\\nrz(pi/2) reg[4];\\nsx reg[4];\\nrz(pi/2) reg[4];\\nrz(-pi/2) reg[5];\\nsx reg[5];\\nrz(-pi/2) reg[5];\\ncx reg[5],reg[4];\\nrz(5.547861) reg[4];\\ncx reg[5],reg[4];\\nrz(-pi/2) reg[4];\\nsx reg[4];\\nrz(-pi/2) reg[4];\\nrz(-pi/2) reg[5];\\nsx reg[5];\\nrz(-pi/2) reg[5];\\ncx reg[5],reg[4];\\nrz(5.547861) reg[4];\\ncx reg[5],reg[4];\\nrz(-pi) reg[4];\\nx reg[4];\\nrz(-pi) reg[5];\\nx reg[5];\\nmeasure q[0] -> c[0];\\nmeasure q[1] -> c[1];\\nmeasure q[2] -> c[2];\\nmeasure q[3] -> c[3];\\nmeasure q[4] -> c[4];\\nmeasure q[5] -> c[5];\\n'"
      ]
     },
     "execution_count": 61,
     "metadata": {},
     "output_type": "execute_result"
    }
   ],
   "source": [
    "qasm_code"
   ]
  },
  {
   "cell_type": "code",
   "execution_count": 62,
   "id": "ec32965d",
   "metadata": {},
   "outputs": [],
   "source": [
    "# 移除barrier语句（Qibo不支持）\n",
    "lines = qasm_code.split('\\n')\n",
    "filtered_lines = [line for line in lines if 'barrier' not in line]\n",
    "clean_qasm_code = '\\n'.join(filtered_lines)"
   ]
  },
  {
   "cell_type": "code",
   "execution_count": 63,
   "id": "e17358f3",
   "metadata": {},
   "outputs": [
    {
     "data": {
      "text/plain": [
       "'OPENQASM 2.0;\\ninclude \"qelib1.inc\";\\nqreg reg[6];\\nrz(pi/2) reg[2];\\nsx reg[2];\\nrz(pi/2) reg[2];\\nrz(pi/2) reg[3];\\nsx reg[3];\\nrz(pi/2) reg[3];\\ncx reg[3],reg[2];\\ncx reg[2],reg[1];\\ncx reg[1],reg[0];\\nrz(4.638775) reg[0];\\ncx reg[1],reg[0];\\ncx reg[2],reg[1];\\ncx reg[3],reg[2];\\nrz(-pi/2) reg[2];\\nsx reg[2];\\nrz(-pi/2) reg[2];\\nrz(-pi/2) reg[3];\\nsx reg[3];\\nrz(-pi/2) reg[3];\\ncx reg[3],reg[2];\\ncx reg[2],reg[1];\\ncx reg[1],reg[0];\\nrz(4.638775) reg[0];\\ncx reg[1],reg[0];\\nrz(-pi/2) reg[0];\\nsx reg[0];\\nrz(-pi/2) reg[0];\\ncx reg[2],reg[1];\\ncx reg[3],reg[2];\\nrz(-pi/2) reg[3];\\nsx reg[3];\\nrz(-pi/2) reg[3];\\ncx reg[3],reg[2];\\ncx reg[2],reg[1];\\ncx reg[1],reg[0];\\nrz(4.638775) reg[0];\\ncx reg[1],reg[0];\\ncx reg[2],reg[1];\\ncx reg[3],reg[2];\\nrz(-pi/2) reg[2];\\nsx reg[2];\\nrz(-pi/2) reg[2];\\nrz(-pi/2) reg[3];\\nsx reg[3];\\nrz(-pi/2) reg[3];\\ncx reg[3],reg[2];\\ncx reg[2],reg[1];\\ncx reg[1],reg[0];\\nrz(4.638775) reg[0];\\ncx reg[1],reg[0];\\nrz(-pi/2) reg[0];\\nsx reg[0];\\nrz(-pi/2) reg[0];\\ncx reg[2],reg[1];\\ncx reg[3],reg[2];\\nrz(-pi/2) reg[2];\\nsx reg[2];\\nrz(-pi/2) reg[2];\\ncx reg[3],reg[2];\\ncx reg[2],reg[1];\\ncx reg[1],reg[0];\\nrz(4.638775) reg[0];\\ncx reg[1],reg[0];\\ncx reg[2],reg[1];\\ncx reg[3],reg[2];\\nrz(-pi/2) reg[2];\\nsx reg[2];\\nrz(-pi/2) reg[2];\\nrz(-pi/2) reg[3];\\nsx reg[3];\\nrz(-pi/2) reg[3];\\ncx reg[3],reg[2];\\ncx reg[2],reg[1];\\ncx reg[1],reg[0];\\nrz(4.638775) reg[0];\\ncx reg[1],reg[0];\\nrz(-pi/2) reg[0];\\nsx reg[0];\\nrz(-pi/2) reg[0];\\ncx reg[2],reg[1];\\ncx reg[3],reg[2];\\nrz(-pi/2) reg[3];\\nsx reg[3];\\nrz(-pi/2) reg[3];\\ncx reg[3],reg[2];\\ncx reg[2],reg[1];\\ncx reg[1],reg[0];\\nrz(4.638775) reg[0];\\ncx reg[1],reg[0];\\ncx reg[2],reg[1];\\ncx reg[3],reg[2];\\nrz(-pi/2) reg[2];\\nsx reg[2];\\nrz(-pi/2) reg[2];\\nrz(-pi/2) reg[3];\\nsx reg[3];\\nrz(-pi/2) reg[3];\\ncx reg[3],reg[2];\\ncx reg[2],reg[1];\\ncx reg[1],reg[0];\\nrz(4.638775) reg[0];\\ncx reg[1],reg[0];\\nrz(-pi/2) reg[0];\\nsx reg[0];\\nrz(-pi/2) reg[0];\\ncx reg[2],reg[1];\\ncx reg[3],reg[2];\\nrz(-pi/2) reg[2];\\nsx reg[2];\\nrz(-pi/2) reg[2];\\nrz(pi/2) reg[3];\\nsx reg[3];\\nrz(pi/2) reg[3];\\nrz(pi/2) reg[4];\\nsx reg[4];\\nrz(pi/2) reg[4];\\ncx reg[4],reg[3];\\ncx reg[3],reg[2];\\ncx reg[2],reg[1];\\ncx reg[1],reg[0];\\nrz(5.570539) reg[0];\\ncx reg[1],reg[0];\\ncx reg[2],reg[1];\\ncx reg[3],reg[2];\\nrz(-pi/2) reg[2];\\nsx reg[2];\\nrz(-pi/2) reg[2];\\ncx reg[4],reg[3];\\nrz(-pi/2) reg[4];\\nsx reg[4];\\nrz(-pi/2) reg[4];\\ncx reg[4],reg[3];\\ncx reg[3],reg[2];\\ncx reg[2],reg[1];\\ncx reg[1],reg[0];\\nrz(5.570539) reg[0];\\ncx reg[1],reg[0];\\nrz(-pi/2) reg[0];\\nsx reg[0];\\nrz(-pi/2) reg[0];\\ncx reg[2],reg[1];\\ncx reg[3],reg[2];\\ncx reg[4],reg[3];\\nrz(-pi/2) reg[4];\\nsx reg[4];\\nrz(-pi/2) reg[4];\\ncx reg[4],reg[3];\\ncx reg[3],reg[2];\\ncx reg[2],reg[1];\\ncx reg[1],reg[0];\\nrz(5.570539) reg[0];\\ncx reg[1],reg[0];\\ncx reg[2],reg[1];\\ncx reg[3],reg[2];\\nrz(-pi/2) reg[2];\\nsx reg[2];\\nrz(-pi/2) reg[2];\\ncx reg[4],reg[3];\\nrz(-pi/2) reg[4];\\nsx reg[4];\\nrz(-pi/2) reg[4];\\ncx reg[4],reg[3];\\ncx reg[3],reg[2];\\ncx reg[2],reg[1];\\ncx reg[1],reg[0];\\nrz(5.570539) reg[0];\\ncx reg[1],reg[0];\\nrz(-pi/2) reg[0];\\nsx reg[0];\\nrz(-pi/2) reg[0];\\ncx reg[2],reg[1];\\ncx reg[3],reg[2];\\nrz(-pi/2) reg[2];\\nsx reg[2];\\nrz(-pi/2) reg[2];\\ncx reg[3],reg[2];\\ncx reg[2],reg[1];\\ncx reg[1],reg[0];\\nrz(5.570539) reg[0];\\ncx reg[1],reg[0];\\ncx reg[2],reg[1];\\ncx reg[3],reg[2];\\nrz(-pi/2) reg[2];\\nsx reg[2];\\nrz(-pi/2) reg[2];\\ncx reg[4],reg[3];\\nrz(-pi/2) reg[4];\\nsx reg[4];\\nrz(-pi/2) reg[4];\\ncx reg[4],reg[3];\\ncx reg[3],reg[2];\\ncx reg[2],reg[1];\\ncx reg[1],reg[0];\\nrz(5.570539) reg[0];\\ncx reg[1],reg[0];\\nrz(-pi/2) reg[0];\\nsx reg[0];\\nrz(-pi/2) reg[0];\\ncx reg[2],reg[1];\\ncx reg[3],reg[2];\\ncx reg[4],reg[3];\\nrz(-pi/2) reg[4];\\nsx reg[4];\\nrz(-pi/2) reg[4];\\ncx reg[4],reg[3];\\ncx reg[3],reg[2];\\ncx reg[2],reg[1];\\ncx reg[1],reg[0];\\nrz(5.570539) reg[0];\\ncx reg[1],reg[0];\\ncx reg[2],reg[1];\\ncx reg[3],reg[2];\\nrz(-pi/2) reg[2];\\nsx reg[2];\\nrz(-pi/2) reg[2];\\ncx reg[4],reg[3];\\nrz(-pi/2) reg[4];\\nsx reg[4];\\nrz(-pi/2) reg[4];\\ncx reg[4],reg[3];\\ncx reg[3],reg[2];\\ncx reg[2],reg[1];\\ncx reg[1],reg[0];\\nrz(5.570539) reg[0];\\ncx reg[1],reg[0];\\nrz(-pi/2) reg[0];\\nsx reg[0];\\nrz(-pi/2) reg[0];\\ncx reg[2],reg[1];\\ncx reg[3],reg[2];\\nrz(-pi) reg[2];\\nx reg[2];\\ncx reg[4],reg[3];\\nrz(pi/2) reg[3];\\nsx reg[3];\\nrz(pi/2) reg[3];\\ncx reg[4],reg[3];\\ncx reg[3],reg[1];\\ncx reg[1],reg[0];\\nrz(5.663952) reg[0];\\ncx reg[1],reg[0];\\ncx reg[3],reg[1];\\ncx reg[4],reg[3];\\nrz(-pi/2) reg[3];\\nsx reg[3];\\nrz(-pi/2) reg[3];\\nrz(-pi/2) reg[4];\\nsx reg[4];\\nrz(-pi/2) reg[4];\\ncx reg[4],reg[3];\\ncx reg[3],reg[1];\\ncx reg[1],reg[0];\\nrz(5.663952) reg[0];\\ncx reg[1],reg[0];\\nrz(-pi/2) reg[0];\\nsx reg[0];\\nrz(-pi/2) reg[0];\\ncx reg[3],reg[1];\\ncx reg[4],reg[3];\\nrz(-pi/2) reg[4];\\nsx reg[4];\\nrz(-pi/2) reg[4];\\ncx reg[4],reg[3];\\ncx reg[3],reg[1];\\ncx reg[1],reg[0];\\nrz(5.663952) reg[0];\\ncx reg[1],reg[0];\\ncx reg[3],reg[1];\\ncx reg[4],reg[3];\\nrz(-pi/2) reg[3];\\nsx reg[3];\\nrz(-pi/2) reg[3];\\nrz(-pi/2) reg[4];\\nsx reg[4];\\nrz(-pi/2) reg[4];\\ncx reg[4],reg[3];\\ncx reg[3],reg[1];\\ncx reg[1],reg[0];\\nrz(5.663952) reg[0];\\ncx reg[1],reg[0];\\nrz(-pi/2) reg[0];\\nsx reg[0];\\nrz(-pi/2) reg[0];\\ncx reg[3],reg[1];\\ncx reg[4],reg[3];\\nrz(-pi/2) reg[3];\\nsx reg[3];\\nrz(-pi/2) reg[3];\\ncx reg[4],reg[3];\\ncx reg[3],reg[1];\\ncx reg[1],reg[0];\\nrz(5.663952) reg[0];\\ncx reg[1],reg[0];\\ncx reg[3],reg[1];\\ncx reg[4],reg[3];\\nrz(-pi/2) reg[3];\\nsx reg[3];\\nrz(-pi/2) reg[3];\\nrz(-pi/2) reg[4];\\nsx reg[4];\\nrz(-pi/2) reg[4];\\ncx reg[4],reg[3];\\ncx reg[3],reg[1];\\ncx reg[1],reg[0];\\nrz(5.663952) reg[0];\\ncx reg[1],reg[0];\\nrz(-pi/2) reg[0];\\nsx reg[0];\\nrz(-pi/2) reg[0];\\ncx reg[3],reg[1];\\ncx reg[4],reg[3];\\nrz(-pi/2) reg[4];\\nsx reg[4];\\nrz(-pi/2) reg[4];\\ncx reg[4],reg[3];\\ncx reg[3],reg[1];\\ncx reg[1],reg[0];\\nrz(5.663952) reg[0];\\ncx reg[1],reg[0];\\ncx reg[3],reg[1];\\ncx reg[4],reg[3];\\nrz(-pi/2) reg[3];\\nsx reg[3];\\nrz(-pi/2) reg[3];\\nrz(-pi/2) reg[4];\\nsx reg[4];\\nrz(-pi/2) reg[4];\\ncx reg[4],reg[3];\\ncx reg[3],reg[1];\\ncx reg[1],reg[0];\\nrz(5.663952) reg[0];\\ncx reg[1],reg[0];\\nrz(-pi/2) reg[0];\\nsx reg[0];\\nrz(-pi/2) reg[0];\\ncx reg[3],reg[1];\\ncx reg[4],reg[3];\\nrz(-pi/2) reg[3];\\nsx reg[3];\\nrz(-pi/2) reg[3];\\ncx reg[4],reg[3];\\ncx reg[3],reg[2];\\ncx reg[2],reg[1];\\ncx reg[1],reg[0];\\nrz(5.530073) reg[0];\\ncx reg[1],reg[0];\\ncx reg[2],reg[1];\\ncx reg[3],reg[2];\\ncx reg[4],reg[3];\\nrz(-pi/2) reg[3];\\nsx reg[3];\\nrz(-pi/2) reg[3];\\nrz(-pi/2) reg[4];\\nsx reg[4];\\nrz(-pi/2) reg[4];\\ncx reg[4],reg[3];\\ncx reg[3],reg[2];\\ncx reg[2],reg[1];\\ncx reg[1],reg[0];\\nrz(5.530073) reg[0];\\ncx reg[1],reg[0];\\nrz(-pi/2) reg[0];\\nsx reg[0];\\nrz(-pi/2) reg[0];\\ncx reg[2],reg[1];\\ncx reg[3],reg[2];\\ncx reg[4],reg[3];\\nrz(-pi/2) reg[4];\\nsx reg[4];\\nrz(-pi/2) reg[4];\\ncx reg[4],reg[3];\\ncx reg[3],reg[2];\\ncx reg[2],reg[1];\\ncx reg[1],reg[0];\\nrz(5.530073) reg[0];\\ncx reg[1],reg[0];\\ncx reg[2],reg[1];\\ncx reg[3],reg[2];\\ncx reg[4],reg[3];\\nrz(-pi/2) reg[3];\\nsx reg[3];\\nrz(-pi/2) reg[3];\\nrz(-pi/2) reg[4];\\nsx reg[4];\\nrz(-pi/2) reg[4];\\ncx reg[4],reg[3];\\ncx reg[3],reg[2];\\ncx reg[2],reg[1];\\ncx reg[1],reg[0];\\nrz(5.530073) reg[0];\\ncx reg[1],reg[0];\\nrz(-pi/2) reg[0];\\nsx reg[0];\\nrz(-pi/2) reg[0];\\ncx reg[2],reg[1];\\ncx reg[3],reg[2];\\ncx reg[4],reg[3];\\nrz(-pi/2) reg[3];\\nsx reg[3];\\nrz(-pi/2) reg[3];\\ncx reg[4],reg[3];\\ncx reg[3],reg[2];\\ncx reg[2],reg[1];\\ncx reg[1],reg[0];\\nrz(5.530073) reg[0];\\ncx reg[1],reg[0];\\ncx reg[2],reg[1];\\ncx reg[3],reg[2];\\ncx reg[4],reg[3];\\nrz(-pi/2) reg[3];\\nsx reg[3];\\nrz(-pi/2) reg[3];\\nrz(-pi/2) reg[4];\\nsx reg[4];\\nrz(-pi/2) reg[4];\\ncx reg[4],reg[3];\\ncx reg[3],reg[2];\\ncx reg[2],reg[1];\\ncx reg[1],reg[0];\\nrz(5.530073) reg[0];\\ncx reg[1],reg[0];\\nrz(-pi/2) reg[0];\\nsx reg[0];\\nrz(-pi/2) reg[0];\\ncx reg[2],reg[1];\\ncx reg[3],reg[2];\\ncx reg[4],reg[3];\\nrz(-pi/2) reg[4];\\nsx reg[4];\\nrz(-pi/2) reg[4];\\ncx reg[4],reg[3];\\ncx reg[3],reg[2];\\ncx reg[2],reg[1];\\ncx reg[1],reg[0];\\nrz(5.530073) reg[0];\\ncx reg[1],reg[0];\\ncx reg[2],reg[1];\\ncx reg[3],reg[2];\\ncx reg[4],reg[3];\\nrz(-pi/2) reg[3];\\nsx reg[3];\\nrz(-pi/2) reg[3];\\nrz(-pi/2) reg[4];\\nsx reg[4];\\nrz(-pi/2) reg[4];\\ncx reg[4],reg[3];\\ncx reg[3],reg[2];\\ncx reg[2],reg[1];\\ncx reg[1],reg[0];\\nrz(5.530073) reg[0];\\ncx reg[1],reg[0];\\nrz(-pi/2) reg[0];\\nsx reg[0];\\nrz(-pi/2) reg[0];\\ncx reg[2],reg[1];\\ncx reg[3],reg[2];\\ncx reg[4],reg[3];\\nrz(-pi/2) reg[3];\\nsx reg[3];\\nrz(-pi/2) reg[3];\\ncx reg[4],reg[3];\\ncx reg[3],reg[2];\\ncx reg[2],reg[1];\\nrz(2.009105) reg[1];\\ncx reg[2],reg[1];\\ncx reg[3],reg[2];\\ncx reg[4],reg[3];\\nrz(-pi/2) reg[3];\\nsx reg[3];\\nrz(-pi/2) reg[3];\\nrz(-pi/2) reg[4];\\nsx reg[4];\\nrz(-pi/2) reg[4];\\ncx reg[4],reg[3];\\ncx reg[3],reg[2];\\ncx reg[2],reg[1];\\nrz(2.009105) reg[1];\\ncx reg[2],reg[1];\\nrz(-pi/2) reg[1];\\nsx reg[1];\\nrz(-pi/2) reg[1];\\ncx reg[3],reg[2];\\ncx reg[4],reg[3];\\nrz(-pi/2) reg[4];\\nsx reg[4];\\nrz(-pi/2) reg[4];\\ncx reg[4],reg[3];\\ncx reg[3],reg[2];\\ncx reg[2],reg[1];\\nrz(2.009105) reg[1];\\ncx reg[2],reg[1];\\ncx reg[3],reg[2];\\ncx reg[4],reg[3];\\nrz(-pi/2) reg[3];\\nsx reg[3];\\nrz(-pi/2) reg[3];\\nrz(-pi/2) reg[4];\\nsx reg[4];\\nrz(-pi/2) reg[4];\\ncx reg[4],reg[3];\\ncx reg[3],reg[2];\\ncx reg[2],reg[1];\\nrz(2.009105) reg[1];\\ncx reg[2],reg[1];\\nrz(-pi/2) reg[1];\\nsx reg[1];\\nrz(-pi/2) reg[1];\\ncx reg[3],reg[2];\\ncx reg[4],reg[3];\\nrz(-pi/2) reg[3];\\nsx reg[3];\\nrz(-pi/2) reg[3];\\ncx reg[4],reg[3];\\ncx reg[3],reg[2];\\ncx reg[2],reg[1];\\nrz(2.009105) reg[1];\\ncx reg[2],reg[1];\\ncx reg[3],reg[2];\\ncx reg[4],reg[3];\\nrz(-pi/2) reg[3];\\nsx reg[3];\\nrz(-pi/2) reg[3];\\nrz(-pi/2) reg[4];\\nsx reg[4];\\nrz(-pi/2) reg[4];\\ncx reg[4],reg[3];\\ncx reg[3],reg[2];\\ncx reg[2],reg[1];\\nrz(2.009105) reg[1];\\ncx reg[2],reg[1];\\nrz(-pi/2) reg[1];\\nsx reg[1];\\nrz(-pi/2) reg[1];\\ncx reg[3],reg[2];\\ncx reg[4],reg[3];\\nrz(-pi/2) reg[4];\\nsx reg[4];\\nrz(-pi/2) reg[4];\\ncx reg[4],reg[3];\\ncx reg[3],reg[2];\\ncx reg[2],reg[1];\\nrz(2.009105) reg[1];\\ncx reg[2],reg[1];\\ncx reg[3],reg[2];\\ncx reg[4],reg[3];\\nrz(-pi/2) reg[3];\\nsx reg[3];\\nrz(-pi/2) reg[3];\\nrz(-pi/2) reg[4];\\nsx reg[4];\\nrz(-pi/2) reg[4];\\ncx reg[4],reg[3];\\ncx reg[3],reg[2];\\ncx reg[2],reg[1];\\nrz(2.009105) reg[1];\\ncx reg[2],reg[1];\\nrz(-pi/2) reg[1];\\nsx reg[1];\\nrz(-pi/2) reg[1];\\ncx reg[3],reg[2];\\nrz(pi/2) reg[2];\\nsx reg[2];\\nrz(pi/2) reg[2];\\ncx reg[4],reg[3];\\nrz(-pi) reg[3];\\nx reg[3];\\nrz(pi/2) reg[4];\\nsx reg[4];\\nrz(pi/2) reg[4];\\nrz(pi/2) reg[5];\\nsx reg[5];\\nrz(pi/2) reg[5];\\ncx reg[5],reg[4];\\ncx reg[4],reg[3];\\ncx reg[3],reg[2];\\ncx reg[2],reg[1];\\ncx reg[1],reg[0];\\nrz(2.140866) reg[0];\\ncx reg[1],reg[0];\\ncx reg[2],reg[1];\\ncx reg[3],reg[2];\\nrz(-pi/2) reg[2];\\nsx reg[2];\\nrz(-pi/2) reg[2];\\ncx reg[4],reg[3];\\ncx reg[5],reg[4];\\nrz(-pi/2) reg[5];\\nsx reg[5];\\nrz(-pi/2) reg[5];\\ncx reg[5],reg[4];\\ncx reg[4],reg[3];\\ncx reg[3],reg[2];\\ncx reg[2],reg[1];\\ncx reg[1],reg[0];\\nrz(2.140866) reg[0];\\ncx reg[1],reg[0];\\nrz(-pi/2) reg[0];\\nsx reg[0];\\nrz(-pi/2) reg[0];\\ncx reg[2],reg[1];\\ncx reg[3],reg[2];\\ncx reg[4],reg[3];\\ncx reg[5],reg[4];\\nrz(-pi/2) reg[5];\\nsx reg[5];\\nrz(-pi/2) reg[5];\\ncx reg[5],reg[4];\\ncx reg[4],reg[3];\\ncx reg[3],reg[2];\\ncx reg[2],reg[1];\\ncx reg[1],reg[0];\\nrz(2.140866) reg[0];\\ncx reg[1],reg[0];\\ncx reg[2],reg[1];\\ncx reg[3],reg[2];\\nrz(-pi/2) reg[2];\\nsx reg[2];\\nrz(-pi/2) reg[2];\\ncx reg[4],reg[3];\\ncx reg[5],reg[4];\\nrz(-pi/2) reg[5];\\nsx reg[5];\\nrz(-pi/2) reg[5];\\ncx reg[5],reg[4];\\ncx reg[4],reg[3];\\ncx reg[3],reg[2];\\ncx reg[2],reg[1];\\ncx reg[1],reg[0];\\nrz(2.140866) reg[0];\\ncx reg[1],reg[0];\\nrz(-pi/2) reg[0];\\nsx reg[0];\\nrz(-pi/2) reg[0];\\ncx reg[2],reg[1];\\ncx reg[3],reg[2];\\nrz(-pi/2) reg[2];\\nsx reg[2];\\nrz(-pi/2) reg[2];\\ncx reg[3],reg[2];\\ncx reg[2],reg[1];\\ncx reg[1],reg[0];\\nrz(2.140866) reg[0];\\ncx reg[1],reg[0];\\ncx reg[2],reg[1];\\ncx reg[3],reg[2];\\nrz(-pi/2) reg[2];\\nsx reg[2];\\nrz(-pi/2) reg[2];\\ncx reg[4],reg[3];\\ncx reg[5],reg[4];\\nrz(-pi/2) reg[5];\\nsx reg[5];\\nrz(-pi/2) reg[5];\\ncx reg[5],reg[4];\\ncx reg[4],reg[3];\\ncx reg[3],reg[2];\\ncx reg[2],reg[1];\\ncx reg[1],reg[0];\\nrz(2.140866) reg[0];\\ncx reg[1],reg[0];\\nrz(-pi/2) reg[0];\\nsx reg[0];\\nrz(-pi/2) reg[0];\\ncx reg[2],reg[1];\\ncx reg[3],reg[2];\\ncx reg[4],reg[3];\\ncx reg[5],reg[4];\\nrz(-pi/2) reg[5];\\nsx reg[5];\\nrz(-pi/2) reg[5];\\ncx reg[5],reg[4];\\ncx reg[4],reg[3];\\ncx reg[3],reg[2];\\ncx reg[2],reg[1];\\ncx reg[1],reg[0];\\nrz(2.140866) reg[0];\\ncx reg[1],reg[0];\\ncx reg[2],reg[1];\\ncx reg[3],reg[2];\\nrz(-pi/2) reg[2];\\nsx reg[2];\\nrz(-pi/2) reg[2];\\ncx reg[4],reg[3];\\ncx reg[5],reg[4];\\nrz(-pi/2) reg[5];\\nsx reg[5];\\nrz(-pi/2) reg[5];\\ncx reg[5],reg[4];\\ncx reg[4],reg[3];\\ncx reg[3],reg[2];\\ncx reg[2],reg[1];\\ncx reg[1],reg[0];\\nrz(2.140866) reg[0];\\ncx reg[1],reg[0];\\nrz(-pi/2) reg[0];\\nsx reg[0];\\nrz(-pi/2) reg[0];\\ncx reg[2],reg[1];\\ncx reg[3],reg[2];\\nrz(-pi) reg[2];\\nx reg[2];\\ncx reg[4],reg[3];\\nrz(pi/2) reg[3];\\nsx reg[3];\\nrz(pi/2) reg[3];\\ncx reg[4],reg[3];\\ncx reg[3],reg[1];\\ncx reg[1],reg[0];\\nrz(1.84712) reg[0];\\ncx reg[1],reg[0];\\ncx reg[3],reg[1];\\ncx reg[4],reg[3];\\nrz(-pi/2) reg[3];\\nsx reg[3];\\nrz(-pi/2) reg[3];\\ncx reg[5],reg[4];\\nrz(-pi/2) reg[5];\\nsx reg[5];\\nrz(-pi/2) reg[5];\\ncx reg[5],reg[4];\\ncx reg[4],reg[3];\\ncx reg[3],reg[1];\\ncx reg[1],reg[0];\\nrz(1.84712) reg[0];\\ncx reg[1],reg[0];\\nrz(-pi/2) reg[0];\\nsx reg[0];\\nrz(-pi/2) reg[0];\\ncx reg[3],reg[1];\\ncx reg[4],reg[3];\\ncx reg[5],reg[4];\\nrz(-pi/2) reg[5];\\nsx reg[5];\\nrz(-pi/2) reg[5];\\ncx reg[5],reg[4];\\ncx reg[4],reg[3];\\ncx reg[3],reg[1];\\ncx reg[1],reg[0];\\nrz(1.84712) reg[0];\\ncx reg[1],reg[0];\\ncx reg[3],reg[1];\\ncx reg[4],reg[3];\\nrz(-pi/2) reg[3];\\nsx reg[3];\\nrz(-pi/2) reg[3];\\ncx reg[5],reg[4];\\nrz(-pi/2) reg[5];\\nsx reg[5];\\nrz(-pi/2) reg[5];\\ncx reg[5],reg[4];\\ncx reg[4],reg[3];\\ncx reg[3],reg[1];\\ncx reg[1],reg[0];\\nrz(1.84712) reg[0];\\ncx reg[1],reg[0];\\nrz(-pi/2) reg[0];\\nsx reg[0];\\nrz(-pi/2) reg[0];\\ncx reg[3],reg[1];\\ncx reg[4],reg[3];\\nrz(-pi/2) reg[3];\\nsx reg[3];\\nrz(-pi/2) reg[3];\\ncx reg[4],reg[3];\\ncx reg[3],reg[1];\\ncx reg[1],reg[0];\\nrz(1.84712) reg[0];\\ncx reg[1],reg[0];\\ncx reg[3],reg[1];\\ncx reg[4],reg[3];\\nrz(-pi/2) reg[3];\\nsx reg[3];\\nrz(-pi/2) reg[3];\\ncx reg[5],reg[4];\\nrz(-pi/2) reg[5];\\nsx reg[5];\\nrz(-pi/2) reg[5];\\ncx reg[5],reg[4];\\ncx reg[4],reg[3];\\ncx reg[3],reg[1];\\ncx reg[1],reg[0];\\nrz(1.84712) reg[0];\\ncx reg[1],reg[0];\\nrz(-pi/2) reg[0];\\nsx reg[0];\\nrz(-pi/2) reg[0];\\ncx reg[3],reg[1];\\ncx reg[4],reg[3];\\ncx reg[5],reg[4];\\nrz(-pi/2) reg[5];\\nsx reg[5];\\nrz(-pi/2) reg[5];\\ncx reg[5],reg[4];\\ncx reg[4],reg[3];\\ncx reg[3],reg[1];\\ncx reg[1],reg[0];\\nrz(1.84712) reg[0];\\ncx reg[1],reg[0];\\ncx reg[3],reg[1];\\ncx reg[4],reg[3];\\nrz(-pi/2) reg[3];\\nsx reg[3];\\nrz(-pi/2) reg[3];\\ncx reg[5],reg[4];\\nrz(-pi/2) reg[5];\\nsx reg[5];\\nrz(-pi/2) reg[5];\\ncx reg[5],reg[4];\\ncx reg[4],reg[3];\\ncx reg[3],reg[1];\\ncx reg[1],reg[0];\\nrz(1.84712) reg[0];\\ncx reg[1],reg[0];\\nrz(-pi/2) reg[0];\\nsx reg[0];\\nrz(-pi/2) reg[0];\\ncx reg[3],reg[1];\\ncx reg[4],reg[3];\\nrz(-pi/2) reg[3];\\nsx reg[3];\\nrz(-pi/2) reg[3];\\ncx reg[4],reg[3];\\ncx reg[3],reg[2];\\ncx reg[2],reg[1];\\ncx reg[1],reg[0];\\nrz(5.882886) reg[0];\\ncx reg[1],reg[0];\\ncx reg[2],reg[1];\\ncx reg[3],reg[2];\\ncx reg[4],reg[3];\\nrz(-pi/2) reg[3];\\nsx reg[3];\\nrz(-pi/2) reg[3];\\ncx reg[5],reg[4];\\nrz(-pi/2) reg[5];\\nsx reg[5];\\nrz(-pi/2) reg[5];\\ncx reg[5],reg[4];\\ncx reg[4],reg[3];\\ncx reg[3],reg[2];\\ncx reg[2],reg[1];\\ncx reg[1],reg[0];\\nrz(5.882886) reg[0];\\ncx reg[1],reg[0];\\nrz(-pi/2) reg[0];\\nsx reg[0];\\nrz(-pi/2) reg[0];\\ncx reg[2],reg[1];\\ncx reg[3],reg[2];\\ncx reg[4],reg[3];\\ncx reg[5],reg[4];\\nrz(-pi/2) reg[5];\\nsx reg[5];\\nrz(-pi/2) reg[5];\\ncx reg[5],reg[4];\\ncx reg[4],reg[3];\\ncx reg[3],reg[2];\\ncx reg[2],reg[1];\\ncx reg[1],reg[0];\\nrz(5.882886) reg[0];\\ncx reg[1],reg[0];\\ncx reg[2],reg[1];\\ncx reg[3],reg[2];\\ncx reg[4],reg[3];\\nrz(-pi/2) reg[3];\\nsx reg[3];\\nrz(-pi/2) reg[3];\\ncx reg[5],reg[4];\\nrz(-pi/2) reg[5];\\nsx reg[5];\\nrz(-pi/2) reg[5];\\ncx reg[5],reg[4];\\ncx reg[4],reg[3];\\ncx reg[3],reg[2];\\ncx reg[2],reg[1];\\ncx reg[1],reg[0];\\nrz(5.882886) reg[0];\\ncx reg[1],reg[0];\\nrz(-pi/2) reg[0];\\nsx reg[0];\\nrz(-pi/2) reg[0];\\ncx reg[2],reg[1];\\ncx reg[3],reg[2];\\ncx reg[4],reg[3];\\nrz(-pi/2) reg[3];\\nsx reg[3];\\nrz(-pi/2) reg[3];\\ncx reg[4],reg[3];\\ncx reg[3],reg[2];\\ncx reg[2],reg[1];\\ncx reg[1],reg[0];\\nrz(5.882886) reg[0];\\ncx reg[1],reg[0];\\ncx reg[2],reg[1];\\ncx reg[3],reg[2];\\ncx reg[4],reg[3];\\nrz(-pi/2) reg[3];\\nsx reg[3];\\nrz(-pi/2) reg[3];\\ncx reg[5],reg[4];\\nrz(-pi/2) reg[5];\\nsx reg[5];\\nrz(-pi/2) reg[5];\\ncx reg[5],reg[4];\\ncx reg[4],reg[3];\\ncx reg[3],reg[2];\\ncx reg[2],reg[1];\\ncx reg[1],reg[0];\\nrz(5.882886) reg[0];\\ncx reg[1],reg[0];\\nrz(-pi/2) reg[0];\\nsx reg[0];\\nrz(-pi/2) reg[0];\\ncx reg[2],reg[1];\\ncx reg[3],reg[2];\\ncx reg[4],reg[3];\\ncx reg[5],reg[4];\\nrz(-pi/2) reg[5];\\nsx reg[5];\\nrz(-pi/2) reg[5];\\ncx reg[5],reg[4];\\ncx reg[4],reg[3];\\ncx reg[3],reg[2];\\ncx reg[2],reg[1];\\ncx reg[1],reg[0];\\nrz(5.882886) reg[0];\\ncx reg[1],reg[0];\\ncx reg[2],reg[1];\\ncx reg[3],reg[2];\\ncx reg[4],reg[3];\\nrz(-pi/2) reg[3];\\nsx reg[3];\\nrz(-pi/2) reg[3];\\ncx reg[5],reg[4];\\nrz(-pi/2) reg[5];\\nsx reg[5];\\nrz(-pi/2) reg[5];\\ncx reg[5],reg[4];\\ncx reg[4],reg[3];\\ncx reg[3],reg[2];\\ncx reg[2],reg[1];\\ncx reg[1],reg[0];\\nrz(5.882886) reg[0];\\ncx reg[1],reg[0];\\nrz(-pi/2) reg[0];\\nsx reg[0];\\nrz(-pi/2) reg[0];\\ncx reg[2],reg[1];\\ncx reg[3],reg[2];\\ncx reg[4],reg[3];\\nrz(-pi/2) reg[3];\\nsx reg[3];\\nrz(-pi/2) reg[3];\\ncx reg[4],reg[3];\\ncx reg[3],reg[2];\\ncx reg[2],reg[1];\\nrz(5.285149) reg[1];\\ncx reg[2],reg[1];\\ncx reg[3],reg[2];\\ncx reg[4],reg[3];\\nrz(-pi/2) reg[3];\\nsx reg[3];\\nrz(-pi/2) reg[3];\\ncx reg[5],reg[4];\\nrz(-pi/2) reg[5];\\nsx reg[5];\\nrz(-pi/2) reg[5];\\ncx reg[5],reg[4];\\ncx reg[4],reg[3];\\ncx reg[3],reg[2];\\ncx reg[2],reg[1];\\nrz(5.285149) reg[1];\\ncx reg[2],reg[1];\\nrz(-pi/2) reg[1];\\nsx reg[1];\\nrz(-pi/2) reg[1];\\ncx reg[3],reg[2];\\ncx reg[4],reg[3];\\ncx reg[5],reg[4];\\nrz(-pi/2) reg[5];\\nsx reg[5];\\nrz(-pi/2) reg[5];\\ncx reg[5],reg[4];\\ncx reg[4],reg[3];\\ncx reg[3],reg[2];\\ncx reg[2],reg[1];\\nrz(5.285149) reg[1];\\ncx reg[2],reg[1];\\ncx reg[3],reg[2];\\ncx reg[4],reg[3];\\nrz(-pi/2) reg[3];\\nsx reg[3];\\nrz(-pi/2) reg[3];\\ncx reg[5],reg[4];\\nrz(-pi/2) reg[5];\\nsx reg[5];\\nrz(-pi/2) reg[5];\\ncx reg[5],reg[4];\\ncx reg[4],reg[3];\\ncx reg[3],reg[2];\\ncx reg[2],reg[1];\\nrz(5.285149) reg[1];\\ncx reg[2],reg[1];\\nrz(-pi/2) reg[1];\\nsx reg[1];\\nrz(-pi/2) reg[1];\\ncx reg[3],reg[2];\\ncx reg[4],reg[3];\\nrz(-pi/2) reg[3];\\nsx reg[3];\\nrz(-pi/2) reg[3];\\ncx reg[4],reg[3];\\ncx reg[3],reg[2];\\ncx reg[2],reg[1];\\nrz(5.285149) reg[1];\\ncx reg[2],reg[1];\\ncx reg[3],reg[2];\\ncx reg[4],reg[3];\\nrz(-pi/2) reg[3];\\nsx reg[3];\\nrz(-pi/2) reg[3];\\ncx reg[5],reg[4];\\nrz(-pi/2) reg[5];\\nsx reg[5];\\nrz(-pi/2) reg[5];\\ncx reg[5],reg[4];\\ncx reg[4],reg[3];\\ncx reg[3],reg[2];\\ncx reg[2],reg[1];\\nrz(5.285149) reg[1];\\ncx reg[2],reg[1];\\nrz(-pi/2) reg[1];\\nsx reg[1];\\nrz(-pi/2) reg[1];\\ncx reg[3],reg[2];\\ncx reg[4],reg[3];\\ncx reg[5],reg[4];\\nrz(-pi/2) reg[5];\\nsx reg[5];\\nrz(-pi/2) reg[5];\\ncx reg[5],reg[4];\\ncx reg[4],reg[3];\\ncx reg[3],reg[2];\\ncx reg[2],reg[1];\\nrz(5.285149) reg[1];\\ncx reg[2],reg[1];\\ncx reg[3],reg[2];\\ncx reg[4],reg[3];\\nrz(-pi/2) reg[3];\\nsx reg[3];\\nrz(-pi/2) reg[3];\\ncx reg[5],reg[4];\\nrz(-pi/2) reg[5];\\nsx reg[5];\\nrz(-pi/2) reg[5];\\ncx reg[5],reg[4];\\ncx reg[4],reg[3];\\ncx reg[3],reg[2];\\ncx reg[2],reg[1];\\nrz(5.285149) reg[1];\\ncx reg[2],reg[1];\\nrz(-pi/2) reg[1];\\nsx reg[1];\\nrz(-pi/2) reg[1];\\ncx reg[3],reg[2];\\ncx reg[4],reg[3];\\nrz(-pi) reg[3];\\nx reg[3];\\ncx reg[5],reg[4];\\nrz(pi/2) reg[4];\\nsx reg[4];\\nrz(pi/2) reg[4];\\ncx reg[5],reg[4];\\ncx reg[4],reg[1];\\ncx reg[1],reg[0];\\nrz(1.671716) reg[0];\\ncx reg[1],reg[0];\\ncx reg[4],reg[1];\\ncx reg[5],reg[4];\\nrz(-pi/2) reg[4];\\nsx reg[4];\\nrz(-pi/2) reg[4];\\nrz(-pi/2) reg[5];\\nsx reg[5];\\nrz(-pi/2) reg[5];\\ncx reg[5],reg[4];\\ncx reg[4],reg[1];\\ncx reg[1],reg[0];\\nrz(1.671716) reg[0];\\ncx reg[1],reg[0];\\nrz(-pi/2) reg[0];\\nsx reg[0];\\nrz(-pi/2) reg[0];\\ncx reg[4],reg[1];\\ncx reg[5],reg[4];\\nrz(-pi/2) reg[5];\\nsx reg[5];\\nrz(-pi/2) reg[5];\\ncx reg[5],reg[4];\\ncx reg[4],reg[1];\\ncx reg[1],reg[0];\\nrz(1.671716) reg[0];\\ncx reg[1],reg[0];\\ncx reg[4],reg[1];\\ncx reg[5],reg[4];\\nrz(-pi/2) reg[4];\\nsx reg[4];\\nrz(-pi/2) reg[4];\\nrz(-pi/2) reg[5];\\nsx reg[5];\\nrz(-pi/2) reg[5];\\ncx reg[5],reg[4];\\ncx reg[4],reg[1];\\ncx reg[1],reg[0];\\nrz(1.671716) reg[0];\\ncx reg[1],reg[0];\\nrz(-pi/2) reg[0];\\nsx reg[0];\\nrz(-pi/2) reg[0];\\ncx reg[4],reg[1];\\ncx reg[5],reg[4];\\nrz(-pi/2) reg[4];\\nsx reg[4];\\nrz(-pi/2) reg[4];\\ncx reg[5],reg[4];\\ncx reg[4],reg[1];\\ncx reg[1],reg[0];\\nrz(1.671716) reg[0];\\ncx reg[1],reg[0];\\ncx reg[4],reg[1];\\ncx reg[5],reg[4];\\nrz(-pi/2) reg[4];\\nsx reg[4];\\nrz(-pi/2) reg[4];\\nrz(-pi/2) reg[5];\\nsx reg[5];\\nrz(-pi/2) reg[5];\\ncx reg[5],reg[4];\\ncx reg[4],reg[1];\\ncx reg[1],reg[0];\\nrz(1.671716) reg[0];\\ncx reg[1],reg[0];\\nrz(-pi/2) reg[0];\\nsx reg[0];\\nrz(-pi/2) reg[0];\\ncx reg[4],reg[1];\\ncx reg[5],reg[4];\\nrz(-pi/2) reg[5];\\nsx reg[5];\\nrz(-pi/2) reg[5];\\ncx reg[5],reg[4];\\ncx reg[4],reg[1];\\ncx reg[1],reg[0];\\nrz(1.671716) reg[0];\\ncx reg[1],reg[0];\\ncx reg[4],reg[1];\\ncx reg[5],reg[4];\\nrz(-pi/2) reg[4];\\nsx reg[4];\\nrz(-pi/2) reg[4];\\nrz(-pi/2) reg[5];\\nsx reg[5];\\nrz(-pi/2) reg[5];\\ncx reg[5],reg[4];\\ncx reg[4],reg[1];\\ncx reg[1],reg[0];\\nrz(1.671716) reg[0];\\ncx reg[1],reg[0];\\nrz(-pi/2) reg[0];\\nsx reg[0];\\nrz(-pi/2) reg[0];\\ncx reg[4],reg[1];\\ncx reg[5],reg[4];\\nrz(-pi/2) reg[4];\\nsx reg[4];\\nrz(-pi/2) reg[4];\\ncx reg[5],reg[4];\\ncx reg[4],reg[2];\\ncx reg[2],reg[1];\\ncx reg[1],reg[0];\\nrz(3.028106) reg[0];\\ncx reg[1],reg[0];\\ncx reg[2],reg[1];\\ncx reg[4],reg[2];\\ncx reg[5],reg[4];\\nrz(-pi/2) reg[4];\\nsx reg[4];\\nrz(-pi/2) reg[4];\\nrz(-pi/2) reg[5];\\nsx reg[5];\\nrz(-pi/2) reg[5];\\ncx reg[5],reg[4];\\ncx reg[4],reg[2];\\ncx reg[2],reg[1];\\ncx reg[1],reg[0];\\nrz(3.028106) reg[0];\\ncx reg[1],reg[0];\\nrz(-pi/2) reg[0];\\nsx reg[0];\\nrz(-pi/2) reg[0];\\ncx reg[2],reg[1];\\ncx reg[4],reg[2];\\ncx reg[5],reg[4];\\nrz(-pi/2) reg[5];\\nsx reg[5];\\nrz(-pi/2) reg[5];\\ncx reg[5],reg[4];\\ncx reg[4],reg[2];\\ncx reg[2],reg[1];\\ncx reg[1],reg[0];\\nrz(3.028106) reg[0];\\ncx reg[1],reg[0];\\ncx reg[2],reg[1];\\ncx reg[4],reg[2];\\ncx reg[5],reg[4];\\nrz(-pi/2) reg[4];\\nsx reg[4];\\nrz(-pi/2) reg[4];\\nrz(-pi/2) reg[5];\\nsx reg[5];\\nrz(-pi/2) reg[5];\\ncx reg[5],reg[4];\\ncx reg[4],reg[2];\\ncx reg[2],reg[1];\\ncx reg[1],reg[0];\\nrz(3.028106) reg[0];\\ncx reg[1],reg[0];\\nrz(-pi/2) reg[0];\\nsx reg[0];\\nrz(-pi/2) reg[0];\\ncx reg[2],reg[1];\\ncx reg[4],reg[2];\\ncx reg[5],reg[4];\\nrz(-pi/2) reg[4];\\nsx reg[4];\\nrz(-pi/2) reg[4];\\ncx reg[5],reg[4];\\ncx reg[4],reg[2];\\ncx reg[2],reg[1];\\ncx reg[1],reg[0];\\nrz(3.028106) reg[0];\\ncx reg[1],reg[0];\\ncx reg[2],reg[1];\\ncx reg[4],reg[2];\\ncx reg[5],reg[4];\\nrz(-pi/2) reg[4];\\nsx reg[4];\\nrz(-pi/2) reg[4];\\nrz(-pi/2) reg[5];\\nsx reg[5];\\nrz(-pi/2) reg[5];\\ncx reg[5],reg[4];\\ncx reg[4],reg[2];\\ncx reg[2],reg[1];\\ncx reg[1],reg[0];\\nrz(3.028106) reg[0];\\ncx reg[1],reg[0];\\nrz(-pi/2) reg[0];\\nsx reg[0];\\nrz(-pi/2) reg[0];\\ncx reg[2],reg[1];\\ncx reg[4],reg[2];\\ncx reg[5],reg[4];\\nrz(-pi/2) reg[5];\\nsx reg[5];\\nrz(-pi/2) reg[5];\\ncx reg[5],reg[4];\\ncx reg[4],reg[2];\\ncx reg[2],reg[1];\\ncx reg[1],reg[0];\\nrz(3.028106) reg[0];\\ncx reg[1],reg[0];\\ncx reg[2],reg[1];\\ncx reg[4],reg[2];\\ncx reg[5],reg[4];\\nrz(-pi/2) reg[4];\\nsx reg[4];\\nrz(-pi/2) reg[4];\\nrz(-pi/2) reg[5];\\nsx reg[5];\\nrz(-pi/2) reg[5];\\ncx reg[5],reg[4];\\ncx reg[4],reg[2];\\ncx reg[2],reg[1];\\ncx reg[1],reg[0];\\nrz(3.028106) reg[0];\\ncx reg[1],reg[0];\\nrz(-pi/2) reg[0];\\nsx reg[0];\\nrz(-pi/2) reg[0];\\ncx reg[2],reg[1];\\ncx reg[4],reg[2];\\ncx reg[5],reg[4];\\nrz(-pi/2) reg[4];\\nsx reg[4];\\nrz(-pi/2) reg[4];\\ncx reg[5],reg[4];\\ncx reg[4],reg[2];\\ncx reg[2],reg[1];\\nrz(1.39888) reg[1];\\ncx reg[2],reg[1];\\ncx reg[4],reg[2];\\ncx reg[5],reg[4];\\nrz(-pi/2) reg[4];\\nsx reg[4];\\nrz(-pi/2) reg[4];\\nrz(-pi/2) reg[5];\\nsx reg[5];\\nrz(-pi/2) reg[5];\\ncx reg[5],reg[4];\\ncx reg[4],reg[2];\\ncx reg[2],reg[1];\\nrz(1.39888) reg[1];\\ncx reg[2],reg[1];\\nrz(-pi/2) reg[1];\\nsx reg[1];\\nrz(-pi/2) reg[1];\\ncx reg[4],reg[2];\\ncx reg[5],reg[4];\\nrz(-pi/2) reg[5];\\nsx reg[5];\\nrz(-pi/2) reg[5];\\ncx reg[5],reg[4];\\ncx reg[4],reg[2];\\ncx reg[2],reg[1];\\nrz(1.39888) reg[1];\\ncx reg[2],reg[1];\\ncx reg[4],reg[2];\\ncx reg[5],reg[4];\\nrz(-pi/2) reg[4];\\nsx reg[4];\\nrz(-pi/2) reg[4];\\nrz(-pi/2) reg[5];\\nsx reg[5];\\nrz(-pi/2) reg[5];\\ncx reg[5],reg[4];\\ncx reg[4],reg[2];\\ncx reg[2],reg[1];\\nrz(1.39888) reg[1];\\ncx reg[2],reg[1];\\nrz(-pi/2) reg[1];\\nsx reg[1];\\nrz(-pi/2) reg[1];\\ncx reg[4],reg[2];\\ncx reg[5],reg[4];\\nrz(-pi/2) reg[4];\\nsx reg[4];\\nrz(-pi/2) reg[4];\\ncx reg[5],reg[4];\\ncx reg[4],reg[2];\\ncx reg[2],reg[1];\\nrz(1.39888) reg[1];\\ncx reg[2],reg[1];\\ncx reg[4],reg[2];\\ncx reg[5],reg[4];\\nrz(-pi/2) reg[4];\\nsx reg[4];\\nrz(-pi/2) reg[4];\\nrz(-pi/2) reg[5];\\nsx reg[5];\\nrz(-pi/2) reg[5];\\ncx reg[5],reg[4];\\ncx reg[4],reg[2];\\ncx reg[2],reg[1];\\nrz(1.39888) reg[1];\\ncx reg[2],reg[1];\\nrz(-pi/2) reg[1];\\nsx reg[1];\\nrz(-pi/2) reg[1];\\ncx reg[4],reg[2];\\ncx reg[5],reg[4];\\nrz(-pi/2) reg[5];\\nsx reg[5];\\nrz(-pi/2) reg[5];\\ncx reg[5],reg[4];\\ncx reg[4],reg[2];\\ncx reg[2],reg[1];\\nrz(1.39888) reg[1];\\ncx reg[2],reg[1];\\ncx reg[4],reg[2];\\ncx reg[5],reg[4];\\nrz(-pi/2) reg[4];\\nsx reg[4];\\nrz(-pi/2) reg[4];\\nrz(-pi/2) reg[5];\\nsx reg[5];\\nrz(-pi/2) reg[5];\\ncx reg[5],reg[4];\\ncx reg[4],reg[2];\\ncx reg[2],reg[1];\\nrz(1.39888) reg[1];\\ncx reg[2],reg[1];\\nrz(-pi/2) reg[1];\\nsx reg[1];\\nrz(-pi/2) reg[1];\\ncx reg[4],reg[2];\\ncx reg[5],reg[4];\\nrz(-pi/2) reg[4];\\nsx reg[4];\\nrz(-pi/2) reg[4];\\ncx reg[5],reg[4];\\ncx reg[4],reg[3];\\ncx reg[3],reg[2];\\ncx reg[2],reg[1];\\ncx reg[1],reg[0];\\nrz(5.622395) reg[0];\\ncx reg[1],reg[0];\\ncx reg[2],reg[1];\\ncx reg[3],reg[2];\\ncx reg[4],reg[3];\\ncx reg[5],reg[4];\\nrz(-pi/2) reg[4];\\nsx reg[4];\\nrz(-pi/2) reg[4];\\nrz(-pi/2) reg[5];\\nsx reg[5];\\nrz(-pi/2) reg[5];\\ncx reg[5],reg[4];\\ncx reg[4],reg[3];\\ncx reg[3],reg[2];\\ncx reg[2],reg[1];\\ncx reg[1],reg[0];\\nrz(5.622395) reg[0];\\ncx reg[1],reg[0];\\nrz(-pi/2) reg[0];\\nsx reg[0];\\nrz(-pi/2) reg[0];\\ncx reg[2],reg[1];\\ncx reg[3],reg[2];\\ncx reg[4],reg[3];\\ncx reg[5],reg[4];\\nrz(-pi/2) reg[5];\\nsx reg[5];\\nrz(-pi/2) reg[5];\\ncx reg[5],reg[4];\\ncx reg[4],reg[3];\\ncx reg[3],reg[2];\\ncx reg[2],reg[1];\\ncx reg[1],reg[0];\\nrz(5.622395) reg[0];\\ncx reg[1],reg[0];\\ncx reg[2],reg[1];\\ncx reg[3],reg[2];\\ncx reg[4],reg[3];\\ncx reg[5],reg[4];\\nrz(-pi/2) reg[4];\\nsx reg[4];\\nrz(-pi/2) reg[4];\\nrz(-pi/2) reg[5];\\nsx reg[5];\\nrz(-pi/2) reg[5];\\ncx reg[5],reg[4];\\ncx reg[4],reg[3];\\ncx reg[3],reg[2];\\ncx reg[2],reg[1];\\ncx reg[1],reg[0];\\nrz(5.622395) reg[0];\\ncx reg[1],reg[0];\\nrz(-pi/2) reg[0];\\nsx reg[0];\\nrz(-pi/2) reg[0];\\ncx reg[2],reg[1];\\ncx reg[3],reg[2];\\ncx reg[4],reg[3];\\ncx reg[5],reg[4];\\nrz(-pi/2) reg[4];\\nsx reg[4];\\nrz(-pi/2) reg[4];\\ncx reg[5],reg[4];\\ncx reg[4],reg[3];\\ncx reg[3],reg[2];\\ncx reg[2],reg[1];\\ncx reg[1],reg[0];\\nrz(5.622395) reg[0];\\ncx reg[1],reg[0];\\ncx reg[2],reg[1];\\ncx reg[3],reg[2];\\ncx reg[4],reg[3];\\ncx reg[5],reg[4];\\nrz(-pi/2) reg[4];\\nsx reg[4];\\nrz(-pi/2) reg[4];\\nrz(-pi/2) reg[5];\\nsx reg[5];\\nrz(-pi/2) reg[5];\\ncx reg[5],reg[4];\\ncx reg[4],reg[3];\\ncx reg[3],reg[2];\\ncx reg[2],reg[1];\\ncx reg[1],reg[0];\\nrz(5.622395) reg[0];\\ncx reg[1],reg[0];\\nrz(-pi/2) reg[0];\\nsx reg[0];\\nrz(-pi/2) reg[0];\\ncx reg[2],reg[1];\\ncx reg[3],reg[2];\\ncx reg[4],reg[3];\\ncx reg[5],reg[4];\\nrz(-pi/2) reg[5];\\nsx reg[5];\\nrz(-pi/2) reg[5];\\ncx reg[5],reg[4];\\ncx reg[4],reg[3];\\ncx reg[3],reg[2];\\ncx reg[2],reg[1];\\ncx reg[1],reg[0];\\nrz(5.622395) reg[0];\\ncx reg[1],reg[0];\\ncx reg[2],reg[1];\\ncx reg[3],reg[2];\\ncx reg[4],reg[3];\\ncx reg[5],reg[4];\\nrz(-pi/2) reg[4];\\nsx reg[4];\\nrz(-pi/2) reg[4];\\nrz(-pi/2) reg[5];\\nsx reg[5];\\nrz(-pi/2) reg[5];\\ncx reg[5],reg[4];\\ncx reg[4],reg[3];\\ncx reg[3],reg[2];\\ncx reg[2],reg[1];\\ncx reg[1],reg[0];\\nrz(5.622395) reg[0];\\ncx reg[1],reg[0];\\nrz(-pi) reg[0];\\nx reg[0];\\ncx reg[2],reg[1];\\ncx reg[3],reg[2];\\ncx reg[4],reg[3];\\ncx reg[5],reg[4];\\nrz(-pi/2) reg[4];\\nsx reg[4];\\nrz(-pi/2) reg[4];\\ncx reg[5],reg[4];\\ncx reg[4],reg[3];\\ncx reg[3],reg[2];\\ncx reg[2],reg[1];\\nrz(1.674394) reg[1];\\ncx reg[2],reg[1];\\ncx reg[3],reg[2];\\ncx reg[4],reg[3];\\ncx reg[5],reg[4];\\nrz(-pi/2) reg[4];\\nsx reg[4];\\nrz(-pi/2) reg[4];\\nrz(-pi/2) reg[5];\\nsx reg[5];\\nrz(-pi/2) reg[5];\\ncx reg[5],reg[4];\\ncx reg[4],reg[3];\\ncx reg[3],reg[2];\\ncx reg[2],reg[1];\\nrz(1.674394) reg[1];\\ncx reg[2],reg[1];\\nrz(-pi/2) reg[1];\\nsx reg[1];\\nrz(-pi/2) reg[1];\\ncx reg[3],reg[2];\\ncx reg[4],reg[3];\\ncx reg[5],reg[4];\\nrz(-pi/2) reg[5];\\nsx reg[5];\\nrz(-pi/2) reg[5];\\ncx reg[5],reg[4];\\ncx reg[4],reg[3];\\ncx reg[3],reg[2];\\ncx reg[2],reg[1];\\nrz(1.674394) reg[1];\\ncx reg[2],reg[1];\\ncx reg[3],reg[2];\\ncx reg[4],reg[3];\\ncx reg[5],reg[4];\\nrz(-pi/2) reg[4];\\nsx reg[4];\\nrz(-pi/2) reg[4];\\nrz(-pi/2) reg[5];\\nsx reg[5];\\nrz(-pi/2) reg[5];\\ncx reg[5],reg[4];\\ncx reg[4],reg[3];\\ncx reg[3],reg[2];\\ncx reg[2],reg[1];\\nrz(1.674394) reg[1];\\ncx reg[2],reg[1];\\nrz(-pi/2) reg[1];\\nsx reg[1];\\nrz(-pi/2) reg[1];\\ncx reg[3],reg[2];\\ncx reg[4],reg[3];\\ncx reg[5],reg[4];\\nrz(-pi/2) reg[4];\\nsx reg[4];\\nrz(-pi/2) reg[4];\\ncx reg[5],reg[4];\\ncx reg[4],reg[3];\\ncx reg[3],reg[2];\\ncx reg[2],reg[1];\\nrz(1.674394) reg[1];\\ncx reg[2],reg[1];\\ncx reg[3],reg[2];\\ncx reg[4],reg[3];\\ncx reg[5],reg[4];\\nrz(-pi/2) reg[4];\\nsx reg[4];\\nrz(-pi/2) reg[4];\\nrz(-pi/2) reg[5];\\nsx reg[5];\\nrz(-pi/2) reg[5];\\ncx reg[5],reg[4];\\ncx reg[4],reg[3];\\ncx reg[3],reg[2];\\ncx reg[2],reg[1];\\nrz(1.674394) reg[1];\\ncx reg[2],reg[1];\\nrz(-pi/2) reg[1];\\nsx reg[1];\\nrz(-pi/2) reg[1];\\ncx reg[3],reg[2];\\ncx reg[4],reg[3];\\ncx reg[5],reg[4];\\nrz(-pi/2) reg[5];\\nsx reg[5];\\nrz(-pi/2) reg[5];\\ncx reg[5],reg[4];\\ncx reg[4],reg[3];\\ncx reg[3],reg[2];\\ncx reg[2],reg[1];\\nrz(1.674394) reg[1];\\ncx reg[2],reg[1];\\ncx reg[3],reg[2];\\ncx reg[4],reg[3];\\ncx reg[5],reg[4];\\nrz(-pi/2) reg[4];\\nsx reg[4];\\nrz(-pi/2) reg[4];\\nrz(-pi/2) reg[5];\\nsx reg[5];\\nrz(-pi/2) reg[5];\\ncx reg[5],reg[4];\\ncx reg[4],reg[3];\\ncx reg[3],reg[2];\\ncx reg[2],reg[1];\\nrz(1.674394) reg[1];\\ncx reg[2],reg[1];\\nrz(-pi) reg[1];\\nx reg[1];\\ncx reg[1],reg[0];\\nrz(2.340658) reg[0];\\ncx reg[1],reg[0];\\nrz(-pi/2) reg[0];\\nsx reg[0];\\nrz(-pi/2) reg[0];\\nrz(-pi/2) reg[1];\\nsx reg[1];\\nrz(-pi/2) reg[1];\\ncx reg[1],reg[0];\\nrz(2.340658) reg[0];\\ncx reg[1],reg[0];\\nrz(-pi/2) reg[0];\\nsx reg[0];\\nrz(-pi/2) reg[0];\\nrz(-pi) reg[1];\\nx reg[1];\\ncx reg[3],reg[2];\\ncx reg[4],reg[3];\\ncx reg[5],reg[4];\\nrz(-pi/2) reg[4];\\nsx reg[4];\\nrz(-pi/2) reg[4];\\ncx reg[5],reg[4];\\ncx reg[4],reg[3];\\ncx reg[3],reg[2];\\nrz(2.693995) reg[2];\\ncx reg[3],reg[2];\\ncx reg[4],reg[3];\\ncx reg[5],reg[4];\\nrz(-pi/2) reg[4];\\nsx reg[4];\\nrz(-pi/2) reg[4];\\nrz(-pi/2) reg[5];\\nsx reg[5];\\nrz(-pi/2) reg[5];\\ncx reg[5],reg[4];\\ncx reg[4],reg[3];\\ncx reg[3],reg[2];\\nrz(2.693995) reg[2];\\ncx reg[3],reg[2];\\nrz(-pi/2) reg[2];\\nsx reg[2];\\nrz(-pi/2) reg[2];\\ncx reg[4],reg[3];\\ncx reg[5],reg[4];\\nrz(-pi/2) reg[5];\\nsx reg[5];\\nrz(-pi/2) reg[5];\\ncx reg[5],reg[4];\\ncx reg[4],reg[3];\\ncx reg[3],reg[2];\\nrz(2.693995) reg[2];\\ncx reg[3],reg[2];\\ncx reg[4],reg[3];\\ncx reg[5],reg[4];\\nrz(-pi/2) reg[4];\\nsx reg[4];\\nrz(-pi/2) reg[4];\\nrz(-pi/2) reg[5];\\nsx reg[5];\\nrz(-pi/2) reg[5];\\ncx reg[5],reg[4];\\ncx reg[4],reg[3];\\ncx reg[3],reg[2];\\nrz(2.693995) reg[2];\\ncx reg[3],reg[2];\\nrz(-pi/2) reg[2];\\nsx reg[2];\\nrz(-pi/2) reg[2];\\ncx reg[4],reg[3];\\ncx reg[5],reg[4];\\nrz(-pi/2) reg[4];\\nsx reg[4];\\nrz(-pi/2) reg[4];\\ncx reg[5],reg[4];\\ncx reg[4],reg[3];\\ncx reg[3],reg[2];\\nrz(2.693995) reg[2];\\ncx reg[3],reg[2];\\ncx reg[4],reg[3];\\ncx reg[5],reg[4];\\nrz(-pi/2) reg[4];\\nsx reg[4];\\nrz(-pi/2) reg[4];\\nrz(-pi/2) reg[5];\\nsx reg[5];\\nrz(-pi/2) reg[5];\\ncx reg[5],reg[4];\\ncx reg[4],reg[3];\\ncx reg[3],reg[2];\\nrz(2.693995) reg[2];\\ncx reg[3],reg[2];\\nrz(-pi/2) reg[2];\\nsx reg[2];\\nrz(-pi/2) reg[2];\\ncx reg[4],reg[3];\\ncx reg[5],reg[4];\\nrz(-pi/2) reg[5];\\nsx reg[5];\\nrz(-pi/2) reg[5];\\ncx reg[5],reg[4];\\ncx reg[4],reg[3];\\ncx reg[3],reg[2];\\nrz(2.693995) reg[2];\\ncx reg[3],reg[2];\\ncx reg[4],reg[3];\\ncx reg[5],reg[4];\\nrz(-pi/2) reg[4];\\nsx reg[4];\\nrz(-pi/2) reg[4];\\nrz(-pi/2) reg[5];\\nsx reg[5];\\nrz(-pi/2) reg[5];\\ncx reg[5],reg[4];\\ncx reg[4],reg[3];\\ncx reg[3],reg[2];\\nrz(2.693995) reg[2];\\ncx reg[3],reg[2];\\nrz(-pi) reg[2];\\nx reg[2];\\ncx reg[2],reg[1];\\ncx reg[1],reg[0];\\nrz(4.735789) reg[0];\\ncx reg[1],reg[0];\\nrz(-pi/2) reg[0];\\nsx reg[0];\\nrz(-pi/2) reg[0];\\ncx reg[2],reg[1];\\nrz(-pi/2) reg[2];\\nsx reg[2];\\nrz(-pi/2) reg[2];\\ncx reg[2],reg[1];\\ncx reg[1],reg[0];\\nrz(4.735789) reg[0];\\ncx reg[1],reg[0];\\nrz(-pi/2) reg[0];\\nsx reg[0];\\nrz(-pi/2) reg[0];\\ncx reg[2],reg[1];\\nrz(pi/2) reg[1];\\nsx reg[1];\\nrz(pi/2) reg[1];\\nrz(-pi/2) reg[2];\\nsx reg[2];\\nrz(-pi/2) reg[2];\\ncx reg[2],reg[1];\\nrz(3.247286) reg[1];\\ncx reg[2],reg[1];\\nrz(-pi/2) reg[1];\\nsx reg[1];\\nrz(-pi/2) reg[1];\\nrz(-pi/2) reg[2];\\nsx reg[2];\\nrz(-pi/2) reg[2];\\ncx reg[2],reg[1];\\nrz(3.247286) reg[1];\\ncx reg[2],reg[1];\\nrz(-pi) reg[1];\\nx reg[1];\\nrz(-pi) reg[2];\\nx reg[2];\\ncx reg[4],reg[3];\\nrz(pi/2) reg[3];\\nsx reg[3];\\nrz(pi/2) reg[3];\\ncx reg[3],reg[2];\\ncx reg[2],reg[1];\\ncx reg[1],reg[0];\\nrz(2.633612) reg[0];\\ncx reg[1],reg[0];\\nrz(-pi/2) reg[0];\\nsx reg[0];\\nrz(-pi/2) reg[0];\\ncx reg[2],reg[1];\\ncx reg[3],reg[2];\\nrz(-pi/2) reg[3];\\nsx reg[3];\\nrz(-pi/2) reg[3];\\ncx reg[3],reg[2];\\ncx reg[2],reg[1];\\ncx reg[1],reg[0];\\nrz(2.633612) reg[0];\\ncx reg[1],reg[0];\\nrz(-pi/2) reg[0];\\nsx reg[0];\\nrz(-pi/2) reg[0];\\ncx reg[2],reg[1];\\nrz(pi/2) reg[1];\\nsx reg[1];\\nrz(pi/2) reg[1];\\ncx reg[3],reg[2];\\nrz(-pi/2) reg[3];\\nsx reg[3];\\nrz(-pi/2) reg[3];\\ncx reg[3],reg[2];\\ncx reg[2],reg[1];\\nrz(6.033361) reg[1];\\ncx reg[2],reg[1];\\nrz(-pi/2) reg[1];\\nsx reg[1];\\nrz(-pi/2) reg[1];\\ncx reg[3],reg[2];\\nrz(-pi/2) reg[3];\\nsx reg[3];\\nrz(-pi/2) reg[3];\\ncx reg[3],reg[2];\\ncx reg[2],reg[1];\\nrz(6.033361) reg[1];\\ncx reg[2],reg[1];\\nrz(-pi) reg[1];\\nx reg[1];\\ncx reg[3],reg[2];\\nrz(pi/2) reg[2];\\nsx reg[2];\\nrz(pi/2) reg[2];\\nrz(-pi/2) reg[3];\\nsx reg[3];\\nrz(-pi/2) reg[3];\\ncx reg[3],reg[2];\\nrz(1.606384) reg[2];\\ncx reg[3],reg[2];\\nrz(-pi/2) reg[2];\\nsx reg[2];\\nrz(-pi/2) reg[2];\\nrz(-pi/2) reg[3];\\nsx reg[3];\\nrz(-pi/2) reg[3];\\ncx reg[3],reg[2];\\nrz(1.606384) reg[2];\\ncx reg[3],reg[2];\\nrz(-pi) reg[2];\\nx reg[2];\\nrz(-pi) reg[3];\\nx reg[3];\\ncx reg[5],reg[4];\\nrz(-pi/2) reg[4];\\nsx reg[4];\\nrz(-pi/2) reg[4];\\ncx reg[4],reg[3];\\ncx reg[3],reg[2];\\ncx reg[2],reg[1];\\ncx reg[1],reg[0];\\nrz(3.427706) reg[0];\\ncx reg[1],reg[0];\\nrz(-pi/2) reg[0];\\nsx reg[0];\\nrz(-pi/2) reg[0];\\ncx reg[2],reg[1];\\ncx reg[3],reg[2];\\ncx reg[4],reg[3];\\nrz(-pi/2) reg[4];\\nsx reg[4];\\nrz(-pi/2) reg[4];\\ncx reg[4],reg[3];\\ncx reg[3],reg[2];\\ncx reg[2],reg[1];\\ncx reg[1],reg[0];\\nrz(3.427706) reg[0];\\ncx reg[1],reg[0];\\nrz(-pi/2) reg[0];\\nsx reg[0];\\nrz(-pi/2) reg[0];\\ncx reg[2],reg[1];\\nrz(pi/2) reg[1];\\nsx reg[1];\\nrz(pi/2) reg[1];\\ncx reg[3],reg[2];\\ncx reg[4],reg[3];\\nrz(-pi/2) reg[4];\\nsx reg[4];\\nrz(-pi/2) reg[4];\\ncx reg[4],reg[3];\\ncx reg[3],reg[2];\\ncx reg[2],reg[1];\\nrz(3.353791) reg[1];\\ncx reg[2],reg[1];\\nrz(-pi/2) reg[1];\\nsx reg[1];\\nrz(-pi/2) reg[1];\\ncx reg[3],reg[2];\\ncx reg[4],reg[3];\\nrz(-pi/2) reg[4];\\nsx reg[4];\\nrz(-pi/2) reg[4];\\ncx reg[4],reg[3];\\ncx reg[3],reg[2];\\ncx reg[2],reg[1];\\nrz(3.353791) reg[1];\\ncx reg[2],reg[1];\\nrz(-pi) reg[1];\\nx reg[1];\\ncx reg[3],reg[2];\\nrz(pi/2) reg[2];\\nsx reg[2];\\nrz(pi/2) reg[2];\\ncx reg[4],reg[3];\\nrz(-pi/2) reg[4];\\nsx reg[4];\\nrz(-pi/2) reg[4];\\ncx reg[4],reg[3];\\ncx reg[3],reg[2];\\nrz(5.428189) reg[2];\\ncx reg[3],reg[2];\\nrz(-pi/2) reg[2];\\nsx reg[2];\\nrz(-pi/2) reg[2];\\ncx reg[4],reg[3];\\nrz(-pi/2) reg[4];\\nsx reg[4];\\nrz(-pi/2) reg[4];\\ncx reg[4],reg[3];\\ncx reg[3],reg[2];\\nrz(5.428189) reg[2];\\ncx reg[3],reg[2];\\nrz(-pi) reg[2];\\nx reg[2];\\ncx reg[4],reg[3];\\nrz(pi/2) reg[3];\\nsx reg[3];\\nrz(pi/2) reg[3];\\nrz(-pi/2) reg[4];\\nsx reg[4];\\nrz(-pi/2) reg[4];\\ncx reg[4],reg[3];\\nrz(0.8538145) reg[3];\\ncx reg[4],reg[3];\\nrz(-pi/2) reg[3];\\nsx reg[3];\\nrz(-pi/2) reg[3];\\nrz(-pi/2) reg[4];\\nsx reg[4];\\nrz(-pi/2) reg[4];\\ncx reg[4],reg[3];\\nrz(0.8538145) reg[3];\\ncx reg[4],reg[3];\\nrz(-pi) reg[3];\\nx reg[3];\\nrz(-pi) reg[4];\\nx reg[4];\\ncx reg[5],reg[4];\\ncx reg[4],reg[3];\\ncx reg[3],reg[2];\\ncx reg[2],reg[1];\\ncx reg[1],reg[0];\\nrz(1.098986) reg[0];\\ncx reg[1],reg[0];\\nrz(-pi/2) reg[0];\\nsx reg[0];\\nrz(-pi/2) reg[0];\\ncx reg[2],reg[1];\\ncx reg[3],reg[2];\\ncx reg[4],reg[3];\\ncx reg[5],reg[4];\\nrz(-pi/2) reg[5];\\nsx reg[5];\\nrz(-pi/2) reg[5];\\ncx reg[5],reg[4];\\ncx reg[4],reg[3];\\ncx reg[3],reg[2];\\ncx reg[2],reg[1];\\ncx reg[1],reg[0];\\nrz(1.098986) reg[0];\\ncx reg[1],reg[0];\\nrz(-pi) reg[0];\\nx reg[0];\\ncx reg[2],reg[1];\\nrz(pi/2) reg[1];\\nsx reg[1];\\nrz(pi/2) reg[1];\\ncx reg[3],reg[2];\\ncx reg[4],reg[3];\\ncx reg[5],reg[4];\\nrz(-pi/2) reg[5];\\nsx reg[5];\\nrz(-pi/2) reg[5];\\ncx reg[5],reg[4];\\ncx reg[4],reg[3];\\ncx reg[3],reg[2];\\ncx reg[2],reg[1];\\nrz(4.019744) reg[1];\\ncx reg[2],reg[1];\\nrz(-pi/2) reg[1];\\nsx reg[1];\\nrz(-pi/2) reg[1];\\ncx reg[3],reg[2];\\ncx reg[4],reg[3];\\ncx reg[5],reg[4];\\nrz(-pi/2) reg[5];\\nsx reg[5];\\nrz(-pi/2) reg[5];\\ncx reg[5],reg[4];\\ncx reg[4],reg[3];\\ncx reg[3],reg[2];\\ncx reg[2],reg[1];\\nrz(4.019744) reg[1];\\ncx reg[2],reg[1];\\nrz(-pi) reg[1];\\nx reg[1];\\ncx reg[3],reg[2];\\nrz(pi/2) reg[2];\\nsx reg[2];\\nrz(pi/2) reg[2];\\ncx reg[4],reg[3];\\ncx reg[5],reg[4];\\nrz(-pi/2) reg[5];\\nsx reg[5];\\nrz(-pi/2) reg[5];\\ncx reg[5],reg[4];\\ncx reg[4],reg[3];\\ncx reg[3],reg[2];\\nrz(2.683754) reg[2];\\ncx reg[3],reg[2];\\nrz(-pi/2) reg[2];\\nsx reg[2];\\nrz(-pi/2) reg[2];\\ncx reg[4],reg[3];\\ncx reg[5],reg[4];\\nrz(-pi/2) reg[5];\\nsx reg[5];\\nrz(-pi/2) reg[5];\\ncx reg[5],reg[4];\\ncx reg[4],reg[3];\\ncx reg[3],reg[2];\\nrz(2.683754) reg[2];\\ncx reg[3],reg[2];\\nrz(-pi) reg[2];\\nx reg[2];\\ncx reg[4],reg[3];\\nrz(pi/2) reg[3];\\nsx reg[3];\\nrz(pi/2) reg[3];\\ncx reg[5],reg[4];\\nrz(-pi/2) reg[5];\\nsx reg[5];\\nrz(-pi/2) reg[5];\\ncx reg[5],reg[4];\\ncx reg[4],reg[3];\\nrz(0.679082) reg[3];\\ncx reg[4],reg[3];\\nrz(-pi/2) reg[3];\\nsx reg[3];\\nrz(-pi/2) reg[3];\\ncx reg[5],reg[4];\\nrz(-pi/2) reg[5];\\nsx reg[5];\\nrz(-pi/2) reg[5];\\ncx reg[5],reg[4];\\ncx reg[4],reg[3];\\nrz(0.679082) reg[3];\\ncx reg[4],reg[3];\\nrz(-pi) reg[3];\\nx reg[3];\\ncx reg[5],reg[4];\\nrz(pi/2) reg[4];\\nsx reg[4];\\nrz(pi/2) reg[4];\\nrz(-pi/2) reg[5];\\nsx reg[5];\\nrz(-pi/2) reg[5];\\ncx reg[5],reg[4];\\nrz(5.547861) reg[4];\\ncx reg[5],reg[4];\\nrz(-pi/2) reg[4];\\nsx reg[4];\\nrz(-pi/2) reg[4];\\nrz(-pi/2) reg[5];\\nsx reg[5];\\nrz(-pi/2) reg[5];\\ncx reg[5],reg[4];\\nrz(5.547861) reg[4];\\ncx reg[5],reg[4];\\nrz(-pi) reg[4];\\nx reg[4];\\nrz(-pi) reg[5];\\nx reg[5];\\nmeasure q[0] -> c[0];\\nmeasure q[1] -> c[1];\\nmeasure q[2] -> c[2];\\nmeasure q[3] -> c[3];\\nmeasure q[4] -> c[4];\\nmeasure q[5] -> c[5];\\n'"
      ]
     },
     "execution_count": 63,
     "metadata": {},
     "output_type": "execute_result"
    }
   ],
   "source": [
    "clean_qasm_code"
   ]
  },
  {
   "cell_type": "code",
   "execution_count": 64,
   "id": "128b1efa",
   "metadata": {},
   "outputs": [
    {
     "ename": "KeyError",
     "evalue": "'q'",
     "output_type": "error",
     "traceback": [
      "\u001b[31m---------------------------------------------------------------------------\u001b[39m",
      "\u001b[31mKeyError\u001b[39m                                  Traceback (most recent call last)",
      "\u001b[36mCell\u001b[39m\u001b[36m \u001b[39m\u001b[32mIn[64]\u001b[39m\u001b[32m, line 1\u001b[39m\n\u001b[32m----> \u001b[39m\u001b[32m1\u001b[39m \u001b[43mCircuit\u001b[49m\u001b[43m.\u001b[49m\u001b[43mfrom_qasm\u001b[49m\u001b[43m(\u001b[49m\u001b[43mclean_qasm_code\u001b[49m\u001b[43m)\u001b[49m\n",
      "\u001b[36mFile \u001b[39m\u001b[32me:\\qiboenv\\qibovenv\\Lib\\site-packages\\qibo\\models\\circuit.py:1211\u001b[39m, in \u001b[36mCircuit.from_qasm\u001b[39m\u001b[34m(cls, qasm_code, accelerators, density_matrix)\u001b[39m\n\u001b[32m   1183\u001b[39m \u001b[38;5;250m\u001b[39m\u001b[33;03m\"\"\"Constructs a circuit from QASM code.\u001b[39;00m\n\u001b[32m   1184\u001b[39m \n\u001b[32m   1185\u001b[39m \u001b[33;03mArgs:\u001b[39;00m\n\u001b[32m   (...)\u001b[39m\u001b[32m   1208\u001b[39m \u001b[33;03m        circuit_2.add(gates.CNOT(0, 1))\u001b[39;00m\n\u001b[32m   1209\u001b[39m \u001b[33;03m\"\"\"\u001b[39;00m\n\u001b[32m   1210\u001b[39m parser = QASMParser()\n\u001b[32m-> \u001b[39m\u001b[32m1211\u001b[39m \u001b[38;5;28;01mreturn\u001b[39;00m \u001b[43mparser\u001b[49m\u001b[43m.\u001b[49m\u001b[43mto_circuit\u001b[49m\u001b[43m(\u001b[49m\u001b[43mqasm_code\u001b[49m\u001b[43m,\u001b[49m\u001b[43m \u001b[49m\u001b[43maccelerators\u001b[49m\u001b[43m,\u001b[49m\u001b[43m \u001b[49m\u001b[43mdensity_matrix\u001b[49m\u001b[43m)\u001b[49m\n",
      "\u001b[36mFile \u001b[39m\u001b[32me:\\qiboenv\\qibovenv\\Lib\\site-packages\\qibo\\models\\_openqasm.py:155\u001b[39m, in \u001b[36mQASMParser.to_circuit\u001b[39m\u001b[34m(self, qasm_string, accelerators, density_matrix)\u001b[39m\n\u001b[32m    153\u001b[39m     gates.append(\u001b[38;5;28mself\u001b[39m._get_gate(statement))\n\u001b[32m    154\u001b[39m \u001b[38;5;28;01melif\u001b[39;00m \u001b[38;5;28misinstance\u001b[39m(statement, openqasm3.ast.QuantumMeasurementStatement):\n\u001b[32m--> \u001b[39m\u001b[32m155\u001b[39m     gates.append(\u001b[38;5;28;43mself\u001b[39;49m\u001b[43m.\u001b[49m\u001b[43m_get_measurement\u001b[49m\u001b[43m(\u001b[49m\u001b[43mstatement\u001b[49m\u001b[43m)\u001b[49m)\n\u001b[32m    156\u001b[39m \u001b[38;5;28;01melif\u001b[39;00m \u001b[38;5;28misinstance\u001b[39m(statement, openqasm3.ast.QubitDeclaration):\n\u001b[32m    157\u001b[39m     q_name, q_size = \u001b[38;5;28mself\u001b[39m._get_qubit(statement)\n",
      "\u001b[36mFile \u001b[39m\u001b[32me:\\qiboenv\\qibovenv\\Lib\\site-packages\\qibo\\models\\_openqasm.py:184\u001b[39m, in \u001b[36mQASMParser._get_measurement\u001b[39m\u001b[34m(self, measurement)\u001b[39m\n\u001b[32m    181\u001b[39m \u001b[38;5;28;01mdef\u001b[39;00m\u001b[38;5;250m \u001b[39m\u001b[34m_get_measurement\u001b[39m(\u001b[38;5;28mself\u001b[39m, measurement):\n\u001b[32m    182\u001b[39m \u001b[38;5;250m    \u001b[39m\u001b[33;03m\"\"\"Converts a :class:`openqasm3.ast.QuantumMeasurementStatement` statement\u001b[39;00m\n\u001b[32m    183\u001b[39m \u001b[33;03m    into :class:`qibo.gates.measurements.M`.\"\"\"\u001b[39;00m\n\u001b[32m--> \u001b[39m\u001b[32m184\u001b[39m     qubit = \u001b[38;5;28;43mself\u001b[39;49m\u001b[43m.\u001b[49m\u001b[43m_get_qubit\u001b[49m\u001b[43m(\u001b[49m\u001b[43mmeasurement\u001b[49m\u001b[43m.\u001b[49m\u001b[43mmeasure\u001b[49m\u001b[43m.\u001b[49m\u001b[43mqubit\u001b[49m\u001b[43m)\u001b[49m\n\u001b[32m    185\u001b[39m     register = measurement.target.name.name\n\u001b[32m    186\u001b[39m     \u001b[38;5;28;01mif\u001b[39;00m register \u001b[38;5;129;01mnot\u001b[39;00m \u001b[38;5;129;01min\u001b[39;00m \u001b[38;5;28mself\u001b[39m.c_registers:\n",
      "\u001b[36mFile \u001b[39m\u001b[32me:\\qiboenv\\qibovenv\\Lib\\site-packages\\qibo\\models\\_openqasm.py:202\u001b[39m, in \u001b[36mQASMParser._get_qubit\u001b[39m\u001b[34m(self, qubit)\u001b[39m\n\u001b[32m    199\u001b[39m     \u001b[38;5;28;01mreturn\u001b[39;00m qubit.qubit.name, qubit.size.value\n\u001b[32m    201\u001b[39m \u001b[38;5;28;01mif\u001b[39;00m \u001b[38;5;129;01mnot\u001b[39;00m \u001b[38;5;28misinstance\u001b[39m(qubit, openqasm3.ast.Identifier):\n\u001b[32m--> \u001b[39m\u001b[32m202\u001b[39m     \u001b[38;5;28;01mreturn\u001b[39;00m \u001b[38;5;28;43mself\u001b[39;49m\u001b[43m.\u001b[49m\u001b[43mq_registers\u001b[49m\u001b[43m[\u001b[49m\u001b[43mqubit\u001b[49m\u001b[43m.\u001b[49m\u001b[43mname\u001b[49m\u001b[43m.\u001b[49m\u001b[43mname\u001b[49m\u001b[43m]\u001b[49m[qubit.indices[\u001b[32m0\u001b[39m][\u001b[32m0\u001b[39m].value]\n\u001b[32m    204\u001b[39m \u001b[38;5;28;01mreturn\u001b[39;00m qubit.name\n",
      "\u001b[31mKeyError\u001b[39m: 'q'"
     ]
    }
   ],
   "source": [
    "Circuit.from_qasm(clean_qasm_code)"
   ]
  },
  {
   "cell_type": "code",
   "execution_count": 1,
   "id": "04d73875",
   "metadata": {},
   "outputs": [],
   "source": [
    "import qibo"
   ]
  },
  {
   "cell_type": "code",
   "execution_count": 11,
   "id": "c1386155",
   "metadata": {},
   "outputs": [
    {
     "name": "stderr",
     "output_type": "stream",
     "text": [
      "[Qibo 0.2.21|INFO|2025-10-10 11:50:29]: Using qiboml (pytorch) backend on cpu\n"
     ]
    }
   ],
   "source": [
    "qibo.set_backend(\"qiboml\", platform=\"pytorch\")"
   ]
  },
  {
   "cell_type": "code",
   "execution_count": 12,
   "id": "1cf8bf50",
   "metadata": {},
   "outputs": [],
   "source": [
    "original_backend_name = qibo.get_backend().name"
   ]
  },
  {
   "cell_type": "code",
   "execution_count": 14,
   "id": "e9c98fe0",
   "metadata": {},
   "outputs": [
    {
     "data": {
      "text/plain": [
       "'qiboml'"
      ]
     },
     "execution_count": 14,
     "metadata": {},
     "output_type": "execute_result"
    }
   ],
   "source": [
    "original_backend_name"
   ]
  },
  {
   "cell_type": "code",
   "execution_count": 13,
   "id": "8101436c",
   "metadata": {},
   "outputs": [
    {
     "ename": "TypeError",
     "evalue": "MetaBackend.load() missing 1 required positional argument: 'platform'",
     "output_type": "error",
     "traceback": [
      "\u001b[31m---------------------------------------------------------------------------\u001b[39m",
      "\u001b[31mTypeError\u001b[39m                                 Traceback (most recent call last)",
      "\u001b[36mCell\u001b[39m\u001b[36m \u001b[39m\u001b[32mIn[13]\u001b[39m\u001b[32m, line 1\u001b[39m\n\u001b[32m----> \u001b[39m\u001b[32m1\u001b[39m \u001b[43mqibo\u001b[49m\u001b[43m.\u001b[49m\u001b[43mset_backend\u001b[49m\u001b[43m(\u001b[49m\u001b[43moriginal_backend_name\u001b[49m\u001b[43m)\u001b[49m\n",
      "\u001b[36mFile \u001b[39m\u001b[32me:\\qiboenv\\qibovenv\\Lib\\site-packages\\qibo\\backends\\__init__.py:220\u001b[39m, in \u001b[36mset_backend\u001b[39m\u001b[34m(backend, **kwargs)\u001b[39m\n\u001b[32m    213\u001b[39m \u001b[38;5;28;01mdef\u001b[39;00m\u001b[38;5;250m \u001b[39m\u001b[34mset_backend\u001b[39m(backend, **kwargs):\n\u001b[32m    214\u001b[39m \u001b[38;5;250m    \u001b[39m\u001b[33;03m\"\"\"Set the current backend.\u001b[39;00m\n\u001b[32m    215\u001b[39m \n\u001b[32m    216\u001b[39m \u001b[33;03m    Args:\u001b[39;00m\n\u001b[32m    217\u001b[39m \u001b[33;03m        backend (str): Name of the backend to use.\u001b[39;00m\n\u001b[32m    218\u001b[39m \u001b[33;03m        kwargs (dict): Additional arguments for the backend.\u001b[39;00m\n\u001b[32m    219\u001b[39m \u001b[33;03m    \"\"\"\u001b[39;00m\n\u001b[32m--> \u001b[39m\u001b[32m220\u001b[39m     \u001b[43m_Global\u001b[49m\u001b[43m.\u001b[49m\u001b[43mset_backend\u001b[49m\u001b[43m(\u001b[49m\u001b[43mbackend\u001b[49m\u001b[43m,\u001b[49m\u001b[43m \u001b[49m\u001b[43m*\u001b[49m\u001b[43m*\u001b[49m\u001b[43mkwargs\u001b[49m\u001b[43m)\u001b[49m\n",
      "\u001b[36mFile \u001b[39m\u001b[32me:\\qiboenv\\qibovenv\\Lib\\site-packages\\qibo\\backends\\__init__.py:125\u001b[39m, in \u001b[36m_Global.set_backend\u001b[39m\u001b[34m(cls, backend, **kwargs)\u001b[39m\n\u001b[32m    123\u001b[39m \u001b[38;5;129m@classmethod\u001b[39m\n\u001b[32m    124\u001b[39m \u001b[38;5;28;01mdef\u001b[39;00m\u001b[38;5;250m \u001b[39m\u001b[34mset_backend\u001b[39m(\u001b[38;5;28mcls\u001b[39m, backend, **kwargs):\n\u001b[32m--> \u001b[39m\u001b[32m125\u001b[39m     \u001b[38;5;28mcls\u001b[39m._backend = \u001b[43mconstruct_backend\u001b[49m\u001b[43m(\u001b[49m\u001b[43mbackend\u001b[49m\u001b[43m,\u001b[49m\u001b[43m \u001b[49m\u001b[43m*\u001b[49m\u001b[43m*\u001b[49m\u001b[43mkwargs\u001b[49m\u001b[43m)\u001b[49m\n\u001b[32m    126\u001b[39m     \u001b[38;5;28mcls\u001b[39m._transpiler = \u001b[38;5;28;01mNone\u001b[39;00m\n\u001b[32m    127\u001b[39m     log.info(\u001b[33mf\u001b[39m\u001b[33m\"\u001b[39m\u001b[33mUsing \u001b[39m\u001b[38;5;132;01m{\u001b[39;00m\u001b[38;5;28mcls\u001b[39m._backend\u001b[38;5;132;01m}\u001b[39;00m\u001b[33m backend on \u001b[39m\u001b[38;5;132;01m{\u001b[39;00m\u001b[38;5;28mcls\u001b[39m._backend.device\u001b[38;5;132;01m}\u001b[39;00m\u001b[33m\"\u001b[39m)\n",
      "\u001b[36mFile \u001b[39m\u001b[32me:\\qiboenv\\qibovenv\\Lib\\site-packages\\qibo\\backends\\__init__.py:338\u001b[39m, in \u001b[36mconstruct_backend\u001b[39m\u001b[34m(backend, **kwargs)\u001b[39m\n\u001b[32m    336\u001b[39m \u001b[38;5;28;01mtry\u001b[39;00m:\n\u001b[32m    337\u001b[39m     module = import_module(provider)\n\u001b[32m--> \u001b[39m\u001b[32m338\u001b[39m     \u001b[38;5;28;01mreturn\u001b[39;00m \u001b[38;5;28;43mgetattr\u001b[39;49m\u001b[43m(\u001b[49m\u001b[43mmodule\u001b[49m\u001b[43m,\u001b[49m\u001b[43m \u001b[49m\u001b[33;43m\"\u001b[39;49m\u001b[33;43mMetaBackend\u001b[39;49m\u001b[33;43m\"\u001b[39;49m\u001b[43m)\u001b[49m\u001b[43m.\u001b[49m\u001b[43mload\u001b[49m\u001b[43m(\u001b[49m\u001b[43m*\u001b[49m\u001b[43m*\u001b[49m\u001b[43mkwargs\u001b[49m\u001b[43m)\u001b[49m\n\u001b[32m    339\u001b[39m \u001b[38;5;28;01mexcept\u001b[39;00m \u001b[38;5;167;01mImportError\u001b[39;00m \u001b[38;5;28;01mas\u001b[39;00m e:\n\u001b[32m    340\u001b[39m     \u001b[38;5;66;03m# pylint: disable=unsupported-membership-test\u001b[39;00m\n\u001b[32m    341\u001b[39m     \u001b[38;5;28;01mif\u001b[39;00m provider \u001b[38;5;129;01mnot\u001b[39;00m \u001b[38;5;129;01min\u001b[39;00m e.msg:\n",
      "\u001b[31mTypeError\u001b[39m: MetaBackend.load() missing 1 required positional argument: 'platform'"
     ]
    }
   ],
   "source": [
    "qibo.set_backend(original_backend_name)"
   ]
  },
  {
   "cell_type": "code",
   "execution_count": 16,
   "id": "477f3fc0",
   "metadata": {},
   "outputs": [],
   "source": [
    "    from qibo import gates, models\n",
    "\n",
    "    # 定义一个简单的量子电路\n",
    "    circuit = models.Circuit(3)\n",
    "    circuit.add(gates.H(0))\n",
    "    circuit.add(gates.CNOT(0, 1))\n",
    "    circuit.add(gates.CNOT(1, 2))\n",
    "    circuit.add(gates.RY(0, theta=0.123))\n",
    "    circuit.add(gates.RY(1, theta=0.456))\n",
    "    circuit.add(gates.RY(2, theta=0.789))\n",
    "    circuit.add(gates.CNOT(1, 2))\n",
    "    circuit.add(gates.CNOT(0, 1))\n",
    "    circuit.add(gates.H(0))"
   ]
  },
  {
   "cell_type": "code",
   "execution_count": 17,
   "id": "65436531",
   "metadata": {},
   "outputs": [
    {
     "name": "stdout",
     "output_type": "stream",
     "text": [
      "0: ─H─o───RY───o─H─\n",
      "1: ───X─o─RY─o─X───\n",
      "2: ─────X─RY─X─────\n"
     ]
    }
   ],
   "source": [
    "circuit.draw()"
   ]
  },
  {
   "cell_type": "code",
   "execution_count": 22,
   "id": "835badf0",
   "metadata": {},
   "outputs": [
    {
     "data": {
      "text/plain": [
       "str"
      ]
     },
     "execution_count": 22,
     "metadata": {},
     "output_type": "execute_result"
    }
   ],
   "source": [
    "type(qibo.__version__)"
   ]
  },
  {
   "cell_type": "code",
   "execution_count": 21,
   "id": "5f23e9cc",
   "metadata": {},
   "outputs": [
    {
     "data": {
      "text/plain": [
       "'0.2.21'"
      ]
     },
     "execution_count": 21,
     "metadata": {},
     "output_type": "execute_result"
    }
   ],
   "source": [
    "qibo.__version__"
   ]
  },
  {
   "cell_type": "code",
   "execution_count": 1,
   "id": "16b58ea0",
   "metadata": {},
   "outputs": [],
   "source": [
    "from qibo import set_backend"
   ]
  },
  {
   "cell_type": "code",
   "execution_count": 2,
   "id": "df42e7b4",
   "metadata": {},
   "outputs": [
    {
     "name": "stderr",
     "output_type": "stream",
     "text": [
      "[Qibo 0.2.21|INFO|2025-10-13 16:28:13]: Using qibotn (QuimbBackend) backend on /CPU:0\n"
     ]
    }
   ],
   "source": [
    "set_backend(\"qibotn\", platform=\"qutensornet\")\n"
   ]
  },
  {
   "cell_type": "code",
   "execution_count": null,
   "id": "2abbfea8",
   "metadata": {},
   "outputs": [],
   "source": []
  }
 ],
 "metadata": {
  "kernelspec": {
   "display_name": "qibo-test-env",
   "language": "python",
   "name": "python3"
  },
  "language_info": {
   "codemirror_mode": {
    "name": "ipython",
    "version": 3
   },
   "file_extension": ".py",
   "mimetype": "text/x-python",
   "name": "python",
   "nbconvert_exporter": "python",
   "pygments_lexer": "ipython3",
   "version": "3.12.0"
  }
 },
 "nbformat": 4,
 "nbformat_minor": 5
}
